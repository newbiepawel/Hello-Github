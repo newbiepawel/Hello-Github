{
  "nbformat": 4,
  "nbformat_minor": 0,
  "metadata": {
    "kernelspec": {
      "display_name": "Python 3",
      "language": "python",
      "name": "python3"
    },
    "language_info": {
      "codemirror_mode": {
        "name": "ipython",
        "version": 3
      },
      "file_extension": ".py",
      "mimetype": "text/x-python",
      "name": "python",
      "nbconvert_exporter": "python",
      "pygments_lexer": "ipython3",
      "version": "3.7.5"
    },
    "colab": {
      "name": "ARIMA.ipynb",
      "provenance": [],
      "collapsed_sections": [],
      "include_colab_link": true
    },
    "accelerator": "GPU"
  },
  "cells": [
    {
      "cell_type": "markdown",
      "metadata": {
        "id": "view-in-github",
        "colab_type": "text"
      },
      "source": [
        "<a href=\"https://colab.research.google.com/github/newbiepawel/Hello-Github/blob/master/ARIMA.ipynb\" target=\"_parent\"><img src=\"https://colab.research.google.com/assets/colab-badge.svg\" alt=\"Open In Colab\"/></a>"
      ]
    },
    {
      "cell_type": "markdown",
      "metadata": {
        "id": "WtBUzY3brS6m",
        "colab_type": "text"
      },
      "source": [
        "## Perform standard imports and load datasets"
      ]
    },
    {
      "cell_type": "code",
      "metadata": {
        "id": "7dM77nZj-_DT",
        "colab_type": "code",
        "colab": {
          "base_uri": "https://localhost:8080/",
          "height": 326
        },
        "outputId": "6cfe2e40-dae8-487f-f5ad-03818dae0474"
      },
      "source": [
        "!pip install pmdarima"
      ],
      "execution_count": 1,
      "outputs": [
        {
          "output_type": "stream",
          "text": [
            "Collecting pmdarima\n",
            "\u001b[?25l  Downloading https://files.pythonhosted.org/packages/ff/07/7c173cc4fee44ebd62ddf03b3de84c4f151ec23facdf16baf58b8d02784c/pmdarima-1.6.0-cp36-cp36m-manylinux1_x86_64.whl (1.5MB)\n",
            "\r\u001b[K     |▎                               | 10kB 18.3MB/s eta 0:00:01\r\u001b[K     |▌                               | 20kB 1.8MB/s eta 0:00:01\r\u001b[K     |▊                               | 30kB 2.3MB/s eta 0:00:01\r\u001b[K     |█                               | 40kB 2.5MB/s eta 0:00:01\r\u001b[K     |█▏                              | 51kB 2.0MB/s eta 0:00:01\r\u001b[K     |█▍                              | 61kB 2.3MB/s eta 0:00:01\r\u001b[K     |█▋                              | 71kB 2.5MB/s eta 0:00:01\r\u001b[K     |█▉                              | 81kB 2.8MB/s eta 0:00:01\r\u001b[K     |██                              | 92kB 2.9MB/s eta 0:00:01\r\u001b[K     |██▎                             | 102kB 2.8MB/s eta 0:00:01\r\u001b[K     |██▌                             | 112kB 2.8MB/s eta 0:00:01\r\u001b[K     |██▊                             | 122kB 2.8MB/s eta 0:00:01\r\u001b[K     |███                             | 133kB 2.8MB/s eta 0:00:01\r\u001b[K     |███▏                            | 143kB 2.8MB/s eta 0:00:01\r\u001b[K     |███▍                            | 153kB 2.8MB/s eta 0:00:01\r\u001b[K     |███▋                            | 163kB 2.8MB/s eta 0:00:01\r\u001b[K     |███▉                            | 174kB 2.8MB/s eta 0:00:01\r\u001b[K     |████                            | 184kB 2.8MB/s eta 0:00:01\r\u001b[K     |████▎                           | 194kB 2.8MB/s eta 0:00:01\r\u001b[K     |████▌                           | 204kB 2.8MB/s eta 0:00:01\r\u001b[K     |████▊                           | 215kB 2.8MB/s eta 0:00:01\r\u001b[K     |█████                           | 225kB 2.8MB/s eta 0:00:01\r\u001b[K     |█████▏                          | 235kB 2.8MB/s eta 0:00:01\r\u001b[K     |█████▍                          | 245kB 2.8MB/s eta 0:00:01\r\u001b[K     |█████▋                          | 256kB 2.8MB/s eta 0:00:01\r\u001b[K     |█████▉                          | 266kB 2.8MB/s eta 0:00:01\r\u001b[K     |██████                          | 276kB 2.8MB/s eta 0:00:01\r\u001b[K     |██████▎                         | 286kB 2.8MB/s eta 0:00:01\r\u001b[K     |██████▌                         | 296kB 2.8MB/s eta 0:00:01\r\u001b[K     |██████▊                         | 307kB 2.8MB/s eta 0:00:01\r\u001b[K     |███████                         | 317kB 2.8MB/s eta 0:00:01\r\u001b[K     |███████▏                        | 327kB 2.8MB/s eta 0:00:01\r\u001b[K     |███████▍                        | 337kB 2.8MB/s eta 0:00:01\r\u001b[K     |███████▋                        | 348kB 2.8MB/s eta 0:00:01\r\u001b[K     |███████▉                        | 358kB 2.8MB/s eta 0:00:01\r\u001b[K     |████████                        | 368kB 2.8MB/s eta 0:00:01\r\u001b[K     |████████▎                       | 378kB 2.8MB/s eta 0:00:01\r\u001b[K     |████████▌                       | 389kB 2.8MB/s eta 0:00:01\r\u001b[K     |████████▊                       | 399kB 2.8MB/s eta 0:00:01\r\u001b[K     |█████████                       | 409kB 2.8MB/s eta 0:00:01\r\u001b[K     |█████████▏                      | 419kB 2.8MB/s eta 0:00:01\r\u001b[K     |█████████▌                      | 430kB 2.8MB/s eta 0:00:01\r\u001b[K     |█████████▊                      | 440kB 2.8MB/s eta 0:00:01\r\u001b[K     |██████████                      | 450kB 2.8MB/s eta 0:00:01\r\u001b[K     |██████████▏                     | 460kB 2.8MB/s eta 0:00:01\r\u001b[K     |██████████▍                     | 471kB 2.8MB/s eta 0:00:01\r\u001b[K     |██████████▋                     | 481kB 2.8MB/s eta 0:00:01\r\u001b[K     |██████████▉                     | 491kB 2.8MB/s eta 0:00:01\r\u001b[K     |███████████                     | 501kB 2.8MB/s eta 0:00:01\r\u001b[K     |███████████▎                    | 512kB 2.8MB/s eta 0:00:01\r\u001b[K     |███████████▌                    | 522kB 2.8MB/s eta 0:00:01\r\u001b[K     |███████████▊                    | 532kB 2.8MB/s eta 0:00:01\r\u001b[K     |████████████                    | 542kB 2.8MB/s eta 0:00:01\r\u001b[K     |████████████▏                   | 552kB 2.8MB/s eta 0:00:01\r\u001b[K     |████████████▍                   | 563kB 2.8MB/s eta 0:00:01\r\u001b[K     |████████████▋                   | 573kB 2.8MB/s eta 0:00:01\r\u001b[K     |████████████▉                   | 583kB 2.8MB/s eta 0:00:01\r\u001b[K     |█████████████                   | 593kB 2.8MB/s eta 0:00:01\r\u001b[K     |█████████████▎                  | 604kB 2.8MB/s eta 0:00:01\r\u001b[K     |█████████████▌                  | 614kB 2.8MB/s eta 0:00:01\r\u001b[K     |█████████████▊                  | 624kB 2.8MB/s eta 0:00:01\r\u001b[K     |██████████████                  | 634kB 2.8MB/s eta 0:00:01\r\u001b[K     |██████████████▏                 | 645kB 2.8MB/s eta 0:00:01\r\u001b[K     |██████████████▍                 | 655kB 2.8MB/s eta 0:00:01\r\u001b[K     |██████████████▋                 | 665kB 2.8MB/s eta 0:00:01\r\u001b[K     |██████████████▉                 | 675kB 2.8MB/s eta 0:00:01\r\u001b[K     |███████████████                 | 686kB 2.8MB/s eta 0:00:01\r\u001b[K     |███████████████▎                | 696kB 2.8MB/s eta 0:00:01\r\u001b[K     |███████████████▌                | 706kB 2.8MB/s eta 0:00:01\r\u001b[K     |███████████████▊                | 716kB 2.8MB/s eta 0:00:01\r\u001b[K     |████████████████                | 727kB 2.8MB/s eta 0:00:01\r\u001b[K     |████████████████▏               | 737kB 2.8MB/s eta 0:00:01\r\u001b[K     |████████████████▍               | 747kB 2.8MB/s eta 0:00:01\r\u001b[K     |████████████████▋               | 757kB 2.8MB/s eta 0:00:01\r\u001b[K     |████████████████▉               | 768kB 2.8MB/s eta 0:00:01\r\u001b[K     |█████████████████               | 778kB 2.8MB/s eta 0:00:01\r\u001b[K     |█████████████████▎              | 788kB 2.8MB/s eta 0:00:01\r\u001b[K     |█████████████████▌              | 798kB 2.8MB/s eta 0:00:01\r\u001b[K     |█████████████████▊              | 808kB 2.8MB/s eta 0:00:01\r\u001b[K     |██████████████████              | 819kB 2.8MB/s eta 0:00:01\r\u001b[K     |██████████████████▏             | 829kB 2.8MB/s eta 0:00:01\r\u001b[K     |██████████████████▍             | 839kB 2.8MB/s eta 0:00:01\r\u001b[K     |██████████████████▊             | 849kB 2.8MB/s eta 0:00:01\r\u001b[K     |███████████████████             | 860kB 2.8MB/s eta 0:00:01\r\u001b[K     |███████████████████▏            | 870kB 2.8MB/s eta 0:00:01\r\u001b[K     |███████████████████▍            | 880kB 2.8MB/s eta 0:00:01\r\u001b[K     |███████████████████▋            | 890kB 2.8MB/s eta 0:00:01\r\u001b[K     |███████████████████▉            | 901kB 2.8MB/s eta 0:00:01\r\u001b[K     |████████████████████            | 911kB 2.8MB/s eta 0:00:01\r\u001b[K     |████████████████████▎           | 921kB 2.8MB/s eta 0:00:01\r\u001b[K     |████████████████████▌           | 931kB 2.8MB/s eta 0:00:01\r\u001b[K     |████████████████████▊           | 942kB 2.8MB/s eta 0:00:01\r\u001b[K     |█████████████████████           | 952kB 2.8MB/s eta 0:00:01\r\u001b[K     |█████████████████████▏          | 962kB 2.8MB/s eta 0:00:01\r\u001b[K     |█████████████████████▍          | 972kB 2.8MB/s eta 0:00:01\r\u001b[K     |█████████████████████▋          | 983kB 2.8MB/s eta 0:00:01\r\u001b[K     |█████████████████████▉          | 993kB 2.8MB/s eta 0:00:01\r\u001b[K     |██████████████████████          | 1.0MB 2.8MB/s eta 0:00:01\r\u001b[K     |██████████████████████▎         | 1.0MB 2.8MB/s eta 0:00:01\r\u001b[K     |██████████████████████▌         | 1.0MB 2.8MB/s eta 0:00:01\r\u001b[K     |██████████████████████▊         | 1.0MB 2.8MB/s eta 0:00:01\r\u001b[K     |███████████████████████         | 1.0MB 2.8MB/s eta 0:00:01\r\u001b[K     |███████████████████████▏        | 1.1MB 2.8MB/s eta 0:00:01\r\u001b[K     |███████████████████████▍        | 1.1MB 2.8MB/s eta 0:00:01\r\u001b[K     |███████████████████████▋        | 1.1MB 2.8MB/s eta 0:00:01\r\u001b[K     |███████████████████████▉        | 1.1MB 2.8MB/s eta 0:00:01\r\u001b[K     |████████████████████████        | 1.1MB 2.8MB/s eta 0:00:01\r\u001b[K     |████████████████████████▎       | 1.1MB 2.8MB/s eta 0:00:01\r\u001b[K     |████████████████████████▌       | 1.1MB 2.8MB/s eta 0:00:01\r\u001b[K     |████████████████████████▊       | 1.1MB 2.8MB/s eta 0:00:01\r\u001b[K     |█████████████████████████       | 1.1MB 2.8MB/s eta 0:00:01\r\u001b[K     |█████████████████████████▏      | 1.1MB 2.8MB/s eta 0:00:01\r\u001b[K     |█████████████████████████▍      | 1.2MB 2.8MB/s eta 0:00:01\r\u001b[K     |█████████████████████████▋      | 1.2MB 2.8MB/s eta 0:00:01\r\u001b[K     |█████████████████████████▉      | 1.2MB 2.8MB/s eta 0:00:01\r\u001b[K     |██████████████████████████      | 1.2MB 2.8MB/s eta 0:00:01\r\u001b[K     |██████████████████████████▎     | 1.2MB 2.8MB/s eta 0:00:01\r\u001b[K     |██████████████████████████▌     | 1.2MB 2.8MB/s eta 0:00:01\r\u001b[K     |██████████████████████████▊     | 1.2MB 2.8MB/s eta 0:00:01\r\u001b[K     |███████████████████████████     | 1.2MB 2.8MB/s eta 0:00:01\r\u001b[K     |███████████████████████████▏    | 1.2MB 2.8MB/s eta 0:00:01\r\u001b[K     |███████████████████████████▍    | 1.2MB 2.8MB/s eta 0:00:01\r\u001b[K     |███████████████████████████▋    | 1.3MB 2.8MB/s eta 0:00:01\r\u001b[K     |████████████████████████████    | 1.3MB 2.8MB/s eta 0:00:01\r\u001b[K     |████████████████████████████▏   | 1.3MB 2.8MB/s eta 0:00:01\r\u001b[K     |████████████████████████████▍   | 1.3MB 2.8MB/s eta 0:00:01\r\u001b[K     |████████████████████████████▋   | 1.3MB 2.8MB/s eta 0:00:01\r\u001b[K     |████████████████████████████▉   | 1.3MB 2.8MB/s eta 0:00:01\r\u001b[K     |█████████████████████████████   | 1.3MB 2.8MB/s eta 0:00:01\r\u001b[K     |█████████████████████████████▎  | 1.3MB 2.8MB/s eta 0:00:01\r\u001b[K     |█████████████████████████████▌  | 1.3MB 2.8MB/s eta 0:00:01\r\u001b[K     |█████████████████████████████▊  | 1.4MB 2.8MB/s eta 0:00:01\r\u001b[K     |██████████████████████████████  | 1.4MB 2.8MB/s eta 0:00:01\r\u001b[K     |██████████████████████████████▏ | 1.4MB 2.8MB/s eta 0:00:01\r\u001b[K     |██████████████████████████████▍ | 1.4MB 2.8MB/s eta 0:00:01\r\u001b[K     |██████████████████████████████▋ | 1.4MB 2.8MB/s eta 0:00:01\r\u001b[K     |██████████████████████████████▉ | 1.4MB 2.8MB/s eta 0:00:01\r\u001b[K     |███████████████████████████████ | 1.4MB 2.8MB/s eta 0:00:01\r\u001b[K     |███████████████████████████████▎| 1.4MB 2.8MB/s eta 0:00:01\r\u001b[K     |███████████████████████████████▌| 1.4MB 2.8MB/s eta 0:00:01\r\u001b[K     |███████████████████████████████▊| 1.4MB 2.8MB/s eta 0:00:01\r\u001b[K     |████████████████████████████████| 1.5MB 2.8MB/s eta 0:00:01\r\u001b[K     |████████████████████████████████| 1.5MB 2.8MB/s \n",
            "\u001b[?25hRequirement already satisfied: numpy>=1.17.3 in /usr/local/lib/python3.6/dist-packages (from pmdarima) (1.18.4)\n",
            "Requirement already satisfied: urllib3 in /usr/local/lib/python3.6/dist-packages (from pmdarima) (1.24.3)\n",
            "Requirement already satisfied: scikit-learn>=0.22 in /usr/local/lib/python3.6/dist-packages (from pmdarima) (0.22.2.post1)\n",
            "Requirement already satisfied: Cython>=0.29 in /usr/local/lib/python3.6/dist-packages (from pmdarima) (0.29.17)\n",
            "Requirement already satisfied: statsmodels>=0.10.2 in /usr/local/lib/python3.6/dist-packages (from pmdarima) (0.10.2)\n",
            "Requirement already satisfied: pandas>=0.19 in /usr/local/lib/python3.6/dist-packages (from pmdarima) (1.0.3)\n",
            "Requirement already satisfied: scipy>=1.3.2 in /usr/local/lib/python3.6/dist-packages (from pmdarima) (1.4.1)\n",
            "Requirement already satisfied: joblib>=0.11 in /usr/local/lib/python3.6/dist-packages (from pmdarima) (0.14.1)\n",
            "Requirement already satisfied: patsy>=0.4.0 in /usr/local/lib/python3.6/dist-packages (from statsmodels>=0.10.2->pmdarima) (0.5.1)\n",
            "Requirement already satisfied: python-dateutil>=2.6.1 in /usr/local/lib/python3.6/dist-packages (from pandas>=0.19->pmdarima) (2.8.1)\n",
            "Requirement already satisfied: pytz>=2017.2 in /usr/local/lib/python3.6/dist-packages (from pandas>=0.19->pmdarima) (2018.9)\n",
            "Requirement already satisfied: six in /usr/local/lib/python3.6/dist-packages (from patsy>=0.4.0->statsmodels>=0.10.2->pmdarima) (1.12.0)\n",
            "Installing collected packages: pmdarima\n",
            "Successfully installed pmdarima-1.6.0\n"
          ],
          "name": "stdout"
        }
      ]
    },
    {
      "cell_type": "code",
      "metadata": {
        "id": "Bdi6thJRrS6o",
        "colab_type": "code",
        "colab": {}
      },
      "source": [
        "import pandas as pd\n",
        "import numpy as np\n",
        "import matplotlib.pyplot as plt\n",
        "\n",
        "# Load specific forecasting tools\n",
        "from statsmodels.tsa.arima_model import ARMA,ARMAResults,ARIMA,ARIMAResults\n",
        "from statsmodels.graphics.tsaplots import plot_acf,plot_pacf # for determining (p,q) orders\n",
        "from pmdarima import auto_arima # for determining ARIMA orders\n",
        "\n",
        "# Ignore harmless warnings\n",
        "import warnings\n",
        "warnings.filterwarnings(\"ignore\")"
      ],
      "execution_count": 0,
      "outputs": []
    },
    {
      "cell_type": "code",
      "metadata": {
        "id": "W-LwPpvb_H6v",
        "colab_type": "code",
        "colab": {
          "resources": {
            "http://localhost:8080/nbextensions/google.colab/files.js": {
              "data": "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",
              "ok": true,
              "headers": [
                [
                  "content-type",
                  "application/javascript"
                ]
              ],
              "status": 200,
              "status_text": ""
            }
          },
          "base_uri": "https://localhost:8080/",
          "height": 74
        },
        "outputId": "6cfa2512-d536-43b7-8314-5602b0a48c28"
      },
      "source": [
        "from google.colab import files\n",
        "uploaded = files.upload()"
      ],
      "execution_count": 3,
      "outputs": [
        {
          "output_type": "display_data",
          "data": {
            "text/html": [
              "\n",
              "     <input type=\"file\" id=\"files-279824fa-f14d-4b3b-a878-38ceb5675583\" name=\"files[]\" multiple disabled />\n",
              "     <output id=\"result-279824fa-f14d-4b3b-a878-38ceb5675583\">\n",
              "      Upload widget is only available when the cell has been executed in the\n",
              "      current browser session. Please rerun this cell to enable.\n",
              "      </output>\n",
              "      <script src=\"/nbextensions/google.colab/files.js\"></script> "
            ],
            "text/plain": [
              "<IPython.core.display.HTML object>"
            ]
          },
          "metadata": {
            "tags": []
          }
        },
        {
          "output_type": "stream",
          "text": [
            "Saving dane.csv to dane.csv\n"
          ],
          "name": "stdout"
        }
      ]
    },
    {
      "cell_type": "code",
      "metadata": {
        "id": "_o174mYR_YZa",
        "colab_type": "code",
        "colab": {}
      },
      "source": [
        "import io\n",
        "df = pd.read_csv(io.BytesIO(uploaded['dane.csv']),sep=';', decimal=',')"
      ],
      "execution_count": 0,
      "outputs": []
    },
    {
      "cell_type": "code",
      "metadata": {
        "id": "eQte6fFdAHbZ",
        "colab_type": "code",
        "colab": {
          "base_uri": "https://localhost:8080/",
          "height": 204
        },
        "outputId": "41ac0103-3634-497a-b851-85fd36cc97bb"
      },
      "source": [
        "df.head()"
      ],
      "execution_count": 5,
      "outputs": [
        {
          "output_type": "execute_result",
          "data": {
            "text/html": [
              "<div>\n",
              "<style scoped>\n",
              "    .dataframe tbody tr th:only-of-type {\n",
              "        vertical-align: middle;\n",
              "    }\n",
              "\n",
              "    .dataframe tbody tr th {\n",
              "        vertical-align: top;\n",
              "    }\n",
              "\n",
              "    .dataframe thead th {\n",
              "        text-align: right;\n",
              "    }\n",
              "</style>\n",
              "<table border=\"1\" class=\"dataframe\">\n",
              "  <thead>\n",
              "    <tr style=\"text-align: right;\">\n",
              "      <th></th>\n",
              "      <th>nr faktury</th>\n",
              "      <th>data sprzedaży</th>\n",
              "      <th>kontrahent</th>\n",
              "      <th>produkt</th>\n",
              "      <th>wolumen sprzedaży [kg]</th>\n",
              "      <th>wartość sprzedaży [PLN]</th>\n",
              "      <th>Cena</th>\n",
              "    </tr>\n",
              "  </thead>\n",
              "  <tbody>\n",
              "    <tr>\n",
              "      <th>0</th>\n",
              "      <td>FV2018/989012513</td>\n",
              "      <td>03.10.2018</td>\n",
              "      <td>Stonka</td>\n",
              "      <td>parówka warszawska</td>\n",
              "      <td>90,74</td>\n",
              "      <td>1 051,12</td>\n",
              "      <td>11.583870</td>\n",
              "    </tr>\n",
              "    <tr>\n",
              "      <th>1</th>\n",
              "      <td>FV2019/997755115</td>\n",
              "      <td>28.12.2019</td>\n",
              "      <td>Stonka</td>\n",
              "      <td>parówka warszawska</td>\n",
              "      <td>398,29</td>\n",
              "      <td>4 600,00</td>\n",
              "      <td>11.549370</td>\n",
              "    </tr>\n",
              "    <tr>\n",
              "      <th>2</th>\n",
              "      <td>FV2020/538048561</td>\n",
              "      <td>13.02.2020</td>\n",
              "      <td>Ropucha</td>\n",
              "      <td>parówka warszawska</td>\n",
              "      <td>241,60</td>\n",
              "      <td>2 833,32</td>\n",
              "      <td>11.727320</td>\n",
              "    </tr>\n",
              "    <tr>\n",
              "      <th>3</th>\n",
              "      <td>FV2018/737760288</td>\n",
              "      <td>20.12.2018</td>\n",
              "      <td>Fresco</td>\n",
              "      <td>parówka warszawska</td>\n",
              "      <td>471,70</td>\n",
              "      <td>5 558,33</td>\n",
              "      <td>11.783610</td>\n",
              "    </tr>\n",
              "    <tr>\n",
              "      <th>4</th>\n",
              "      <td>FV2018/546551902</td>\n",
              "      <td>25.05.2018</td>\n",
              "      <td>Fresco</td>\n",
              "      <td>parówka warszawska</td>\n",
              "      <td>953,60</td>\n",
              "      <td>9 194,21</td>\n",
              "      <td>9.641579</td>\n",
              "    </tr>\n",
              "  </tbody>\n",
              "</table>\n",
              "</div>"
            ],
            "text/plain": [
              "         nr faktury data sprzedaży  ... wartość sprzedaży [PLN]       Cena\n",
              "0  FV2018/989012513     03.10.2018  ...                1 051,12  11.583870\n",
              "1  FV2019/997755115     28.12.2019  ...                4 600,00  11.549370\n",
              "2  FV2020/538048561     13.02.2020  ...                2 833,32  11.727320\n",
              "3  FV2018/737760288     20.12.2018  ...                5 558,33  11.783610\n",
              "4  FV2018/546551902     25.05.2018  ...                9 194,21   9.641579\n",
              "\n",
              "[5 rows x 7 columns]"
            ]
          },
          "metadata": {
            "tags": []
          },
          "execution_count": 5
        }
      ]
    },
    {
      "cell_type": "code",
      "metadata": {
        "id": "QqKWBENz_cki",
        "colab_type": "code",
        "colab": {}
      },
      "source": [
        "df = df[df['produkt'] == 'parówka warszawska']"
      ],
      "execution_count": 0,
      "outputs": []
    },
    {
      "cell_type": "code",
      "metadata": {
        "id": "i08Iu3XOAYwn",
        "colab_type": "code",
        "colab": {
          "base_uri": "https://localhost:8080/",
          "height": 34
        },
        "outputId": "d51cfa0f-79c3-48e1-9aa1-5c0afd484bd5"
      },
      "source": [
        "df.shape"
      ],
      "execution_count": 6,
      "outputs": [
        {
          "output_type": "execute_result",
          "data": {
            "text/plain": [
              "(38671, 7)"
            ]
          },
          "metadata": {
            "tags": []
          },
          "execution_count": 6
        }
      ]
    },
    {
      "cell_type": "code",
      "metadata": {
        "id": "Kz0xPxTzE3f6",
        "colab_type": "code",
        "colab": {}
      },
      "source": [
        "#date as index\n",
        "df.set_index('data sprzedaży', inplace=True)"
      ],
      "execution_count": 0,
      "outputs": []
    },
    {
      "cell_type": "code",
      "metadata": {
        "id": "FmtRqM03FIkr",
        "colab_type": "code",
        "colab": {}
      },
      "source": [
        "#Sorting values by date\n",
        "df = df.sort_values(by='data sprzedaży')"
      ],
      "execution_count": 0,
      "outputs": []
    },
    {
      "cell_type": "code",
      "metadata": {
        "id": "jTs6awzWrS68",
        "colab_type": "code",
        "outputId": "f39fadd0-3cb3-4f64-977a-c8b43e82ce09",
        "colab": {
          "base_uri": "https://localhost:8080/",
          "height": 404
        }
      },
      "source": [
        "# On the below plot We can see there is a seasonality\n",
        "plt.figure(figsize = (14,6))\n",
        "plt.title(label = 'Cena parówki Warszawskiej w czasie')\n",
        "df['Cena'].plot();"
      ],
      "execution_count": 9,
      "outputs": [
        {
          "output_type": "display_data",
          "data": {
            "image/png": "[encoded data removed]",
            "text/plain": [
              "<Figure size 1008x432 with 1 Axes>"
            ]
          },
          "metadata": {
            "tags": [],
            "needs_background": "light"
          }
        }
      ]
    },
    {
      "cell_type": "markdown",
      "metadata": {
        "id": "2daifeKwrS7Y",
        "colab_type": "text"
      },
      "source": [
        "### Split the data into train/test sets\n",
        "As a general rule you should set the length of your test set equal to your intended forecast size. For this dataset we'll attempt a 1-month forecast."
      ]
    },
    {
      "cell_type": "code",
      "metadata": {
        "id": "bUWQepAc8hqV",
        "colab_type": "code",
        "colab": {
          "base_uri": "https://localhost:8080/",
          "height": 235
        },
        "outputId": "9b1311b0-5a8e-404c-ba6e-5155f672ce72"
      },
      "source": [
        "df.head()"
      ],
      "execution_count": 14,
      "outputs": [
        {
          "output_type": "execute_result",
          "data": {
            "text/html": [
              "<div>\n",
              "<style scoped>\n",
              "    .dataframe tbody tr th:only-of-type {\n",
              "        vertical-align: middle;\n",
              "    }\n",
              "\n",
              "    .dataframe tbody tr th {\n",
              "        vertical-align: top;\n",
              "    }\n",
              "\n",
              "    .dataframe thead th {\n",
              "        text-align: right;\n",
              "    }\n",
              "</style>\n",
              "<table border=\"1\" class=\"dataframe\">\n",
              "  <thead>\n",
              "    <tr style=\"text-align: right;\">\n",
              "      <th></th>\n",
              "      <th>nr faktury</th>\n",
              "      <th>kontrahent</th>\n",
              "      <th>produkt</th>\n",
              "      <th>wolumen sprzedaży [kg]</th>\n",
              "      <th>wartość sprzedaży [PLN]</th>\n",
              "      <th>Cena</th>\n",
              "    </tr>\n",
              "    <tr>\n",
              "      <th>data sprzedaży</th>\n",
              "      <th></th>\n",
              "      <th></th>\n",
              "      <th></th>\n",
              "      <th></th>\n",
              "      <th></th>\n",
              "      <th></th>\n",
              "    </tr>\n",
              "  </thead>\n",
              "  <tbody>\n",
              "    <tr>\n",
              "      <th>01.01.2018</th>\n",
              "      <td>FV2018/167772378</td>\n",
              "      <td>Fresco</td>\n",
              "      <td>parówka warszawska</td>\n",
              "      <td>948,80</td>\n",
              "      <td>9 372,81</td>\n",
              "      <td>9.878594</td>\n",
              "    </tr>\n",
              "    <tr>\n",
              "      <th>01.01.2018</th>\n",
              "      <td>FV2018/167772378</td>\n",
              "      <td>Fresco</td>\n",
              "      <td>parówka warszawska</td>\n",
              "      <td>982,40</td>\n",
              "      <td>11 108,37</td>\n",
              "      <td>11.307380</td>\n",
              "    </tr>\n",
              "    <tr>\n",
              "      <th>01.01.2018</th>\n",
              "      <td>FV2018/167772378</td>\n",
              "      <td>Fresco</td>\n",
              "      <td>parówka warszawska</td>\n",
              "      <td>256,00</td>\n",
              "      <td>2 772,81</td>\n",
              "      <td>10.831289</td>\n",
              "    </tr>\n",
              "    <tr>\n",
              "      <th>01.01.2018</th>\n",
              "      <td>FV2018/684577289</td>\n",
              "      <td>Stonka</td>\n",
              "      <td>parówka warszawska</td>\n",
              "      <td>536,00</td>\n",
              "      <td>5 357,70</td>\n",
              "      <td>9.995709</td>\n",
              "    </tr>\n",
              "    <tr>\n",
              "      <th>01.01.2018</th>\n",
              "      <td>FV2018/167772378</td>\n",
              "      <td>Fresco</td>\n",
              "      <td>parówka warszawska</td>\n",
              "      <td>298,10</td>\n",
              "      <td>3 300,21</td>\n",
              "      <td>11.070820</td>\n",
              "    </tr>\n",
              "  </tbody>\n",
              "</table>\n",
              "</div>"
            ],
            "text/plain": [
              "                      nr faktury kontrahent  ... wartość sprzedaży [PLN]       Cena\n",
              "data sprzedaży                               ...                                   \n",
              "01.01.2018      FV2018/167772378     Fresco  ...                9 372,81   9.878594\n",
              "01.01.2018      FV2018/167772378     Fresco  ...               11 108,37  11.307380\n",
              "01.01.2018      FV2018/167772378     Fresco  ...                2 772,81  10.831289\n",
              "01.01.2018      FV2018/684577289     Stonka  ...                5 357,70   9.995709\n",
              "01.01.2018      FV2018/167772378     Fresco  ...                3 300,21  11.070820\n",
              "\n",
              "[5 rows x 6 columns]"
            ]
          },
          "metadata": {
            "tags": []
          },
          "execution_count": 14
        }
      ]
    },
    {
      "cell_type": "code",
      "metadata": {
        "id": "XXCjKbmT-j7U",
        "colab_type": "code",
        "colab": {
          "base_uri": "https://localhost:8080/",
          "height": 34
        },
        "outputId": "1e07272f-62aa-4b0e-9042-5bb8db572b19"
      },
      "source": [
        "df.shape"
      ],
      "execution_count": 20,
      "outputs": [
        {
          "output_type": "execute_result",
          "data": {
            "text/plain": [
              "(38671, 6)"
            ]
          },
          "metadata": {
            "tags": []
          },
          "execution_count": 20
        }
      ]
    },
    {
      "cell_type": "code",
      "metadata": {
        "id": "p5fH-fgZ8VN4",
        "colab_type": "code",
        "colab": {
          "base_uri": "https://localhost:8080/",
          "height": 136
        },
        "outputId": "d79f56fb-954f-45a6-b78f-337e63fbafe1"
      },
      "source": [
        "df1 = df['Cena']\n",
        "df1.head()"
      ],
      "execution_count": 15,
      "outputs": [
        {
          "output_type": "execute_result",
          "data": {
            "text/plain": [
              "data sprzedaży\n",
              "01.01.2018     9.878594\n",
              "01.01.2018    11.307380\n",
              "01.01.2018    10.831289\n",
              "01.01.2018     9.995709\n",
              "01.01.2018    11.070820\n",
              "Name: Cena, dtype: float64"
            ]
          },
          "metadata": {
            "tags": []
          },
          "execution_count": 15
        }
      ]
    },
    {
      "cell_type": "code",
      "metadata": {
        "id": "aqKCO6LKDpUN",
        "colab_type": "code",
        "colab": {}
      },
      "source": [
        "stepwise_fit = auto_arima(train, start_p=0, start_q=0,\n",
        "                          max_p=3, max_q=3, m=12,\n",
        "                          start_P=0, seasonal=True,\n",
        "                          d=None, D=1, trace=True,\n",
        "                          error_action='ignore',   # we don't want to know if an order does not work\n",
        "                          suppress_warnings=True,  # we don't want convergence warnings\n",
        "                          stepwise=True)           # set to stepwise\n",
        "\n",
        "stepwise_fit.summary()"
      ],
      "execution_count": 0,
      "outputs": []
    },
    {
      "cell_type": "markdown",
      "metadata": {
        "id": "bZ7ZPGjzrS8b",
        "colab_type": "text"
      },
      "source": [
        "This suggests that we should fit SARIMA(5,1,0)(0,1,1,12) model to best forecast based on AIC criteria\n",
        "\n",
        "\n"
      ]
    },
    {
      "cell_type": "code",
      "metadata": {
        "id": "HGVI9ba5EKXg",
        "colab_type": "code",
        "colab": {}
      },
      "source": [
        "from statsmodels.tsa.statespace.sarimax import SARIMAX"
      ],
      "execution_count": 0,
      "outputs": []
    },
    {
      "cell_type": "code",
      "metadata": {
        "id": "uma7tsqtrS9L",
        "colab_type": "code",
        "outputId": "eaaef986-1edd-42a2-995e-6c06cf02d6c5",
        "colab": {
          "base_uri": "https://localhost:8080/",
          "height": 507
        }
      },
      "source": [
        "model = SARIMAX(df['Cena'],order=(5,1,0),seasonal_order=(0,1,1,12))\n",
        "results = model.fit()\n",
        "results.summary()"
      ],
      "execution_count": 26,
      "outputs": [
        {
          "output_type": "execute_result",
          "data": {
            "text/html": [
              "<table class=\"simpletable\">\n",
              "<caption>Statespace Model Results</caption>\n",
              "<tr>\n",
              "  <th>Dep. Variable:</th>                <td>Cena</td>              <th>  No. Observations:  </th>    <td>38671</td>  \n",
              "</tr>\n",
              "<tr>\n",
              "  <th>Model:</th>           <td>SARIMAX(5, 1, 0)x(0, 1, 1, 12)</td> <th>  Log Likelihood     </th> <td>-67007.703</td>\n",
              "</tr>\n",
              "<tr>\n",
              "  <th>Date:</th>                   <td>Sun, 17 May 2020</td>        <th>  AIC                </th> <td>134029.407</td>\n",
              "</tr>\n",
              "<tr>\n",
              "  <th>Time:</th>                       <td>19:21:31</td>            <th>  BIC                </th> <td>134089.344</td>\n",
              "</tr>\n",
              "<tr>\n",
              "  <th>Sample:</th>                         <td>0</td>               <th>  HQIC               </th> <td>134048.409</td>\n",
              "</tr>\n",
              "<tr>\n",
              "  <th></th>                            <td> - 38671</td>            <th>                     </th>      <td> </td>    \n",
              "</tr>\n",
              "<tr>\n",
              "  <th>Covariance Type:</th>               <td>opg</td>              <th>                     </th>      <td> </td>    \n",
              "</tr>\n",
              "</table>\n",
              "<table class=\"simpletable\">\n",
              "<tr>\n",
              "      <td></td>        <th>coef</th>     <th>std err</th>      <th>z</th>      <th>P>|z|</th>  <th>[0.025</th>    <th>0.975]</th>  \n",
              "</tr>\n",
              "<tr>\n",
              "  <th>ar.L1</th>    <td>   -0.8266</td> <td>    0.004</td> <td> -194.031</td> <td> 0.000</td> <td>   -0.835</td> <td>   -0.818</td>\n",
              "</tr>\n",
              "<tr>\n",
              "  <th>ar.L2</th>    <td>   -0.6546</td> <td>    0.005</td> <td> -122.826</td> <td> 0.000</td> <td>   -0.665</td> <td>   -0.644</td>\n",
              "</tr>\n",
              "<tr>\n",
              "  <th>ar.L3</th>    <td>   -0.4863</td> <td>    0.006</td> <td>  -86.208</td> <td> 0.000</td> <td>   -0.497</td> <td>   -0.475</td>\n",
              "</tr>\n",
              "<tr>\n",
              "  <th>ar.L4</th>    <td>   -0.3341</td> <td>    0.005</td> <td>  -62.341</td> <td> 0.000</td> <td>   -0.345</td> <td>   -0.324</td>\n",
              "</tr>\n",
              "<tr>\n",
              "  <th>ar.L5</th>    <td>   -0.1665</td> <td>    0.004</td> <td>  -38.897</td> <td> 0.000</td> <td>   -0.175</td> <td>   -0.158</td>\n",
              "</tr>\n",
              "<tr>\n",
              "  <th>ma.S.L12</th> <td>   -1.0000</td> <td>    0.022</td> <td>  -45.217</td> <td> 0.000</td> <td>   -1.043</td> <td>   -0.957</td>\n",
              "</tr>\n",
              "<tr>\n",
              "  <th>sigma2</th>   <td>    1.8706</td> <td>    0.042</td> <td>   44.777</td> <td> 0.000</td> <td>    1.789</td> <td>    1.952</td>\n",
              "</tr>\n",
              "</table>\n",
              "<table class=\"simpletable\">\n",
              "<tr>\n",
              "  <th>Ljung-Box (Q):</th>          <td>1948.53</td> <th>  Jarque-Bera (JB):  </th> <td>33058.97</td>\n",
              "</tr>\n",
              "<tr>\n",
              "  <th>Prob(Q):</th>                 <td>0.00</td>   <th>  Prob(JB):          </th>   <td>0.00</td>  \n",
              "</tr>\n",
              "<tr>\n",
              "  <th>Heteroskedasticity (H):</th>  <td>0.97</td>   <th>  Skew:              </th>   <td>1.35</td>  \n",
              "</tr>\n",
              "<tr>\n",
              "  <th>Prob(H) (two-sided):</th>     <td>0.11</td>   <th>  Kurtosis:          </th>   <td>6.64</td>  \n",
              "</tr>\n",
              "</table><br/><br/>Warnings:<br/>[1] Covariance matrix calculated using the outer product of gradients (complex-step)."
            ],
            "text/plain": [
              "<class 'statsmodels.iolib.summary.Summary'>\n",
              "\"\"\"\n",
              "                                 Statespace Model Results                                 \n",
              "==========================================================================================\n",
              "Dep. Variable:                               Cena   No. Observations:                38671\n",
              "Model:             SARIMAX(5, 1, 0)x(0, 1, 1, 12)   Log Likelihood              -67007.703\n",
              "Date:                            Sun, 17 May 2020   AIC                         134029.407\n",
              "Time:                                    19:21:31   BIC                         134089.344\n",
              "Sample:                                         0   HQIC                        134048.409\n",
              "                                          - 38671                                         \n",
              "Covariance Type:                              opg                                         \n",
              "==============================================================================\n",
              "                 coef    std err          z      P>|z|      [0.025      0.975]\n",
              "------------------------------------------------------------------------------\n",
              "ar.L1         -0.8266      0.004   -194.031      0.000      -0.835      -0.818\n",
              "ar.L2         -0.6546      0.005   -122.826      0.000      -0.665      -0.644\n",
              "ar.L3         -0.4863      0.006    -86.208      0.000      -0.497      -0.475\n",
              "ar.L4         -0.3341      0.005    -62.341      0.000      -0.345      -0.324\n",
              "ar.L5         -0.1665      0.004    -38.897      0.000      -0.175      -0.158\n",
              "ma.S.L12      -1.0000      0.022    -45.217      0.000      -1.043      -0.957\n",
              "sigma2         1.8706      0.042     44.777      0.000       1.789       1.952\n",
              "===================================================================================\n",
              "Ljung-Box (Q):                     1948.53   Jarque-Bera (JB):             33058.97\n",
              "Prob(Q):                              0.00   Prob(JB):                         0.00\n",
              "Heteroskedasticity (H):               0.97   Skew:                             1.35\n",
              "Prob(H) (two-sided):                  0.11   Kurtosis:                         6.64\n",
              "===================================================================================\n",
              "\n",
              "Warnings:\n",
              "[1] Covariance matrix calculated using the outer product of gradients (complex-step).\n",
              "\"\"\""
            ]
          },
          "metadata": {
            "tags": []
          },
          "execution_count": 26
        }
      ]
    },
    {
      "cell_type": "code",
      "metadata": {
        "id": "AYuyOM4FrS9S",
        "colab_type": "code",
        "colab": {}
      },
      "source": [
        "fcast = results.predict(len(df),len(df)+200,typ='levels').rename('SARIMA(5,1,0)(0,1,1,12) Forecast')"
      ],
      "execution_count": 0,
      "outputs": []
    },
    {
      "cell_type": "code",
      "metadata": {
        "id": "jlkj5kt_GNKA",
        "colab_type": "code",
        "colab": {
          "base_uri": "https://localhost:8080/",
          "height": 221
        },
        "outputId": "563e7a98-c4a7-4ebe-80f8-4a284f33a351"
      },
      "source": [
        "#Predicted values for next 200 days\n",
        "# Nevertheless it's reccomended to run ARIMA every day to have a better prediction for everyday\n",
        "# Instead of running predictions for many days at once\n",
        "fcast"
      ],
      "execution_count": 34,
      "outputs": [
        {
          "output_type": "execute_result",
          "data": {
            "text/plain": [
              "38671    10.544833\n",
              "38672    10.664604\n",
              "38673    10.760594\n",
              "38674    10.917939\n",
              "38675    10.893631\n",
              "           ...    \n",
              "38867    10.889245\n",
              "38868    10.908988\n",
              "38869    10.900558\n",
              "38870    10.897929\n",
              "38871    10.911509\n",
              "Name: SARIMA(5,1,0)(0,1,1,12) Forecast, Length: 201, dtype: float64"
            ]
          },
          "metadata": {
            "tags": []
          },
          "execution_count": 34
        }
      ]
    }
  ]
}