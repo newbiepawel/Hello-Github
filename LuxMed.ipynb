{
  "nbformat": 4,
  "nbformat_minor": 0,
  "metadata": {
    "colab": {
      "name": "LuxMed.ipynb",
      "provenance": [],
      "collapsed_sections": [],
      "authorship_tag": "ABX9TyPI7xVk1sWP+aV95zUBcCMS",
      "include_colab_link": true
    },
    "kernelspec": {
      "name": "python3",
      "display_name": "Python 3"
    }
  },
  "cells": [
    {
      "cell_type": "markdown",
      "metadata": {
        "id": "view-in-github",
        "colab_type": "text"
      },
      "source": [
        "<a href=\"https://colab.research.google.com/github/newbiepawel/Hello-Github/blob/master/LuxMed.ipynb\" target=\"_parent\"><img src=\"https://colab.research.google.com/assets/colab-badge.svg\" alt=\"Open In Colab\"/></a>"
      ]
    },
    {
      "cell_type": "code",
      "metadata": {
        "id": "8VZFLFhFQVCT",
        "colab_type": "code",
        "colab": {
          "resources": {
            "http://localhost:8080/nbextensions/google.colab/files.js": {
              "data": "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",
              "ok": true,
              "headers": [
                [
                  "content-type",
                  "application/javascript"
                ]
              ],
              "status": 200,
              "status_text": ""
            }
          },
          "base_uri": "https://localhost:8080/",
          "height": 72
        },
        "outputId": "9e13f872-efb0-4f80-caa2-406335fc69ff"
      },
      "source": [
        "from google.colab import files\n",
        "uploaded = files.upload()"
      ],
      "execution_count": 82,
      "outputs": [
        {
          "output_type": "display_data",
          "data": {
            "text/html": [
              "\n",
              "     <input type=\"file\" id=\"files-ae3cff45-0cf0-4b61-9aa0-d3a9a3368b74\" name=\"files[]\" multiple disabled\n",
              "        style=\"border:none\" />\n",
              "     <output id=\"result-ae3cff45-0cf0-4b61-9aa0-d3a9a3368b74\">\n",
              "      Upload widget is only available when the cell has been executed in the\n",
              "      current browser session. Please rerun this cell to enable.\n",
              "      </output>\n",
              "      <script src=\"/nbextensions/google.colab/files.js\"></script> "
            ],
            "text/plain": [
              "<IPython.core.display.HTML object>"
            ]
          },
          "metadata": {
            "tags": []
          }
        },
        {
          "output_type": "stream",
          "text": [
            "Saving fakty.csv to fakty (1).csv\n"
          ],
          "name": "stdout"
        }
      ]
    },
    {
      "cell_type": "code",
      "metadata": {
        "id": "t_mmLVVhj17k",
        "colab_type": "code",
        "colab": {}
      },
      "source": [
        "import warnings\n",
        "warnings.filterwarnings('ignore')"
      ],
      "execution_count": 80,
      "outputs": []
    },
    {
      "cell_type": "code",
      "metadata": {
        "id": "MRkV0TZ4QdWc",
        "colab_type": "code",
        "colab": {
          "base_uri": "https://localhost:8080/",
          "height": 204
        },
        "outputId": "705626d8-5558-403e-914a-859348a2ed53"
      },
      "source": [
        "import io\n",
        "import pandas as pd\n",
        "import numpy as np\n",
        "\n",
        "fakty = pd.read_csv(io.BytesIO(uploaded['fakty.csv']), sep =';')\n",
        "fakty.head()"
      ],
      "execution_count": 83,
      "outputs": [
        {
          "output_type": "execute_result",
          "data": {
            "text/html": [
              "<div>\n",
              "<style scoped>\n",
              "    .dataframe tbody tr th:only-of-type {\n",
              "        vertical-align: middle;\n",
              "    }\n",
              "\n",
              "    .dataframe tbody tr th {\n",
              "        vertical-align: top;\n",
              "    }\n",
              "\n",
              "    .dataframe thead th {\n",
              "        text-align: right;\n",
              "    }\n",
              "</style>\n",
              "<table border=\"1\" class=\"dataframe\">\n",
              "  <thead>\n",
              "    <tr style=\"text-align: right;\">\n",
              "      <th></th>\n",
              "      <th>PER_ID</th>\n",
              "      <th>LINE_ID</th>\n",
              "      <th>UNIT_ID</th>\n",
              "      <th>VER_ID</th>\n",
              "      <th>CAT_ID</th>\n",
              "      <th>DRV_ID</th>\n",
              "      <th>INTCO_ID</th>\n",
              "      <th>PROJ_ID</th>\n",
              "      <th>ACC_ID</th>\n",
              "      <th>DT_UNIT_ID</th>\n",
              "      <th>DT_DRV_ID</th>\n",
              "      <th>DT_PROJ_ID</th>\n",
              "      <th>DT_GRUPA_KAPITALOWA_ID</th>\n",
              "      <th>DT_CUST_ID</th>\n",
              "      <th>VALUE</th>\n",
              "    </tr>\n",
              "  </thead>\n",
              "  <tbody>\n",
              "    <tr>\n",
              "      <th>0</th>\n",
              "      <td>201201</td>\n",
              "      <td>25668</td>\n",
              "      <td>8103</td>\n",
              "      <td>900</td>\n",
              "      <td>4001</td>\n",
              "      <td>10503</td>\n",
              "      <td>0</td>\n",
              "      <td>111869207</td>\n",
              "      <td>0</td>\n",
              "      <td>20934</td>\n",
              "      <td>126</td>\n",
              "      <td>111869207</td>\n",
              "      <td>990</td>\n",
              "      <td>31869</td>\n",
              "      <td>90.0</td>\n",
              "    </tr>\n",
              "    <tr>\n",
              "      <th>1</th>\n",
              "      <td>201201</td>\n",
              "      <td>25668</td>\n",
              "      <td>8103</td>\n",
              "      <td>900</td>\n",
              "      <td>4001</td>\n",
              "      <td>10503</td>\n",
              "      <td>0</td>\n",
              "      <td>111869207</td>\n",
              "      <td>0</td>\n",
              "      <td>20934</td>\n",
              "      <td>127</td>\n",
              "      <td>111869207</td>\n",
              "      <td>736</td>\n",
              "      <td>30695</td>\n",
              "      <td>30.0</td>\n",
              "    </tr>\n",
              "    <tr>\n",
              "      <th>2</th>\n",
              "      <td>201201</td>\n",
              "      <td>25668</td>\n",
              "      <td>8103</td>\n",
              "      <td>900</td>\n",
              "      <td>4001</td>\n",
              "      <td>10503</td>\n",
              "      <td>0</td>\n",
              "      <td>111869207</td>\n",
              "      <td>0</td>\n",
              "      <td>20934</td>\n",
              "      <td>127</td>\n",
              "      <td>111869207</td>\n",
              "      <td>1059</td>\n",
              "      <td>39186</td>\n",
              "      <td>30.0</td>\n",
              "    </tr>\n",
              "    <tr>\n",
              "      <th>3</th>\n",
              "      <td>201201</td>\n",
              "      <td>25668</td>\n",
              "      <td>8103</td>\n",
              "      <td>900</td>\n",
              "      <td>4001</td>\n",
              "      <td>10503</td>\n",
              "      <td>0</td>\n",
              "      <td>111869207</td>\n",
              "      <td>0</td>\n",
              "      <td>20934</td>\n",
              "      <td>127</td>\n",
              "      <td>111869207</td>\n",
              "      <td>1150</td>\n",
              "      <td>46896</td>\n",
              "      <td>30.0</td>\n",
              "    </tr>\n",
              "    <tr>\n",
              "      <th>4</th>\n",
              "      <td>201201</td>\n",
              "      <td>25668</td>\n",
              "      <td>8103</td>\n",
              "      <td>900</td>\n",
              "      <td>4001</td>\n",
              "      <td>10503</td>\n",
              "      <td>0</td>\n",
              "      <td>111869207</td>\n",
              "      <td>0</td>\n",
              "      <td>20934</td>\n",
              "      <td>128</td>\n",
              "      <td>111869207</td>\n",
              "      <td>669</td>\n",
              "      <td>35369</td>\n",
              "      <td>10.0</td>\n",
              "    </tr>\n",
              "  </tbody>\n",
              "</table>\n",
              "</div>"
            ],
            "text/plain": [
              "   PER_ID  LINE_ID  UNIT_ID  ...  DT_GRUPA_KAPITALOWA_ID  DT_CUST_ID  VALUE\n",
              "0  201201    25668     8103  ...                     990       31869   90.0\n",
              "1  201201    25668     8103  ...                     736       30695   30.0\n",
              "2  201201    25668     8103  ...                    1059       39186   30.0\n",
              "3  201201    25668     8103  ...                    1150       46896   30.0\n",
              "4  201201    25668     8103  ...                     669       35369   10.0\n",
              "\n",
              "[5 rows x 15 columns]"
            ]
          },
          "metadata": {
            "tags": []
          },
          "execution_count": 83
        }
      ]
    },
    {
      "cell_type": "markdown",
      "metadata": {
        "id": "cc5aGtGHt1-7",
        "colab_type": "text"
      },
      "source": [
        "Posortowanie danych po id klienta i dacie"
      ]
    },
    {
      "cell_type": "code",
      "metadata": {
        "id": "kPdsjrvYYqEC",
        "colab_type": "code",
        "colab": {
          "base_uri": "https://localhost:8080/",
          "height": 224
        },
        "outputId": "425d4e54-688e-48d2-b572-640c43e7e9e8"
      },
      "source": [
        "fakty = fakty.sort_values(['DT_CUST_ID', 'PER_ID'])\n",
        "fakty.head()"
      ],
      "execution_count": 7,
      "outputs": [
        {
          "output_type": "execute_result",
          "data": {
            "text/html": [
              "<div>\n",
              "<style scoped>\n",
              "    .dataframe tbody tr th:only-of-type {\n",
              "        vertical-align: middle;\n",
              "    }\n",
              "\n",
              "    .dataframe tbody tr th {\n",
              "        vertical-align: top;\n",
              "    }\n",
              "\n",
              "    .dataframe thead th {\n",
              "        text-align: right;\n",
              "    }\n",
              "</style>\n",
              "<table border=\"1\" class=\"dataframe\">\n",
              "  <thead>\n",
              "    <tr style=\"text-align: right;\">\n",
              "      <th></th>\n",
              "      <th>PER_ID</th>\n",
              "      <th>LINE_ID</th>\n",
              "      <th>UNIT_ID</th>\n",
              "      <th>VER_ID</th>\n",
              "      <th>CAT_ID</th>\n",
              "      <th>DRV_ID</th>\n",
              "      <th>INTCO_ID</th>\n",
              "      <th>PROJ_ID</th>\n",
              "      <th>ACC_ID</th>\n",
              "      <th>DT_UNIT_ID</th>\n",
              "      <th>DT_DRV_ID</th>\n",
              "      <th>DT_PROJ_ID</th>\n",
              "      <th>DT_GRUPA_KAPITALOWA_ID</th>\n",
              "      <th>DT_CUST_ID</th>\n",
              "      <th>VALUE</th>\n",
              "    </tr>\n",
              "  </thead>\n",
              "  <tbody>\n",
              "    <tr>\n",
              "      <th>256828</th>\n",
              "      <td>201201</td>\n",
              "      <td>25664</td>\n",
              "      <td>8308</td>\n",
              "      <td>900</td>\n",
              "      <td>4001</td>\n",
              "      <td>0</td>\n",
              "      <td>0</td>\n",
              "      <td>111869165</td>\n",
              "      <td>0</td>\n",
              "      <td>-8308</td>\n",
              "      <td>0</td>\n",
              "      <td>111869165</td>\n",
              "      <td>0</td>\n",
              "      <td>0</td>\n",
              "      <td>0.0</td>\n",
              "    </tr>\n",
              "    <tr>\n",
              "      <th>257405</th>\n",
              "      <td>201201</td>\n",
              "      <td>25664</td>\n",
              "      <td>8103</td>\n",
              "      <td>900</td>\n",
              "      <td>4003</td>\n",
              "      <td>0</td>\n",
              "      <td>0</td>\n",
              "      <td>111869226</td>\n",
              "      <td>0</td>\n",
              "      <td>-8103</td>\n",
              "      <td>0</td>\n",
              "      <td>111869226</td>\n",
              "      <td>0</td>\n",
              "      <td>0</td>\n",
              "      <td>0.0</td>\n",
              "    </tr>\n",
              "    <tr>\n",
              "      <th>922209</th>\n",
              "      <td>201202</td>\n",
              "      <td>25664</td>\n",
              "      <td>8103</td>\n",
              "      <td>900</td>\n",
              "      <td>4003</td>\n",
              "      <td>0</td>\n",
              "      <td>0</td>\n",
              "      <td>111869226</td>\n",
              "      <td>0</td>\n",
              "      <td>-8103</td>\n",
              "      <td>0</td>\n",
              "      <td>111869226</td>\n",
              "      <td>0</td>\n",
              "      <td>0</td>\n",
              "      <td>0.0</td>\n",
              "    </tr>\n",
              "    <tr>\n",
              "      <th>785152</th>\n",
              "      <td>201203</td>\n",
              "      <td>25664</td>\n",
              "      <td>8103</td>\n",
              "      <td>900</td>\n",
              "      <td>4003</td>\n",
              "      <td>0</td>\n",
              "      <td>0</td>\n",
              "      <td>111869226</td>\n",
              "      <td>0</td>\n",
              "      <td>-8103</td>\n",
              "      <td>0</td>\n",
              "      <td>111869226</td>\n",
              "      <td>0</td>\n",
              "      <td>0</td>\n",
              "      <td>0.0</td>\n",
              "    </tr>\n",
              "    <tr>\n",
              "      <th>875483</th>\n",
              "      <td>201204</td>\n",
              "      <td>25664</td>\n",
              "      <td>8103</td>\n",
              "      <td>900</td>\n",
              "      <td>4003</td>\n",
              "      <td>0</td>\n",
              "      <td>0</td>\n",
              "      <td>111869226</td>\n",
              "      <td>0</td>\n",
              "      <td>-8103</td>\n",
              "      <td>0</td>\n",
              "      <td>111869226</td>\n",
              "      <td>0</td>\n",
              "      <td>0</td>\n",
              "      <td>0.0</td>\n",
              "    </tr>\n",
              "  </tbody>\n",
              "</table>\n",
              "</div>"
            ],
            "text/plain": [
              "        PER_ID  LINE_ID  UNIT_ID  ...  DT_GRUPA_KAPITALOWA_ID  DT_CUST_ID  VALUE\n",
              "256828  201201    25664     8308  ...                       0           0    0.0\n",
              "257405  201201    25664     8103  ...                       0           0    0.0\n",
              "922209  201202    25664     8103  ...                       0           0    0.0\n",
              "785152  201203    25664     8103  ...                       0           0    0.0\n",
              "875483  201204    25664     8103  ...                       0           0    0.0\n",
              "\n",
              "[5 rows x 15 columns]"
            ]
          },
          "metadata": {
            "tags": []
          },
          "execution_count": 7
        }
      ]
    },
    {
      "cell_type": "code",
      "metadata": {
        "id": "Mg4UW1FdT1vp",
        "colab_type": "code",
        "colab": {
          "base_uri": "https://localhost:8080/",
          "height": 34
        },
        "outputId": "d008ced4-58d2-42a0-8a0a-8bb9487b3204"
      },
      "source": [
        "fakty.shape"
      ],
      "execution_count": 276,
      "outputs": [
        {
          "output_type": "execute_result",
          "data": {
            "text/plain": [
              "(1048575, 15)"
            ]
          },
          "metadata": {
            "tags": []
          },
          "execution_count": 276
        }
      ]
    },
    {
      "cell_type": "markdown",
      "metadata": {
        "id": "0rtwMkyu2POi",
        "colab_type": "text"
      },
      "source": [
        "Brak nulli w danych"
      ]
    },
    {
      "cell_type": "code",
      "metadata": {
        "id": "Zp6llYrN2H-q",
        "colab_type": "code",
        "colab": {
          "base_uri": "https://localhost:8080/",
          "height": 289
        },
        "outputId": "05f94330-9473-49b0-b277-f5c6bfd1b349"
      },
      "source": [
        "fakty.isnull().sum()"
      ],
      "execution_count": 277,
      "outputs": [
        {
          "output_type": "execute_result",
          "data": {
            "text/plain": [
              "PER_ID                    0\n",
              "LINE_ID                   0\n",
              "UNIT_ID                   0\n",
              "VER_ID                    0\n",
              "CAT_ID                    0\n",
              "DRV_ID                    0\n",
              "INTCO_ID                  0\n",
              "PROJ_ID                   0\n",
              "ACC_ID                    0\n",
              "DT_UNIT_ID                0\n",
              "DT_DRV_ID                 0\n",
              "DT_PROJ_ID                0\n",
              "DT_GRUPA_KAPITALOWA_ID    0\n",
              "DT_CUST_ID                0\n",
              "VALUE                     0\n",
              "dtype: int64"
            ]
          },
          "metadata": {
            "tags": []
          },
          "execution_count": 277
        }
      ]
    },
    {
      "cell_type": "markdown",
      "metadata": {
        "id": "I12wEPiQxX83",
        "colab_type": "text"
      },
      "source": [
        "Liczba unikalnych wartośći dla każdej zmiennej"
      ]
    },
    {
      "cell_type": "code",
      "metadata": {
        "id": "xU227ec1m24x",
        "colab_type": "code",
        "colab": {
          "base_uri": "https://localhost:8080/",
          "height": 289
        },
        "outputId": "6ebbda15-506f-4c2e-8b2b-6269b7f6d6bd"
      },
      "source": [
        "for col in fakty.columns:\n",
        "    print(col, ': ', len(fakty[col].unique()), ' unique values')"
      ],
      "execution_count": null,
      "outputs": [
        {
          "output_type": "stream",
          "text": [
            "PER_ID :  33  unique values\n",
            "LINE_ID :  5  unique values\n",
            "UNIT_ID :  2  unique values\n",
            "VER_ID :  1  unique values\n",
            "CAT_ID :  9  unique values\n",
            "DRV_ID :  23  unique values\n",
            "INTCO_ID :  1  unique values\n",
            "PROJ_ID :  38  unique values\n",
            "ACC_ID :  1  unique values\n",
            "DT_UNIT_ID :  379  unique values\n",
            "DT_DRV_ID :  136  unique values\n",
            "DT_PROJ_ID :  38  unique values\n",
            "DT_GRUPA_KAPITALOWA_ID :  901  unique values\n",
            "DT_CUST_ID :  4500  unique values\n",
            "VALUE :  1166  unique values\n",
            "cat_id_name :  9  unique values\n"
          ],
          "name": "stdout"
        }
      ]
    },
    {
      "cell_type": "markdown",
      "metadata": {
        "id": "1d_9lxyv3lpx",
        "colab_type": "text"
      },
      "source": [
        "Unikalne wartości LINE_ID"
      ]
    },
    {
      "cell_type": "code",
      "metadata": {
        "id": "KX3sXfsC1srP",
        "colab_type": "code",
        "colab": {
          "base_uri": "https://localhost:8080/",
          "height": 34
        },
        "outputId": "b8a76f3d-b4bc-4f02-bfe9-00ebbd221707"
      },
      "source": [
        "fakty['LINE_ID'].unique()"
      ],
      "execution_count": null,
      "outputs": [
        {
          "output_type": "execute_result",
          "data": {
            "text/plain": [
              "array([25664, 25668, 25666, 25667, 25672])"
            ]
          },
          "metadata": {
            "tags": []
          },
          "execution_count": 12
        }
      ]
    },
    {
      "cell_type": "code",
      "metadata": {
        "id": "aXvhucjp2Bkh",
        "colab_type": "code",
        "colab": {
          "base_uri": "https://localhost:8080/",
          "height": 102
        },
        "outputId": "07654bee-5629-432a-9897-9dfb3565e298"
      },
      "source": [
        "print('procent obserwacji gdzie LINE_ID = 25664:',str(np.round((len(fakty[fakty['LINE_ID']== 25664])/len(fakty)*100),2))+'%')\n",
        "print('procent obserwacji gdzie LINE_ID = 25668:',str(np.round((len(fakty[fakty['LINE_ID']== 25668])/len(fakty)*100),2))+'%')\n",
        "print('procent obserwacji gdzie LINE_ID = 25666:',str(np.round((len(fakty[fakty['LINE_ID']== 25666])/len(fakty)*100),2))+'%')\n",
        "print('procent obserwacji gdzie LINE_ID = 25667:',str(np.round((len(fakty[fakty['LINE_ID']== 25667])/len(fakty)*100),2))+'%')\n",
        "print('procent obserwacji gdzie LINE_ID = 25672:',str(np.round((len(fakty[fakty['LINE_ID']== 25672])/len(fakty)*100),2))+'%')"
      ],
      "execution_count": null,
      "outputs": [
        {
          "output_type": "stream",
          "text": [
            "procent obserwacji gdzie LINE_ID = 25664: 8.77%\n",
            "procent obserwacji gdzie LINE_ID = 25668: 30.01%\n",
            "procent obserwacji gdzie LINE_ID = 25666: 26.6%\n",
            "procent obserwacji gdzie LINE_ID = 25667: 25.8%\n",
            "procent obserwacji gdzie LINE_ID = 25672: 8.81%\n"
          ],
          "name": "stdout"
        }
      ]
    },
    {
      "cell_type": "markdown",
      "metadata": {
        "id": "vVX-B1VJKDDZ",
        "colab_type": "text"
      },
      "source": [
        "ARPU\n",
        "\n",
        "Wzór (na podstawie line_id): 25672 / 25664\n",
        "\n",
        "Opis: Średni przychód na abonenta.\n",
        "\n",
        "Uwagi:\n",
        "Tylko dla cat_id typu Abonament% lub CoPayment%. W przypadku kalkulacji za okres dłuższy niż 1 miesiąc, jest to średnia ważona liczbą abonentów.\n"
      ]
    },
    {
      "cell_type": "markdown",
      "metadata": {
        "id": "qOFbXEFESg_K",
        "colab_type": "text"
      },
      "source": [
        "Stworzenie listy DT_CUST_ID dla których występuje LINE_ID = 25672 i 25664"
      ]
    },
    {
      "cell_type": "code",
      "metadata": {
        "id": "JAbW5XEZO1pH",
        "colab_type": "code",
        "colab": {}
      },
      "source": [
        "a = fakty[fakty['LINE_ID'] ==25672]['DT_CUST_ID'].unique()\n",
        "b = fakty[fakty['LINE_ID'] ==25664]['DT_CUST_ID'].unique()\n",
        "c = []\n",
        "for i in fakty['DT_CUST_ID'].unique():\n",
        "  if (i in a) & (i in b):\n",
        "    c.append(i)"
      ],
      "execution_count": 8,
      "outputs": []
    },
    {
      "cell_type": "markdown",
      "metadata": {
        "id": "Vc9dlXC0XA_Q",
        "colab_type": "text"
      },
      "source": [
        "Stworzenie dodatkowej zmiennej(cat_id_name) dla łatwiejszego filtrowania zmiennych dla cat_D typu Abonament% lub CoPayment%\n",
        "\n",
        "Na podstawie:\n",
        "\n",
        "![image.png](data:image/png;base64,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)"
      ]
    },
    {
      "cell_type": "code",
      "metadata": {
        "id": "5TnPXRrd7kyJ",
        "colab_type": "code",
        "colab": {
          "base_uri": "https://localhost:8080/",
          "height": 549
        },
        "outputId": "676bc98e-e4ec-4222-c2b4-4c6bb182f50d"
      },
      "source": [
        "slownik= {4004: 'Abonament NFZ', 4003: 'Abonament TPA', 4001: 'Abonament korporacyjny', 4002: 'Abonament indywidualny',\n",
        "          4016: 'CoPayment Indywidualny', 4017: 'CoPayment Korporacyjny', 4007: 'FFS TPA', 4008: 'FFS NFZ', 4006: 'FFS indywidualny',\n",
        "          4005: 'FFS korporacyjny'}\n",
        "\n",
        "fakty['cat_id_name'] = fakty['CAT_ID'].map(slownik)\n",
        "fakty.head(10)        "
      ],
      "execution_count": 9,
      "outputs": [
        {
          "output_type": "execute_result",
          "data": {
            "text/html": [
              "<div>\n",
              "<style scoped>\n",
              "    .dataframe tbody tr th:only-of-type {\n",
              "        vertical-align: middle;\n",
              "    }\n",
              "\n",
              "    .dataframe tbody tr th {\n",
              "        vertical-align: top;\n",
              "    }\n",
              "\n",
              "    .dataframe thead th {\n",
              "        text-align: right;\n",
              "    }\n",
              "</style>\n",
              "<table border=\"1\" class=\"dataframe\">\n",
              "  <thead>\n",
              "    <tr style=\"text-align: right;\">\n",
              "      <th></th>\n",
              "      <th>PER_ID</th>\n",
              "      <th>LINE_ID</th>\n",
              "      <th>UNIT_ID</th>\n",
              "      <th>VER_ID</th>\n",
              "      <th>CAT_ID</th>\n",
              "      <th>DRV_ID</th>\n",
              "      <th>INTCO_ID</th>\n",
              "      <th>PROJ_ID</th>\n",
              "      <th>ACC_ID</th>\n",
              "      <th>DT_UNIT_ID</th>\n",
              "      <th>DT_DRV_ID</th>\n",
              "      <th>DT_PROJ_ID</th>\n",
              "      <th>DT_GRUPA_KAPITALOWA_ID</th>\n",
              "      <th>DT_CUST_ID</th>\n",
              "      <th>VALUE</th>\n",
              "      <th>cat_id_name</th>\n",
              "    </tr>\n",
              "  </thead>\n",
              "  <tbody>\n",
              "    <tr>\n",
              "      <th>256828</th>\n",
              "      <td>201201</td>\n",
              "      <td>25664</td>\n",
              "      <td>8308</td>\n",
              "      <td>900</td>\n",
              "      <td>4001</td>\n",
              "      <td>0</td>\n",
              "      <td>0</td>\n",
              "      <td>111869165</td>\n",
              "      <td>0</td>\n",
              "      <td>-8308</td>\n",
              "      <td>0</td>\n",
              "      <td>111869165</td>\n",
              "      <td>0</td>\n",
              "      <td>0</td>\n",
              "      <td>0.0</td>\n",
              "      <td>Abonament korporacyjny</td>\n",
              "    </tr>\n",
              "    <tr>\n",
              "      <th>257405</th>\n",
              "      <td>201201</td>\n",
              "      <td>25664</td>\n",
              "      <td>8103</td>\n",
              "      <td>900</td>\n",
              "      <td>4003</td>\n",
              "      <td>0</td>\n",
              "      <td>0</td>\n",
              "      <td>111869226</td>\n",
              "      <td>0</td>\n",
              "      <td>-8103</td>\n",
              "      <td>0</td>\n",
              "      <td>111869226</td>\n",
              "      <td>0</td>\n",
              "      <td>0</td>\n",
              "      <td>0.0</td>\n",
              "      <td>Abonament TPA</td>\n",
              "    </tr>\n",
              "    <tr>\n",
              "      <th>922209</th>\n",
              "      <td>201202</td>\n",
              "      <td>25664</td>\n",
              "      <td>8103</td>\n",
              "      <td>900</td>\n",
              "      <td>4003</td>\n",
              "      <td>0</td>\n",
              "      <td>0</td>\n",
              "      <td>111869226</td>\n",
              "      <td>0</td>\n",
              "      <td>-8103</td>\n",
              "      <td>0</td>\n",
              "      <td>111869226</td>\n",
              "      <td>0</td>\n",
              "      <td>0</td>\n",
              "      <td>0.0</td>\n",
              "      <td>Abonament TPA</td>\n",
              "    </tr>\n",
              "    <tr>\n",
              "      <th>785152</th>\n",
              "      <td>201203</td>\n",
              "      <td>25664</td>\n",
              "      <td>8103</td>\n",
              "      <td>900</td>\n",
              "      <td>4003</td>\n",
              "      <td>0</td>\n",
              "      <td>0</td>\n",
              "      <td>111869226</td>\n",
              "      <td>0</td>\n",
              "      <td>-8103</td>\n",
              "      <td>0</td>\n",
              "      <td>111869226</td>\n",
              "      <td>0</td>\n",
              "      <td>0</td>\n",
              "      <td>0.0</td>\n",
              "      <td>Abonament TPA</td>\n",
              "    </tr>\n",
              "    <tr>\n",
              "      <th>875483</th>\n",
              "      <td>201204</td>\n",
              "      <td>25664</td>\n",
              "      <td>8103</td>\n",
              "      <td>900</td>\n",
              "      <td>4003</td>\n",
              "      <td>0</td>\n",
              "      <td>0</td>\n",
              "      <td>111869226</td>\n",
              "      <td>0</td>\n",
              "      <td>-8103</td>\n",
              "      <td>0</td>\n",
              "      <td>111869226</td>\n",
              "      <td>0</td>\n",
              "      <td>0</td>\n",
              "      <td>0.0</td>\n",
              "      <td>Abonament TPA</td>\n",
              "    </tr>\n",
              "    <tr>\n",
              "      <th>197459</th>\n",
              "      <td>201205</td>\n",
              "      <td>25664</td>\n",
              "      <td>8103</td>\n",
              "      <td>900</td>\n",
              "      <td>4003</td>\n",
              "      <td>0</td>\n",
              "      <td>0</td>\n",
              "      <td>111869226</td>\n",
              "      <td>0</td>\n",
              "      <td>-8103</td>\n",
              "      <td>0</td>\n",
              "      <td>111869226</td>\n",
              "      <td>0</td>\n",
              "      <td>0</td>\n",
              "      <td>0.0</td>\n",
              "      <td>Abonament TPA</td>\n",
              "    </tr>\n",
              "    <tr>\n",
              "      <th>1035522</th>\n",
              "      <td>201207</td>\n",
              "      <td>25664</td>\n",
              "      <td>8103</td>\n",
              "      <td>900</td>\n",
              "      <td>4003</td>\n",
              "      <td>0</td>\n",
              "      <td>0</td>\n",
              "      <td>111869226</td>\n",
              "      <td>0</td>\n",
              "      <td>-8103</td>\n",
              "      <td>0</td>\n",
              "      <td>111869226</td>\n",
              "      <td>0</td>\n",
              "      <td>0</td>\n",
              "      <td>0.0</td>\n",
              "      <td>Abonament TPA</td>\n",
              "    </tr>\n",
              "    <tr>\n",
              "      <th>455696</th>\n",
              "      <td>201208</td>\n",
              "      <td>25668</td>\n",
              "      <td>8103</td>\n",
              "      <td>900</td>\n",
              "      <td>4001</td>\n",
              "      <td>10503</td>\n",
              "      <td>0</td>\n",
              "      <td>117848295</td>\n",
              "      <td>0</td>\n",
              "      <td>24090</td>\n",
              "      <td>122</td>\n",
              "      <td>117848295</td>\n",
              "      <td>0</td>\n",
              "      <td>0</td>\n",
              "      <td>10.0</td>\n",
              "      <td>Abonament korporacyjny</td>\n",
              "    </tr>\n",
              "    <tr>\n",
              "      <th>455708</th>\n",
              "      <td>201208</td>\n",
              "      <td>25668</td>\n",
              "      <td>8103</td>\n",
              "      <td>900</td>\n",
              "      <td>4001</td>\n",
              "      <td>10503</td>\n",
              "      <td>0</td>\n",
              "      <td>117848295</td>\n",
              "      <td>0</td>\n",
              "      <td>24090</td>\n",
              "      <td>123</td>\n",
              "      <td>117848295</td>\n",
              "      <td>0</td>\n",
              "      <td>0</td>\n",
              "      <td>10.0</td>\n",
              "      <td>Abonament korporacyjny</td>\n",
              "    </tr>\n",
              "    <tr>\n",
              "      <th>465965</th>\n",
              "      <td>201209</td>\n",
              "      <td>25668</td>\n",
              "      <td>8103</td>\n",
              "      <td>900</td>\n",
              "      <td>4001</td>\n",
              "      <td>11511</td>\n",
              "      <td>0</td>\n",
              "      <td>111869219</td>\n",
              "      <td>0</td>\n",
              "      <td>20942</td>\n",
              "      <td>20</td>\n",
              "      <td>111869219</td>\n",
              "      <td>0</td>\n",
              "      <td>0</td>\n",
              "      <td>70.0</td>\n",
              "      <td>Abonament korporacyjny</td>\n",
              "    </tr>\n",
              "  </tbody>\n",
              "</table>\n",
              "</div>"
            ],
            "text/plain": [
              "         PER_ID  LINE_ID  UNIT_ID  ...  DT_CUST_ID  VALUE             cat_id_name\n",
              "256828   201201    25664     8308  ...           0    0.0  Abonament korporacyjny\n",
              "257405   201201    25664     8103  ...           0    0.0           Abonament TPA\n",
              "922209   201202    25664     8103  ...           0    0.0           Abonament TPA\n",
              "785152   201203    25664     8103  ...           0    0.0           Abonament TPA\n",
              "875483   201204    25664     8103  ...           0    0.0           Abonament TPA\n",
              "197459   201205    25664     8103  ...           0    0.0           Abonament TPA\n",
              "1035522  201207    25664     8103  ...           0    0.0           Abonament TPA\n",
              "455696   201208    25668     8103  ...           0   10.0  Abonament korporacyjny\n",
              "455708   201208    25668     8103  ...           0   10.0  Abonament korporacyjny\n",
              "465965   201209    25668     8103  ...           0   70.0  Abonament korporacyjny\n",
              "\n",
              "[10 rows x 16 columns]"
            ]
          },
          "metadata": {
            "tags": []
          },
          "execution_count": 9
        }
      ]
    },
    {
      "cell_type": "markdown",
      "metadata": {
        "id": "ZXVl2w355Qiw",
        "colab_type": "text"
      },
      "source": [
        "Stworzenie nowego data frame(df), dla klientów, dla których występuje LINE_ID:25672 oraz 25664 i cat_id Abonament% lub CoPayment%(jak w treści zadania)"
      ]
    },
    {
      "cell_type": "code",
      "metadata": {
        "id": "MQRvUZYgUJ53",
        "colab_type": "code",
        "colab": {
          "base_uri": "https://localhost:8080/",
          "height": 34
        },
        "outputId": "a4211b54-a599-4d61-84e6-e73f5daa31fc"
      },
      "source": [
        "df = fakty[(fakty['DT_CUST_ID'].isin(c)) & ((fakty['cat_id_name'][0][0] == 'A') or (fakty['cat_id_name'][0][0] == 'C'))]\n",
        "df.shape, fakty.shape"
      ],
      "execution_count": 10,
      "outputs": [
        {
          "output_type": "execute_result",
          "data": {
            "text/plain": [
              "((1035356, 16), (1048575, 16))"
            ]
          },
          "metadata": {
            "tags": []
          },
          "execution_count": 10
        }
      ]
    },
    {
      "cell_type": "code",
      "metadata": {
        "id": "WUfZOKmoaDtU",
        "colab_type": "code",
        "colab": {
          "base_uri": "https://localhost:8080/",
          "height": 309
        },
        "outputId": "2780c2a6-e7c1-4c3f-e26b-a6ae03674b2b"
      },
      "source": [
        "df.head()"
      ],
      "execution_count": null,
      "outputs": [
        {
          "output_type": "execute_result",
          "data": {
            "text/html": [
              "<div>\n",
              "<style scoped>\n",
              "    .dataframe tbody tr th:only-of-type {\n",
              "        vertical-align: middle;\n",
              "    }\n",
              "\n",
              "    .dataframe tbody tr th {\n",
              "        vertical-align: top;\n",
              "    }\n",
              "\n",
              "    .dataframe thead th {\n",
              "        text-align: right;\n",
              "    }\n",
              "</style>\n",
              "<table border=\"1\" class=\"dataframe\">\n",
              "  <thead>\n",
              "    <tr style=\"text-align: right;\">\n",
              "      <th></th>\n",
              "      <th>PER_ID</th>\n",
              "      <th>LINE_ID</th>\n",
              "      <th>UNIT_ID</th>\n",
              "      <th>VER_ID</th>\n",
              "      <th>CAT_ID</th>\n",
              "      <th>DRV_ID</th>\n",
              "      <th>INTCO_ID</th>\n",
              "      <th>PROJ_ID</th>\n",
              "      <th>ACC_ID</th>\n",
              "      <th>DT_UNIT_ID</th>\n",
              "      <th>DT_DRV_ID</th>\n",
              "      <th>DT_PROJ_ID</th>\n",
              "      <th>DT_GRUPA_KAPITALOWA_ID</th>\n",
              "      <th>DT_CUST_ID</th>\n",
              "      <th>VALUE</th>\n",
              "      <th>cat_id_name</th>\n",
              "    </tr>\n",
              "  </thead>\n",
              "  <tbody>\n",
              "    <tr>\n",
              "      <th>256828</th>\n",
              "      <td>201201</td>\n",
              "      <td>25664</td>\n",
              "      <td>8308</td>\n",
              "      <td>900</td>\n",
              "      <td>4001</td>\n",
              "      <td>0</td>\n",
              "      <td>0</td>\n",
              "      <td>111869165</td>\n",
              "      <td>0</td>\n",
              "      <td>-8308</td>\n",
              "      <td>0</td>\n",
              "      <td>111869165</td>\n",
              "      <td>0</td>\n",
              "      <td>0</td>\n",
              "      <td>0.0</td>\n",
              "      <td>Abonament korporacyjny</td>\n",
              "    </tr>\n",
              "    <tr>\n",
              "      <th>257405</th>\n",
              "      <td>201201</td>\n",
              "      <td>25664</td>\n",
              "      <td>8103</td>\n",
              "      <td>900</td>\n",
              "      <td>4003</td>\n",
              "      <td>0</td>\n",
              "      <td>0</td>\n",
              "      <td>111869226</td>\n",
              "      <td>0</td>\n",
              "      <td>-8103</td>\n",
              "      <td>0</td>\n",
              "      <td>111869226</td>\n",
              "      <td>0</td>\n",
              "      <td>0</td>\n",
              "      <td>0.0</td>\n",
              "      <td>Abonament TPA</td>\n",
              "    </tr>\n",
              "    <tr>\n",
              "      <th>922209</th>\n",
              "      <td>201202</td>\n",
              "      <td>25664</td>\n",
              "      <td>8103</td>\n",
              "      <td>900</td>\n",
              "      <td>4003</td>\n",
              "      <td>0</td>\n",
              "      <td>0</td>\n",
              "      <td>111869226</td>\n",
              "      <td>0</td>\n",
              "      <td>-8103</td>\n",
              "      <td>0</td>\n",
              "      <td>111869226</td>\n",
              "      <td>0</td>\n",
              "      <td>0</td>\n",
              "      <td>0.0</td>\n",
              "      <td>Abonament TPA</td>\n",
              "    </tr>\n",
              "    <tr>\n",
              "      <th>785152</th>\n",
              "      <td>201203</td>\n",
              "      <td>25664</td>\n",
              "      <td>8103</td>\n",
              "      <td>900</td>\n",
              "      <td>4003</td>\n",
              "      <td>0</td>\n",
              "      <td>0</td>\n",
              "      <td>111869226</td>\n",
              "      <td>0</td>\n",
              "      <td>-8103</td>\n",
              "      <td>0</td>\n",
              "      <td>111869226</td>\n",
              "      <td>0</td>\n",
              "      <td>0</td>\n",
              "      <td>0.0</td>\n",
              "      <td>Abonament TPA</td>\n",
              "    </tr>\n",
              "    <tr>\n",
              "      <th>875483</th>\n",
              "      <td>201204</td>\n",
              "      <td>25664</td>\n",
              "      <td>8103</td>\n",
              "      <td>900</td>\n",
              "      <td>4003</td>\n",
              "      <td>0</td>\n",
              "      <td>0</td>\n",
              "      <td>111869226</td>\n",
              "      <td>0</td>\n",
              "      <td>-8103</td>\n",
              "      <td>0</td>\n",
              "      <td>111869226</td>\n",
              "      <td>0</td>\n",
              "      <td>0</td>\n",
              "      <td>0.0</td>\n",
              "      <td>Abonament TPA</td>\n",
              "    </tr>\n",
              "  </tbody>\n",
              "</table>\n",
              "</div>"
            ],
            "text/plain": [
              "        PER_ID  LINE_ID  UNIT_ID  ...  DT_CUST_ID  VALUE             cat_id_name\n",
              "256828  201201    25664     8308  ...           0    0.0  Abonament korporacyjny\n",
              "257405  201201    25664     8103  ...           0    0.0           Abonament TPA\n",
              "922209  201202    25664     8103  ...           0    0.0           Abonament TPA\n",
              "785152  201203    25664     8103  ...           0    0.0           Abonament TPA\n",
              "875483  201204    25664     8103  ...           0    0.0           Abonament TPA\n",
              "\n",
              "[5 rows x 16 columns]"
            ]
          },
          "metadata": {
            "tags": []
          },
          "execution_count": 202
        }
      ]
    },
    {
      "cell_type": "markdown",
      "metadata": {
        "id": "CIIhEDvcUQhR",
        "colab_type": "text"
      },
      "source": [
        "Tworzenie wskażnika ARPU po DT_CUST_ID(gdzie grupa kapitalowa = 0)"
      ]
    },
    {
      "cell_type": "code",
      "metadata": {
        "id": "xXYrLdZsT_nW",
        "colab_type": "code",
        "colab": {
          "base_uri": "https://localhost:8080/",
          "height": 204
        },
        "outputId": "70380677-72dc-49e4-be4c-679dd36edf28"
      },
      "source": [
        "arpu = df[(df['LINE_ID']==25672)& (df['DT_GRUPA_KAPITALOWA_ID'] ==0)].groupby('DT_CUST_ID')['VALUE'].sum()/\\\n",
        "df[(df['LINE_ID'] == 25664) &(df['DT_GRUPA_KAPITALOWA_ID']==0)].groupby('DT_CUST_ID')['VALUE'].sum()\n",
        "arpu = pd.DataFrame(arpu)\n",
        "arpu.reset_index(inplace=True)\n",
        "arpu.head()"
      ],
      "execution_count": 11,
      "outputs": [
        {
          "output_type": "execute_result",
          "data": {
            "text/html": [
              "<div>\n",
              "<style scoped>\n",
              "    .dataframe tbody tr th:only-of-type {\n",
              "        vertical-align: middle;\n",
              "    }\n",
              "\n",
              "    .dataframe tbody tr th {\n",
              "        vertical-align: top;\n",
              "    }\n",
              "\n",
              "    .dataframe thead th {\n",
              "        text-align: right;\n",
              "    }\n",
              "</style>\n",
              "<table border=\"1\" class=\"dataframe\">\n",
              "  <thead>\n",
              "    <tr style=\"text-align: right;\">\n",
              "      <th></th>\n",
              "      <th>DT_CUST_ID</th>\n",
              "      <th>VALUE</th>\n",
              "    </tr>\n",
              "  </thead>\n",
              "  <tbody>\n",
              "    <tr>\n",
              "      <th>0</th>\n",
              "      <td>0</td>\n",
              "      <td>0.0</td>\n",
              "    </tr>\n",
              "    <tr>\n",
              "      <th>1</th>\n",
              "      <td>669</td>\n",
              "      <td>NaN</td>\n",
              "    </tr>\n",
              "    <tr>\n",
              "      <th>2</th>\n",
              "      <td>2451</td>\n",
              "      <td>inf</td>\n",
              "    </tr>\n",
              "    <tr>\n",
              "      <th>3</th>\n",
              "      <td>40093</td>\n",
              "      <td>inf</td>\n",
              "    </tr>\n",
              "    <tr>\n",
              "      <th>4</th>\n",
              "      <td>44551</td>\n",
              "      <td>51.0</td>\n",
              "    </tr>\n",
              "  </tbody>\n",
              "</table>\n",
              "</div>"
            ],
            "text/plain": [
              "   DT_CUST_ID  VALUE\n",
              "0           0    0.0\n",
              "1         669    NaN\n",
              "2        2451    inf\n",
              "3       40093    inf\n",
              "4       44551   51.0"
            ]
          },
          "metadata": {
            "tags": []
          },
          "execution_count": 11
        }
      ]
    },
    {
      "cell_type": "markdown",
      "metadata": {
        "id": "WCNSkEPdWAq1",
        "colab_type": "text"
      },
      "source": [
        "Powód wartości NaN: brak jednego z LINE_ID niezbędnych do wyliczenia ARPU dla danego DT_CUST_ID"
      ]
    },
    {
      "cell_type": "code",
      "metadata": {
        "id": "YIm02fW632Cl",
        "colab_type": "code",
        "colab": {
          "base_uri": "https://localhost:8080/",
          "height": 34
        },
        "outputId": "9449da37-ad52-4378-d626-73af48e41b25"
      },
      "source": [
        "df[(df['DT_CUST_ID']== 669) & (df['DT_GRUPA_KAPITALOWA_ID'] ==0)]['LINE_ID'].unique()"
      ],
      "execution_count": null,
      "outputs": [
        {
          "output_type": "execute_result",
          "data": {
            "text/plain": [
              "array([25668, 25666, 25664])"
            ]
          },
          "metadata": {
            "tags": []
          },
          "execution_count": 204
        }
      ]
    },
    {
      "cell_type": "markdown",
      "metadata": {
        "id": "dDeRjAzb2w9B",
        "colab_type": "text"
      },
      "source": [
        "Powód, dla którego wsytępują wartości \"inf\" to skutek tego, że dzieli się coś czego nie ma przez jakąś wartość. Przykład: dla kontrahenta o id = 669 gdzie nie ma grupy kapitałowej nie występują obserwacje z LINE_ID = 25672, zatem chcąc wyliczyć ARPU dzielimy coś co nie występuje przez wartości gdzie występuje LINE_ID =25664. Moim zdaniem rozsądnym rozwiązaniem jest tutaj przypisanie wartości 0 w takiej sytuacji. "
      ]
    },
    {
      "cell_type": "markdown",
      "metadata": {
        "id": "yCjVM1MIUgth",
        "colab_type": "text"
      },
      "source": [
        "Tworzeni wskażnika ARPU po grupie kapitałowej(gdzie DT_GRUPA_KAPITALOWA_ID nie jest 0)"
      ]
    },
    {
      "cell_type": "code",
      "metadata": {
        "id": "nlTN-HuCxh5o",
        "colab_type": "code",
        "colab": {
          "base_uri": "https://localhost:8080/",
          "height": 204
        },
        "outputId": "88000f3c-e453-42bd-f596-68c0e3957cb4"
      },
      "source": [
        "arpu2 = df[(df['LINE_ID']==25672)& (df['DT_GRUPA_KAPITALOWA_ID'] !=0)].groupby('DT_GRUPA_KAPITALOWA_ID')['VALUE'].sum()/df[(df['LINE_ID'] == 25664)\\\n",
        "&(df['DT_GRUPA_KAPITALOWA_ID']!=0)].groupby('DT_GRUPA_KAPITALOWA_ID')['VALUE'].sum()\n",
        "arpu2 = pd.DataFrame(arpu2)\n",
        "arpu2.reset_index(inplace=True)\n",
        "arpu2.head()"
      ],
      "execution_count": 12,
      "outputs": [
        {
          "output_type": "execute_result",
          "data": {
            "text/html": [
              "<div>\n",
              "<style scoped>\n",
              "    .dataframe tbody tr th:only-of-type {\n",
              "        vertical-align: middle;\n",
              "    }\n",
              "\n",
              "    .dataframe tbody tr th {\n",
              "        vertical-align: top;\n",
              "    }\n",
              "\n",
              "    .dataframe thead th {\n",
              "        text-align: right;\n",
              "    }\n",
              "</style>\n",
              "<table border=\"1\" class=\"dataframe\">\n",
              "  <thead>\n",
              "    <tr style=\"text-align: right;\">\n",
              "      <th></th>\n",
              "      <th>DT_GRUPA_KAPITALOWA_ID</th>\n",
              "      <th>VALUE</th>\n",
              "    </tr>\n",
              "  </thead>\n",
              "  <tbody>\n",
              "    <tr>\n",
              "      <th>0</th>\n",
              "      <td>202</td>\n",
              "      <td>61.729167</td>\n",
              "    </tr>\n",
              "    <tr>\n",
              "      <th>1</th>\n",
              "      <td>203</td>\n",
              "      <td>35.045161</td>\n",
              "    </tr>\n",
              "    <tr>\n",
              "      <th>2</th>\n",
              "      <td>204</td>\n",
              "      <td>inf</td>\n",
              "    </tr>\n",
              "    <tr>\n",
              "      <th>3</th>\n",
              "      <td>205</td>\n",
              "      <td>49.291667</td>\n",
              "    </tr>\n",
              "    <tr>\n",
              "      <th>4</th>\n",
              "      <td>206</td>\n",
              "      <td>29.196970</td>\n",
              "    </tr>\n",
              "  </tbody>\n",
              "</table>\n",
              "</div>"
            ],
            "text/plain": [
              "   DT_GRUPA_KAPITALOWA_ID      VALUE\n",
              "0                     202  61.729167\n",
              "1                     203  35.045161\n",
              "2                     204        inf\n",
              "3                     205  49.291667\n",
              "4                     206  29.196970"
            ]
          },
          "metadata": {
            "tags": []
          },
          "execution_count": 12
        }
      ]
    },
    {
      "cell_type": "markdown",
      "metadata": {
        "id": "foumr16FUxYc",
        "colab_type": "text"
      },
      "source": [
        "Uzupełnienie tabeli fakty w dwie dodatkowe kolumny(poniżej złącze je w jedną) dla ARPU po DT_CUST_ID i osobna po grupie kapitałowej"
      ]
    },
    {
      "cell_type": "code",
      "metadata": {
        "id": "y4PDdJYTknqo",
        "colab_type": "code",
        "colab": {
          "base_uri": "https://localhost:8080/",
          "height": 309
        },
        "outputId": "801b003a-5b4e-4071-f344-cace92dd77ee"
      },
      "source": [
        "fakty = fakty.merge(arpu, on = 'DT_CUST_ID', how = 'left')\n",
        "fakty.rename(columns={\"VALUE_x\": \"VALUE\", \"VALUE_y\": \"ARPU\"}, inplace=True)\n",
        "fakty = fakty.merge(arpu2, on = 'DT_GRUPA_KAPITALOWA_ID', how = 'left')\n",
        "fakty.rename(columns={\"VALUE_x\": \"VALUE\", \"VALUE_y\": \"ARPU2\"}, inplace=True)\n",
        "fakty.head()"
      ],
      "execution_count": 13,
      "outputs": [
        {
          "output_type": "execute_result",
          "data": {
            "text/html": [
              "<div>\n",
              "<style scoped>\n",
              "    .dataframe tbody tr th:only-of-type {\n",
              "        vertical-align: middle;\n",
              "    }\n",
              "\n",
              "    .dataframe tbody tr th {\n",
              "        vertical-align: top;\n",
              "    }\n",
              "\n",
              "    .dataframe thead th {\n",
              "        text-align: right;\n",
              "    }\n",
              "</style>\n",
              "<table border=\"1\" class=\"dataframe\">\n",
              "  <thead>\n",
              "    <tr style=\"text-align: right;\">\n",
              "      <th></th>\n",
              "      <th>PER_ID</th>\n",
              "      <th>LINE_ID</th>\n",
              "      <th>UNIT_ID</th>\n",
              "      <th>VER_ID</th>\n",
              "      <th>CAT_ID</th>\n",
              "      <th>DRV_ID</th>\n",
              "      <th>INTCO_ID</th>\n",
              "      <th>PROJ_ID</th>\n",
              "      <th>ACC_ID</th>\n",
              "      <th>DT_UNIT_ID</th>\n",
              "      <th>DT_DRV_ID</th>\n",
              "      <th>DT_PROJ_ID</th>\n",
              "      <th>DT_GRUPA_KAPITALOWA_ID</th>\n",
              "      <th>DT_CUST_ID</th>\n",
              "      <th>VALUE</th>\n",
              "      <th>cat_id_name</th>\n",
              "      <th>ARPU</th>\n",
              "      <th>ARPU2</th>\n",
              "    </tr>\n",
              "  </thead>\n",
              "  <tbody>\n",
              "    <tr>\n",
              "      <th>0</th>\n",
              "      <td>201201</td>\n",
              "      <td>25664</td>\n",
              "      <td>8308</td>\n",
              "      <td>900</td>\n",
              "      <td>4001</td>\n",
              "      <td>0</td>\n",
              "      <td>0</td>\n",
              "      <td>111869165</td>\n",
              "      <td>0</td>\n",
              "      <td>-8308</td>\n",
              "      <td>0</td>\n",
              "      <td>111869165</td>\n",
              "      <td>0</td>\n",
              "      <td>0</td>\n",
              "      <td>0.0</td>\n",
              "      <td>Abonament korporacyjny</td>\n",
              "      <td>0.0</td>\n",
              "      <td>NaN</td>\n",
              "    </tr>\n",
              "    <tr>\n",
              "      <th>1</th>\n",
              "      <td>201201</td>\n",
              "      <td>25664</td>\n",
              "      <td>8103</td>\n",
              "      <td>900</td>\n",
              "      <td>4003</td>\n",
              "      <td>0</td>\n",
              "      <td>0</td>\n",
              "      <td>111869226</td>\n",
              "      <td>0</td>\n",
              "      <td>-8103</td>\n",
              "      <td>0</td>\n",
              "      <td>111869226</td>\n",
              "      <td>0</td>\n",
              "      <td>0</td>\n",
              "      <td>0.0</td>\n",
              "      <td>Abonament TPA</td>\n",
              "      <td>0.0</td>\n",
              "      <td>NaN</td>\n",
              "    </tr>\n",
              "    <tr>\n",
              "      <th>2</th>\n",
              "      <td>201202</td>\n",
              "      <td>25664</td>\n",
              "      <td>8103</td>\n",
              "      <td>900</td>\n",
              "      <td>4003</td>\n",
              "      <td>0</td>\n",
              "      <td>0</td>\n",
              "      <td>111869226</td>\n",
              "      <td>0</td>\n",
              "      <td>-8103</td>\n",
              "      <td>0</td>\n",
              "      <td>111869226</td>\n",
              "      <td>0</td>\n",
              "      <td>0</td>\n",
              "      <td>0.0</td>\n",
              "      <td>Abonament TPA</td>\n",
              "      <td>0.0</td>\n",
              "      <td>NaN</td>\n",
              "    </tr>\n",
              "    <tr>\n",
              "      <th>3</th>\n",
              "      <td>201203</td>\n",
              "      <td>25664</td>\n",
              "      <td>8103</td>\n",
              "      <td>900</td>\n",
              "      <td>4003</td>\n",
              "      <td>0</td>\n",
              "      <td>0</td>\n",
              "      <td>111869226</td>\n",
              "      <td>0</td>\n",
              "      <td>-8103</td>\n",
              "      <td>0</td>\n",
              "      <td>111869226</td>\n",
              "      <td>0</td>\n",
              "      <td>0</td>\n",
              "      <td>0.0</td>\n",
              "      <td>Abonament TPA</td>\n",
              "      <td>0.0</td>\n",
              "      <td>NaN</td>\n",
              "    </tr>\n",
              "    <tr>\n",
              "      <th>4</th>\n",
              "      <td>201204</td>\n",
              "      <td>25664</td>\n",
              "      <td>8103</td>\n",
              "      <td>900</td>\n",
              "      <td>4003</td>\n",
              "      <td>0</td>\n",
              "      <td>0</td>\n",
              "      <td>111869226</td>\n",
              "      <td>0</td>\n",
              "      <td>-8103</td>\n",
              "      <td>0</td>\n",
              "      <td>111869226</td>\n",
              "      <td>0</td>\n",
              "      <td>0</td>\n",
              "      <td>0.0</td>\n",
              "      <td>Abonament TPA</td>\n",
              "      <td>0.0</td>\n",
              "      <td>NaN</td>\n",
              "    </tr>\n",
              "  </tbody>\n",
              "</table>\n",
              "</div>"
            ],
            "text/plain": [
              "   PER_ID  LINE_ID  UNIT_ID  VER_ID  ...  VALUE             cat_id_name  ARPU  ARPU2\n",
              "0  201201    25664     8308     900  ...    0.0  Abonament korporacyjny   0.0    NaN\n",
              "1  201201    25664     8103     900  ...    0.0           Abonament TPA   0.0    NaN\n",
              "2  201202    25664     8103     900  ...    0.0           Abonament TPA   0.0    NaN\n",
              "3  201203    25664     8103     900  ...    0.0           Abonament TPA   0.0    NaN\n",
              "4  201204    25664     8103     900  ...    0.0           Abonament TPA   0.0    NaN\n",
              "\n",
              "[5 rows x 18 columns]"
            ]
          },
          "metadata": {
            "tags": []
          },
          "execution_count": 13
        }
      ]
    },
    {
      "cell_type": "markdown",
      "metadata": {
        "id": "R5ZN5lis8L4y",
        "colab_type": "text"
      },
      "source": [
        "Jako, że uzupełniałem tabele fakty w nową kolumne ARPU i ARPU2 po DT_CUST_ID muszę jeszcze zaaplikować poniższy kod"
      ]
    },
    {
      "cell_type": "code",
      "metadata": {
        "id": "TC5aH-lF8DNy",
        "colab_type": "code",
        "colab": {}
      },
      "source": [
        "fakty['ARPU2'][fakty['DT_GRUPA_KAPITALOWA_ID']==0] = 0\n",
        "fakty['ARPU'][fakty['DT_GRUPA_KAPITALOWA_ID']!=0] = 0"
      ],
      "execution_count": 14,
      "outputs": []
    },
    {
      "cell_type": "markdown",
      "metadata": {
        "id": "K89SqLa7VK89",
        "colab_type": "text"
      },
      "source": [
        "Wspomniany wcześniej problem z wartościami inf(infinity) czyli wartość maxymalna. Zmiana wartości inf na 0"
      ]
    },
    {
      "cell_type": "code",
      "metadata": {
        "id": "HRfLnlMp4ygR",
        "colab_type": "code",
        "colab": {
          "base_uri": "https://localhost:8080/",
          "height": 34
        },
        "outputId": "6f29c396-6d27-4504-e81a-a8e79cf906f4"
      },
      "source": [
        "fakty['ARPU'].max()"
      ],
      "execution_count": 285,
      "outputs": [
        {
          "output_type": "execute_result",
          "data": {
            "text/plain": [
              "inf"
            ]
          },
          "metadata": {
            "tags": []
          },
          "execution_count": 285
        }
      ]
    },
    {
      "cell_type": "code",
      "metadata": {
        "id": "nHpEolRi_Qzp",
        "colab_type": "code",
        "colab": {
          "base_uri": "https://localhost:8080/",
          "height": 34
        },
        "outputId": "d8bec985-aff3-4a70-c508-c800fff93cdf"
      },
      "source": [
        "fakty['ARPU'][fakty['ARPU']==fakty['ARPU'].max()] =0\n",
        "fakty['ARPU'].max()"
      ],
      "execution_count": 15,
      "outputs": [
        {
          "output_type": "execute_result",
          "data": {
            "text/plain": [
              "51.0"
            ]
          },
          "metadata": {
            "tags": []
          },
          "execution_count": 15
        }
      ]
    },
    {
      "cell_type": "code",
      "metadata": {
        "id": "vBlAQHC5Hw66",
        "colab_type": "code",
        "colab": {
          "base_uri": "https://localhost:8080/",
          "height": 34
        },
        "outputId": "14415bf2-6c00-463e-f3cb-f98f6a7f01f1"
      },
      "source": [
        "fakty['ARPU2'].max()"
      ],
      "execution_count": 287,
      "outputs": [
        {
          "output_type": "execute_result",
          "data": {
            "text/plain": [
              "inf"
            ]
          },
          "metadata": {
            "tags": []
          },
          "execution_count": 287
        }
      ]
    },
    {
      "cell_type": "code",
      "metadata": {
        "id": "iHdhonYUHw4G",
        "colab_type": "code",
        "colab": {
          "base_uri": "https://localhost:8080/",
          "height": 34
        },
        "outputId": "e382a187-fcca-450e-e2df-a49b05a3c67a"
      },
      "source": [
        "fakty['ARPU2'][fakty['ARPU2']==fakty['ARPU2'].max()] = 0\n",
        "fakty['ARPU2'].max()"
      ],
      "execution_count": 16,
      "outputs": [
        {
          "output_type": "execute_result",
          "data": {
            "text/plain": [
              "2516.5"
            ]
          },
          "metadata": {
            "tags": []
          },
          "execution_count": 16
        }
      ]
    },
    {
      "cell_type": "code",
      "metadata": {
        "id": "phFAu4i-5KCK",
        "colab_type": "code",
        "colab": {}
      },
      "source": [
        "fakty['ARPU'].fillna(0, inplace = True)\n",
        "fakty['ARPU2'].fillna(0, inplace = True)"
      ],
      "execution_count": 17,
      "outputs": []
    },
    {
      "cell_type": "markdown",
      "metadata": {
        "id": "XxlvPbVX9he7",
        "colab_type": "text"
      },
      "source": [
        "Upewniam się czy nie popełniłem i czy kolumna ARPU(po DT_CUST_ID) jak nie jest równa zero to czy kolumna ARPU2(po grupie kapitałowej) też nie jest zero.\n",
        "Nie występuje taka sytuacja"
      ]
    },
    {
      "cell_type": "code",
      "metadata": {
        "id": "KloCxR8J4-4f",
        "colab_type": "code",
        "colab": {
          "base_uri": "https://localhost:8080/",
          "height": 69
        },
        "outputId": "2934157a-0e74-4452-c80a-b94101a30549"
      },
      "source": [
        "fakty[(fakty['ARPU'] !=0) & (fakty['ARPU2']!=0)].head()"
      ],
      "execution_count": 18,
      "outputs": [
        {
          "output_type": "execute_result",
          "data": {
            "text/html": [
              "<div>\n",
              "<style scoped>\n",
              "    .dataframe tbody tr th:only-of-type {\n",
              "        vertical-align: middle;\n",
              "    }\n",
              "\n",
              "    .dataframe tbody tr th {\n",
              "        vertical-align: top;\n",
              "    }\n",
              "\n",
              "    .dataframe thead th {\n",
              "        text-align: right;\n",
              "    }\n",
              "</style>\n",
              "<table border=\"1\" class=\"dataframe\">\n",
              "  <thead>\n",
              "    <tr style=\"text-align: right;\">\n",
              "      <th></th>\n",
              "      <th>PER_ID</th>\n",
              "      <th>LINE_ID</th>\n",
              "      <th>UNIT_ID</th>\n",
              "      <th>VER_ID</th>\n",
              "      <th>CAT_ID</th>\n",
              "      <th>DRV_ID</th>\n",
              "      <th>INTCO_ID</th>\n",
              "      <th>PROJ_ID</th>\n",
              "      <th>ACC_ID</th>\n",
              "      <th>DT_UNIT_ID</th>\n",
              "      <th>DT_DRV_ID</th>\n",
              "      <th>DT_PROJ_ID</th>\n",
              "      <th>DT_GRUPA_KAPITALOWA_ID</th>\n",
              "      <th>DT_CUST_ID</th>\n",
              "      <th>VALUE</th>\n",
              "      <th>cat_id_name</th>\n",
              "      <th>ARPU</th>\n",
              "      <th>ARPU2</th>\n",
              "    </tr>\n",
              "  </thead>\n",
              "  <tbody>\n",
              "  </tbody>\n",
              "</table>\n",
              "</div>"
            ],
            "text/plain": [
              "Empty DataFrame\n",
              "Columns: [PER_ID, LINE_ID, UNIT_ID, VER_ID, CAT_ID, DRV_ID, INTCO_ID, PROJ_ID, ACC_ID, DT_UNIT_ID, DT_DRV_ID, DT_PROJ_ID, DT_GRUPA_KAPITALOWA_ID, DT_CUST_ID, VALUE, cat_id_name, ARPU, ARPU2]\n",
              "Index: []"
            ]
          },
          "metadata": {
            "tags": []
          },
          "execution_count": 18
        }
      ]
    },
    {
      "cell_type": "markdown",
      "metadata": {
        "id": "TtN2HKnU98J9",
        "colab_type": "text"
      },
      "source": [
        "Łączę kolumne ARPU i ARPU2 w jedną ARPU.\n",
        "Jako, że sprawdziłem, że jeżeli w ARPU wartość jest różna od zera to w ARPU nie występuje wartość różna od zera."
      ]
    },
    {
      "cell_type": "code",
      "metadata": {
        "id": "jHKwWqLI5jh2",
        "colab_type": "code",
        "colab": {
          "base_uri": "https://localhost:8080/",
          "height": 309
        },
        "outputId": "e2042026-bbac-4f43-9653-3b60cc8e7b7c"
      },
      "source": [
        "fakty['ARPU'] = fakty['ARPU']+fakty['ARPU2']\n",
        "fakty.drop(['ARPU2'], axis = 1, inplace=True)\n",
        "fakty.head()"
      ],
      "execution_count": 19,
      "outputs": [
        {
          "output_type": "execute_result",
          "data": {
            "text/html": [
              "<div>\n",
              "<style scoped>\n",
              "    .dataframe tbody tr th:only-of-type {\n",
              "        vertical-align: middle;\n",
              "    }\n",
              "\n",
              "    .dataframe tbody tr th {\n",
              "        vertical-align: top;\n",
              "    }\n",
              "\n",
              "    .dataframe thead th {\n",
              "        text-align: right;\n",
              "    }\n",
              "</style>\n",
              "<table border=\"1\" class=\"dataframe\">\n",
              "  <thead>\n",
              "    <tr style=\"text-align: right;\">\n",
              "      <th></th>\n",
              "      <th>PER_ID</th>\n",
              "      <th>LINE_ID</th>\n",
              "      <th>UNIT_ID</th>\n",
              "      <th>VER_ID</th>\n",
              "      <th>CAT_ID</th>\n",
              "      <th>DRV_ID</th>\n",
              "      <th>INTCO_ID</th>\n",
              "      <th>PROJ_ID</th>\n",
              "      <th>ACC_ID</th>\n",
              "      <th>DT_UNIT_ID</th>\n",
              "      <th>DT_DRV_ID</th>\n",
              "      <th>DT_PROJ_ID</th>\n",
              "      <th>DT_GRUPA_KAPITALOWA_ID</th>\n",
              "      <th>DT_CUST_ID</th>\n",
              "      <th>VALUE</th>\n",
              "      <th>cat_id_name</th>\n",
              "      <th>ARPU</th>\n",
              "    </tr>\n",
              "  </thead>\n",
              "  <tbody>\n",
              "    <tr>\n",
              "      <th>0</th>\n",
              "      <td>201201</td>\n",
              "      <td>25664</td>\n",
              "      <td>8308</td>\n",
              "      <td>900</td>\n",
              "      <td>4001</td>\n",
              "      <td>0</td>\n",
              "      <td>0</td>\n",
              "      <td>111869165</td>\n",
              "      <td>0</td>\n",
              "      <td>-8308</td>\n",
              "      <td>0</td>\n",
              "      <td>111869165</td>\n",
              "      <td>0</td>\n",
              "      <td>0</td>\n",
              "      <td>0.0</td>\n",
              "      <td>Abonament korporacyjny</td>\n",
              "      <td>0.0</td>\n",
              "    </tr>\n",
              "    <tr>\n",
              "      <th>1</th>\n",
              "      <td>201201</td>\n",
              "      <td>25664</td>\n",
              "      <td>8103</td>\n",
              "      <td>900</td>\n",
              "      <td>4003</td>\n",
              "      <td>0</td>\n",
              "      <td>0</td>\n",
              "      <td>111869226</td>\n",
              "      <td>0</td>\n",
              "      <td>-8103</td>\n",
              "      <td>0</td>\n",
              "      <td>111869226</td>\n",
              "      <td>0</td>\n",
              "      <td>0</td>\n",
              "      <td>0.0</td>\n",
              "      <td>Abonament TPA</td>\n",
              "      <td>0.0</td>\n",
              "    </tr>\n",
              "    <tr>\n",
              "      <th>2</th>\n",
              "      <td>201202</td>\n",
              "      <td>25664</td>\n",
              "      <td>8103</td>\n",
              "      <td>900</td>\n",
              "      <td>4003</td>\n",
              "      <td>0</td>\n",
              "      <td>0</td>\n",
              "      <td>111869226</td>\n",
              "      <td>0</td>\n",
              "      <td>-8103</td>\n",
              "      <td>0</td>\n",
              "      <td>111869226</td>\n",
              "      <td>0</td>\n",
              "      <td>0</td>\n",
              "      <td>0.0</td>\n",
              "      <td>Abonament TPA</td>\n",
              "      <td>0.0</td>\n",
              "    </tr>\n",
              "    <tr>\n",
              "      <th>3</th>\n",
              "      <td>201203</td>\n",
              "      <td>25664</td>\n",
              "      <td>8103</td>\n",
              "      <td>900</td>\n",
              "      <td>4003</td>\n",
              "      <td>0</td>\n",
              "      <td>0</td>\n",
              "      <td>111869226</td>\n",
              "      <td>0</td>\n",
              "      <td>-8103</td>\n",
              "      <td>0</td>\n",
              "      <td>111869226</td>\n",
              "      <td>0</td>\n",
              "      <td>0</td>\n",
              "      <td>0.0</td>\n",
              "      <td>Abonament TPA</td>\n",
              "      <td>0.0</td>\n",
              "    </tr>\n",
              "    <tr>\n",
              "      <th>4</th>\n",
              "      <td>201204</td>\n",
              "      <td>25664</td>\n",
              "      <td>8103</td>\n",
              "      <td>900</td>\n",
              "      <td>4003</td>\n",
              "      <td>0</td>\n",
              "      <td>0</td>\n",
              "      <td>111869226</td>\n",
              "      <td>0</td>\n",
              "      <td>-8103</td>\n",
              "      <td>0</td>\n",
              "      <td>111869226</td>\n",
              "      <td>0</td>\n",
              "      <td>0</td>\n",
              "      <td>0.0</td>\n",
              "      <td>Abonament TPA</td>\n",
              "      <td>0.0</td>\n",
              "    </tr>\n",
              "  </tbody>\n",
              "</table>\n",
              "</div>"
            ],
            "text/plain": [
              "   PER_ID  LINE_ID  UNIT_ID  ...  VALUE             cat_id_name  ARPU\n",
              "0  201201    25664     8308  ...    0.0  Abonament korporacyjny   0.0\n",
              "1  201201    25664     8103  ...    0.0           Abonament TPA   0.0\n",
              "2  201202    25664     8103  ...    0.0           Abonament TPA   0.0\n",
              "3  201203    25664     8103  ...    0.0           Abonament TPA   0.0\n",
              "4  201204    25664     8103  ...    0.0           Abonament TPA   0.0\n",
              "\n",
              "[5 rows x 17 columns]"
            ]
          },
          "metadata": {
            "tags": []
          },
          "execution_count": 19
        }
      ]
    },
    {
      "cell_type": "code",
      "metadata": {
        "id": "-LK8wJXuAKn-",
        "colab_type": "code",
        "colab": {
          "base_uri": "https://localhost:8080/",
          "height": 34
        },
        "outputId": "bf87eb9f-123c-4fb7-e8bb-c04219ec323a"
      },
      "source": [
        "fakty[fakty['ARPU']==0]['PER_ID'].count()/len(fakty)"
      ],
      "execution_count": 292,
      "outputs": [
        {
          "output_type": "execute_result",
          "data": {
            "text/plain": [
              "0.025665307679469757"
            ]
          },
          "metadata": {
            "tags": []
          },
          "execution_count": 292
        }
      ]
    },
    {
      "cell_type": "markdown",
      "metadata": {
        "id": "QNmirCufTbzp",
        "colab_type": "text"
      },
      "source": [
        "Z powowdu kilka outlierów wizualizacja jest nieczytelna.\n",
        "Poniżej spróbuję zwizualizować wskażnik ARPU do 0.99 i 0.95 kwantyla"
      ]
    },
    {
      "cell_type": "code",
      "metadata": {
        "id": "qTsa0Fvh5jfM",
        "colab_type": "code",
        "colab": {
          "base_uri": "https://localhost:8080/",
          "height": 413
        },
        "outputId": "c727ed30-1613-4d85-9f9c-0ea4a483b4d9"
      },
      "source": [
        "plt.figure(figsize = (10,6))\n",
        "plt.title(label = 'Dystrybucja wskażnika ARPU', fontsize = 20)\n",
        "plt.xlabel(xlabel = 'wartość', fontsize = 14)\n",
        "plt.ylabel(ylabel = 'Częstość', fontsize = 14)\n",
        "plt.hist(fakty['ARPU'], bins = 50);"
      ],
      "execution_count": 293,
      "outputs": [
        {
          "output_type": "display_data",
          "data": {
            "image/png": "[encoded data removed]",
            "text/plain": [
              "<Figure size 720x432 with 1 Axes>"
            ]
          },
          "metadata": {
            "tags": [],
            "needs_background": "light"
          }
        }
      ]
    },
    {
      "cell_type": "code",
      "metadata": {
        "id": "bh8dTynPAaSn",
        "colab_type": "code",
        "colab": {
          "base_uri": "https://localhost:8080/",
          "height": 34
        },
        "outputId": "6197e8ed-4b07-4147-b4ff-992aef3e6458"
      },
      "source": [
        "fakty['ARPU'].quantile(0.99)"
      ],
      "execution_count": 294,
      "outputs": [
        {
          "output_type": "execute_result",
          "data": {
            "text/plain": [
              "210.0"
            ]
          },
          "metadata": {
            "tags": []
          },
          "execution_count": 294
        }
      ]
    },
    {
      "cell_type": "code",
      "metadata": {
        "id": "NM2boLWP5jbf",
        "colab_type": "code",
        "colab": {
          "base_uri": "https://localhost:8080/",
          "height": 413
        },
        "outputId": "a42f84f8-16d0-4de3-9857-0ec8c8d4d3d0"
      },
      "source": [
        "plt.figure(figsize = (10,6))\n",
        "plt.title(label = 'Dystrybucja wskażnika ARPU(do 0.99 kwantyla)', fontsize = 20)\n",
        "plt.xlabel(xlabel = 'wartość', fontsize = 14)\n",
        "plt.ylabel(ylabel = 'Częstość', fontsize = 14)\n",
        "plt.hist(fakty['ARPU'][fakty['ARPU'] < fakty['ARPU'].quantile(0.99)], bins = 50);"
      ],
      "execution_count": 295,
      "outputs": [
        {
          "output_type": "display_data",
          "data": {
            "image/png": "[encoded data removed]",
            "text/plain": [
              "<Figure size 720x432 with 1 Axes>"
            ]
          },
          "metadata": {
            "tags": [],
            "needs_background": "light"
          }
        }
      ]
    },
    {
      "cell_type": "code",
      "metadata": {
        "id": "rkRS714MAdjQ",
        "colab_type": "code",
        "colab": {
          "base_uri": "https://localhost:8080/",
          "height": 413
        },
        "outputId": "68117d7c-ce4c-44e7-c91a-2777dfd11440"
      },
      "source": [
        "plt.figure(figsize = (10,6))\n",
        "plt.title(label = 'Dystrybucja wskażnika ARPU(do 0.95 kwantyla)', fontsize = 20)\n",
        "plt.xlabel(xlabel = 'wartość', fontsize = 14)\n",
        "plt.ylabel(ylabel = 'Częstość', fontsize = 14)\n",
        "plt.hist(fakty['ARPU'][fakty['ARPU'] < fakty['ARPU'].quantile(0.95)], bins = 50);"
      ],
      "execution_count": 296,
      "outputs": [
        {
          "output_type": "display_data",
          "data": {
            "image/png": "[encoded data removed]",
            "text/plain": [
              "<Figure size 720x432 with 1 Axes>"
            ]
          },
          "metadata": {
            "tags": [],
            "needs_background": "light"
          }
        }
      ]
    },
    {
      "cell_type": "code",
      "metadata": {
        "id": "Crv6Zpk-AQzt",
        "colab_type": "code",
        "colab": {}
      },
      "source": [
        " from scipy.stats import mode"
      ],
      "execution_count": 20,
      "outputs": []
    },
    {
      "cell_type": "markdown",
      "metadata": {
        "id": "NZJojp25AjAb",
        "colab_type": "text"
      },
      "source": [
        "Ze względu na bardzo duże wartości odstające postanowiłem w statystykach opisowych nie uwzględniać średniej gdyż \"zakłamie\" ona obraz rozkładu miary ARPU, zamiast tego użyję mediany wykorzystując bibliotekę scipy"
      ]
    },
    {
      "cell_type": "code",
      "metadata": {
        "id": "mYpxgB7PAQu_",
        "colab_type": "code",
        "colab": {
          "base_uri": "https://localhost:8080/",
          "height": 68
        },
        "outputId": "09c39227-0d86-4ecc-ea43-793373b604d9"
      },
      "source": [
        "print('Minimalna wartość ARPU:', fakty['ARPU'].min(),'\\n',\n",
        "      'Mediana:', mode(fakty['ARPU'])[0], '\\n',\n",
        "      'Maksymalna wartość:', fakty['ARPU'].max())"
      ],
      "execution_count": 322,
      "outputs": [
        {
          "output_type": "stream",
          "text": [
            "Minimalna wartość ARPU: 0.0 \n",
            " Mediana: [26.69839557] \n",
            " Maksymalna wartość: 2516.5\n"
          ],
          "name": "stdout"
        }
      ]
    },
    {
      "cell_type": "code",
      "metadata": {
        "id": "klbsmwLPAdf3",
        "colab_type": "code",
        "colab": {}
      },
      "source": [
        ""
      ],
      "execution_count": null,
      "outputs": []
    },
    {
      "cell_type": "markdown",
      "metadata": {
        "id": "Ma2EOBMTNDPe",
        "colab_type": "text"
      },
      "source": [
        "##Szkodowość\n",
        "Wzór(na podstawie line_id):25666 / 25664\n",
        "\n",
        "Opis:Średnia miesięczna liczba usług wykonanych przez 1 abonenta.\n",
        "\n",
        "Uwagi:\n",
        "Tylko dla cat_id typu Abonament% lub CoPayment%. W przypadku kalkulacji za okres dłuższy niż 1 miesiąc, jest to średnia ważona liczbą abonentów.\n"
      ]
    },
    {
      "cell_type": "code",
      "metadata": {
        "id": "hLCLegCgAdda",
        "colab_type": "code",
        "colab": {}
      },
      "source": [
        ""
      ],
      "execution_count": null,
      "outputs": []
    },
    {
      "cell_type": "code",
      "metadata": {
        "id": "1thsTHD2PD8t",
        "colab_type": "code",
        "colab": {}
      },
      "source": [
        "d = fakty[fakty['LINE_ID'] ==25666]['DT_CUST_ID'].unique()\n",
        "e = fakty[fakty['LINE_ID'] ==25664]['DT_CUST_ID'].unique()\n",
        "f = []\n",
        "for i in fakty['DT_CUST_ID'].unique():\n",
        "  if (i in d) & (i in e):\n",
        "    f.append(i)"
      ],
      "execution_count": 21,
      "outputs": []
    },
    {
      "cell_type": "code",
      "metadata": {
        "id": "0tbHS9ZUPD6Q",
        "colab_type": "code",
        "colab": {
          "base_uri": "https://localhost:8080/",
          "height": 326
        },
        "outputId": "e8f1d6f3-c5d7-426f-c038-34abc0595052"
      },
      "source": [
        "df1 = fakty[(fakty['DT_CUST_ID'].isin(f)) & ((fakty['cat_id_name'][0][0] == 'A') or (fakty['cat_id_name'][0][0] == 'C'))]\n",
        "print(df1.shape)\n",
        "df1.head()"
      ],
      "execution_count": 22,
      "outputs": [
        {
          "output_type": "stream",
          "text": [
            "(1031676, 17)\n"
          ],
          "name": "stdout"
        },
        {
          "output_type": "execute_result",
          "data": {
            "text/html": [
              "<div>\n",
              "<style scoped>\n",
              "    .dataframe tbody tr th:only-of-type {\n",
              "        vertical-align: middle;\n",
              "    }\n",
              "\n",
              "    .dataframe tbody tr th {\n",
              "        vertical-align: top;\n",
              "    }\n",
              "\n",
              "    .dataframe thead th {\n",
              "        text-align: right;\n",
              "    }\n",
              "</style>\n",
              "<table border=\"1\" class=\"dataframe\">\n",
              "  <thead>\n",
              "    <tr style=\"text-align: right;\">\n",
              "      <th></th>\n",
              "      <th>PER_ID</th>\n",
              "      <th>LINE_ID</th>\n",
              "      <th>UNIT_ID</th>\n",
              "      <th>VER_ID</th>\n",
              "      <th>CAT_ID</th>\n",
              "      <th>DRV_ID</th>\n",
              "      <th>INTCO_ID</th>\n",
              "      <th>PROJ_ID</th>\n",
              "      <th>ACC_ID</th>\n",
              "      <th>DT_UNIT_ID</th>\n",
              "      <th>DT_DRV_ID</th>\n",
              "      <th>DT_PROJ_ID</th>\n",
              "      <th>DT_GRUPA_KAPITALOWA_ID</th>\n",
              "      <th>DT_CUST_ID</th>\n",
              "      <th>VALUE</th>\n",
              "      <th>cat_id_name</th>\n",
              "      <th>ARPU</th>\n",
              "    </tr>\n",
              "  </thead>\n",
              "  <tbody>\n",
              "    <tr>\n",
              "      <th>0</th>\n",
              "      <td>201201</td>\n",
              "      <td>25664</td>\n",
              "      <td>8308</td>\n",
              "      <td>900</td>\n",
              "      <td>4001</td>\n",
              "      <td>0</td>\n",
              "      <td>0</td>\n",
              "      <td>111869165</td>\n",
              "      <td>0</td>\n",
              "      <td>-8308</td>\n",
              "      <td>0</td>\n",
              "      <td>111869165</td>\n",
              "      <td>0</td>\n",
              "      <td>0</td>\n",
              "      <td>0.0</td>\n",
              "      <td>Abonament korporacyjny</td>\n",
              "      <td>0.0</td>\n",
              "    </tr>\n",
              "    <tr>\n",
              "      <th>1</th>\n",
              "      <td>201201</td>\n",
              "      <td>25664</td>\n",
              "      <td>8103</td>\n",
              "      <td>900</td>\n",
              "      <td>4003</td>\n",
              "      <td>0</td>\n",
              "      <td>0</td>\n",
              "      <td>111869226</td>\n",
              "      <td>0</td>\n",
              "      <td>-8103</td>\n",
              "      <td>0</td>\n",
              "      <td>111869226</td>\n",
              "      <td>0</td>\n",
              "      <td>0</td>\n",
              "      <td>0.0</td>\n",
              "      <td>Abonament TPA</td>\n",
              "      <td>0.0</td>\n",
              "    </tr>\n",
              "    <tr>\n",
              "      <th>2</th>\n",
              "      <td>201202</td>\n",
              "      <td>25664</td>\n",
              "      <td>8103</td>\n",
              "      <td>900</td>\n",
              "      <td>4003</td>\n",
              "      <td>0</td>\n",
              "      <td>0</td>\n",
              "      <td>111869226</td>\n",
              "      <td>0</td>\n",
              "      <td>-8103</td>\n",
              "      <td>0</td>\n",
              "      <td>111869226</td>\n",
              "      <td>0</td>\n",
              "      <td>0</td>\n",
              "      <td>0.0</td>\n",
              "      <td>Abonament TPA</td>\n",
              "      <td>0.0</td>\n",
              "    </tr>\n",
              "    <tr>\n",
              "      <th>3</th>\n",
              "      <td>201203</td>\n",
              "      <td>25664</td>\n",
              "      <td>8103</td>\n",
              "      <td>900</td>\n",
              "      <td>4003</td>\n",
              "      <td>0</td>\n",
              "      <td>0</td>\n",
              "      <td>111869226</td>\n",
              "      <td>0</td>\n",
              "      <td>-8103</td>\n",
              "      <td>0</td>\n",
              "      <td>111869226</td>\n",
              "      <td>0</td>\n",
              "      <td>0</td>\n",
              "      <td>0.0</td>\n",
              "      <td>Abonament TPA</td>\n",
              "      <td>0.0</td>\n",
              "    </tr>\n",
              "    <tr>\n",
              "      <th>4</th>\n",
              "      <td>201204</td>\n",
              "      <td>25664</td>\n",
              "      <td>8103</td>\n",
              "      <td>900</td>\n",
              "      <td>4003</td>\n",
              "      <td>0</td>\n",
              "      <td>0</td>\n",
              "      <td>111869226</td>\n",
              "      <td>0</td>\n",
              "      <td>-8103</td>\n",
              "      <td>0</td>\n",
              "      <td>111869226</td>\n",
              "      <td>0</td>\n",
              "      <td>0</td>\n",
              "      <td>0.0</td>\n",
              "      <td>Abonament TPA</td>\n",
              "      <td>0.0</td>\n",
              "    </tr>\n",
              "  </tbody>\n",
              "</table>\n",
              "</div>"
            ],
            "text/plain": [
              "   PER_ID  LINE_ID  UNIT_ID  ...  VALUE             cat_id_name  ARPU\n",
              "0  201201    25664     8308  ...    0.0  Abonament korporacyjny   0.0\n",
              "1  201201    25664     8103  ...    0.0           Abonament TPA   0.0\n",
              "2  201202    25664     8103  ...    0.0           Abonament TPA   0.0\n",
              "3  201203    25664     8103  ...    0.0           Abonament TPA   0.0\n",
              "4  201204    25664     8103  ...    0.0           Abonament TPA   0.0\n",
              "\n",
              "[5 rows x 17 columns]"
            ]
          },
          "metadata": {
            "tags": []
          },
          "execution_count": 22
        }
      ]
    },
    {
      "cell_type": "code",
      "metadata": {
        "id": "ZOERug_ePD3m",
        "colab_type": "code",
        "colab": {
          "base_uri": "https://localhost:8080/",
          "height": 204
        },
        "outputId": "33ab5644-161a-421e-a3de-6ded2013f245"
      },
      "source": [
        "szkodowosc = df[(df['LINE_ID']==25666)& (df['DT_GRUPA_KAPITALOWA_ID'] ==0)].groupby('DT_CUST_ID')['VALUE'].sum()/df[(df['LINE_ID'] == 25664)\\\n",
        "&(df['DT_GRUPA_KAPITALOWA_ID']==0)].groupby('DT_CUST_ID')['VALUE'].sum()\n",
        "szkodowosc = pd.DataFrame(szkodowosc)\n",
        "szkodowosc.reset_index(inplace=True)\n",
        "szkodowosc.head()"
      ],
      "execution_count": 23,
      "outputs": [
        {
          "output_type": "execute_result",
          "data": {
            "text/html": [
              "<div>\n",
              "<style scoped>\n",
              "    .dataframe tbody tr th:only-of-type {\n",
              "        vertical-align: middle;\n",
              "    }\n",
              "\n",
              "    .dataframe tbody tr th {\n",
              "        vertical-align: top;\n",
              "    }\n",
              "\n",
              "    .dataframe thead th {\n",
              "        text-align: right;\n",
              "    }\n",
              "</style>\n",
              "<table border=\"1\" class=\"dataframe\">\n",
              "  <thead>\n",
              "    <tr style=\"text-align: right;\">\n",
              "      <th></th>\n",
              "      <th>DT_CUST_ID</th>\n",
              "      <th>VALUE</th>\n",
              "    </tr>\n",
              "  </thead>\n",
              "  <tbody>\n",
              "    <tr>\n",
              "      <th>0</th>\n",
              "      <td>0</td>\n",
              "      <td>0.105263</td>\n",
              "    </tr>\n",
              "    <tr>\n",
              "      <th>1</th>\n",
              "      <td>669</td>\n",
              "      <td>NaN</td>\n",
              "    </tr>\n",
              "    <tr>\n",
              "      <th>2</th>\n",
              "      <td>2451</td>\n",
              "      <td>NaN</td>\n",
              "    </tr>\n",
              "    <tr>\n",
              "      <th>3</th>\n",
              "      <td>40093</td>\n",
              "      <td>NaN</td>\n",
              "    </tr>\n",
              "    <tr>\n",
              "      <th>4</th>\n",
              "      <td>44551</td>\n",
              "      <td>1.000000</td>\n",
              "    </tr>\n",
              "  </tbody>\n",
              "</table>\n",
              "</div>"
            ],
            "text/plain": [
              "   DT_CUST_ID     VALUE\n",
              "0           0  0.105263\n",
              "1         669       NaN\n",
              "2        2451       NaN\n",
              "3       40093       NaN\n",
              "4       44551  1.000000"
            ]
          },
          "metadata": {
            "tags": []
          },
          "execution_count": 23
        }
      ]
    },
    {
      "cell_type": "code",
      "metadata": {
        "id": "EqsFMX0CRcw5",
        "colab_type": "code",
        "colab": {
          "base_uri": "https://localhost:8080/",
          "height": 204
        },
        "outputId": "9eb003d3-1439-4149-e99f-c031c19e71e5"
      },
      "source": [
        "szkodowosc2 = df[(df['LINE_ID']==25666)& (df['DT_GRUPA_KAPITALOWA_ID'] !=0)].groupby('DT_GRUPA_KAPITALOWA_ID')['VALUE'].sum()/\\\n",
        "df[(df['LINE_ID'] == 25664) &(df['DT_GRUPA_KAPITALOWA_ID']!=0)].groupby('DT_GRUPA_KAPITALOWA_ID')['VALUE'].sum()\n",
        "szkodowosc2 = pd.DataFrame(szkodowosc2)\n",
        "szkodowosc2.reset_index(inplace=True)\n",
        "szkodowosc2.head()"
      ],
      "execution_count": 24,
      "outputs": [
        {
          "output_type": "execute_result",
          "data": {
            "text/html": [
              "<div>\n",
              "<style scoped>\n",
              "    .dataframe tbody tr th:only-of-type {\n",
              "        vertical-align: middle;\n",
              "    }\n",
              "\n",
              "    .dataframe tbody tr th {\n",
              "        vertical-align: top;\n",
              "    }\n",
              "\n",
              "    .dataframe thead th {\n",
              "        text-align: right;\n",
              "    }\n",
              "</style>\n",
              "<table border=\"1\" class=\"dataframe\">\n",
              "  <thead>\n",
              "    <tr style=\"text-align: right;\">\n",
              "      <th></th>\n",
              "      <th>DT_GRUPA_KAPITALOWA_ID</th>\n",
              "      <th>VALUE</th>\n",
              "    </tr>\n",
              "  </thead>\n",
              "  <tbody>\n",
              "    <tr>\n",
              "      <th>0</th>\n",
              "      <td>202</td>\n",
              "      <td>0.479167</td>\n",
              "    </tr>\n",
              "    <tr>\n",
              "      <th>1</th>\n",
              "      <td>203</td>\n",
              "      <td>0.593548</td>\n",
              "    </tr>\n",
              "    <tr>\n",
              "      <th>2</th>\n",
              "      <td>204</td>\n",
              "      <td>NaN</td>\n",
              "    </tr>\n",
              "    <tr>\n",
              "      <th>3</th>\n",
              "      <td>205</td>\n",
              "      <td>0.763889</td>\n",
              "    </tr>\n",
              "    <tr>\n",
              "      <th>4</th>\n",
              "      <td>206</td>\n",
              "      <td>0.780303</td>\n",
              "    </tr>\n",
              "  </tbody>\n",
              "</table>\n",
              "</div>"
            ],
            "text/plain": [
              "   DT_GRUPA_KAPITALOWA_ID     VALUE\n",
              "0                     202  0.479167\n",
              "1                     203  0.593548\n",
              "2                     204       NaN\n",
              "3                     205  0.763889\n",
              "4                     206  0.780303"
            ]
          },
          "metadata": {
            "tags": []
          },
          "execution_count": 24
        }
      ]
    },
    {
      "cell_type": "code",
      "metadata": {
        "id": "jYE3mwtOPDzh",
        "colab_type": "code",
        "colab": {
          "base_uri": "https://localhost:8080/",
          "height": 309
        },
        "outputId": "19e1ece2-9d6e-4d62-ae27-6726842fe570"
      },
      "source": [
        "fakty = fakty.merge(szkodowosc, on = 'DT_CUST_ID', how = 'left')\n",
        "fakty.rename(columns={\"VALUE_x\": \"VALUE\", \"VALUE_y\": \"Szkodowosc\"}, inplace=True)\n",
        "fakty = fakty.merge(szkodowosc2, on = 'DT_GRUPA_KAPITALOWA_ID', how = 'left')\n",
        "fakty.rename(columns={\"VALUE_x\": \"VALUE\", \"VALUE_y\": \"Szkodowosc2\"}, inplace=True)\n",
        "fakty.head()"
      ],
      "execution_count": 25,
      "outputs": [
        {
          "output_type": "execute_result",
          "data": {
            "text/html": [
              "<div>\n",
              "<style scoped>\n",
              "    .dataframe tbody tr th:only-of-type {\n",
              "        vertical-align: middle;\n",
              "    }\n",
              "\n",
              "    .dataframe tbody tr th {\n",
              "        vertical-align: top;\n",
              "    }\n",
              "\n",
              "    .dataframe thead th {\n",
              "        text-align: right;\n",
              "    }\n",
              "</style>\n",
              "<table border=\"1\" class=\"dataframe\">\n",
              "  <thead>\n",
              "    <tr style=\"text-align: right;\">\n",
              "      <th></th>\n",
              "      <th>PER_ID</th>\n",
              "      <th>LINE_ID</th>\n",
              "      <th>UNIT_ID</th>\n",
              "      <th>VER_ID</th>\n",
              "      <th>CAT_ID</th>\n",
              "      <th>DRV_ID</th>\n",
              "      <th>INTCO_ID</th>\n",
              "      <th>PROJ_ID</th>\n",
              "      <th>ACC_ID</th>\n",
              "      <th>DT_UNIT_ID</th>\n",
              "      <th>DT_DRV_ID</th>\n",
              "      <th>DT_PROJ_ID</th>\n",
              "      <th>DT_GRUPA_KAPITALOWA_ID</th>\n",
              "      <th>DT_CUST_ID</th>\n",
              "      <th>VALUE</th>\n",
              "      <th>cat_id_name</th>\n",
              "      <th>ARPU</th>\n",
              "      <th>Szkodowosc</th>\n",
              "      <th>Szkodowosc2</th>\n",
              "    </tr>\n",
              "  </thead>\n",
              "  <tbody>\n",
              "    <tr>\n",
              "      <th>0</th>\n",
              "      <td>201201</td>\n",
              "      <td>25664</td>\n",
              "      <td>8308</td>\n",
              "      <td>900</td>\n",
              "      <td>4001</td>\n",
              "      <td>0</td>\n",
              "      <td>0</td>\n",
              "      <td>111869165</td>\n",
              "      <td>0</td>\n",
              "      <td>-8308</td>\n",
              "      <td>0</td>\n",
              "      <td>111869165</td>\n",
              "      <td>0</td>\n",
              "      <td>0</td>\n",
              "      <td>0.0</td>\n",
              "      <td>Abonament korporacyjny</td>\n",
              "      <td>0.0</td>\n",
              "      <td>0.105263</td>\n",
              "      <td>NaN</td>\n",
              "    </tr>\n",
              "    <tr>\n",
              "      <th>1</th>\n",
              "      <td>201201</td>\n",
              "      <td>25664</td>\n",
              "      <td>8103</td>\n",
              "      <td>900</td>\n",
              "      <td>4003</td>\n",
              "      <td>0</td>\n",
              "      <td>0</td>\n",
              "      <td>111869226</td>\n",
              "      <td>0</td>\n",
              "      <td>-8103</td>\n",
              "      <td>0</td>\n",
              "      <td>111869226</td>\n",
              "      <td>0</td>\n",
              "      <td>0</td>\n",
              "      <td>0.0</td>\n",
              "      <td>Abonament TPA</td>\n",
              "      <td>0.0</td>\n",
              "      <td>0.105263</td>\n",
              "      <td>NaN</td>\n",
              "    </tr>\n",
              "    <tr>\n",
              "      <th>2</th>\n",
              "      <td>201202</td>\n",
              "      <td>25664</td>\n",
              "      <td>8103</td>\n",
              "      <td>900</td>\n",
              "      <td>4003</td>\n",
              "      <td>0</td>\n",
              "      <td>0</td>\n",
              "      <td>111869226</td>\n",
              "      <td>0</td>\n",
              "      <td>-8103</td>\n",
              "      <td>0</td>\n",
              "      <td>111869226</td>\n",
              "      <td>0</td>\n",
              "      <td>0</td>\n",
              "      <td>0.0</td>\n",
              "      <td>Abonament TPA</td>\n",
              "      <td>0.0</td>\n",
              "      <td>0.105263</td>\n",
              "      <td>NaN</td>\n",
              "    </tr>\n",
              "    <tr>\n",
              "      <th>3</th>\n",
              "      <td>201203</td>\n",
              "      <td>25664</td>\n",
              "      <td>8103</td>\n",
              "      <td>900</td>\n",
              "      <td>4003</td>\n",
              "      <td>0</td>\n",
              "      <td>0</td>\n",
              "      <td>111869226</td>\n",
              "      <td>0</td>\n",
              "      <td>-8103</td>\n",
              "      <td>0</td>\n",
              "      <td>111869226</td>\n",
              "      <td>0</td>\n",
              "      <td>0</td>\n",
              "      <td>0.0</td>\n",
              "      <td>Abonament TPA</td>\n",
              "      <td>0.0</td>\n",
              "      <td>0.105263</td>\n",
              "      <td>NaN</td>\n",
              "    </tr>\n",
              "    <tr>\n",
              "      <th>4</th>\n",
              "      <td>201204</td>\n",
              "      <td>25664</td>\n",
              "      <td>8103</td>\n",
              "      <td>900</td>\n",
              "      <td>4003</td>\n",
              "      <td>0</td>\n",
              "      <td>0</td>\n",
              "      <td>111869226</td>\n",
              "      <td>0</td>\n",
              "      <td>-8103</td>\n",
              "      <td>0</td>\n",
              "      <td>111869226</td>\n",
              "      <td>0</td>\n",
              "      <td>0</td>\n",
              "      <td>0.0</td>\n",
              "      <td>Abonament TPA</td>\n",
              "      <td>0.0</td>\n",
              "      <td>0.105263</td>\n",
              "      <td>NaN</td>\n",
              "    </tr>\n",
              "  </tbody>\n",
              "</table>\n",
              "</div>"
            ],
            "text/plain": [
              "   PER_ID  LINE_ID  UNIT_ID  ...  ARPU  Szkodowosc  Szkodowosc2\n",
              "0  201201    25664     8308  ...   0.0    0.105263          NaN\n",
              "1  201201    25664     8103  ...   0.0    0.105263          NaN\n",
              "2  201202    25664     8103  ...   0.0    0.105263          NaN\n",
              "3  201203    25664     8103  ...   0.0    0.105263          NaN\n",
              "4  201204    25664     8103  ...   0.0    0.105263          NaN\n",
              "\n",
              "[5 rows x 19 columns]"
            ]
          },
          "metadata": {
            "tags": []
          },
          "execution_count": 25
        }
      ]
    },
    {
      "cell_type": "code",
      "metadata": {
        "id": "t-udeETY8siN",
        "colab_type": "code",
        "colab": {}
      },
      "source": [
        "fakty['Szkodowosc2'][fakty['DT_GRUPA_KAPITALOWA_ID']==0] = 0\n",
        "fakty['Szkodowosc'][fakty['DT_GRUPA_KAPITALOWA_ID']!=0] = 0"
      ],
      "execution_count": 26,
      "outputs": []
    },
    {
      "cell_type": "code",
      "metadata": {
        "id": "J2cgKrQQSyFu",
        "colab_type": "code",
        "colab": {
          "base_uri": "https://localhost:8080/",
          "height": 34
        },
        "outputId": "0988053f-b020-48ca-d09d-a4dafa32465d"
      },
      "source": [
        "fakty['Szkodowosc'].max()"
      ],
      "execution_count": 303,
      "outputs": [
        {
          "output_type": "execute_result",
          "data": {
            "text/plain": [
              "1.0"
            ]
          },
          "metadata": {
            "tags": []
          },
          "execution_count": 303
        }
      ]
    },
    {
      "cell_type": "code",
      "metadata": {
        "id": "3GWuSZaISyDw",
        "colab_type": "code",
        "colab": {
          "base_uri": "https://localhost:8080/",
          "height": 34
        },
        "outputId": "55c402a6-a1f6-47f3-8bc6-ae403b58ecba"
      },
      "source": [
        "fakty['Szkodowosc2'].max()"
      ],
      "execution_count": 304,
      "outputs": [
        {
          "output_type": "execute_result",
          "data": {
            "text/plain": [
              "inf"
            ]
          },
          "metadata": {
            "tags": []
          },
          "execution_count": 304
        }
      ]
    },
    {
      "cell_type": "code",
      "metadata": {
        "id": "ZDT3hVP5S6U9",
        "colab_type": "code",
        "colab": {
          "base_uri": "https://localhost:8080/",
          "height": 34
        },
        "outputId": "b81a0d35-23c2-43d1-9213-305f0c2603ae"
      },
      "source": [
        "fakty['Szkodowosc2'][fakty['Szkodowosc2'] == fakty['Szkodowosc2'].max()] = 0\n",
        "fakty['Szkodowosc2'].max()"
      ],
      "execution_count": 27,
      "outputs": [
        {
          "output_type": "execute_result",
          "data": {
            "text/plain": [
              "38.5"
            ]
          },
          "metadata": {
            "tags": []
          },
          "execution_count": 27
        }
      ]
    },
    {
      "cell_type": "code",
      "metadata": {
        "id": "kjLMsKVpSx8i",
        "colab_type": "code",
        "colab": {}
      },
      "source": [
        "fakty['Szkodowosc'].fillna(0,inplace = True)\n",
        "fakty['Szkodowosc2'].fillna(0,inplace = True)"
      ],
      "execution_count": 28,
      "outputs": []
    },
    {
      "cell_type": "markdown",
      "metadata": {
        "id": "4CwcvGasUAB3",
        "colab_type": "text"
      },
      "source": [
        "Te same DT_CUST_ID co przy liczeniu ARPU"
      ]
    },
    {
      "cell_type": "code",
      "metadata": {
        "id": "cpL4dhkMTohS",
        "colab_type": "code",
        "colab": {
          "base_uri": "https://localhost:8080/",
          "height": 69
        },
        "outputId": "a07e04fa-80ce-4476-fb11-0283b892efa8"
      },
      "source": [
        "fakty[(fakty['Szkodowosc'] !=0) & (fakty['Szkodowosc2']!=0)].head()"
      ],
      "execution_count": 27,
      "outputs": [
        {
          "output_type": "execute_result",
          "data": {
            "text/html": [
              "<div>\n",
              "<style scoped>\n",
              "    .dataframe tbody tr th:only-of-type {\n",
              "        vertical-align: middle;\n",
              "    }\n",
              "\n",
              "    .dataframe tbody tr th {\n",
              "        vertical-align: top;\n",
              "    }\n",
              "\n",
              "    .dataframe thead th {\n",
              "        text-align: right;\n",
              "    }\n",
              "</style>\n",
              "<table border=\"1\" class=\"dataframe\">\n",
              "  <thead>\n",
              "    <tr style=\"text-align: right;\">\n",
              "      <th></th>\n",
              "      <th>PER_ID</th>\n",
              "      <th>LINE_ID</th>\n",
              "      <th>UNIT_ID</th>\n",
              "      <th>VER_ID</th>\n",
              "      <th>CAT_ID</th>\n",
              "      <th>DRV_ID</th>\n",
              "      <th>INTCO_ID</th>\n",
              "      <th>PROJ_ID</th>\n",
              "      <th>ACC_ID</th>\n",
              "      <th>DT_UNIT_ID</th>\n",
              "      <th>DT_DRV_ID</th>\n",
              "      <th>DT_PROJ_ID</th>\n",
              "      <th>DT_GRUPA_KAPITALOWA_ID</th>\n",
              "      <th>DT_CUST_ID</th>\n",
              "      <th>VALUE</th>\n",
              "      <th>cat_id_name</th>\n",
              "      <th>ARPU</th>\n",
              "      <th>Szkodowosc</th>\n",
              "      <th>Szkodowosc2</th>\n",
              "    </tr>\n",
              "  </thead>\n",
              "  <tbody>\n",
              "  </tbody>\n",
              "</table>\n",
              "</div>"
            ],
            "text/plain": [
              "Empty DataFrame\n",
              "Columns: [PER_ID, LINE_ID, UNIT_ID, VER_ID, CAT_ID, DRV_ID, INTCO_ID, PROJ_ID, ACC_ID, DT_UNIT_ID, DT_DRV_ID, DT_PROJ_ID, DT_GRUPA_KAPITALOWA_ID, DT_CUST_ID, VALUE, cat_id_name, ARPU, Szkodowosc, Szkodowosc2]\n",
              "Index: []"
            ]
          },
          "metadata": {
            "tags": []
          },
          "execution_count": 27
        }
      ]
    },
    {
      "cell_type": "code",
      "metadata": {
        "id": "TnetafyuZ0oa",
        "colab_type": "code",
        "colab": {
          "base_uri": "https://localhost:8080/",
          "height": 309
        },
        "outputId": "e1262423-765e-4f67-ce6b-6b6ac7db3997"
      },
      "source": [
        "fakty['Szkodowosc'] = fakty['Szkodowosc']+fakty['Szkodowosc2']\n",
        "fakty.drop(['Szkodowosc2'], axis = 1, inplace=True)\n",
        "fakty.head()"
      ],
      "execution_count": 29,
      "outputs": [
        {
          "output_type": "execute_result",
          "data": {
            "text/html": [
              "<div>\n",
              "<style scoped>\n",
              "    .dataframe tbody tr th:only-of-type {\n",
              "        vertical-align: middle;\n",
              "    }\n",
              "\n",
              "    .dataframe tbody tr th {\n",
              "        vertical-align: top;\n",
              "    }\n",
              "\n",
              "    .dataframe thead th {\n",
              "        text-align: right;\n",
              "    }\n",
              "</style>\n",
              "<table border=\"1\" class=\"dataframe\">\n",
              "  <thead>\n",
              "    <tr style=\"text-align: right;\">\n",
              "      <th></th>\n",
              "      <th>PER_ID</th>\n",
              "      <th>LINE_ID</th>\n",
              "      <th>UNIT_ID</th>\n",
              "      <th>VER_ID</th>\n",
              "      <th>CAT_ID</th>\n",
              "      <th>DRV_ID</th>\n",
              "      <th>INTCO_ID</th>\n",
              "      <th>PROJ_ID</th>\n",
              "      <th>ACC_ID</th>\n",
              "      <th>DT_UNIT_ID</th>\n",
              "      <th>DT_DRV_ID</th>\n",
              "      <th>DT_PROJ_ID</th>\n",
              "      <th>DT_GRUPA_KAPITALOWA_ID</th>\n",
              "      <th>DT_CUST_ID</th>\n",
              "      <th>VALUE</th>\n",
              "      <th>cat_id_name</th>\n",
              "      <th>ARPU</th>\n",
              "      <th>Szkodowosc</th>\n",
              "    </tr>\n",
              "  </thead>\n",
              "  <tbody>\n",
              "    <tr>\n",
              "      <th>0</th>\n",
              "      <td>201201</td>\n",
              "      <td>25664</td>\n",
              "      <td>8308</td>\n",
              "      <td>900</td>\n",
              "      <td>4001</td>\n",
              "      <td>0</td>\n",
              "      <td>0</td>\n",
              "      <td>111869165</td>\n",
              "      <td>0</td>\n",
              "      <td>-8308</td>\n",
              "      <td>0</td>\n",
              "      <td>111869165</td>\n",
              "      <td>0</td>\n",
              "      <td>0</td>\n",
              "      <td>0.0</td>\n",
              "      <td>Abonament korporacyjny</td>\n",
              "      <td>0.0</td>\n",
              "      <td>0.105263</td>\n",
              "    </tr>\n",
              "    <tr>\n",
              "      <th>1</th>\n",
              "      <td>201201</td>\n",
              "      <td>25664</td>\n",
              "      <td>8103</td>\n",
              "      <td>900</td>\n",
              "      <td>4003</td>\n",
              "      <td>0</td>\n",
              "      <td>0</td>\n",
              "      <td>111869226</td>\n",
              "      <td>0</td>\n",
              "      <td>-8103</td>\n",
              "      <td>0</td>\n",
              "      <td>111869226</td>\n",
              "      <td>0</td>\n",
              "      <td>0</td>\n",
              "      <td>0.0</td>\n",
              "      <td>Abonament TPA</td>\n",
              "      <td>0.0</td>\n",
              "      <td>0.105263</td>\n",
              "    </tr>\n",
              "    <tr>\n",
              "      <th>2</th>\n",
              "      <td>201202</td>\n",
              "      <td>25664</td>\n",
              "      <td>8103</td>\n",
              "      <td>900</td>\n",
              "      <td>4003</td>\n",
              "      <td>0</td>\n",
              "      <td>0</td>\n",
              "      <td>111869226</td>\n",
              "      <td>0</td>\n",
              "      <td>-8103</td>\n",
              "      <td>0</td>\n",
              "      <td>111869226</td>\n",
              "      <td>0</td>\n",
              "      <td>0</td>\n",
              "      <td>0.0</td>\n",
              "      <td>Abonament TPA</td>\n",
              "      <td>0.0</td>\n",
              "      <td>0.105263</td>\n",
              "    </tr>\n",
              "    <tr>\n",
              "      <th>3</th>\n",
              "      <td>201203</td>\n",
              "      <td>25664</td>\n",
              "      <td>8103</td>\n",
              "      <td>900</td>\n",
              "      <td>4003</td>\n",
              "      <td>0</td>\n",
              "      <td>0</td>\n",
              "      <td>111869226</td>\n",
              "      <td>0</td>\n",
              "      <td>-8103</td>\n",
              "      <td>0</td>\n",
              "      <td>111869226</td>\n",
              "      <td>0</td>\n",
              "      <td>0</td>\n",
              "      <td>0.0</td>\n",
              "      <td>Abonament TPA</td>\n",
              "      <td>0.0</td>\n",
              "      <td>0.105263</td>\n",
              "    </tr>\n",
              "    <tr>\n",
              "      <th>4</th>\n",
              "      <td>201204</td>\n",
              "      <td>25664</td>\n",
              "      <td>8103</td>\n",
              "      <td>900</td>\n",
              "      <td>4003</td>\n",
              "      <td>0</td>\n",
              "      <td>0</td>\n",
              "      <td>111869226</td>\n",
              "      <td>0</td>\n",
              "      <td>-8103</td>\n",
              "      <td>0</td>\n",
              "      <td>111869226</td>\n",
              "      <td>0</td>\n",
              "      <td>0</td>\n",
              "      <td>0.0</td>\n",
              "      <td>Abonament TPA</td>\n",
              "      <td>0.0</td>\n",
              "      <td>0.105263</td>\n",
              "    </tr>\n",
              "  </tbody>\n",
              "</table>\n",
              "</div>"
            ],
            "text/plain": [
              "   PER_ID  LINE_ID  UNIT_ID  ...             cat_id_name  ARPU  Szkodowosc\n",
              "0  201201    25664     8308  ...  Abonament korporacyjny   0.0    0.105263\n",
              "1  201201    25664     8103  ...           Abonament TPA   0.0    0.105263\n",
              "2  201202    25664     8103  ...           Abonament TPA   0.0    0.105263\n",
              "3  201203    25664     8103  ...           Abonament TPA   0.0    0.105263\n",
              "4  201204    25664     8103  ...           Abonament TPA   0.0    0.105263\n",
              "\n",
              "[5 rows x 18 columns]"
            ]
          },
          "metadata": {
            "tags": []
          },
          "execution_count": 29
        }
      ]
    },
    {
      "cell_type": "code",
      "metadata": {
        "id": "mdoKo3xkaLBO",
        "colab_type": "code",
        "colab": {
          "base_uri": "https://localhost:8080/",
          "height": 414
        },
        "outputId": "a6f3db42-c146-4455-be7d-eaf3bb614e91"
      },
      "source": [
        "plt.figure(figsize = (10,6))\n",
        "plt.title(label = 'Dystrybucja wskażnika Szkodowość', fontsize = 20)\n",
        "plt.xlabel(xlabel = 'wartość', fontsize = 14)\n",
        "plt.ylabel(ylabel = 'Częstość', fontsize = 14)\n",
        "plt.hist(fakty['Szkodowosc'], bins = 50);"
      ],
      "execution_count": 310,
      "outputs": [
        {
          "output_type": "display_data",
          "data": {
            "image/png": "[encoded data removed]",
            "text/plain": [
              "<Figure size 720x432 with 1 Axes>"
            ]
          },
          "metadata": {
            "tags": [],
            "needs_background": "light"
          }
        }
      ]
    },
    {
      "cell_type": "code",
      "metadata": {
        "id": "WWx167G7aLfe",
        "colab_type": "code",
        "colab": {
          "base_uri": "https://localhost:8080/",
          "height": 414
        },
        "outputId": "a0f72783-94d2-4363-f682-a1981ec17490"
      },
      "source": [
        "plt.figure(figsize = (10,6))\n",
        "plt.title(label = 'Dystrybucja wskażnika Szkodowość(do 0.99 kwantyla)', fontsize = 20)\n",
        "plt.xlabel(xlabel = 'wartość', fontsize = 14)\n",
        "plt.ylabel(ylabel = 'Częstość', fontsize = 14)\n",
        "plt.hist(fakty['Szkodowosc'][fakty['Szkodowosc'] < fakty['Szkodowosc'].quantile(0.99)], bins = 50);"
      ],
      "execution_count": 311,
      "outputs": [
        {
          "output_type": "display_data",
          "data": {
            "image/png": "[encoded data removed]",
            "text/plain": [
              "<Figure size 720x432 with 1 Axes>"
            ]
          },
          "metadata": {
            "tags": [],
            "needs_background": "light"
          }
        }
      ]
    },
    {
      "cell_type": "code",
      "metadata": {
        "id": "8LAvmpKQ_EMu",
        "colab_type": "code",
        "colab": {
          "base_uri": "https://localhost:8080/",
          "height": 68
        },
        "outputId": "de9cc7fd-6993-417d-ccc5-659f711902e2"
      },
      "source": [
        "print('Minimalna wartość Szkodowości:', fakty['Szkodowosc'].min(),'\\n',\n",
        "      'Mediana:', mode(fakty['Szkodowosc'])[0], '\\n',\n",
        "      'Maksymalna wartość:', fakty['Szkodowosc'].max())"
      ],
      "execution_count": 321,
      "outputs": [
        {
          "output_type": "stream",
          "text": [
            "Minimalna wartość Szkodowości: 0.0 \n",
            " Mediana: [0.8743075] \n",
            " Maksymalna wartość: 38.5\n"
          ],
          "name": "stdout"
        }
      ]
    },
    {
      "cell_type": "code",
      "metadata": {
        "id": "-2vtpF67bARl",
        "colab_type": "code",
        "colab": {}
      },
      "source": [
        ""
      ],
      "execution_count": null,
      "outputs": []
    },
    {
      "cell_type": "markdown",
      "metadata": {
        "id": "EDCjulQUv7ap",
        "colab_type": "text"
      },
      "source": [
        "## Marża\n",
        "\n",
        "Wzór:25672 - 25667\n",
        "\n",
        "Opis: Zysk po kosztach z ksiąg finansowych.\n",
        "\n",
        "Uwagi:brak\n"
      ]
    },
    {
      "cell_type": "code",
      "metadata": {
        "id": "l7e-CYVXwQYj",
        "colab_type": "code",
        "colab": {}
      },
      "source": [
        "g = fakty[fakty['LINE_ID'] ==25672]['DT_CUST_ID'].unique()\n",
        "h = fakty[fakty['LINE_ID'] ==25667]['DT_CUST_ID'].unique()\n",
        "j = []\n",
        "for i in fakty['DT_CUST_ID'].unique():\n",
        "  if (i in g) & (i in h):\n",
        "    j.append(i)"
      ],
      "execution_count": 30,
      "outputs": []
    },
    {
      "cell_type": "code",
      "metadata": {
        "id": "EAySoT7bzXhf",
        "colab_type": "code",
        "colab": {
          "base_uri": "https://localhost:8080/",
          "height": 326
        },
        "outputId": "2658c2de-0903-4295-fe6b-166c0d78544d"
      },
      "source": [
        "df2 = fakty[fakty['DT_CUST_ID'].isin(c)]\n",
        "print(df2.shape)\n",
        "df2.head()"
      ],
      "execution_count": 31,
      "outputs": [
        {
          "output_type": "stream",
          "text": [
            "(1035356, 18)\n"
          ],
          "name": "stdout"
        },
        {
          "output_type": "execute_result",
          "data": {
            "text/html": [
              "<div>\n",
              "<style scoped>\n",
              "    .dataframe tbody tr th:only-of-type {\n",
              "        vertical-align: middle;\n",
              "    }\n",
              "\n",
              "    .dataframe tbody tr th {\n",
              "        vertical-align: top;\n",
              "    }\n",
              "\n",
              "    .dataframe thead th {\n",
              "        text-align: right;\n",
              "    }\n",
              "</style>\n",
              "<table border=\"1\" class=\"dataframe\">\n",
              "  <thead>\n",
              "    <tr style=\"text-align: right;\">\n",
              "      <th></th>\n",
              "      <th>PER_ID</th>\n",
              "      <th>LINE_ID</th>\n",
              "      <th>UNIT_ID</th>\n",
              "      <th>VER_ID</th>\n",
              "      <th>CAT_ID</th>\n",
              "      <th>DRV_ID</th>\n",
              "      <th>INTCO_ID</th>\n",
              "      <th>PROJ_ID</th>\n",
              "      <th>ACC_ID</th>\n",
              "      <th>DT_UNIT_ID</th>\n",
              "      <th>DT_DRV_ID</th>\n",
              "      <th>DT_PROJ_ID</th>\n",
              "      <th>DT_GRUPA_KAPITALOWA_ID</th>\n",
              "      <th>DT_CUST_ID</th>\n",
              "      <th>VALUE</th>\n",
              "      <th>cat_id_name</th>\n",
              "      <th>ARPU</th>\n",
              "      <th>Szkodowosc</th>\n",
              "    </tr>\n",
              "  </thead>\n",
              "  <tbody>\n",
              "    <tr>\n",
              "      <th>0</th>\n",
              "      <td>201201</td>\n",
              "      <td>25664</td>\n",
              "      <td>8308</td>\n",
              "      <td>900</td>\n",
              "      <td>4001</td>\n",
              "      <td>0</td>\n",
              "      <td>0</td>\n",
              "      <td>111869165</td>\n",
              "      <td>0</td>\n",
              "      <td>-8308</td>\n",
              "      <td>0</td>\n",
              "      <td>111869165</td>\n",
              "      <td>0</td>\n",
              "      <td>0</td>\n",
              "      <td>0.0</td>\n",
              "      <td>Abonament korporacyjny</td>\n",
              "      <td>0.0</td>\n",
              "      <td>0.105263</td>\n",
              "    </tr>\n",
              "    <tr>\n",
              "      <th>1</th>\n",
              "      <td>201201</td>\n",
              "      <td>25664</td>\n",
              "      <td>8103</td>\n",
              "      <td>900</td>\n",
              "      <td>4003</td>\n",
              "      <td>0</td>\n",
              "      <td>0</td>\n",
              "      <td>111869226</td>\n",
              "      <td>0</td>\n",
              "      <td>-8103</td>\n",
              "      <td>0</td>\n",
              "      <td>111869226</td>\n",
              "      <td>0</td>\n",
              "      <td>0</td>\n",
              "      <td>0.0</td>\n",
              "      <td>Abonament TPA</td>\n",
              "      <td>0.0</td>\n",
              "      <td>0.105263</td>\n",
              "    </tr>\n",
              "    <tr>\n",
              "      <th>2</th>\n",
              "      <td>201202</td>\n",
              "      <td>25664</td>\n",
              "      <td>8103</td>\n",
              "      <td>900</td>\n",
              "      <td>4003</td>\n",
              "      <td>0</td>\n",
              "      <td>0</td>\n",
              "      <td>111869226</td>\n",
              "      <td>0</td>\n",
              "      <td>-8103</td>\n",
              "      <td>0</td>\n",
              "      <td>111869226</td>\n",
              "      <td>0</td>\n",
              "      <td>0</td>\n",
              "      <td>0.0</td>\n",
              "      <td>Abonament TPA</td>\n",
              "      <td>0.0</td>\n",
              "      <td>0.105263</td>\n",
              "    </tr>\n",
              "    <tr>\n",
              "      <th>3</th>\n",
              "      <td>201203</td>\n",
              "      <td>25664</td>\n",
              "      <td>8103</td>\n",
              "      <td>900</td>\n",
              "      <td>4003</td>\n",
              "      <td>0</td>\n",
              "      <td>0</td>\n",
              "      <td>111869226</td>\n",
              "      <td>0</td>\n",
              "      <td>-8103</td>\n",
              "      <td>0</td>\n",
              "      <td>111869226</td>\n",
              "      <td>0</td>\n",
              "      <td>0</td>\n",
              "      <td>0.0</td>\n",
              "      <td>Abonament TPA</td>\n",
              "      <td>0.0</td>\n",
              "      <td>0.105263</td>\n",
              "    </tr>\n",
              "    <tr>\n",
              "      <th>4</th>\n",
              "      <td>201204</td>\n",
              "      <td>25664</td>\n",
              "      <td>8103</td>\n",
              "      <td>900</td>\n",
              "      <td>4003</td>\n",
              "      <td>0</td>\n",
              "      <td>0</td>\n",
              "      <td>111869226</td>\n",
              "      <td>0</td>\n",
              "      <td>-8103</td>\n",
              "      <td>0</td>\n",
              "      <td>111869226</td>\n",
              "      <td>0</td>\n",
              "      <td>0</td>\n",
              "      <td>0.0</td>\n",
              "      <td>Abonament TPA</td>\n",
              "      <td>0.0</td>\n",
              "      <td>0.105263</td>\n",
              "    </tr>\n",
              "  </tbody>\n",
              "</table>\n",
              "</div>"
            ],
            "text/plain": [
              "   PER_ID  LINE_ID  UNIT_ID  ...             cat_id_name  ARPU  Szkodowosc\n",
              "0  201201    25664     8308  ...  Abonament korporacyjny   0.0    0.105263\n",
              "1  201201    25664     8103  ...           Abonament TPA   0.0    0.105263\n",
              "2  201202    25664     8103  ...           Abonament TPA   0.0    0.105263\n",
              "3  201203    25664     8103  ...           Abonament TPA   0.0    0.105263\n",
              "4  201204    25664     8103  ...           Abonament TPA   0.0    0.105263\n",
              "\n",
              "[5 rows x 18 columns]"
            ]
          },
          "metadata": {
            "tags": []
          },
          "execution_count": 31
        }
      ]
    },
    {
      "cell_type": "code",
      "metadata": {
        "id": "e0aPuW3O0OCV",
        "colab_type": "code",
        "colab": {
          "base_uri": "https://localhost:8080/",
          "height": 204
        },
        "outputId": "b7b74935-22ea-4f8f-e1df-4a0a495f1ca0"
      },
      "source": [
        "marza = df[(df['LINE_ID']==25672) & (df['DT_GRUPA_KAPITALOWA_ID'] ==0)].groupby('DT_CUST_ID')['VALUE'].sum()-\\\n",
        "df[(df['LINE_ID'] == 25667) &(df['DT_GRUPA_KAPITALOWA_ID']==0)].groupby('DT_CUST_ID')['VALUE'].sum()\n",
        "marza = pd.DataFrame(marza)\n",
        "marza.reset_index(inplace=True)\n",
        "marza.head()"
      ],
      "execution_count": 32,
      "outputs": [
        {
          "output_type": "execute_result",
          "data": {
            "text/html": [
              "<div>\n",
              "<style scoped>\n",
              "    .dataframe tbody tr th:only-of-type {\n",
              "        vertical-align: middle;\n",
              "    }\n",
              "\n",
              "    .dataframe tbody tr th {\n",
              "        vertical-align: top;\n",
              "    }\n",
              "\n",
              "    .dataframe thead th {\n",
              "        text-align: right;\n",
              "    }\n",
              "</style>\n",
              "<table border=\"1\" class=\"dataframe\">\n",
              "  <thead>\n",
              "    <tr style=\"text-align: right;\">\n",
              "      <th></th>\n",
              "      <th>DT_CUST_ID</th>\n",
              "      <th>VALUE</th>\n",
              "    </tr>\n",
              "  </thead>\n",
              "  <tbody>\n",
              "    <tr>\n",
              "      <th>0</th>\n",
              "      <td>0</td>\n",
              "      <td>0.0</td>\n",
              "    </tr>\n",
              "    <tr>\n",
              "      <th>1</th>\n",
              "      <td>2451</td>\n",
              "      <td>80.0</td>\n",
              "    </tr>\n",
              "    <tr>\n",
              "      <th>2</th>\n",
              "      <td>40093</td>\n",
              "      <td>-40.0</td>\n",
              "    </tr>\n",
              "    <tr>\n",
              "      <th>3</th>\n",
              "      <td>44551</td>\n",
              "      <td>300.0</td>\n",
              "    </tr>\n",
              "    <tr>\n",
              "      <th>4</th>\n",
              "      <td>47830</td>\n",
              "      <td>740.0</td>\n",
              "    </tr>\n",
              "  </tbody>\n",
              "</table>\n",
              "</div>"
            ],
            "text/plain": [
              "   DT_CUST_ID  VALUE\n",
              "0           0    0.0\n",
              "1        2451   80.0\n",
              "2       40093  -40.0\n",
              "3       44551  300.0\n",
              "4       47830  740.0"
            ]
          },
          "metadata": {
            "tags": []
          },
          "execution_count": 32
        }
      ]
    },
    {
      "cell_type": "code",
      "metadata": {
        "id": "cS_oGUUE1B7U",
        "colab_type": "code",
        "colab": {
          "base_uri": "https://localhost:8080/",
          "height": 204
        },
        "outputId": "b6bbd400-bbd1-459e-b89e-ee1800239679"
      },
      "source": [
        "marza2 = df[(df['LINE_ID']==25672)& (df['DT_GRUPA_KAPITALOWA_ID'] !=0)].groupby('DT_GRUPA_KAPITALOWA_ID')['VALUE'].sum()-\\\n",
        "df[(df['LINE_ID'] == 25667) &(df['DT_GRUPA_KAPITALOWA_ID']!=0)].groupby('DT_GRUPA_KAPITALOWA_ID')['VALUE'].sum()\n",
        "marza2 = pd.DataFrame(marza2)\n",
        "marza2.reset_index(inplace=True)\n",
        "marza2.head()"
      ],
      "execution_count": 33,
      "outputs": [
        {
          "output_type": "execute_result",
          "data": {
            "text/html": [
              "<div>\n",
              "<style scoped>\n",
              "    .dataframe tbody tr th:only-of-type {\n",
              "        vertical-align: middle;\n",
              "    }\n",
              "\n",
              "    .dataframe tbody tr th {\n",
              "        vertical-align: top;\n",
              "    }\n",
              "\n",
              "    .dataframe thead th {\n",
              "        text-align: right;\n",
              "    }\n",
              "</style>\n",
              "<table border=\"1\" class=\"dataframe\">\n",
              "  <thead>\n",
              "    <tr style=\"text-align: right;\">\n",
              "      <th></th>\n",
              "      <th>DT_GRUPA_KAPITALOWA_ID</th>\n",
              "      <th>VALUE</th>\n",
              "    </tr>\n",
              "  </thead>\n",
              "  <tbody>\n",
              "    <tr>\n",
              "      <th>0</th>\n",
              "      <td>202</td>\n",
              "      <td>18040.0</td>\n",
              "    </tr>\n",
              "    <tr>\n",
              "      <th>1</th>\n",
              "      <td>203</td>\n",
              "      <td>34300.0</td>\n",
              "    </tr>\n",
              "    <tr>\n",
              "      <th>2</th>\n",
              "      <td>204</td>\n",
              "      <td>NaN</td>\n",
              "    </tr>\n",
              "    <tr>\n",
              "      <th>3</th>\n",
              "      <td>205</td>\n",
              "      <td>21690.0</td>\n",
              "    </tr>\n",
              "    <tr>\n",
              "      <th>4</th>\n",
              "      <td>206</td>\n",
              "      <td>12180.0</td>\n",
              "    </tr>\n",
              "  </tbody>\n",
              "</table>\n",
              "</div>"
            ],
            "text/plain": [
              "   DT_GRUPA_KAPITALOWA_ID    VALUE\n",
              "0                     202  18040.0\n",
              "1                     203  34300.0\n",
              "2                     204      NaN\n",
              "3                     205  21690.0\n",
              "4                     206  12180.0"
            ]
          },
          "metadata": {
            "tags": []
          },
          "execution_count": 33
        }
      ]
    },
    {
      "cell_type": "code",
      "metadata": {
        "id": "Li1E6iB_1nN0",
        "colab_type": "code",
        "colab": {
          "base_uri": "https://localhost:8080/",
          "height": 309
        },
        "outputId": "e141a8be-c4a3-4401-c96a-043623f7430d"
      },
      "source": [
        "fakty = fakty.merge(marza, on = 'DT_CUST_ID', how = 'left')\n",
        "fakty.rename(columns={\"VALUE_x\": \"VALUE\", \"VALUE_y\": \"marza\"}, inplace=True)\n",
        "fakty = fakty.merge(marza2, on = 'DT_GRUPA_KAPITALOWA_ID', how = 'left')\n",
        "fakty.rename(columns={\"VALUE_x\": \"VALUE\", \"VALUE_y\": \"marza2\"}, inplace=True)\n",
        "fakty.head()"
      ],
      "execution_count": 34,
      "outputs": [
        {
          "output_type": "execute_result",
          "data": {
            "text/html": [
              "<div>\n",
              "<style scoped>\n",
              "    .dataframe tbody tr th:only-of-type {\n",
              "        vertical-align: middle;\n",
              "    }\n",
              "\n",
              "    .dataframe tbody tr th {\n",
              "        vertical-align: top;\n",
              "    }\n",
              "\n",
              "    .dataframe thead th {\n",
              "        text-align: right;\n",
              "    }\n",
              "</style>\n",
              "<table border=\"1\" class=\"dataframe\">\n",
              "  <thead>\n",
              "    <tr style=\"text-align: right;\">\n",
              "      <th></th>\n",
              "      <th>PER_ID</th>\n",
              "      <th>LINE_ID</th>\n",
              "      <th>UNIT_ID</th>\n",
              "      <th>VER_ID</th>\n",
              "      <th>CAT_ID</th>\n",
              "      <th>DRV_ID</th>\n",
              "      <th>INTCO_ID</th>\n",
              "      <th>PROJ_ID</th>\n",
              "      <th>ACC_ID</th>\n",
              "      <th>DT_UNIT_ID</th>\n",
              "      <th>DT_DRV_ID</th>\n",
              "      <th>DT_PROJ_ID</th>\n",
              "      <th>DT_GRUPA_KAPITALOWA_ID</th>\n",
              "      <th>DT_CUST_ID</th>\n",
              "      <th>VALUE</th>\n",
              "      <th>cat_id_name</th>\n",
              "      <th>ARPU</th>\n",
              "      <th>Szkodowosc</th>\n",
              "      <th>marza</th>\n",
              "      <th>marza2</th>\n",
              "    </tr>\n",
              "  </thead>\n",
              "  <tbody>\n",
              "    <tr>\n",
              "      <th>0</th>\n",
              "      <td>201201</td>\n",
              "      <td>25664</td>\n",
              "      <td>8308</td>\n",
              "      <td>900</td>\n",
              "      <td>4001</td>\n",
              "      <td>0</td>\n",
              "      <td>0</td>\n",
              "      <td>111869165</td>\n",
              "      <td>0</td>\n",
              "      <td>-8308</td>\n",
              "      <td>0</td>\n",
              "      <td>111869165</td>\n",
              "      <td>0</td>\n",
              "      <td>0</td>\n",
              "      <td>0.0</td>\n",
              "      <td>Abonament korporacyjny</td>\n",
              "      <td>0.0</td>\n",
              "      <td>0.105263</td>\n",
              "      <td>0.0</td>\n",
              "      <td>NaN</td>\n",
              "    </tr>\n",
              "    <tr>\n",
              "      <th>1</th>\n",
              "      <td>201201</td>\n",
              "      <td>25664</td>\n",
              "      <td>8103</td>\n",
              "      <td>900</td>\n",
              "      <td>4003</td>\n",
              "      <td>0</td>\n",
              "      <td>0</td>\n",
              "      <td>111869226</td>\n",
              "      <td>0</td>\n",
              "      <td>-8103</td>\n",
              "      <td>0</td>\n",
              "      <td>111869226</td>\n",
              "      <td>0</td>\n",
              "      <td>0</td>\n",
              "      <td>0.0</td>\n",
              "      <td>Abonament TPA</td>\n",
              "      <td>0.0</td>\n",
              "      <td>0.105263</td>\n",
              "      <td>0.0</td>\n",
              "      <td>NaN</td>\n",
              "    </tr>\n",
              "    <tr>\n",
              "      <th>2</th>\n",
              "      <td>201202</td>\n",
              "      <td>25664</td>\n",
              "      <td>8103</td>\n",
              "      <td>900</td>\n",
              "      <td>4003</td>\n",
              "      <td>0</td>\n",
              "      <td>0</td>\n",
              "      <td>111869226</td>\n",
              "      <td>0</td>\n",
              "      <td>-8103</td>\n",
              "      <td>0</td>\n",
              "      <td>111869226</td>\n",
              "      <td>0</td>\n",
              "      <td>0</td>\n",
              "      <td>0.0</td>\n",
              "      <td>Abonament TPA</td>\n",
              "      <td>0.0</td>\n",
              "      <td>0.105263</td>\n",
              "      <td>0.0</td>\n",
              "      <td>NaN</td>\n",
              "    </tr>\n",
              "    <tr>\n",
              "      <th>3</th>\n",
              "      <td>201203</td>\n",
              "      <td>25664</td>\n",
              "      <td>8103</td>\n",
              "      <td>900</td>\n",
              "      <td>4003</td>\n",
              "      <td>0</td>\n",
              "      <td>0</td>\n",
              "      <td>111869226</td>\n",
              "      <td>0</td>\n",
              "      <td>-8103</td>\n",
              "      <td>0</td>\n",
              "      <td>111869226</td>\n",
              "      <td>0</td>\n",
              "      <td>0</td>\n",
              "      <td>0.0</td>\n",
              "      <td>Abonament TPA</td>\n",
              "      <td>0.0</td>\n",
              "      <td>0.105263</td>\n",
              "      <td>0.0</td>\n",
              "      <td>NaN</td>\n",
              "    </tr>\n",
              "    <tr>\n",
              "      <th>4</th>\n",
              "      <td>201204</td>\n",
              "      <td>25664</td>\n",
              "      <td>8103</td>\n",
              "      <td>900</td>\n",
              "      <td>4003</td>\n",
              "      <td>0</td>\n",
              "      <td>0</td>\n",
              "      <td>111869226</td>\n",
              "      <td>0</td>\n",
              "      <td>-8103</td>\n",
              "      <td>0</td>\n",
              "      <td>111869226</td>\n",
              "      <td>0</td>\n",
              "      <td>0</td>\n",
              "      <td>0.0</td>\n",
              "      <td>Abonament TPA</td>\n",
              "      <td>0.0</td>\n",
              "      <td>0.105263</td>\n",
              "      <td>0.0</td>\n",
              "      <td>NaN</td>\n",
              "    </tr>\n",
              "  </tbody>\n",
              "</table>\n",
              "</div>"
            ],
            "text/plain": [
              "   PER_ID  LINE_ID  UNIT_ID  VER_ID  ...  ARPU  Szkodowosc  marza  marza2\n",
              "0  201201    25664     8308     900  ...   0.0    0.105263    0.0     NaN\n",
              "1  201201    25664     8103     900  ...   0.0    0.105263    0.0     NaN\n",
              "2  201202    25664     8103     900  ...   0.0    0.105263    0.0     NaN\n",
              "3  201203    25664     8103     900  ...   0.0    0.105263    0.0     NaN\n",
              "4  201204    25664     8103     900  ...   0.0    0.105263    0.0     NaN\n",
              "\n",
              "[5 rows x 20 columns]"
            ]
          },
          "metadata": {
            "tags": []
          },
          "execution_count": 34
        }
      ]
    },
    {
      "cell_type": "code",
      "metadata": {
        "id": "E6_JCCRP7zfF",
        "colab_type": "code",
        "colab": {}
      },
      "source": [
        "fakty['marza2'][fakty['DT_GRUPA_KAPITALOWA_ID']==0] = 0\n",
        "fakty['marza'][fakty['DT_GRUPA_KAPITALOWA_ID']!=0] = 0"
      ],
      "execution_count": 35,
      "outputs": []
    },
    {
      "cell_type": "code",
      "metadata": {
        "id": "mo-J66In78Q8",
        "colab_type": "code",
        "colab": {}
      },
      "source": [
        "fakty['marza'].fillna(0,inplace = True)\n",
        "fakty['marza2'].fillna(0,inplace = True)"
      ],
      "execution_count": 36,
      "outputs": []
    },
    {
      "cell_type": "code",
      "metadata": {
        "id": "LvmgbFgW1nI9",
        "colab_type": "code",
        "colab": {
          "base_uri": "https://localhost:8080/",
          "height": 34
        },
        "outputId": "200f2d9f-6dee-494b-9de6-f2dacbf56742"
      },
      "source": [
        "fakty['marza'].max()"
      ],
      "execution_count": 330,
      "outputs": [
        {
          "output_type": "execute_result",
          "data": {
            "text/plain": [
              "740.0"
            ]
          },
          "metadata": {
            "tags": []
          },
          "execution_count": 330
        }
      ]
    },
    {
      "cell_type": "code",
      "metadata": {
        "id": "9DhK8FIs2ifP",
        "colab_type": "code",
        "colab": {
          "base_uri": "https://localhost:8080/",
          "height": 34
        },
        "outputId": "1821152e-e7f2-48e8-f377-32f50a3ee4d0"
      },
      "source": [
        "fakty['marza2'].max()"
      ],
      "execution_count": 331,
      "outputs": [
        {
          "output_type": "execute_result",
          "data": {
            "text/plain": [
              "1283940.0"
            ]
          },
          "metadata": {
            "tags": []
          },
          "execution_count": 331
        }
      ]
    },
    {
      "cell_type": "code",
      "metadata": {
        "id": "aZbP7nqd252y",
        "colab_type": "code",
        "colab": {
          "base_uri": "https://localhost:8080/",
          "height": 309
        },
        "outputId": "44b7d5da-38b9-4c50-fc36-25fb26cba3b4"
      },
      "source": [
        "fakty['marza'] = fakty['marza']+fakty['marza2']\n",
        "fakty.drop(['marza2'], axis = 1, inplace=True)\n",
        "fakty.head()"
      ],
      "execution_count": 37,
      "outputs": [
        {
          "output_type": "execute_result",
          "data": {
            "text/html": [
              "<div>\n",
              "<style scoped>\n",
              "    .dataframe tbody tr th:only-of-type {\n",
              "        vertical-align: middle;\n",
              "    }\n",
              "\n",
              "    .dataframe tbody tr th {\n",
              "        vertical-align: top;\n",
              "    }\n",
              "\n",
              "    .dataframe thead th {\n",
              "        text-align: right;\n",
              "    }\n",
              "</style>\n",
              "<table border=\"1\" class=\"dataframe\">\n",
              "  <thead>\n",
              "    <tr style=\"text-align: right;\">\n",
              "      <th></th>\n",
              "      <th>PER_ID</th>\n",
              "      <th>LINE_ID</th>\n",
              "      <th>UNIT_ID</th>\n",
              "      <th>VER_ID</th>\n",
              "      <th>CAT_ID</th>\n",
              "      <th>DRV_ID</th>\n",
              "      <th>INTCO_ID</th>\n",
              "      <th>PROJ_ID</th>\n",
              "      <th>ACC_ID</th>\n",
              "      <th>DT_UNIT_ID</th>\n",
              "      <th>DT_DRV_ID</th>\n",
              "      <th>DT_PROJ_ID</th>\n",
              "      <th>DT_GRUPA_KAPITALOWA_ID</th>\n",
              "      <th>DT_CUST_ID</th>\n",
              "      <th>VALUE</th>\n",
              "      <th>cat_id_name</th>\n",
              "      <th>ARPU</th>\n",
              "      <th>Szkodowosc</th>\n",
              "      <th>marza</th>\n",
              "    </tr>\n",
              "  </thead>\n",
              "  <tbody>\n",
              "    <tr>\n",
              "      <th>0</th>\n",
              "      <td>201201</td>\n",
              "      <td>25664</td>\n",
              "      <td>8308</td>\n",
              "      <td>900</td>\n",
              "      <td>4001</td>\n",
              "      <td>0</td>\n",
              "      <td>0</td>\n",
              "      <td>111869165</td>\n",
              "      <td>0</td>\n",
              "      <td>-8308</td>\n",
              "      <td>0</td>\n",
              "      <td>111869165</td>\n",
              "      <td>0</td>\n",
              "      <td>0</td>\n",
              "      <td>0.0</td>\n",
              "      <td>Abonament korporacyjny</td>\n",
              "      <td>0.0</td>\n",
              "      <td>0.105263</td>\n",
              "      <td>0.0</td>\n",
              "    </tr>\n",
              "    <tr>\n",
              "      <th>1</th>\n",
              "      <td>201201</td>\n",
              "      <td>25664</td>\n",
              "      <td>8103</td>\n",
              "      <td>900</td>\n",
              "      <td>4003</td>\n",
              "      <td>0</td>\n",
              "      <td>0</td>\n",
              "      <td>111869226</td>\n",
              "      <td>0</td>\n",
              "      <td>-8103</td>\n",
              "      <td>0</td>\n",
              "      <td>111869226</td>\n",
              "      <td>0</td>\n",
              "      <td>0</td>\n",
              "      <td>0.0</td>\n",
              "      <td>Abonament TPA</td>\n",
              "      <td>0.0</td>\n",
              "      <td>0.105263</td>\n",
              "      <td>0.0</td>\n",
              "    </tr>\n",
              "    <tr>\n",
              "      <th>2</th>\n",
              "      <td>201202</td>\n",
              "      <td>25664</td>\n",
              "      <td>8103</td>\n",
              "      <td>900</td>\n",
              "      <td>4003</td>\n",
              "      <td>0</td>\n",
              "      <td>0</td>\n",
              "      <td>111869226</td>\n",
              "      <td>0</td>\n",
              "      <td>-8103</td>\n",
              "      <td>0</td>\n",
              "      <td>111869226</td>\n",
              "      <td>0</td>\n",
              "      <td>0</td>\n",
              "      <td>0.0</td>\n",
              "      <td>Abonament TPA</td>\n",
              "      <td>0.0</td>\n",
              "      <td>0.105263</td>\n",
              "      <td>0.0</td>\n",
              "    </tr>\n",
              "    <tr>\n",
              "      <th>3</th>\n",
              "      <td>201203</td>\n",
              "      <td>25664</td>\n",
              "      <td>8103</td>\n",
              "      <td>900</td>\n",
              "      <td>4003</td>\n",
              "      <td>0</td>\n",
              "      <td>0</td>\n",
              "      <td>111869226</td>\n",
              "      <td>0</td>\n",
              "      <td>-8103</td>\n",
              "      <td>0</td>\n",
              "      <td>111869226</td>\n",
              "      <td>0</td>\n",
              "      <td>0</td>\n",
              "      <td>0.0</td>\n",
              "      <td>Abonament TPA</td>\n",
              "      <td>0.0</td>\n",
              "      <td>0.105263</td>\n",
              "      <td>0.0</td>\n",
              "    </tr>\n",
              "    <tr>\n",
              "      <th>4</th>\n",
              "      <td>201204</td>\n",
              "      <td>25664</td>\n",
              "      <td>8103</td>\n",
              "      <td>900</td>\n",
              "      <td>4003</td>\n",
              "      <td>0</td>\n",
              "      <td>0</td>\n",
              "      <td>111869226</td>\n",
              "      <td>0</td>\n",
              "      <td>-8103</td>\n",
              "      <td>0</td>\n",
              "      <td>111869226</td>\n",
              "      <td>0</td>\n",
              "      <td>0</td>\n",
              "      <td>0.0</td>\n",
              "      <td>Abonament TPA</td>\n",
              "      <td>0.0</td>\n",
              "      <td>0.105263</td>\n",
              "      <td>0.0</td>\n",
              "    </tr>\n",
              "  </tbody>\n",
              "</table>\n",
              "</div>"
            ],
            "text/plain": [
              "   PER_ID  LINE_ID  UNIT_ID  ...  ARPU  Szkodowosc  marza\n",
              "0  201201    25664     8308  ...   0.0    0.105263    0.0\n",
              "1  201201    25664     8103  ...   0.0    0.105263    0.0\n",
              "2  201202    25664     8103  ...   0.0    0.105263    0.0\n",
              "3  201203    25664     8103  ...   0.0    0.105263    0.0\n",
              "4  201204    25664     8103  ...   0.0    0.105263    0.0\n",
              "\n",
              "[5 rows x 19 columns]"
            ]
          },
          "metadata": {
            "tags": []
          },
          "execution_count": 37
        }
      ]
    },
    {
      "cell_type": "code",
      "metadata": {
        "id": "UMcBZQpABV0G",
        "colab_type": "code",
        "colab": {
          "base_uri": "https://localhost:8080/",
          "height": 413
        },
        "outputId": "577e8764-787e-4fda-f0c3-6510e7ab461a"
      },
      "source": [
        "plt.figure(figsize = (10,6))\n",
        "plt.title(label = 'Dystrybucja marży', fontsize = 20)\n",
        "plt.xlabel(xlabel = 'wartość', fontsize = 14)\n",
        "plt.ylabel(ylabel = 'Częstość', fontsize = 14)\n",
        "plt.hist(fakty['marza'], bins = 50);"
      ],
      "execution_count": 337,
      "outputs": [
        {
          "output_type": "display_data",
          "data": {
            "image/png": "[encoded data removed]",
            "text/plain": [
              "<Figure size 720x432 with 1 Axes>"
            ]
          },
          "metadata": {
            "tags": [],
            "needs_background": "light"
          }
        }
      ]
    },
    {
      "cell_type": "code",
      "metadata": {
        "id": "e7OHx1mUBoiS",
        "colab_type": "code",
        "colab": {
          "base_uri": "https://localhost:8080/",
          "height": 413
        },
        "outputId": "67786965-b7e8-4333-b0f1-45658545e1bb"
      },
      "source": [
        "plt.figure(figsize = (10,6))\n",
        "plt.title(label = 'Dystrybucja marży', fontsize = 20)\n",
        "plt.xlabel(xlabel = 'wartość', fontsize = 14)\n",
        "plt.ylabel(ylabel = 'Częstość', fontsize = 14)\n",
        "plt.hist(fakty['marza'][fakty['marza'] < fakty['marza'].quantile(0.95)], bins = 50);"
      ],
      "execution_count": 338,
      "outputs": [
        {
          "output_type": "display_data",
          "data": {
            "image/png": "[encoded data removed]",
            "text/plain": [
              "<Figure size 720x432 with 1 Axes>"
            ]
          },
          "metadata": {
            "tags": [],
            "needs_background": "light"
          }
        }
      ]
    },
    {
      "cell_type": "code",
      "metadata": {
        "id": "832CKfbPCV1p",
        "colab_type": "code",
        "colab": {
          "base_uri": "https://localhost:8080/",
          "height": 68
        },
        "outputId": "90956ab6-052d-4f20-8429-45cce5aa7a7b"
      },
      "source": [
        "print('Minimalna wartość marży:', fakty['marza'].min(),'\\n',\n",
        "      'Mediana:', mode(fakty['marza'])[0], '\\n',\n",
        "      'Maksymalna wartość:', fakty['marza'].max())"
      ],
      "execution_count": 39,
      "outputs": [
        {
          "output_type": "stream",
          "text": [
            "Minimalna wartość marży: -277940.0 \n",
            " Mediana: [1283940.] \n",
            " Maksymalna wartość: 1283940.0\n"
          ],
          "name": "stdout"
        }
      ]
    },
    {
      "cell_type": "code",
      "metadata": {
        "id": "HTB2lNHPMPrc",
        "colab_type": "code",
        "colab": {}
      },
      "source": [
        ""
      ],
      "execution_count": null,
      "outputs": []
    },
    {
      "cell_type": "markdown",
      "metadata": {
        "id": "XfjWuKdQQIWU",
        "colab_type": "text"
      },
      "source": [
        "#Jako nowe spostzreżenia/wskaźniki postanowiłem zaprezentować statystyki opisowe dotyczące wskaźników z podziałem na miasta"
      ]
    },
    {
      "cell_type": "code",
      "metadata": {
        "id": "3W3LbEfkWPkq",
        "colab_type": "code",
        "colab": {
          "resources": {
            "http://localhost:8080/nbextensions/google.colab/files.js": {
              "data": "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",
              "ok": true,
              "headers": [
                [
                  "content-type",
                  "application/javascript"
                ]
              ],
              "status": 200,
              "status_text": ""
            }
          },
          "base_uri": "https://localhost:8080/",
          "height": 72
        },
        "outputId": "f5ecc1e7-0e52-411e-9cfb-ccf702ee0077"
      },
      "source": [
        "from google.colab import files\n",
        "uploaded = files.upload()"
      ],
      "execution_count": 39,
      "outputs": [
        {
          "output_type": "display_data",
          "data": {
            "text/html": [
              "\n",
              "     <input type=\"file\" id=\"files-76c1ea6b-136c-4c34-bba1-a66aa068a66f\" name=\"files[]\" multiple disabled\n",
              "        style=\"border:none\" />\n",
              "     <output id=\"result-76c1ea6b-136c-4c34-bba1-a66aa068a66f\">\n",
              "      Upload widget is only available when the cell has been executed in the\n",
              "      current browser session. Please rerun this cell to enable.\n",
              "      </output>\n",
              "      <script src=\"/nbextensions/google.colab/files.js\"></script> "
            ],
            "text/plain": [
              "<IPython.core.display.HTML object>"
            ]
          },
          "metadata": {
            "tags": []
          }
        },
        {
          "output_type": "stream",
          "text": [
            "Saving proj_id.csv to proj_id.csv\n"
          ],
          "name": "stdout"
        }
      ]
    },
    {
      "cell_type": "code",
      "metadata": {
        "id": "c9jL-IJKMUEk",
        "colab_type": "code",
        "colab": {
          "base_uri": "https://localhost:8080/",
          "height": 204
        },
        "outputId": "45e24ab0-da1e-4b30-901c-0d9c83a28e1f"
      },
      "source": [
        "proj_id = pd.read_csv(io.BytesIO(uploaded['proj_id.csv']), sep =';', encoding= 'unicode_escape')\n",
        "proj_id.head()"
      ],
      "execution_count": 43,
      "outputs": [
        {
          "output_type": "execute_result",
          "data": {
            "text/html": [
              "<div>\n",
              "<style scoped>\n",
              "    .dataframe tbody tr th:only-of-type {\n",
              "        vertical-align: middle;\n",
              "    }\n",
              "\n",
              "    .dataframe tbody tr th {\n",
              "        vertical-align: top;\n",
              "    }\n",
              "\n",
              "    .dataframe thead th {\n",
              "        text-align: right;\n",
              "    }\n",
              "</style>\n",
              "<table border=\"1\" class=\"dataframe\">\n",
              "  <thead>\n",
              "    <tr style=\"text-align: right;\">\n",
              "      <th></th>\n",
              "      <th>MEM_ID</th>\n",
              "      <th>MEM_NAME</th>\n",
              "      <th>MEM_DESC</th>\n",
              "    </tr>\n",
              "  </thead>\n",
              "  <tbody>\n",
              "    <tr>\n",
              "      <th>0</th>\n",
              "      <td>111613269</td>\n",
              "      <td>Mielec</td>\n",
              "      <td>Mielec</td>\n",
              "    </tr>\n",
              "    <tr>\n",
              "      <th>1</th>\n",
              "      <td>111869082</td>\n",
              "      <td>£ód</td>\n",
              "      <td>£ód</td>\n",
              "    </tr>\n",
              "    <tr>\n",
              "      <th>2</th>\n",
              "      <td>111869088</td>\n",
              "      <td>Lublin</td>\n",
              "      <td>Lublin</td>\n",
              "    </tr>\n",
              "    <tr>\n",
              "      <th>3</th>\n",
              "      <td>111869090</td>\n",
              "      <td>Le¿ajsk</td>\n",
              "      <td>Le¿ajsk</td>\n",
              "    </tr>\n",
              "    <tr>\n",
              "      <th>4</th>\n",
              "      <td>111869096</td>\n",
              "      <td>Bielsko-Bia³a</td>\n",
              "      <td>Bielsko-Bia³a</td>\n",
              "    </tr>\n",
              "  </tbody>\n",
              "</table>\n",
              "</div>"
            ],
            "text/plain": [
              "      MEM_ID       MEM_NAME       MEM_DESC\n",
              "0  111613269         Mielec         Mielec\n",
              "1  111869082           £ód           £ód\n",
              "2  111869088         Lublin         Lublin\n",
              "3  111869090        Le¿ajsk        Le¿ajsk\n",
              "4  111869096  Bielsko-Bia³a  Bielsko-Bia³a"
            ]
          },
          "metadata": {
            "tags": []
          },
          "execution_count": 43
        }
      ]
    },
    {
      "cell_type": "code",
      "metadata": {
        "id": "-R4HQcMaO4Q_",
        "colab_type": "code",
        "colab": {}
      },
      "source": [
        "proj_id.rename(columns={\"MEM_ID\": \"PROJ_ID\"}, inplace=True)"
      ],
      "execution_count": 45,
      "outputs": []
    },
    {
      "cell_type": "code",
      "metadata": {
        "id": "t2BHEtcoNm7-",
        "colab_type": "code",
        "colab": {
          "base_uri": "https://localhost:8080/",
          "height": 309
        },
        "outputId": "722cae8c-b192-449e-b3c3-18191b323f88"
      },
      "source": [
        "fakty = fakty.merge(proj_id[['PROJ_ID', 'MEM_NAME']], on = 'PROJ_ID', how = 'left')\n",
        "fakty.head()"
      ],
      "execution_count": 47,
      "outputs": [
        {
          "output_type": "execute_result",
          "data": {
            "text/html": [
              "<div>\n",
              "<style scoped>\n",
              "    .dataframe tbody tr th:only-of-type {\n",
              "        vertical-align: middle;\n",
              "    }\n",
              "\n",
              "    .dataframe tbody tr th {\n",
              "        vertical-align: top;\n",
              "    }\n",
              "\n",
              "    .dataframe thead th {\n",
              "        text-align: right;\n",
              "    }\n",
              "</style>\n",
              "<table border=\"1\" class=\"dataframe\">\n",
              "  <thead>\n",
              "    <tr style=\"text-align: right;\">\n",
              "      <th></th>\n",
              "      <th>PER_ID</th>\n",
              "      <th>LINE_ID</th>\n",
              "      <th>UNIT_ID</th>\n",
              "      <th>VER_ID</th>\n",
              "      <th>CAT_ID</th>\n",
              "      <th>DRV_ID</th>\n",
              "      <th>INTCO_ID</th>\n",
              "      <th>PROJ_ID</th>\n",
              "      <th>ACC_ID</th>\n",
              "      <th>DT_UNIT_ID</th>\n",
              "      <th>DT_DRV_ID</th>\n",
              "      <th>DT_PROJ_ID</th>\n",
              "      <th>DT_GRUPA_KAPITALOWA_ID</th>\n",
              "      <th>DT_CUST_ID</th>\n",
              "      <th>VALUE</th>\n",
              "      <th>cat_id_name</th>\n",
              "      <th>ARPU</th>\n",
              "      <th>Szkodowosc</th>\n",
              "      <th>marza</th>\n",
              "      <th>MEM_NAME</th>\n",
              "    </tr>\n",
              "  </thead>\n",
              "  <tbody>\n",
              "    <tr>\n",
              "      <th>0</th>\n",
              "      <td>201201</td>\n",
              "      <td>25664</td>\n",
              "      <td>8308</td>\n",
              "      <td>900</td>\n",
              "      <td>4001</td>\n",
              "      <td>0</td>\n",
              "      <td>0</td>\n",
              "      <td>111869165</td>\n",
              "      <td>0</td>\n",
              "      <td>-8308</td>\n",
              "      <td>0</td>\n",
              "      <td>111869165</td>\n",
              "      <td>0</td>\n",
              "      <td>0</td>\n",
              "      <td>0.0</td>\n",
              "      <td>Abonament korporacyjny</td>\n",
              "      <td>0.0</td>\n",
              "      <td>0.105263</td>\n",
              "      <td>0.0</td>\n",
              "      <td>Wa³brzych</td>\n",
              "    </tr>\n",
              "    <tr>\n",
              "      <th>1</th>\n",
              "      <td>201201</td>\n",
              "      <td>25664</td>\n",
              "      <td>8103</td>\n",
              "      <td>900</td>\n",
              "      <td>4003</td>\n",
              "      <td>0</td>\n",
              "      <td>0</td>\n",
              "      <td>111869226</td>\n",
              "      <td>0</td>\n",
              "      <td>-8103</td>\n",
              "      <td>0</td>\n",
              "      <td>111869226</td>\n",
              "      <td>0</td>\n",
              "      <td>0</td>\n",
              "      <td>0.0</td>\n",
              "      <td>Abonament TPA</td>\n",
              "      <td>0.0</td>\n",
              "      <td>0.105263</td>\n",
              "      <td>0.0</td>\n",
              "      <td>Gorzów Wielkopolski</td>\n",
              "    </tr>\n",
              "    <tr>\n",
              "      <th>2</th>\n",
              "      <td>201202</td>\n",
              "      <td>25664</td>\n",
              "      <td>8103</td>\n",
              "      <td>900</td>\n",
              "      <td>4003</td>\n",
              "      <td>0</td>\n",
              "      <td>0</td>\n",
              "      <td>111869226</td>\n",
              "      <td>0</td>\n",
              "      <td>-8103</td>\n",
              "      <td>0</td>\n",
              "      <td>111869226</td>\n",
              "      <td>0</td>\n",
              "      <td>0</td>\n",
              "      <td>0.0</td>\n",
              "      <td>Abonament TPA</td>\n",
              "      <td>0.0</td>\n",
              "      <td>0.105263</td>\n",
              "      <td>0.0</td>\n",
              "      <td>Gorzów Wielkopolski</td>\n",
              "    </tr>\n",
              "    <tr>\n",
              "      <th>3</th>\n",
              "      <td>201203</td>\n",
              "      <td>25664</td>\n",
              "      <td>8103</td>\n",
              "      <td>900</td>\n",
              "      <td>4003</td>\n",
              "      <td>0</td>\n",
              "      <td>0</td>\n",
              "      <td>111869226</td>\n",
              "      <td>0</td>\n",
              "      <td>-8103</td>\n",
              "      <td>0</td>\n",
              "      <td>111869226</td>\n",
              "      <td>0</td>\n",
              "      <td>0</td>\n",
              "      <td>0.0</td>\n",
              "      <td>Abonament TPA</td>\n",
              "      <td>0.0</td>\n",
              "      <td>0.105263</td>\n",
              "      <td>0.0</td>\n",
              "      <td>Gorzów Wielkopolski</td>\n",
              "    </tr>\n",
              "    <tr>\n",
              "      <th>4</th>\n",
              "      <td>201204</td>\n",
              "      <td>25664</td>\n",
              "      <td>8103</td>\n",
              "      <td>900</td>\n",
              "      <td>4003</td>\n",
              "      <td>0</td>\n",
              "      <td>0</td>\n",
              "      <td>111869226</td>\n",
              "      <td>0</td>\n",
              "      <td>-8103</td>\n",
              "      <td>0</td>\n",
              "      <td>111869226</td>\n",
              "      <td>0</td>\n",
              "      <td>0</td>\n",
              "      <td>0.0</td>\n",
              "      <td>Abonament TPA</td>\n",
              "      <td>0.0</td>\n",
              "      <td>0.105263</td>\n",
              "      <td>0.0</td>\n",
              "      <td>Gorzów Wielkopolski</td>\n",
              "    </tr>\n",
              "  </tbody>\n",
              "</table>\n",
              "</div>"
            ],
            "text/plain": [
              "   PER_ID  LINE_ID  UNIT_ID  ...  Szkodowosc  marza             MEM_NAME\n",
              "0  201201    25664     8308  ...    0.105263    0.0            Wa³brzych\n",
              "1  201201    25664     8103  ...    0.105263    0.0  Gorzów Wielkopolski\n",
              "2  201202    25664     8103  ...    0.105263    0.0  Gorzów Wielkopolski\n",
              "3  201203    25664     8103  ...    0.105263    0.0  Gorzów Wielkopolski\n",
              "4  201204    25664     8103  ...    0.105263    0.0  Gorzów Wielkopolski\n",
              "\n",
              "[5 rows x 20 columns]"
            ]
          },
          "metadata": {
            "tags": []
          },
          "execution_count": 47
        }
      ]
    },
    {
      "cell_type": "code",
      "metadata": {
        "id": "S8fVnZ_BNm5K",
        "colab_type": "code",
        "colab": {}
      },
      "source": [
        "fakty.rename(columns={\"MEM_NAME\": \"Miasto\"}, inplace=True)"
      ],
      "execution_count": 48,
      "outputs": []
    },
    {
      "cell_type": "code",
      "metadata": {
        "id": "o5xp1hgRPu1c",
        "colab_type": "code",
        "colab": {
          "base_uri": "https://localhost:8080/",
          "height": 1000
        },
        "outputId": "a6ecf1d5-8163-436b-c94e-fdf2e8aaa3ab"
      },
      "source": [
        "fakty.groupby('Miasto')['ARPU'].agg(['min', 'mean', 'std', 'max'])"
      ],
      "execution_count": 52,
      "outputs": [
        {
          "output_type": "execute_result",
          "data": {
            "text/html": [
              "<div>\n",
              "<style scoped>\n",
              "    .dataframe tbody tr th:only-of-type {\n",
              "        vertical-align: middle;\n",
              "    }\n",
              "\n",
              "    .dataframe tbody tr th {\n",
              "        vertical-align: top;\n",
              "    }\n",
              "\n",
              "    .dataframe thead th {\n",
              "        text-align: right;\n",
              "    }\n",
              "</style>\n",
              "<table border=\"1\" class=\"dataframe\">\n",
              "  <thead>\n",
              "    <tr style=\"text-align: right;\">\n",
              "      <th></th>\n",
              "      <th>min</th>\n",
              "      <th>mean</th>\n",
              "      <th>std</th>\n",
              "      <th>max</th>\n",
              "    </tr>\n",
              "    <tr>\n",
              "      <th>Miasto</th>\n",
              "      <th></th>\n",
              "      <th></th>\n",
              "      <th></th>\n",
              "      <th></th>\n",
              "    </tr>\n",
              "  </thead>\n",
              "  <tbody>\n",
              "    <tr>\n",
              "      <th>Bia³ystok</th>\n",
              "      <td>0.0</td>\n",
              "      <td>33.066202</td>\n",
              "      <td>119.965778</td>\n",
              "      <td>2516.5</td>\n",
              "    </tr>\n",
              "    <tr>\n",
              "      <th>Bielsko-Bia³a</th>\n",
              "      <td>0.0</td>\n",
              "      <td>32.170025</td>\n",
              "      <td>100.939731</td>\n",
              "      <td>2516.5</td>\n",
              "    </tr>\n",
              "    <tr>\n",
              "      <th>Brodnica</th>\n",
              "      <td>0.0</td>\n",
              "      <td>31.750439</td>\n",
              "      <td>107.478459</td>\n",
              "      <td>2516.5</td>\n",
              "    </tr>\n",
              "    <tr>\n",
              "      <th>Bydgoszcz</th>\n",
              "      <td>0.0</td>\n",
              "      <td>47.302946</td>\n",
              "      <td>209.224182</td>\n",
              "      <td>2516.5</td>\n",
              "    </tr>\n",
              "    <tr>\n",
              "      <th>Elbl¹g</th>\n",
              "      <td>0.0</td>\n",
              "      <td>31.096704</td>\n",
              "      <td>117.128444</td>\n",
              "      <td>2516.5</td>\n",
              "    </tr>\n",
              "    <tr>\n",
              "      <th>Gdañsk</th>\n",
              "      <td>0.0</td>\n",
              "      <td>42.995876</td>\n",
              "      <td>217.706651</td>\n",
              "      <td>2516.5</td>\n",
              "    </tr>\n",
              "    <tr>\n",
              "      <th>Gdynia</th>\n",
              "      <td>0.0</td>\n",
              "      <td>31.654923</td>\n",
              "      <td>113.877979</td>\n",
              "      <td>2516.5</td>\n",
              "    </tr>\n",
              "    <tr>\n",
              "      <th>Gorzów Wielkopolski</th>\n",
              "      <td>0.0</td>\n",
              "      <td>43.718007</td>\n",
              "      <td>199.068627</td>\n",
              "      <td>2516.5</td>\n",
              "    </tr>\n",
              "    <tr>\n",
              "      <th>Kalisz</th>\n",
              "      <td>0.0</td>\n",
              "      <td>34.513613</td>\n",
              "      <td>120.173021</td>\n",
              "      <td>2516.5</td>\n",
              "    </tr>\n",
              "    <tr>\n",
              "      <th>Katowice</th>\n",
              "      <td>0.0</td>\n",
              "      <td>48.182939</td>\n",
              "      <td>217.606718</td>\n",
              "      <td>2516.5</td>\n",
              "    </tr>\n",
              "    <tr>\n",
              "      <th>Kielce</th>\n",
              "      <td>0.0</td>\n",
              "      <td>41.064967</td>\n",
              "      <td>127.303907</td>\n",
              "      <td>2516.5</td>\n",
              "    </tr>\n",
              "    <tr>\n",
              "      <th>Koszalin</th>\n",
              "      <td>0.0</td>\n",
              "      <td>45.624795</td>\n",
              "      <td>177.382153</td>\n",
              "      <td>2516.5</td>\n",
              "    </tr>\n",
              "    <tr>\n",
              "      <th>Kraków</th>\n",
              "      <td>0.0</td>\n",
              "      <td>33.460197</td>\n",
              "      <td>87.494935</td>\n",
              "      <td>2516.5</td>\n",
              "    </tr>\n",
              "    <tr>\n",
              "      <th>Legnica</th>\n",
              "      <td>0.0</td>\n",
              "      <td>31.761048</td>\n",
              "      <td>60.515135</td>\n",
              "      <td>2516.5</td>\n",
              "    </tr>\n",
              "    <tr>\n",
              "      <th>Le¿ajsk</th>\n",
              "      <td>0.0</td>\n",
              "      <td>34.288736</td>\n",
              "      <td>134.485702</td>\n",
              "      <td>2516.5</td>\n",
              "    </tr>\n",
              "    <tr>\n",
              "      <th>Lublin</th>\n",
              "      <td>0.0</td>\n",
              "      <td>29.035301</td>\n",
              "      <td>65.551865</td>\n",
              "      <td>2516.5</td>\n",
              "    </tr>\n",
              "    <tr>\n",
              "      <th>Mielec</th>\n",
              "      <td>0.0</td>\n",
              "      <td>55.327991</td>\n",
              "      <td>238.266312</td>\n",
              "      <td>2516.5</td>\n",
              "    </tr>\n",
              "    <tr>\n",
              "      <th>Olsztyn</th>\n",
              "      <td>0.0</td>\n",
              "      <td>46.627741</td>\n",
              "      <td>177.473905</td>\n",
              "      <td>2516.5</td>\n",
              "    </tr>\n",
              "    <tr>\n",
              "      <th>Opole</th>\n",
              "      <td>0.0</td>\n",
              "      <td>38.736030</td>\n",
              "      <td>166.873462</td>\n",
              "      <td>2516.5</td>\n",
              "    </tr>\n",
              "    <tr>\n",
              "      <th>Police</th>\n",
              "      <td>0.0</td>\n",
              "      <td>36.588142</td>\n",
              "      <td>157.993906</td>\n",
              "      <td>2516.5</td>\n",
              "    </tr>\n",
              "    <tr>\n",
              "      <th>Poznañ</th>\n",
              "      <td>0.0</td>\n",
              "      <td>34.790206</td>\n",
              "      <td>153.853211</td>\n",
              "      <td>2516.5</td>\n",
              "    </tr>\n",
              "    <tr>\n",
              "      <th>P³ock</th>\n",
              "      <td>0.0</td>\n",
              "      <td>43.750378</td>\n",
              "      <td>201.013074</td>\n",
              "      <td>2516.5</td>\n",
              "    </tr>\n",
              "    <tr>\n",
              "      <th>P³oñsk</th>\n",
              "      <td>0.0</td>\n",
              "      <td>35.680539</td>\n",
              "      <td>155.604229</td>\n",
              "      <td>2516.5</td>\n",
              "    </tr>\n",
              "    <tr>\n",
              "      <th>Radom</th>\n",
              "      <td>0.0</td>\n",
              "      <td>33.734716</td>\n",
              "      <td>99.012420</td>\n",
              "      <td>2516.5</td>\n",
              "    </tr>\n",
              "    <tr>\n",
              "      <th>Rzeszów</th>\n",
              "      <td>0.0</td>\n",
              "      <td>41.177402</td>\n",
              "      <td>189.225893</td>\n",
              "      <td>2516.5</td>\n",
              "    </tr>\n",
              "    <tr>\n",
              "      <th>Sierpc</th>\n",
              "      <td>0.0</td>\n",
              "      <td>37.141565</td>\n",
              "      <td>138.440836</td>\n",
              "      <td>2516.5</td>\n",
              "    </tr>\n",
              "    <tr>\n",
              "      <th>Sopot</th>\n",
              "      <td>0.0</td>\n",
              "      <td>32.518210</td>\n",
              "      <td>140.908676</td>\n",
              "      <td>2516.5</td>\n",
              "    </tr>\n",
              "    <tr>\n",
              "      <th>Szczecin</th>\n",
              "      <td>0.0</td>\n",
              "      <td>42.850045</td>\n",
              "      <td>177.177112</td>\n",
              "      <td>2516.5</td>\n",
              "    </tr>\n",
              "    <tr>\n",
              "      <th>S³upsk</th>\n",
              "      <td>0.0</td>\n",
              "      <td>35.053934</td>\n",
              "      <td>137.550825</td>\n",
              "      <td>2516.5</td>\n",
              "    </tr>\n",
              "    <tr>\n",
              "      <th>Toruñ</th>\n",
              "      <td>0.0</td>\n",
              "      <td>37.917499</td>\n",
              "      <td>150.682737</td>\n",
              "      <td>2516.5</td>\n",
              "    </tr>\n",
              "    <tr>\n",
              "      <th>Tychy</th>\n",
              "      <td>0.0</td>\n",
              "      <td>41.007776</td>\n",
              "      <td>179.737216</td>\n",
              "      <td>2516.5</td>\n",
              "    </tr>\n",
              "    <tr>\n",
              "      <th>Warszawa</th>\n",
              "      <td>0.0</td>\n",
              "      <td>42.463618</td>\n",
              "      <td>153.612303</td>\n",
              "      <td>2516.5</td>\n",
              "    </tr>\n",
              "    <tr>\n",
              "      <th>Wa³brzych</th>\n",
              "      <td>0.0</td>\n",
              "      <td>40.051305</td>\n",
              "      <td>163.293023</td>\n",
              "      <td>2516.5</td>\n",
              "    </tr>\n",
              "    <tr>\n",
              "      <th>Wroc³aw</th>\n",
              "      <td>0.0</td>\n",
              "      <td>45.246723</td>\n",
              "      <td>192.897175</td>\n",
              "      <td>2516.5</td>\n",
              "    </tr>\n",
              "    <tr>\n",
              "      <th>W³oc³awek</th>\n",
              "      <td>0.0</td>\n",
              "      <td>31.476822</td>\n",
              "      <td>105.663044</td>\n",
              "      <td>2516.5</td>\n",
              "    </tr>\n",
              "    <tr>\n",
              "      <th>Zakopane</th>\n",
              "      <td>0.0</td>\n",
              "      <td>25.321410</td>\n",
              "      <td>91.932033</td>\n",
              "      <td>2516.5</td>\n",
              "    </tr>\n",
              "    <tr>\n",
              "      <th>Zielona Góra</th>\n",
              "      <td>0.0</td>\n",
              "      <td>18.762121</td>\n",
              "      <td>43.565438</td>\n",
              "      <td>2516.5</td>\n",
              "    </tr>\n",
              "    <tr>\n",
              "      <th>£ód</th>\n",
              "      <td>0.0</td>\n",
              "      <td>32.188435</td>\n",
              "      <td>102.043979</td>\n",
              "      <td>2516.5</td>\n",
              "    </tr>\n",
              "  </tbody>\n",
              "</table>\n",
              "</div>"
            ],
            "text/plain": [
              "                     min       mean         std     max\n",
              "Miasto                                                 \n",
              "Bia³ystok            0.0  33.066202  119.965778  2516.5\n",
              "Bielsko-Bia³a        0.0  32.170025  100.939731  2516.5\n",
              "Brodnica             0.0  31.750439  107.478459  2516.5\n",
              "Bydgoszcz            0.0  47.302946  209.224182  2516.5\n",
              "Elbl¹g               0.0  31.096704  117.128444  2516.5\n",
              "Gdañsk               0.0  42.995876  217.706651  2516.5\n",
              "Gdynia               0.0  31.654923  113.877979  2516.5\n",
              "Gorzów Wielkopolski  0.0  43.718007  199.068627  2516.5\n",
              "Kalisz               0.0  34.513613  120.173021  2516.5\n",
              "Katowice             0.0  48.182939  217.606718  2516.5\n",
              "Kielce               0.0  41.064967  127.303907  2516.5\n",
              "Koszalin             0.0  45.624795  177.382153  2516.5\n",
              "Kraków               0.0  33.460197   87.494935  2516.5\n",
              "Legnica              0.0  31.761048   60.515135  2516.5\n",
              "Le¿ajsk              0.0  34.288736  134.485702  2516.5\n",
              "Lublin               0.0  29.035301   65.551865  2516.5\n",
              "Mielec               0.0  55.327991  238.266312  2516.5\n",
              "Olsztyn              0.0  46.627741  177.473905  2516.5\n",
              "Opole                0.0  38.736030  166.873462  2516.5\n",
              "Police               0.0  36.588142  157.993906  2516.5\n",
              "Poznañ               0.0  34.790206  153.853211  2516.5\n",
              "P³ock                0.0  43.750378  201.013074  2516.5\n",
              "P³oñsk               0.0  35.680539  155.604229  2516.5\n",
              "Radom                0.0  33.734716   99.012420  2516.5\n",
              "Rzeszów              0.0  41.177402  189.225893  2516.5\n",
              "Sierpc               0.0  37.141565  138.440836  2516.5\n",
              "Sopot                0.0  32.518210  140.908676  2516.5\n",
              "Szczecin             0.0  42.850045  177.177112  2516.5\n",
              "S³upsk               0.0  35.053934  137.550825  2516.5\n",
              "Toruñ                0.0  37.917499  150.682737  2516.5\n",
              "Tychy                0.0  41.007776  179.737216  2516.5\n",
              "Warszawa             0.0  42.463618  153.612303  2516.5\n",
              "Wa³brzych            0.0  40.051305  163.293023  2516.5\n",
              "Wroc³aw              0.0  45.246723  192.897175  2516.5\n",
              "W³oc³awek            0.0  31.476822  105.663044  2516.5\n",
              "Zakopane             0.0  25.321410   91.932033  2516.5\n",
              "Zielona Góra         0.0  18.762121   43.565438  2516.5\n",
              "£ód                 0.0  32.188435  102.043979  2516.5"
            ]
          },
          "metadata": {
            "tags": []
          },
          "execution_count": 52
        }
      ]
    },
    {
      "cell_type": "code",
      "metadata": {
        "id": "7mf89xhqPuy-",
        "colab_type": "code",
        "colab": {
          "base_uri": "https://localhost:8080/",
          "height": 1000
        },
        "outputId": "dc8c2043-d41b-4f4f-e3dc-33464e6f556c"
      },
      "source": [
        "fakty.groupby('Miasto')['Szkodowosc'].agg(['min', 'mean', 'std', 'max'])"
      ],
      "execution_count": 53,
      "outputs": [
        {
          "output_type": "execute_result",
          "data": {
            "text/html": [
              "<div>\n",
              "<style scoped>\n",
              "    .dataframe tbody tr th:only-of-type {\n",
              "        vertical-align: middle;\n",
              "    }\n",
              "\n",
              "    .dataframe tbody tr th {\n",
              "        vertical-align: top;\n",
              "    }\n",
              "\n",
              "    .dataframe thead th {\n",
              "        text-align: right;\n",
              "    }\n",
              "</style>\n",
              "<table border=\"1\" class=\"dataframe\">\n",
              "  <thead>\n",
              "    <tr style=\"text-align: right;\">\n",
              "      <th></th>\n",
              "      <th>min</th>\n",
              "      <th>mean</th>\n",
              "      <th>std</th>\n",
              "      <th>max</th>\n",
              "    </tr>\n",
              "    <tr>\n",
              "      <th>Miasto</th>\n",
              "      <th></th>\n",
              "      <th></th>\n",
              "      <th></th>\n",
              "      <th></th>\n",
              "    </tr>\n",
              "  </thead>\n",
              "  <tbody>\n",
              "    <tr>\n",
              "      <th>Bia³ystok</th>\n",
              "      <td>0.0</td>\n",
              "      <td>1.046082</td>\n",
              "      <td>1.906904</td>\n",
              "      <td>38.5</td>\n",
              "    </tr>\n",
              "    <tr>\n",
              "      <th>Bielsko-Bia³a</th>\n",
              "      <td>0.0</td>\n",
              "      <td>1.081065</td>\n",
              "      <td>1.718843</td>\n",
              "      <td>38.5</td>\n",
              "    </tr>\n",
              "    <tr>\n",
              "      <th>Brodnica</th>\n",
              "      <td>0.0</td>\n",
              "      <td>0.914854</td>\n",
              "      <td>1.681599</td>\n",
              "      <td>38.5</td>\n",
              "    </tr>\n",
              "    <tr>\n",
              "      <th>Bydgoszcz</th>\n",
              "      <td>0.0</td>\n",
              "      <td>1.278759</td>\n",
              "      <td>3.245806</td>\n",
              "      <td>38.5</td>\n",
              "    </tr>\n",
              "    <tr>\n",
              "      <th>Elbl¹g</th>\n",
              "      <td>0.0</td>\n",
              "      <td>0.983286</td>\n",
              "      <td>1.892094</td>\n",
              "      <td>38.5</td>\n",
              "    </tr>\n",
              "    <tr>\n",
              "      <th>Gdañsk</th>\n",
              "      <td>0.0</td>\n",
              "      <td>1.062880</td>\n",
              "      <td>3.327655</td>\n",
              "      <td>38.5</td>\n",
              "    </tr>\n",
              "    <tr>\n",
              "      <th>Gdynia</th>\n",
              "      <td>0.0</td>\n",
              "      <td>0.960332</td>\n",
              "      <td>1.759048</td>\n",
              "      <td>38.5</td>\n",
              "    </tr>\n",
              "    <tr>\n",
              "      <th>Gorzów Wielkopolski</th>\n",
              "      <td>0.0</td>\n",
              "      <td>1.147879</td>\n",
              "      <td>3.021905</td>\n",
              "      <td>38.5</td>\n",
              "    </tr>\n",
              "    <tr>\n",
              "      <th>Kalisz</th>\n",
              "      <td>0.0</td>\n",
              "      <td>1.172057</td>\n",
              "      <td>1.931791</td>\n",
              "      <td>38.5</td>\n",
              "    </tr>\n",
              "    <tr>\n",
              "      <th>Katowice</th>\n",
              "      <td>0.0</td>\n",
              "      <td>1.302137</td>\n",
              "      <td>3.347533</td>\n",
              "      <td>38.5</td>\n",
              "    </tr>\n",
              "    <tr>\n",
              "      <th>Kielce</th>\n",
              "      <td>0.0</td>\n",
              "      <td>0.987024</td>\n",
              "      <td>2.205445</td>\n",
              "      <td>38.5</td>\n",
              "    </tr>\n",
              "    <tr>\n",
              "      <th>Koszalin</th>\n",
              "      <td>0.0</td>\n",
              "      <td>1.359530</td>\n",
              "      <td>2.933746</td>\n",
              "      <td>38.5</td>\n",
              "    </tr>\n",
              "    <tr>\n",
              "      <th>Kraków</th>\n",
              "      <td>0.0</td>\n",
              "      <td>1.064657</td>\n",
              "      <td>1.468712</td>\n",
              "      <td>38.5</td>\n",
              "    </tr>\n",
              "    <tr>\n",
              "      <th>Legnica</th>\n",
              "      <td>0.0</td>\n",
              "      <td>0.991188</td>\n",
              "      <td>1.324862</td>\n",
              "      <td>38.5</td>\n",
              "    </tr>\n",
              "    <tr>\n",
              "      <th>Le¿ajsk</th>\n",
              "      <td>0.0</td>\n",
              "      <td>1.031762</td>\n",
              "      <td>2.084730</td>\n",
              "      <td>38.5</td>\n",
              "    </tr>\n",
              "    <tr>\n",
              "      <th>Lublin</th>\n",
              "      <td>0.0</td>\n",
              "      <td>0.856412</td>\n",
              "      <td>1.086137</td>\n",
              "      <td>38.5</td>\n",
              "    </tr>\n",
              "    <tr>\n",
              "      <th>Mielec</th>\n",
              "      <td>0.0</td>\n",
              "      <td>1.402363</td>\n",
              "      <td>3.621557</td>\n",
              "      <td>38.5</td>\n",
              "    </tr>\n",
              "    <tr>\n",
              "      <th>Olsztyn</th>\n",
              "      <td>0.0</td>\n",
              "      <td>1.034272</td>\n",
              "      <td>2.728030</td>\n",
              "      <td>38.5</td>\n",
              "    </tr>\n",
              "    <tr>\n",
              "      <th>Opole</th>\n",
              "      <td>0.0</td>\n",
              "      <td>0.983339</td>\n",
              "      <td>2.555738</td>\n",
              "      <td>38.5</td>\n",
              "    </tr>\n",
              "    <tr>\n",
              "      <th>Police</th>\n",
              "      <td>0.0</td>\n",
              "      <td>1.076733</td>\n",
              "      <td>2.473365</td>\n",
              "      <td>38.5</td>\n",
              "    </tr>\n",
              "    <tr>\n",
              "      <th>Poznañ</th>\n",
              "      <td>0.0</td>\n",
              "      <td>0.946854</td>\n",
              "      <td>2.366271</td>\n",
              "      <td>38.5</td>\n",
              "    </tr>\n",
              "    <tr>\n",
              "      <th>P³ock</th>\n",
              "      <td>0.0</td>\n",
              "      <td>1.234766</td>\n",
              "      <td>3.067893</td>\n",
              "      <td>38.5</td>\n",
              "    </tr>\n",
              "    <tr>\n",
              "      <th>P³oñsk</th>\n",
              "      <td>0.0</td>\n",
              "      <td>1.079344</td>\n",
              "      <td>2.380225</td>\n",
              "      <td>38.5</td>\n",
              "    </tr>\n",
              "    <tr>\n",
              "      <th>Radom</th>\n",
              "      <td>0.0</td>\n",
              "      <td>1.045867</td>\n",
              "      <td>1.657065</td>\n",
              "      <td>38.5</td>\n",
              "    </tr>\n",
              "    <tr>\n",
              "      <th>Rzeszów</th>\n",
              "      <td>0.0</td>\n",
              "      <td>1.242011</td>\n",
              "      <td>2.958318</td>\n",
              "      <td>38.5</td>\n",
              "    </tr>\n",
              "    <tr>\n",
              "      <th>Sierpc</th>\n",
              "      <td>0.0</td>\n",
              "      <td>0.976891</td>\n",
              "      <td>2.226934</td>\n",
              "      <td>38.5</td>\n",
              "    </tr>\n",
              "    <tr>\n",
              "      <th>Sopot</th>\n",
              "      <td>0.0</td>\n",
              "      <td>0.917865</td>\n",
              "      <td>2.172006</td>\n",
              "      <td>38.5</td>\n",
              "    </tr>\n",
              "    <tr>\n",
              "      <th>Szczecin</th>\n",
              "      <td>0.0</td>\n",
              "      <td>1.190899</td>\n",
              "      <td>2.808380</td>\n",
              "      <td>38.5</td>\n",
              "    </tr>\n",
              "    <tr>\n",
              "      <th>S³upsk</th>\n",
              "      <td>0.0</td>\n",
              "      <td>1.058844</td>\n",
              "      <td>2.137944</td>\n",
              "      <td>38.5</td>\n",
              "    </tr>\n",
              "    <tr>\n",
              "      <th>Toruñ</th>\n",
              "      <td>0.0</td>\n",
              "      <td>1.025185</td>\n",
              "      <td>2.318968</td>\n",
              "      <td>38.5</td>\n",
              "    </tr>\n",
              "    <tr>\n",
              "      <th>Tychy</th>\n",
              "      <td>0.0</td>\n",
              "      <td>1.056338</td>\n",
              "      <td>2.790864</td>\n",
              "      <td>38.5</td>\n",
              "    </tr>\n",
              "    <tr>\n",
              "      <th>Warszawa</th>\n",
              "      <td>0.0</td>\n",
              "      <td>1.263881</td>\n",
              "      <td>2.484961</td>\n",
              "      <td>38.5</td>\n",
              "    </tr>\n",
              "    <tr>\n",
              "      <th>Wa³brzych</th>\n",
              "      <td>0.0</td>\n",
              "      <td>1.149596</td>\n",
              "      <td>2.579794</td>\n",
              "      <td>38.5</td>\n",
              "    </tr>\n",
              "    <tr>\n",
              "      <th>Wroc³aw</th>\n",
              "      <td>0.0</td>\n",
              "      <td>1.194999</td>\n",
              "      <td>3.055229</td>\n",
              "      <td>38.5</td>\n",
              "    </tr>\n",
              "    <tr>\n",
              "      <th>W³oc³awek</th>\n",
              "      <td>0.0</td>\n",
              "      <td>0.968172</td>\n",
              "      <td>1.743174</td>\n",
              "      <td>38.5</td>\n",
              "    </tr>\n",
              "    <tr>\n",
              "      <th>Zakopane</th>\n",
              "      <td>0.0</td>\n",
              "      <td>0.671853</td>\n",
              "      <td>1.441624</td>\n",
              "      <td>38.5</td>\n",
              "    </tr>\n",
              "    <tr>\n",
              "      <th>Zielona Góra</th>\n",
              "      <td>0.0</td>\n",
              "      <td>0.826844</td>\n",
              "      <td>0.721910</td>\n",
              "      <td>38.5</td>\n",
              "    </tr>\n",
              "    <tr>\n",
              "      <th>£ód</th>\n",
              "      <td>0.0</td>\n",
              "      <td>0.978195</td>\n",
              "      <td>1.651868</td>\n",
              "      <td>38.5</td>\n",
              "    </tr>\n",
              "  </tbody>\n",
              "</table>\n",
              "</div>"
            ],
            "text/plain": [
              "                     min      mean       std   max\n",
              "Miasto                                            \n",
              "Bia³ystok            0.0  1.046082  1.906904  38.5\n",
              "Bielsko-Bia³a        0.0  1.081065  1.718843  38.5\n",
              "Brodnica             0.0  0.914854  1.681599  38.5\n",
              "Bydgoszcz            0.0  1.278759  3.245806  38.5\n",
              "Elbl¹g               0.0  0.983286  1.892094  38.5\n",
              "Gdañsk               0.0  1.062880  3.327655  38.5\n",
              "Gdynia               0.0  0.960332  1.759048  38.5\n",
              "Gorzów Wielkopolski  0.0  1.147879  3.021905  38.5\n",
              "Kalisz               0.0  1.172057  1.931791  38.5\n",
              "Katowice             0.0  1.302137  3.347533  38.5\n",
              "Kielce               0.0  0.987024  2.205445  38.5\n",
              "Koszalin             0.0  1.359530  2.933746  38.5\n",
              "Kraków               0.0  1.064657  1.468712  38.5\n",
              "Legnica              0.0  0.991188  1.324862  38.5\n",
              "Le¿ajsk              0.0  1.031762  2.084730  38.5\n",
              "Lublin               0.0  0.856412  1.086137  38.5\n",
              "Mielec               0.0  1.402363  3.621557  38.5\n",
              "Olsztyn              0.0  1.034272  2.728030  38.5\n",
              "Opole                0.0  0.983339  2.555738  38.5\n",
              "Police               0.0  1.076733  2.473365  38.5\n",
              "Poznañ               0.0  0.946854  2.366271  38.5\n",
              "P³ock                0.0  1.234766  3.067893  38.5\n",
              "P³oñsk               0.0  1.079344  2.380225  38.5\n",
              "Radom                0.0  1.045867  1.657065  38.5\n",
              "Rzeszów              0.0  1.242011  2.958318  38.5\n",
              "Sierpc               0.0  0.976891  2.226934  38.5\n",
              "Sopot                0.0  0.917865  2.172006  38.5\n",
              "Szczecin             0.0  1.190899  2.808380  38.5\n",
              "S³upsk               0.0  1.058844  2.137944  38.5\n",
              "Toruñ                0.0  1.025185  2.318968  38.5\n",
              "Tychy                0.0  1.056338  2.790864  38.5\n",
              "Warszawa             0.0  1.263881  2.484961  38.5\n",
              "Wa³brzych            0.0  1.149596  2.579794  38.5\n",
              "Wroc³aw              0.0  1.194999  3.055229  38.5\n",
              "W³oc³awek            0.0  0.968172  1.743174  38.5\n",
              "Zakopane             0.0  0.671853  1.441624  38.5\n",
              "Zielona Góra         0.0  0.826844  0.721910  38.5\n",
              "£ód                 0.0  0.978195  1.651868  38.5"
            ]
          },
          "metadata": {
            "tags": []
          },
          "execution_count": 53
        }
      ]
    },
    {
      "cell_type": "code",
      "metadata": {
        "id": "7PuCg8WpPuun",
        "colab_type": "code",
        "colab": {
          "base_uri": "https://localhost:8080/",
          "height": 1000
        },
        "outputId": "77da572c-91ce-479c-88a7-6a3f6532b086"
      },
      "source": [
        "fakty.groupby('Miasto')['marza'].agg(['min', 'mean', 'std', 'max'])"
      ],
      "execution_count": 55,
      "outputs": [
        {
          "output_type": "execute_result",
          "data": {
            "text/html": [
              "<div>\n",
              "<style scoped>\n",
              "    .dataframe tbody tr th:only-of-type {\n",
              "        vertical-align: middle;\n",
              "    }\n",
              "\n",
              "    .dataframe tbody tr th {\n",
              "        vertical-align: top;\n",
              "    }\n",
              "\n",
              "    .dataframe thead th {\n",
              "        text-align: right;\n",
              "    }\n",
              "</style>\n",
              "<table border=\"1\" class=\"dataframe\">\n",
              "  <thead>\n",
              "    <tr style=\"text-align: right;\">\n",
              "      <th></th>\n",
              "      <th>min</th>\n",
              "      <th>mean</th>\n",
              "      <th>std</th>\n",
              "      <th>max</th>\n",
              "    </tr>\n",
              "    <tr>\n",
              "      <th>Miasto</th>\n",
              "      <th></th>\n",
              "      <th></th>\n",
              "      <th></th>\n",
              "      <th></th>\n",
              "    </tr>\n",
              "  </thead>\n",
              "  <tbody>\n",
              "    <tr>\n",
              "      <th>Bia³ystok</th>\n",
              "      <td>-277940.0</td>\n",
              "      <td>180461.216820</td>\n",
              "      <td>399250.781302</td>\n",
              "      <td>1283940.0</td>\n",
              "    </tr>\n",
              "    <tr>\n",
              "      <th>Bielsko-Bia³a</th>\n",
              "      <td>-277940.0</td>\n",
              "      <td>164889.939789</td>\n",
              "      <td>415614.682052</td>\n",
              "      <td>1283940.0</td>\n",
              "    </tr>\n",
              "    <tr>\n",
              "      <th>Brodnica</th>\n",
              "      <td>-277940.0</td>\n",
              "      <td>234614.211124</td>\n",
              "      <td>469165.524582</td>\n",
              "      <td>1283940.0</td>\n",
              "    </tr>\n",
              "    <tr>\n",
              "      <th>Bydgoszcz</th>\n",
              "      <td>-277940.0</td>\n",
              "      <td>201465.630837</td>\n",
              "      <td>418876.349483</td>\n",
              "      <td>1283940.0</td>\n",
              "    </tr>\n",
              "    <tr>\n",
              "      <th>Elbl¹g</th>\n",
              "      <td>-277940.0</td>\n",
              "      <td>240076.474270</td>\n",
              "      <td>472596.746197</td>\n",
              "      <td>1283940.0</td>\n",
              "    </tr>\n",
              "    <tr>\n",
              "      <th>Gdañsk</th>\n",
              "      <td>-277940.0</td>\n",
              "      <td>315202.723362</td>\n",
              "      <td>487388.194949</td>\n",
              "      <td>1283940.0</td>\n",
              "    </tr>\n",
              "    <tr>\n",
              "      <th>Gdynia</th>\n",
              "      <td>-277940.0</td>\n",
              "      <td>281179.316654</td>\n",
              "      <td>490626.069355</td>\n",
              "      <td>1283940.0</td>\n",
              "    </tr>\n",
              "    <tr>\n",
              "      <th>Gorzów Wielkopolski</th>\n",
              "      <td>-277940.0</td>\n",
              "      <td>201940.688300</td>\n",
              "      <td>434910.577629</td>\n",
              "      <td>1283940.0</td>\n",
              "    </tr>\n",
              "    <tr>\n",
              "      <th>Kalisz</th>\n",
              "      <td>-277940.0</td>\n",
              "      <td>162622.990317</td>\n",
              "      <td>394096.243864</td>\n",
              "      <td>1283940.0</td>\n",
              "    </tr>\n",
              "    <tr>\n",
              "      <th>Katowice</th>\n",
              "      <td>-277940.0</td>\n",
              "      <td>185072.916112</td>\n",
              "      <td>422345.659856</td>\n",
              "      <td>1283940.0</td>\n",
              "    </tr>\n",
              "    <tr>\n",
              "      <th>Kielce</th>\n",
              "      <td>-277940.0</td>\n",
              "      <td>356889.088531</td>\n",
              "      <td>519220.360555</td>\n",
              "      <td>1283940.0</td>\n",
              "    </tr>\n",
              "    <tr>\n",
              "      <th>Koszalin</th>\n",
              "      <td>-277940.0</td>\n",
              "      <td>214828.963387</td>\n",
              "      <td>442747.058191</td>\n",
              "      <td>1283940.0</td>\n",
              "    </tr>\n",
              "    <tr>\n",
              "      <th>Kraków</th>\n",
              "      <td>-277940.0</td>\n",
              "      <td>162547.663056</td>\n",
              "      <td>388996.242460</td>\n",
              "      <td>1283940.0</td>\n",
              "    </tr>\n",
              "    <tr>\n",
              "      <th>Legnica</th>\n",
              "      <td>-277940.0</td>\n",
              "      <td>234052.777627</td>\n",
              "      <td>458881.448256</td>\n",
              "      <td>1283940.0</td>\n",
              "    </tr>\n",
              "    <tr>\n",
              "      <th>Le¿ajsk</th>\n",
              "      <td>-277940.0</td>\n",
              "      <td>239823.993521</td>\n",
              "      <td>474943.474126</td>\n",
              "      <td>1283940.0</td>\n",
              "    </tr>\n",
              "    <tr>\n",
              "      <th>Lublin</th>\n",
              "      <td>-277940.0</td>\n",
              "      <td>217562.944882</td>\n",
              "      <td>440905.943562</td>\n",
              "      <td>1283940.0</td>\n",
              "    </tr>\n",
              "    <tr>\n",
              "      <th>Mielec</th>\n",
              "      <td>-277940.0</td>\n",
              "      <td>182000.377083</td>\n",
              "      <td>380358.783877</td>\n",
              "      <td>1283940.0</td>\n",
              "    </tr>\n",
              "    <tr>\n",
              "      <th>Olsztyn</th>\n",
              "      <td>-277940.0</td>\n",
              "      <td>219624.993489</td>\n",
              "      <td>435445.220198</td>\n",
              "      <td>1283940.0</td>\n",
              "    </tr>\n",
              "    <tr>\n",
              "      <th>Opole</th>\n",
              "      <td>-277940.0</td>\n",
              "      <td>209863.250315</td>\n",
              "      <td>427562.741104</td>\n",
              "      <td>1283940.0</td>\n",
              "    </tr>\n",
              "    <tr>\n",
              "      <th>Police</th>\n",
              "      <td>-277940.0</td>\n",
              "      <td>181769.536508</td>\n",
              "      <td>429037.332345</td>\n",
              "      <td>1283940.0</td>\n",
              "    </tr>\n",
              "    <tr>\n",
              "      <th>Poznañ</th>\n",
              "      <td>-277940.0</td>\n",
              "      <td>225090.860513</td>\n",
              "      <td>421283.683215</td>\n",
              "      <td>1283940.0</td>\n",
              "    </tr>\n",
              "    <tr>\n",
              "      <th>P³ock</th>\n",
              "      <td>-277940.0</td>\n",
              "      <td>140392.857143</td>\n",
              "      <td>269221.184582</td>\n",
              "      <td>1283940.0</td>\n",
              "    </tr>\n",
              "    <tr>\n",
              "      <th>P³oñsk</th>\n",
              "      <td>-277940.0</td>\n",
              "      <td>421108.405373</td>\n",
              "      <td>576907.958100</td>\n",
              "      <td>1283940.0</td>\n",
              "    </tr>\n",
              "    <tr>\n",
              "      <th>Radom</th>\n",
              "      <td>-277940.0</td>\n",
              "      <td>166956.103654</td>\n",
              "      <td>386585.970813</td>\n",
              "      <td>1283940.0</td>\n",
              "    </tr>\n",
              "    <tr>\n",
              "      <th>Rzeszów</th>\n",
              "      <td>-277940.0</td>\n",
              "      <td>246371.750251</td>\n",
              "      <td>461405.478609</td>\n",
              "      <td>1283940.0</td>\n",
              "    </tr>\n",
              "    <tr>\n",
              "      <th>Sierpc</th>\n",
              "      <td>-277940.0</td>\n",
              "      <td>233514.450828</td>\n",
              "      <td>430227.287547</td>\n",
              "      <td>1283940.0</td>\n",
              "    </tr>\n",
              "    <tr>\n",
              "      <th>Sopot</th>\n",
              "      <td>-277940.0</td>\n",
              "      <td>183793.715004</td>\n",
              "      <td>397504.057946</td>\n",
              "      <td>1283940.0</td>\n",
              "    </tr>\n",
              "    <tr>\n",
              "      <th>Szczecin</th>\n",
              "      <td>-277940.0</td>\n",
              "      <td>194272.914701</td>\n",
              "      <td>427565.285090</td>\n",
              "      <td>1283940.0</td>\n",
              "    </tr>\n",
              "    <tr>\n",
              "      <th>S³upsk</th>\n",
              "      <td>-277940.0</td>\n",
              "      <td>328296.800619</td>\n",
              "      <td>527945.293973</td>\n",
              "      <td>1283940.0</td>\n",
              "    </tr>\n",
              "    <tr>\n",
              "      <th>Toruñ</th>\n",
              "      <td>-277940.0</td>\n",
              "      <td>348027.560461</td>\n",
              "      <td>545297.820694</td>\n",
              "      <td>1283940.0</td>\n",
              "    </tr>\n",
              "    <tr>\n",
              "      <th>Tychy</th>\n",
              "      <td>-277940.0</td>\n",
              "      <td>226362.654837</td>\n",
              "      <td>436890.561731</td>\n",
              "      <td>1283940.0</td>\n",
              "    </tr>\n",
              "    <tr>\n",
              "      <th>Warszawa</th>\n",
              "      <td>-277940.0</td>\n",
              "      <td>220241.670093</td>\n",
              "      <td>450706.819168</td>\n",
              "      <td>1283940.0</td>\n",
              "    </tr>\n",
              "    <tr>\n",
              "      <th>Wa³brzych</th>\n",
              "      <td>-277940.0</td>\n",
              "      <td>224657.238267</td>\n",
              "      <td>459466.407077</td>\n",
              "      <td>1283940.0</td>\n",
              "    </tr>\n",
              "    <tr>\n",
              "      <th>Wroc³aw</th>\n",
              "      <td>-277940.0</td>\n",
              "      <td>225097.051201</td>\n",
              "      <td>446638.057314</td>\n",
              "      <td>1283940.0</td>\n",
              "    </tr>\n",
              "    <tr>\n",
              "      <th>W³oc³awek</th>\n",
              "      <td>-277940.0</td>\n",
              "      <td>190979.030596</td>\n",
              "      <td>415545.210114</td>\n",
              "      <td>1283940.0</td>\n",
              "    </tr>\n",
              "    <tr>\n",
              "      <th>Zakopane</th>\n",
              "      <td>-277940.0</td>\n",
              "      <td>199781.239458</td>\n",
              "      <td>378081.767620</td>\n",
              "      <td>1283940.0</td>\n",
              "    </tr>\n",
              "    <tr>\n",
              "      <th>Zielona Góra</th>\n",
              "      <td>-277940.0</td>\n",
              "      <td>60553.630099</td>\n",
              "      <td>246789.207626</td>\n",
              "      <td>1283940.0</td>\n",
              "    </tr>\n",
              "    <tr>\n",
              "      <th>£ód</th>\n",
              "      <td>-277940.0</td>\n",
              "      <td>181034.394187</td>\n",
              "      <td>409108.078114</td>\n",
              "      <td>1283940.0</td>\n",
              "    </tr>\n",
              "  </tbody>\n",
              "</table>\n",
              "</div>"
            ],
            "text/plain": [
              "                          min           mean            std        max\n",
              "Miasto                                                                \n",
              "Bia³ystok           -277940.0  180461.216820  399250.781302  1283940.0\n",
              "Bielsko-Bia³a       -277940.0  164889.939789  415614.682052  1283940.0\n",
              "Brodnica            -277940.0  234614.211124  469165.524582  1283940.0\n",
              "Bydgoszcz           -277940.0  201465.630837  418876.349483  1283940.0\n",
              "Elbl¹g              -277940.0  240076.474270  472596.746197  1283940.0\n",
              "Gdañsk              -277940.0  315202.723362  487388.194949  1283940.0\n",
              "Gdynia              -277940.0  281179.316654  490626.069355  1283940.0\n",
              "Gorzów Wielkopolski -277940.0  201940.688300  434910.577629  1283940.0\n",
              "Kalisz              -277940.0  162622.990317  394096.243864  1283940.0\n",
              "Katowice            -277940.0  185072.916112  422345.659856  1283940.0\n",
              "Kielce              -277940.0  356889.088531  519220.360555  1283940.0\n",
              "Koszalin            -277940.0  214828.963387  442747.058191  1283940.0\n",
              "Kraków              -277940.0  162547.663056  388996.242460  1283940.0\n",
              "Legnica             -277940.0  234052.777627  458881.448256  1283940.0\n",
              "Le¿ajsk             -277940.0  239823.993521  474943.474126  1283940.0\n",
              "Lublin              -277940.0  217562.944882  440905.943562  1283940.0\n",
              "Mielec              -277940.0  182000.377083  380358.783877  1283940.0\n",
              "Olsztyn             -277940.0  219624.993489  435445.220198  1283940.0\n",
              "Opole               -277940.0  209863.250315  427562.741104  1283940.0\n",
              "Police              -277940.0  181769.536508  429037.332345  1283940.0\n",
              "Poznañ              -277940.0  225090.860513  421283.683215  1283940.0\n",
              "P³ock               -277940.0  140392.857143  269221.184582  1283940.0\n",
              "P³oñsk              -277940.0  421108.405373  576907.958100  1283940.0\n",
              "Radom               -277940.0  166956.103654  386585.970813  1283940.0\n",
              "Rzeszów             -277940.0  246371.750251  461405.478609  1283940.0\n",
              "Sierpc              -277940.0  233514.450828  430227.287547  1283940.0\n",
              "Sopot               -277940.0  183793.715004  397504.057946  1283940.0\n",
              "Szczecin            -277940.0  194272.914701  427565.285090  1283940.0\n",
              "S³upsk              -277940.0  328296.800619  527945.293973  1283940.0\n",
              "Toruñ               -277940.0  348027.560461  545297.820694  1283940.0\n",
              "Tychy               -277940.0  226362.654837  436890.561731  1283940.0\n",
              "Warszawa            -277940.0  220241.670093  450706.819168  1283940.0\n",
              "Wa³brzych           -277940.0  224657.238267  459466.407077  1283940.0\n",
              "Wroc³aw             -277940.0  225097.051201  446638.057314  1283940.0\n",
              "W³oc³awek           -277940.0  190979.030596  415545.210114  1283940.0\n",
              "Zakopane            -277940.0  199781.239458  378081.767620  1283940.0\n",
              "Zielona Góra        -277940.0   60553.630099  246789.207626  1283940.0\n",
              "£ód                -277940.0  181034.394187  409108.078114  1283940.0"
            ]
          },
          "metadata": {
            "tags": []
          },
          "execution_count": 55
        }
      ]
    },
    {
      "cell_type": "markdown",
      "metadata": {
        "id": "w4-WARIkSvHt",
        "colab_type": "text"
      },
      "source": [
        "Można zauważyć, że wartość minimalna i maxymalna dla wszystkich wskażników we wszystkich miastach jest taka sama. Jest to spowodowane, że grupa kapitałowa(1195), przy której występuję wartość maksymalna(ARPU i Szkodowość, dla marzy jest to grupa kapitałowa 1150) występuje we wszystkich miastach, a wartość minimalna występuje w wielu grupach kapitałowych.\n",
        "Poniżej sprawdzenie tych faktów:"
      ]
    },
    {
      "cell_type": "code",
      "metadata": {
        "id": "cXwZzGtfROHC",
        "colab_type": "code",
        "colab": {
          "base_uri": "https://localhost:8080/",
          "height": 34
        },
        "outputId": "46dad134-b064-48ed-a355-677df06032af"
      },
      "source": [
        "#Ilość grup kapitałowych, w których występuje wartość minimalna w porównaniu to ilości całkowitej\n",
        "len(fakty[fakty['ARPU'] == fakty['ARPU'].min()]['DT_GRUPA_KAPITALOWA_ID'].unique()), fakty['DT_GRUPA_KAPITALOWA_ID'].nunique()"
      ],
      "execution_count": 62,
      "outputs": [
        {
          "output_type": "execute_result",
          "data": {
            "text/plain": [
              "(399, 901)"
            ]
          },
          "metadata": {
            "tags": []
          },
          "execution_count": 62
        }
      ]
    },
    {
      "cell_type": "code",
      "metadata": {
        "id": "HAhPK0_CTOLP",
        "colab_type": "code",
        "colab": {
          "base_uri": "https://localhost:8080/",
          "height": 34
        },
        "outputId": "5f4cbe13-f40b-4d84-b4a1-d60396394612"
      },
      "source": [
        "#Grupa kapitałowa, w której występuje wartość maksymalna\n",
        "fakty[fakty['ARPU'] == fakty['ARPU'].max()]['DT_GRUPA_KAPITALOWA_ID'].unique()"
      ],
      "execution_count": 70,
      "outputs": [
        {
          "output_type": "execute_result",
          "data": {
            "text/plain": [
              "array([1195])"
            ]
          },
          "metadata": {
            "tags": []
          },
          "execution_count": 70
        }
      ]
    },
    {
      "cell_type": "code",
      "metadata": {
        "id": "Wx6CSeyPRN8w",
        "colab_type": "code",
        "colab": {
          "base_uri": "https://localhost:8080/",
          "height": 34
        },
        "outputId": "6ad1700e-4cd7-45e9-9500-102ccfb89874"
      },
      "source": [
        "#Ilość miast, w któeych występuje grupa kapitałowa 1195 w porównaniu do wszystkich miast\n",
        "len(fakty[fakty['ARPU'] == fakty['ARPU'].max()]['Miasto'].unique()), fakty['Miasto'].nunique()"
      ],
      "execution_count": 67,
      "outputs": [
        {
          "output_type": "execute_result",
          "data": {
            "text/plain": [
              "(38, 38)"
            ]
          },
          "metadata": {
            "tags": []
          },
          "execution_count": 67
        }
      ]
    },
    {
      "cell_type": "markdown",
      "metadata": {
        "id": "YhjUm4lYVfPo",
        "colab_type": "text"
      },
      "source": [
        "Analogicznie dla pozostałych dwóch miar"
      ]
    },
    {
      "cell_type": "code",
      "metadata": {
        "id": "5TLOpKMOVZtO",
        "colab_type": "code",
        "colab": {
          "base_uri": "https://localhost:8080/",
          "height": 34
        },
        "outputId": "8f3ee254-1afb-42ad-8231-955951273d14"
      },
      "source": [
        "fakty[fakty['Szkodowosc'] == fakty['Szkodowosc'].max()]['DT_GRUPA_KAPITALOWA_ID'].unique()"
      ],
      "execution_count": 71,
      "outputs": [
        {
          "output_type": "execute_result",
          "data": {
            "text/plain": [
              "array([1195])"
            ]
          },
          "metadata": {
            "tags": []
          },
          "execution_count": 71
        }
      ]
    },
    {
      "cell_type": "code",
      "metadata": {
        "id": "Z6Zw7kLJRN2C",
        "colab_type": "code",
        "colab": {
          "base_uri": "https://localhost:8080/",
          "height": 34
        },
        "outputId": "a33fd010-73db-4310-9786-00cc7a6a2b3c"
      },
      "source": [
        "fakty[fakty['marza'] == fakty['marza'].max()]['DT_GRUPA_KAPITALOWA_ID'].unique()"
      ],
      "execution_count": 59,
      "outputs": [
        {
          "output_type": "execute_result",
          "data": {
            "text/plain": [
              "array([1150])"
            ]
          },
          "metadata": {
            "tags": []
          },
          "execution_count": 59
        }
      ]
    },
    {
      "cell_type": "code",
      "metadata": {
        "id": "LSrd2AfGRNxL",
        "colab_type": "code",
        "colab": {
          "base_uri": "https://localhost:8080/",
          "height": 34
        },
        "outputId": "57657112-2c67-4a7c-94dd-65e38a86d17c"
      },
      "source": [
        "len(fakty[fakty['marza'] == fakty['marza'].max()]['Miasto'].unique()), fakty['Miasto'].nunique()"
      ],
      "execution_count": 72,
      "outputs": [
        {
          "output_type": "execute_result",
          "data": {
            "text/plain": [
              "(38, 38)"
            ]
          },
          "metadata": {
            "tags": []
          },
          "execution_count": 72
        }
      ]
    },
    {
      "cell_type": "code",
      "metadata": {
        "id": "yBrZ2ejENm1y",
        "colab_type": "code",
        "colab": {}
      },
      "source": [
        ""
      ],
      "execution_count": null,
      "outputs": []
    },
    {
      "cell_type": "code",
      "metadata": {
        "id": "GtdDBOE3Rz_w",
        "colab_type": "code",
        "colab": {}
      },
      "source": [
        ""
      ],
      "execution_count": null,
      "outputs": []
    },
    {
      "cell_type": "code",
      "metadata": {
        "id": "jB1IwKIlRz8t",
        "colab_type": "code",
        "colab": {}
      },
      "source": [
        ""
      ],
      "execution_count": null,
      "outputs": []
    },
    {
      "cell_type": "code",
      "metadata": {
        "id": "fbLkFmIScxEv",
        "colab_type": "code",
        "colab": {}
      },
      "source": [
        ""
      ],
      "execution_count": null,
      "outputs": []
    },
    {
      "cell_type": "code",
      "metadata": {
        "id": "B33-c-B5cw_M",
        "colab_type": "code",
        "colab": {}
      },
      "source": [
        "fakty.set_index('PER_ID')[(fakty['LINE_ID']==25672)& (fakty['DT_GRUPA_KAPITALOWA_ID'] !=0)].groupby(['DT_GRUPA_KAPITALOWA_ID'])['VALUE'].sum()-\\\n",
        "fakty.set_index('PER_ID')[(fakty['LINE_ID'] == 25667) &(fakty['DT_GRUPA_KAPITALOWA_ID']!=0)].groupby(['DT_GRUPA_KAPITALOWA_ID'])['VALUE'].sum().resample('Q-JAN', convention='end').agg('mean')\n"
      ],
      "execution_count": null,
      "outputs": []
    },
    {
      "cell_type": "code",
      "metadata": {
        "id": "RiUnFfUDNmxe",
        "colab_type": "code",
        "colab": {
          "base_uri": "https://localhost:8080/",
          "height": 238
        },
        "outputId": "a37d4947-6802-4db3-89b8-654ac1c19e68"
      },
      "source": [
        "fakty[(fakty['LINE_ID']==25672)& (fakty['DT_GRUPA_KAPITALOWA_ID'] !=0)].groupby(['DT_GRUPA_KAPITALOWA_ID', 'PER_ID'])['VALUE'].sum()-\\\n",
        "fakty[(fakty['LINE_ID'] == 25667) &(fakty['DT_GRUPA_KAPITALOWA_ID']!=0)].groupby(['DT_GRUPA_KAPITALOWA_ID', 'PER_ID'])['VALUE'].sum().rolling(3).mean()"
      ],
      "execution_count": 38,
      "outputs": [
        {
          "output_type": "execute_result",
          "data": {
            "text/plain": [
              "DT_GRUPA_KAPITALOWA_ID  PER_ID\n",
              "202                     201201            NaN\n",
              "                        201202            NaN\n",
              "                        201203    2720.000000\n",
              "                        201204    2580.000000\n",
              "                        201205    2963.333333\n",
              "                                     ...     \n",
              "1377                    201509   -2100.000000\n",
              "1378                    201509            NaN\n",
              "1380                    201509            NaN\n",
              "1381                    201509            NaN\n",
              "1382                    201509            NaN\n",
              "Name: VALUE, Length: 7008, dtype: float64"
            ]
          },
          "metadata": {
            "tags": []
          },
          "execution_count": 38
        }
      ]
    }
  ]
}