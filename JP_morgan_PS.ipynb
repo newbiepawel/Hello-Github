{
  "nbformat": 4,
  "nbformat_minor": 0,
  "metadata": {
    "colab": {
      "name": "JP_morgan_PS",
      "provenance": [],
      "collapsed_sections": [],
      "authorship_tag": "ABX9TyOmRtgiInKAh7XVqfccco3v",
      "include_colab_link": true
    },
    "kernelspec": {
      "name": "python3",
      "display_name": "Python 3"
    }
  },
  "cells": [
    {
      "cell_type": "markdown",
      "metadata": {
        "id": "view-in-github",
        "colab_type": "text"
      },
      "source": [
        "<a href=\"https://colab.research.google.com/github/newbiepawel/Hello-Github/blob/master/JP_morgan_PS.ipynb\" target=\"_parent\"><img src=\"https://colab.research.google.com/assets/colab-badge.svg\" alt=\"Open In Colab\"/></a>"
      ]
    },
    {
      "cell_type": "markdown",
      "metadata": {
        "id": "me2LNEHmCpbV",
        "colab_type": "text"
      },
      "source": [
        "In the below project I'm trying to find a model that uses US treasury rates to describe the deposit rate paid. Due to the fact that dependent and explanatory variables come with different time intervals(explanatory-daily, dependent-quarterly) first I need to convert data for the same time interval.\n",
        "To do this I decided that the first observation within certain quarter(so first observation in Jaunuary, April, July and October) will be quarter value for every variable, the others will not be taken into account. There are some missing values for variables which I need to handle, I decided I will assign zero for such observation. I indentified tremendous amout of NULLs in DGS30 table aroun period 1999 - 2004 but on FRED site I downloaded a new one DGS30 file where are not so many missing values. Every step I do I try to describe as clear as possible. \n",
        "\n",
        "Project is devided into 3 steps:\n",
        "\n",
        "-Data engineering\n",
        "\n",
        "-Gradient Descent algorithm(Bonus)\n",
        "\n",
        "-Modelling\n",
        " \n",
        "In the task is also mentioned:\n",
        "If time permits, you could but don’t have to explore beyond\n",
        "what’s provided. I decided to do some risk estimation(VaR and ES) for deposit rate paid using GARCH model and Monte Carlo simulation.\n",
        "I'm going to use R to do this.\n",
        "It will come in separate file."
      ]
    },
    {
      "cell_type": "markdown",
      "metadata": {
        "id": "nnn_8hJ7h4sU",
        "colab_type": "text"
      },
      "source": [
        "#Data engineering"
      ]
    },
    {
      "cell_type": "code",
      "metadata": {
        "id": "cFFifzJ71Cpz",
        "colab_type": "code",
        "colab": {}
      },
      "source": [
        "import warnings\n",
        "warnings.filterwarnings('ignore')"
      ],
      "execution_count": 1,
      "outputs": []
    },
    {
      "cell_type": "markdown",
      "metadata": {
        "id": "zsHE5alhzOY2",
        "colab_type": "text"
      },
      "source": [
        "Loading the data\n",
        "\n",
        "In the tables I indentified NULL values and I assigned 0 to them.\n",
        "I will take it on during the data cleaning"
      ]
    },
    {
      "cell_type": "code",
      "metadata": {
        "id": "7Tm9BCoAc2bu",
        "colab_type": "code",
        "colab": {
          "resources": {
            "http://localhost:8080/nbextensions/google.colab/files.js": {
              "data": "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",
              "ok": true,
              "headers": [
                [
                  "content-type",
                  "application/javascript"
                ]
              ],
              "status": 200,
              "status_text": ""
            }
          },
          "base_uri": "https://localhost:8080/",
          "height": 412
        },
        "outputId": "4e9a0d91-bcbe-4dc1-a96c-1c32441d2f26"
      },
      "source": [
        "from google.colab import files\n",
        "uploaded = files.upload()"
      ],
      "execution_count": 2,
      "outputs": [
        {
          "output_type": "display_data",
          "data": {
            "text/html": [
              "\n",
              "     <input type=\"file\" id=\"files-d2e8b94b-8180-46af-b6ef-3a9068d33f02\" name=\"files[]\" multiple disabled\n",
              "        style=\"border:none\" />\n",
              "     <output id=\"result-d2e8b94b-8180-46af-b6ef-3a9068d33f02\">\n",
              "      Upload widget is only available when the cell has been executed in the\n",
              "      current browser session. Please rerun this cell to enable.\n",
              "      </output>\n",
              "      <script src=\"/nbextensions/google.colab/files.js\"></script> "
            ],
            "text/plain": [
              "<IPython.core.display.HTML object>"
            ]
          },
          "metadata": {
            "tags": []
          }
        },
        {
          "output_type": "stream",
          "text": [
            "Saving Deposit Interest.xlsx to Deposit Interest.xlsx\n",
            "Saving DGS1.csv to DGS1.csv\n",
            "Saving DGS1MO.csv to DGS1MO.csv\n",
            "Saving DGS2.csv to DGS2.csv\n",
            "Saving DGS3MO.csv to DGS3MO.csv\n",
            "Saving DGS5.csv to DGS5.csv\n",
            "Saving DGS6MO.csv to DGS6MO.csv\n",
            "Saving DGS7.csv to DGS7.csv\n",
            "Saving DGS10.csv to DGS10.csv\n",
            "Saving DGS20.csv to DGS20.csv\n",
            "Saving DGS30.csv to DGS30.csv\n"
          ],
          "name": "stdout"
        }
      ]
    },
    {
      "cell_type": "code",
      "metadata": {
        "id": "rVm_cjiCdG9n",
        "colab_type": "code",
        "colab": {}
      },
      "source": [
        "import io\n",
        "import pandas as pd\n",
        "rate = pd.read_excel(io.BytesIO(uploaded['Deposit Interest.xlsx']))\n",
        "DGS1 = pd.read_csv(io.BytesIO(uploaded['DGS1.csv']), sep = ';', decimal=',')\n",
        "DGS1MO = pd.read_csv(io.BytesIO(uploaded['DGS1MO.csv']), sep = ';', decimal = ',')\n",
        "DGS2 = pd.read_csv(io.BytesIO(uploaded['DGS2.csv']), sep = ';', decimal=',')\n",
        "DGS3MO = pd.read_csv(io.BytesIO(uploaded['DGS3MO.csv']), sep = ';', decimal=',')\n",
        "DGS5 = pd.read_csv(io.BytesIO(uploaded['DGS5.csv']), sep = ';', decimal=',')\n",
        "DGS6MO = pd.read_csv(io.BytesIO(uploaded['DGS6MO.csv']), sep = ';', decimal=',')\n",
        "DGS7 = pd.read_csv(io.BytesIO(uploaded['DGS7.csv']), sep = ';', decimal=',')\n",
        "DGS10 = pd.read_csv(io.BytesIO(uploaded['DGS10.csv']), sep = ';', decimal=',')\n",
        "DGS20 = pd.read_csv(io.BytesIO(uploaded['DGS20.csv']), sep = ';', decimal=',')\n",
        "DGS30 = pd.read_csv(io.BytesIO(uploaded['DGS30.csv']), sep = ';', decimal=',')"
      ],
      "execution_count": 3,
      "outputs": []
    },
    {
      "cell_type": "markdown",
      "metadata": {
        "id": "OzhBady0g4tZ",
        "colab_type": "text"
      },
      "source": [
        "Thirst I want to see the structure of every table and if there are any NULLs"
      ]
    },
    {
      "cell_type": "markdown",
      "metadata": {
        "id": "oo7RKzouhrtU",
        "colab_type": "text"
      },
      "source": [
        "In the table where is a dependent variable the oldest date is 1084Q1 so I expect in all tables where are explanatory variables the oldest date would be at least 1984Q1 otherwise I should consider ignore such variables due to the fact that there is only 136 observations since 1984Q1 and reduce it even more could result in a high variance."
      ]
    },
    {
      "cell_type": "code",
      "metadata": {
        "id": "59B1-uFjjlug",
        "colab_type": "code",
        "colab": {
          "base_uri": "https://localhost:8080/",
          "height": 323
        },
        "outputId": "e90cd745-a8fe-44ed-c949-7c594ecfefcb"
      },
      "source": [
        "print('dimension of the table:', rate.shape)\n",
        "print(rate.isnull().sum())\n",
        "rate.head()"
      ],
      "execution_count": 4,
      "outputs": [
        {
          "output_type": "stream",
          "text": [
            "dimension of the table: (136, 5)\n",
            "YYYYQQ                                   0\n",
            "Foreign deposits                         0\n",
            "Domestic deposits interest-bearing       0\n",
            "Domestic deposits noninterest-bearing    0\n",
            "Total interest expense                   0\n",
            "dtype: int64\n"
          ],
          "name": "stdout"
        },
        {
          "output_type": "execute_result",
          "data": {
            "text/html": [
              "<div>\n",
              "<style scoped>\n",
              "    .dataframe tbody tr th:only-of-type {\n",
              "        vertical-align: middle;\n",
              "    }\n",
              "\n",
              "    .dataframe tbody tr th {\n",
              "        vertical-align: top;\n",
              "    }\n",
              "\n",
              "    .dataframe thead th {\n",
              "        text-align: right;\n",
              "    }\n",
              "</style>\n",
              "<table border=\"1\" class=\"dataframe\">\n",
              "  <thead>\n",
              "    <tr style=\"text-align: right;\">\n",
              "      <th></th>\n",
              "      <th>YYYYQQ</th>\n",
              "      <th>Foreign deposits</th>\n",
              "      <th>Domestic deposits interest-bearing</th>\n",
              "      <th>Domestic deposits noninterest-bearing</th>\n",
              "      <th>Total interest expense</th>\n",
              "    </tr>\n",
              "  </thead>\n",
              "  <tbody>\n",
              "    <tr>\n",
              "      <th>0</th>\n",
              "      <td>1984Q1</td>\n",
              "      <td>346927.996</td>\n",
              "      <td>1860604.628</td>\n",
              "      <td>363955.726</td>\n",
              "      <td>59109.697</td>\n",
              "    </tr>\n",
              "    <tr>\n",
              "      <th>1</th>\n",
              "      <td>1984Q2</td>\n",
              "      <td>345313.290</td>\n",
              "      <td>1921612.686</td>\n",
              "      <td>379300.050</td>\n",
              "      <td>62633.848</td>\n",
              "    </tr>\n",
              "    <tr>\n",
              "      <th>2</th>\n",
              "      <td>1984Q3</td>\n",
              "      <td>326893.665</td>\n",
              "      <td>1964712.984</td>\n",
              "      <td>364125.250</td>\n",
              "      <td>67994.237</td>\n",
              "    </tr>\n",
              "    <tr>\n",
              "      <th>3</th>\n",
              "      <td>1984Q4</td>\n",
              "      <td>317569.815</td>\n",
              "      <td>2043037.290</td>\n",
              "      <td>421535.819</td>\n",
              "      <td>67890.338</td>\n",
              "    </tr>\n",
              "    <tr>\n",
              "      <th>4</th>\n",
              "      <td>1985Q1</td>\n",
              "      <td>332165.522</td>\n",
              "      <td>2086013.731</td>\n",
              "      <td>371462.367</td>\n",
              "      <td>65997.470</td>\n",
              "    </tr>\n",
              "  </tbody>\n",
              "</table>\n",
              "</div>"
            ],
            "text/plain": [
              "   YYYYQQ  ...  Total interest expense\n",
              "0  1984Q1  ...               59109.697\n",
              "1  1984Q2  ...               62633.848\n",
              "2  1984Q3  ...               67994.237\n",
              "3  1984Q4  ...               67890.338\n",
              "4  1985Q1  ...               65997.470\n",
              "\n",
              "[5 rows x 5 columns]"
            ]
          },
          "metadata": {
            "tags": []
          },
          "execution_count": 4
        }
      ]
    },
    {
      "cell_type": "code",
      "metadata": {
        "id": "V7pVRcPPdXmm",
        "colab_type": "code",
        "colab": {
          "base_uri": "https://localhost:8080/",
          "height": 272
        },
        "outputId": "79cc0af7-1111-45f5-c8eb-d4a36717e52a"
      },
      "source": [
        "print('dimension of the table:', DGS1.shape)\n",
        "print(DGS1.isnull().sum())\n",
        "DGS1.head()"
      ],
      "execution_count": 5,
      "outputs": [
        {
          "output_type": "stream",
          "text": [
            "dimension of the table: (14686, 2)\n",
            "DATE    0\n",
            "DGS1    0\n",
            "dtype: int64\n"
          ],
          "name": "stdout"
        },
        {
          "output_type": "execute_result",
          "data": {
            "text/html": [
              "<div>\n",
              "<style scoped>\n",
              "    .dataframe tbody tr th:only-of-type {\n",
              "        vertical-align: middle;\n",
              "    }\n",
              "\n",
              "    .dataframe tbody tr th {\n",
              "        vertical-align: top;\n",
              "    }\n",
              "\n",
              "    .dataframe thead th {\n",
              "        text-align: right;\n",
              "    }\n",
              "</style>\n",
              "<table border=\"1\" class=\"dataframe\">\n",
              "  <thead>\n",
              "    <tr style=\"text-align: right;\">\n",
              "      <th></th>\n",
              "      <th>DATE</th>\n",
              "      <th>DGS1</th>\n",
              "    </tr>\n",
              "  </thead>\n",
              "  <tbody>\n",
              "    <tr>\n",
              "      <th>0</th>\n",
              "      <td>02.01.1962</td>\n",
              "      <td>3.22</td>\n",
              "    </tr>\n",
              "    <tr>\n",
              "      <th>1</th>\n",
              "      <td>03.01.1962</td>\n",
              "      <td>3.24</td>\n",
              "    </tr>\n",
              "    <tr>\n",
              "      <th>2</th>\n",
              "      <td>04.01.1962</td>\n",
              "      <td>3.24</td>\n",
              "    </tr>\n",
              "    <tr>\n",
              "      <th>3</th>\n",
              "      <td>05.01.1962</td>\n",
              "      <td>3.26</td>\n",
              "    </tr>\n",
              "    <tr>\n",
              "      <th>4</th>\n",
              "      <td>08.01.1962</td>\n",
              "      <td>3.31</td>\n",
              "    </tr>\n",
              "  </tbody>\n",
              "</table>\n",
              "</div>"
            ],
            "text/plain": [
              "         DATE  DGS1\n",
              "0  02.01.1962  3.22\n",
              "1  03.01.1962  3.24\n",
              "2  04.01.1962  3.24\n",
              "3  05.01.1962  3.26\n",
              "4  08.01.1962  3.31"
            ]
          },
          "metadata": {
            "tags": []
          },
          "execution_count": 5
        }
      ]
    },
    {
      "cell_type": "markdown",
      "metadata": {
        "id": "KydWIzmWjGSY",
        "colab_type": "text"
      },
      "source": [
        "For DGS1MO the oldest date is 31.07.2001 so I should consider ignoring this variable"
      ]
    },
    {
      "cell_type": "code",
      "metadata": {
        "id": "CD2tPH66d65Z",
        "colab_type": "code",
        "colab": {
          "base_uri": "https://localhost:8080/",
          "height": 272
        },
        "outputId": "d7445f25-ffb2-498a-f281-be3bc135c858"
      },
      "source": [
        "print('dimension of the table:', DGS1MO.shape)\n",
        "print(DGS1MO.isnull().sum())\n",
        "DGS1MO.head()"
      ],
      "execution_count": 6,
      "outputs": [
        {
          "output_type": "stream",
          "text": [
            "dimension of the table: (4361, 2)\n",
            "DATE      0\n",
            "DGS1MO    0\n",
            "dtype: int64\n"
          ],
          "name": "stdout"
        },
        {
          "output_type": "execute_result",
          "data": {
            "text/html": [
              "<div>\n",
              "<style scoped>\n",
              "    .dataframe tbody tr th:only-of-type {\n",
              "        vertical-align: middle;\n",
              "    }\n",
              "\n",
              "    .dataframe tbody tr th {\n",
              "        vertical-align: top;\n",
              "    }\n",
              "\n",
              "    .dataframe thead th {\n",
              "        text-align: right;\n",
              "    }\n",
              "</style>\n",
              "<table border=\"1\" class=\"dataframe\">\n",
              "  <thead>\n",
              "    <tr style=\"text-align: right;\">\n",
              "      <th></th>\n",
              "      <th>DATE</th>\n",
              "      <th>DGS1MO</th>\n",
              "    </tr>\n",
              "  </thead>\n",
              "  <tbody>\n",
              "    <tr>\n",
              "      <th>0</th>\n",
              "      <td>31.07.2001</td>\n",
              "      <td>3.67</td>\n",
              "    </tr>\n",
              "    <tr>\n",
              "      <th>1</th>\n",
              "      <td>01.08.2001</td>\n",
              "      <td>3.65</td>\n",
              "    </tr>\n",
              "    <tr>\n",
              "      <th>2</th>\n",
              "      <td>02.08.2001</td>\n",
              "      <td>3.65</td>\n",
              "    </tr>\n",
              "    <tr>\n",
              "      <th>3</th>\n",
              "      <td>03.08.2001</td>\n",
              "      <td>3.63</td>\n",
              "    </tr>\n",
              "    <tr>\n",
              "      <th>4</th>\n",
              "      <td>06.08.2001</td>\n",
              "      <td>3.62</td>\n",
              "    </tr>\n",
              "  </tbody>\n",
              "</table>\n",
              "</div>"
            ],
            "text/plain": [
              "         DATE  DGS1MO\n",
              "0  31.07.2001    3.67\n",
              "1  01.08.2001    3.65\n",
              "2  02.08.2001    3.65\n",
              "3  03.08.2001    3.63\n",
              "4  06.08.2001    3.62"
            ]
          },
          "metadata": {
            "tags": []
          },
          "execution_count": 6
        }
      ]
    },
    {
      "cell_type": "code",
      "metadata": {
        "id": "ftYPDwvTdccI",
        "colab_type": "code",
        "colab": {
          "base_uri": "https://localhost:8080/",
          "height": 272
        },
        "outputId": "b5956c91-481b-4d0b-9b31-5baef6a991da"
      },
      "source": [
        "print('dimension of the table:', DGS2.shape)\n",
        "print(DGS2.isnull().sum())\n",
        "DGS2.head()"
      ],
      "execution_count": 7,
      "outputs": [
        {
          "output_type": "stream",
          "text": [
            "dimension of the table: (10926, 2)\n",
            "DATE    0\n",
            "DGS2    0\n",
            "dtype: int64\n"
          ],
          "name": "stdout"
        },
        {
          "output_type": "execute_result",
          "data": {
            "text/html": [
              "<div>\n",
              "<style scoped>\n",
              "    .dataframe tbody tr th:only-of-type {\n",
              "        vertical-align: middle;\n",
              "    }\n",
              "\n",
              "    .dataframe tbody tr th {\n",
              "        vertical-align: top;\n",
              "    }\n",
              "\n",
              "    .dataframe thead th {\n",
              "        text-align: right;\n",
              "    }\n",
              "</style>\n",
              "<table border=\"1\" class=\"dataframe\">\n",
              "  <thead>\n",
              "    <tr style=\"text-align: right;\">\n",
              "      <th></th>\n",
              "      <th>DATE</th>\n",
              "      <th>DGS2</th>\n",
              "    </tr>\n",
              "  </thead>\n",
              "  <tbody>\n",
              "    <tr>\n",
              "      <th>0</th>\n",
              "      <td>01.06.1976</td>\n",
              "      <td>7.26</td>\n",
              "    </tr>\n",
              "    <tr>\n",
              "      <th>1</th>\n",
              "      <td>02.06.1976</td>\n",
              "      <td>7.23</td>\n",
              "    </tr>\n",
              "    <tr>\n",
              "      <th>2</th>\n",
              "      <td>03.06.1976</td>\n",
              "      <td>7.22</td>\n",
              "    </tr>\n",
              "    <tr>\n",
              "      <th>3</th>\n",
              "      <td>04.06.1976</td>\n",
              "      <td>7.12</td>\n",
              "    </tr>\n",
              "    <tr>\n",
              "      <th>4</th>\n",
              "      <td>07.06.1976</td>\n",
              "      <td>7.90</td>\n",
              "    </tr>\n",
              "  </tbody>\n",
              "</table>\n",
              "</div>"
            ],
            "text/plain": [
              "         DATE  DGS2\n",
              "0  01.06.1976  7.26\n",
              "1  02.06.1976  7.23\n",
              "2  03.06.1976  7.22\n",
              "3  04.06.1976  7.12\n",
              "4  07.06.1976  7.90"
            ]
          },
          "metadata": {
            "tags": []
          },
          "execution_count": 7
        }
      ]
    },
    {
      "cell_type": "code",
      "metadata": {
        "id": "ZavlE484f5pc",
        "colab_type": "code",
        "colab": {
          "base_uri": "https://localhost:8080/",
          "height": 272
        },
        "outputId": "a6ff4bd4-3813-47cb-97d7-87f1438e5d25"
      },
      "source": [
        "print('dimension of the table:', DGS3MO.shape)\n",
        "print(DGS3MO.isnull().sum())\n",
        "DGS3MO.head()"
      ],
      "execution_count": 8,
      "outputs": [
        {
          "output_type": "stream",
          "text": [
            "dimension of the table: (9467, 2)\n",
            "DATE      0\n",
            "DGS3MO    0\n",
            "dtype: int64\n"
          ],
          "name": "stdout"
        },
        {
          "output_type": "execute_result",
          "data": {
            "text/html": [
              "<div>\n",
              "<style scoped>\n",
              "    .dataframe tbody tr th:only-of-type {\n",
              "        vertical-align: middle;\n",
              "    }\n",
              "\n",
              "    .dataframe tbody tr th {\n",
              "        vertical-align: top;\n",
              "    }\n",
              "\n",
              "    .dataframe thead th {\n",
              "        text-align: right;\n",
              "    }\n",
              "</style>\n",
              "<table border=\"1\" class=\"dataframe\">\n",
              "  <thead>\n",
              "    <tr style=\"text-align: right;\">\n",
              "      <th></th>\n",
              "      <th>DATE</th>\n",
              "      <th>DGS3MO</th>\n",
              "    </tr>\n",
              "  </thead>\n",
              "  <tbody>\n",
              "    <tr>\n",
              "      <th>0</th>\n",
              "      <td>04.01.1982</td>\n",
              "      <td>11.87</td>\n",
              "    </tr>\n",
              "    <tr>\n",
              "      <th>1</th>\n",
              "      <td>05.01.1982</td>\n",
              "      <td>12.20</td>\n",
              "    </tr>\n",
              "    <tr>\n",
              "      <th>2</th>\n",
              "      <td>06.01.1982</td>\n",
              "      <td>12.16</td>\n",
              "    </tr>\n",
              "    <tr>\n",
              "      <th>3</th>\n",
              "      <td>07.01.1982</td>\n",
              "      <td>12.17</td>\n",
              "    </tr>\n",
              "    <tr>\n",
              "      <th>4</th>\n",
              "      <td>08.01.1982</td>\n",
              "      <td>11.98</td>\n",
              "    </tr>\n",
              "  </tbody>\n",
              "</table>\n",
              "</div>"
            ],
            "text/plain": [
              "         DATE  DGS3MO\n",
              "0  04.01.1982   11.87\n",
              "1  05.01.1982   12.20\n",
              "2  06.01.1982   12.16\n",
              "3  07.01.1982   12.17\n",
              "4  08.01.1982   11.98"
            ]
          },
          "metadata": {
            "tags": []
          },
          "execution_count": 8
        }
      ]
    },
    {
      "cell_type": "code",
      "metadata": {
        "id": "qCUes2EHf_GA",
        "colab_type": "code",
        "colab": {
          "base_uri": "https://localhost:8080/",
          "height": 272
        },
        "outputId": "7bc3dfa9-d291-4f7c-e517-cca0c6626d26"
      },
      "source": [
        "print('dimension of the table:', DGS5.shape)\n",
        "print(DGS5.isnull().sum())\n",
        "DGS5.head()"
      ],
      "execution_count": 9,
      "outputs": [
        {
          "output_type": "stream",
          "text": [
            "dimension of the table: (14686, 2)\n",
            "DATE    0\n",
            "DGS5    0\n",
            "dtype: int64\n"
          ],
          "name": "stdout"
        },
        {
          "output_type": "execute_result",
          "data": {
            "text/html": [
              "<div>\n",
              "<style scoped>\n",
              "    .dataframe tbody tr th:only-of-type {\n",
              "        vertical-align: middle;\n",
              "    }\n",
              "\n",
              "    .dataframe tbody tr th {\n",
              "        vertical-align: top;\n",
              "    }\n",
              "\n",
              "    .dataframe thead th {\n",
              "        text-align: right;\n",
              "    }\n",
              "</style>\n",
              "<table border=\"1\" class=\"dataframe\">\n",
              "  <thead>\n",
              "    <tr style=\"text-align: right;\">\n",
              "      <th></th>\n",
              "      <th>DATE</th>\n",
              "      <th>DGS5</th>\n",
              "    </tr>\n",
              "  </thead>\n",
              "  <tbody>\n",
              "    <tr>\n",
              "      <th>0</th>\n",
              "      <td>02.01.1962</td>\n",
              "      <td>3.88</td>\n",
              "    </tr>\n",
              "    <tr>\n",
              "      <th>1</th>\n",
              "      <td>03.01.1962</td>\n",
              "      <td>3.87</td>\n",
              "    </tr>\n",
              "    <tr>\n",
              "      <th>2</th>\n",
              "      <td>04.01.1962</td>\n",
              "      <td>3.86</td>\n",
              "    </tr>\n",
              "    <tr>\n",
              "      <th>3</th>\n",
              "      <td>05.01.1962</td>\n",
              "      <td>3.89</td>\n",
              "    </tr>\n",
              "    <tr>\n",
              "      <th>4</th>\n",
              "      <td>08.01.1962</td>\n",
              "      <td>3.91</td>\n",
              "    </tr>\n",
              "  </tbody>\n",
              "</table>\n",
              "</div>"
            ],
            "text/plain": [
              "         DATE  DGS5\n",
              "0  02.01.1962  3.88\n",
              "1  03.01.1962  3.87\n",
              "2  04.01.1962  3.86\n",
              "3  05.01.1962  3.89\n",
              "4  08.01.1962  3.91"
            ]
          },
          "metadata": {
            "tags": []
          },
          "execution_count": 9
        }
      ]
    },
    {
      "cell_type": "code",
      "metadata": {
        "id": "zLYc6GzLgEVY",
        "colab_type": "code",
        "colab": {
          "base_uri": "https://localhost:8080/",
          "height": 272
        },
        "outputId": "a86d18bf-5bdd-4ef8-802b-038e9a99b8a2"
      },
      "source": [
        "print('dimension of the table:', DGS6MO.shape)\n",
        "print(DGS6MO.isnull().sum())\n",
        "DGS6MO.head()"
      ],
      "execution_count": 10,
      "outputs": [
        {
          "output_type": "stream",
          "text": [
            "dimension of the table: (9467, 2)\n",
            "DATE      0\n",
            "DGS6MO    0\n",
            "dtype: int64\n"
          ],
          "name": "stdout"
        },
        {
          "output_type": "execute_result",
          "data": {
            "text/html": [
              "<div>\n",
              "<style scoped>\n",
              "    .dataframe tbody tr th:only-of-type {\n",
              "        vertical-align: middle;\n",
              "    }\n",
              "\n",
              "    .dataframe tbody tr th {\n",
              "        vertical-align: top;\n",
              "    }\n",
              "\n",
              "    .dataframe thead th {\n",
              "        text-align: right;\n",
              "    }\n",
              "</style>\n",
              "<table border=\"1\" class=\"dataframe\">\n",
              "  <thead>\n",
              "    <tr style=\"text-align: right;\">\n",
              "      <th></th>\n",
              "      <th>DATE</th>\n",
              "      <th>DGS6MO</th>\n",
              "    </tr>\n",
              "  </thead>\n",
              "  <tbody>\n",
              "    <tr>\n",
              "      <th>0</th>\n",
              "      <td>04.01.1982</td>\n",
              "      <td>13.16</td>\n",
              "    </tr>\n",
              "    <tr>\n",
              "      <th>1</th>\n",
              "      <td>05.01.1982</td>\n",
              "      <td>13.41</td>\n",
              "    </tr>\n",
              "    <tr>\n",
              "      <th>2</th>\n",
              "      <td>06.01.1982</td>\n",
              "      <td>13.46</td>\n",
              "    </tr>\n",
              "    <tr>\n",
              "      <th>3</th>\n",
              "      <td>07.01.1982</td>\n",
              "      <td>13.43</td>\n",
              "    </tr>\n",
              "    <tr>\n",
              "      <th>4</th>\n",
              "      <td>08.01.1982</td>\n",
              "      <td>13.35</td>\n",
              "    </tr>\n",
              "  </tbody>\n",
              "</table>\n",
              "</div>"
            ],
            "text/plain": [
              "         DATE  DGS6MO\n",
              "0  04.01.1982   13.16\n",
              "1  05.01.1982   13.41\n",
              "2  06.01.1982   13.46\n",
              "3  07.01.1982   13.43\n",
              "4  08.01.1982   13.35"
            ]
          },
          "metadata": {
            "tags": []
          },
          "execution_count": 10
        }
      ]
    },
    {
      "cell_type": "code",
      "metadata": {
        "id": "Kb5MJaElgJii",
        "colab_type": "code",
        "colab": {
          "base_uri": "https://localhost:8080/",
          "height": 272
        },
        "outputId": "c21dd2b8-274d-4de9-b48c-044926255263"
      },
      "source": [
        "print('dimension of the table:', DGS7.shape)\n",
        "print(DGS7.isnull().sum())\n",
        "DGS7.head()"
      ],
      "execution_count": 11,
      "outputs": [
        {
          "output_type": "stream",
          "text": [
            "dimension of the table: (12731, 2)\n",
            "DATE    0\n",
            "DGS7    0\n",
            "dtype: int64\n"
          ],
          "name": "stdout"
        },
        {
          "output_type": "execute_result",
          "data": {
            "text/html": [
              "<div>\n",
              "<style scoped>\n",
              "    .dataframe tbody tr th:only-of-type {\n",
              "        vertical-align: middle;\n",
              "    }\n",
              "\n",
              "    .dataframe tbody tr th {\n",
              "        vertical-align: top;\n",
              "    }\n",
              "\n",
              "    .dataframe thead th {\n",
              "        text-align: right;\n",
              "    }\n",
              "</style>\n",
              "<table border=\"1\" class=\"dataframe\">\n",
              "  <thead>\n",
              "    <tr style=\"text-align: right;\">\n",
              "      <th></th>\n",
              "      <th>DATE</th>\n",
              "      <th>DGS7</th>\n",
              "    </tr>\n",
              "  </thead>\n",
              "  <tbody>\n",
              "    <tr>\n",
              "      <th>0</th>\n",
              "      <td>01.07.1969</td>\n",
              "      <td>6.88</td>\n",
              "    </tr>\n",
              "    <tr>\n",
              "      <th>1</th>\n",
              "      <td>02.07.1969</td>\n",
              "      <td>6.89</td>\n",
              "    </tr>\n",
              "    <tr>\n",
              "      <th>2</th>\n",
              "      <td>03.07.1969</td>\n",
              "      <td>6.85</td>\n",
              "    </tr>\n",
              "    <tr>\n",
              "      <th>3</th>\n",
              "      <td>04.07.1969</td>\n",
              "      <td>0.00</td>\n",
              "    </tr>\n",
              "    <tr>\n",
              "      <th>4</th>\n",
              "      <td>07.07.1969</td>\n",
              "      <td>6.86</td>\n",
              "    </tr>\n",
              "  </tbody>\n",
              "</table>\n",
              "</div>"
            ],
            "text/plain": [
              "         DATE  DGS7\n",
              "0  01.07.1969  6.88\n",
              "1  02.07.1969  6.89\n",
              "2  03.07.1969  6.85\n",
              "3  04.07.1969  0.00\n",
              "4  07.07.1969  6.86"
            ]
          },
          "metadata": {
            "tags": []
          },
          "execution_count": 11
        }
      ]
    },
    {
      "cell_type": "code",
      "metadata": {
        "id": "vLwVvw4AgQYb",
        "colab_type": "code",
        "colab": {
          "base_uri": "https://localhost:8080/",
          "height": 272
        },
        "outputId": "b4f0420f-929b-4964-dffc-624812f6cc54"
      },
      "source": [
        "print('dimension of the table:', DGS10.shape)\n",
        "print(DGS10.isnull().sum())\n",
        "DGS10.head()"
      ],
      "execution_count": 12,
      "outputs": [
        {
          "output_type": "stream",
          "text": [
            "dimension of the table: (14686, 2)\n",
            "DATE     0\n",
            "DGS10    0\n",
            "dtype: int64\n"
          ],
          "name": "stdout"
        },
        {
          "output_type": "execute_result",
          "data": {
            "text/html": [
              "<div>\n",
              "<style scoped>\n",
              "    .dataframe tbody tr th:only-of-type {\n",
              "        vertical-align: middle;\n",
              "    }\n",
              "\n",
              "    .dataframe tbody tr th {\n",
              "        vertical-align: top;\n",
              "    }\n",
              "\n",
              "    .dataframe thead th {\n",
              "        text-align: right;\n",
              "    }\n",
              "</style>\n",
              "<table border=\"1\" class=\"dataframe\">\n",
              "  <thead>\n",
              "    <tr style=\"text-align: right;\">\n",
              "      <th></th>\n",
              "      <th>DATE</th>\n",
              "      <th>DGS10</th>\n",
              "    </tr>\n",
              "  </thead>\n",
              "  <tbody>\n",
              "    <tr>\n",
              "      <th>0</th>\n",
              "      <td>02.01.1962</td>\n",
              "      <td>4.06</td>\n",
              "    </tr>\n",
              "    <tr>\n",
              "      <th>1</th>\n",
              "      <td>03.01.1962</td>\n",
              "      <td>4.03</td>\n",
              "    </tr>\n",
              "    <tr>\n",
              "      <th>2</th>\n",
              "      <td>04.01.1962</td>\n",
              "      <td>3.99</td>\n",
              "    </tr>\n",
              "    <tr>\n",
              "      <th>3</th>\n",
              "      <td>05.01.1962</td>\n",
              "      <td>4.02</td>\n",
              "    </tr>\n",
              "    <tr>\n",
              "      <th>4</th>\n",
              "      <td>08.01.1962</td>\n",
              "      <td>4.03</td>\n",
              "    </tr>\n",
              "  </tbody>\n",
              "</table>\n",
              "</div>"
            ],
            "text/plain": [
              "         DATE  DGS10\n",
              "0  02.01.1962   4.06\n",
              "1  03.01.1962   4.03\n",
              "2  04.01.1962   3.99\n",
              "3  05.01.1962   4.02\n",
              "4  08.01.1962   4.03"
            ]
          },
          "metadata": {
            "tags": []
          },
          "execution_count": 12
        }
      ]
    },
    {
      "cell_type": "code",
      "metadata": {
        "id": "4OVfQA9fgWv3",
        "colab_type": "code",
        "colab": {
          "base_uri": "https://localhost:8080/",
          "height": 272
        },
        "outputId": "eda298aa-33d8-4f6d-909e-f560a7eea217"
      },
      "source": [
        "print('dimension of the table:', DGS20.shape)\n",
        "print(DGS20.isnull().sum())\n",
        "DGS20.head()"
      ],
      "execution_count": 13,
      "outputs": [
        {
          "output_type": "stream",
          "text": [
            "dimension of the table: (6403, 2)\n",
            "DATE     0\n",
            "DGS20    0\n",
            "dtype: int64\n"
          ],
          "name": "stdout"
        },
        {
          "output_type": "execute_result",
          "data": {
            "text/html": [
              "<div>\n",
              "<style scoped>\n",
              "    .dataframe tbody tr th:only-of-type {\n",
              "        vertical-align: middle;\n",
              "    }\n",
              "\n",
              "    .dataframe tbody tr th {\n",
              "        vertical-align: top;\n",
              "    }\n",
              "\n",
              "    .dataframe thead th {\n",
              "        text-align: right;\n",
              "    }\n",
              "</style>\n",
              "<table border=\"1\" class=\"dataframe\">\n",
              "  <thead>\n",
              "    <tr style=\"text-align: right;\">\n",
              "      <th></th>\n",
              "      <th>DATE</th>\n",
              "      <th>DGS20</th>\n",
              "    </tr>\n",
              "  </thead>\n",
              "  <tbody>\n",
              "    <tr>\n",
              "      <th>0</th>\n",
              "      <td>01.10.1993</td>\n",
              "      <td>6.12</td>\n",
              "    </tr>\n",
              "    <tr>\n",
              "      <th>1</th>\n",
              "      <td>04.10.1993</td>\n",
              "      <td>6.10</td>\n",
              "    </tr>\n",
              "    <tr>\n",
              "      <th>2</th>\n",
              "      <td>05.10.1993</td>\n",
              "      <td>6.12</td>\n",
              "    </tr>\n",
              "    <tr>\n",
              "      <th>3</th>\n",
              "      <td>06.10.1993</td>\n",
              "      <td>6.12</td>\n",
              "    </tr>\n",
              "    <tr>\n",
              "      <th>4</th>\n",
              "      <td>07.10.1993</td>\n",
              "      <td>6.11</td>\n",
              "    </tr>\n",
              "  </tbody>\n",
              "</table>\n",
              "</div>"
            ],
            "text/plain": [
              "         DATE  DGS20\n",
              "0  01.10.1993   6.12\n",
              "1  04.10.1993   6.10\n",
              "2  05.10.1993   6.12\n",
              "3  06.10.1993   6.12\n",
              "4  07.10.1993   6.11"
            ]
          },
          "metadata": {
            "tags": []
          },
          "execution_count": 13
        }
      ]
    },
    {
      "cell_type": "code",
      "metadata": {
        "id": "Yf2CfHnigcHu",
        "colab_type": "code",
        "colab": {
          "base_uri": "https://localhost:8080/",
          "height": 272
        },
        "outputId": "23eb6c44-0d32-4e0d-8cb0-650fd1ec392f"
      },
      "source": [
        "print('dimension of the table:', DGS30.shape)\n",
        "print(DGS30.isnull().sum())\n",
        "DGS30.head()"
      ],
      "execution_count": 14,
      "outputs": [
        {
          "output_type": "stream",
          "text": [
            "dimension of the table: (11358, 2)\n",
            "DATE     0\n",
            "DGS30    0\n",
            "dtype: int64\n"
          ],
          "name": "stdout"
        },
        {
          "output_type": "execute_result",
          "data": {
            "text/html": [
              "<div>\n",
              "<style scoped>\n",
              "    .dataframe tbody tr th:only-of-type {\n",
              "        vertical-align: middle;\n",
              "    }\n",
              "\n",
              "    .dataframe tbody tr th {\n",
              "        vertical-align: top;\n",
              "    }\n",
              "\n",
              "    .dataframe thead th {\n",
              "        text-align: right;\n",
              "    }\n",
              "</style>\n",
              "<table border=\"1\" class=\"dataframe\">\n",
              "  <thead>\n",
              "    <tr style=\"text-align: right;\">\n",
              "      <th></th>\n",
              "      <th>DATE</th>\n",
              "      <th>DGS30</th>\n",
              "    </tr>\n",
              "  </thead>\n",
              "  <tbody>\n",
              "    <tr>\n",
              "      <th>0</th>\n",
              "      <td>15.02.1977</td>\n",
              "      <td>7.70</td>\n",
              "    </tr>\n",
              "    <tr>\n",
              "      <th>1</th>\n",
              "      <td>16.02.1977</td>\n",
              "      <td>7.67</td>\n",
              "    </tr>\n",
              "    <tr>\n",
              "      <th>2</th>\n",
              "      <td>17.02.1977</td>\n",
              "      <td>7.67</td>\n",
              "    </tr>\n",
              "    <tr>\n",
              "      <th>3</th>\n",
              "      <td>18.02.1977</td>\n",
              "      <td>7.76</td>\n",
              "    </tr>\n",
              "    <tr>\n",
              "      <th>4</th>\n",
              "      <td>21.02.1977</td>\n",
              "      <td>0.00</td>\n",
              "    </tr>\n",
              "  </tbody>\n",
              "</table>\n",
              "</div>"
            ],
            "text/plain": [
              "         DATE  DGS30\n",
              "0  15.02.1977   7.70\n",
              "1  16.02.1977   7.67\n",
              "2  17.02.1977   7.67\n",
              "3  18.02.1977   7.76\n",
              "4  21.02.1977   0.00"
            ]
          },
          "metadata": {
            "tags": []
          },
          "execution_count": 14
        }
      ]
    },
    {
      "cell_type": "markdown",
      "metadata": {
        "id": "2rNbj5zu3UKn",
        "colab_type": "text"
      },
      "source": [
        "Creating a function which enable me extract a month from a date.\n",
        "I will be usefull for me in future data engineering."
      ]
    },
    {
      "cell_type": "code",
      "metadata": {
        "id": "iUyEAmzy3zd0",
        "colab_type": "code",
        "colab": {}
      },
      "source": [
        "def month(data):\n",
        "  a = []\n",
        "  for i in range(0, len(data)):\n",
        "    a.append(data['DATE'][i][3:5])       \n",
        "  return(a)"
      ],
      "execution_count": 15,
      "outputs": []
    },
    {
      "cell_type": "code",
      "metadata": {
        "id": "N738-S6BrFEa",
        "colab_type": "code",
        "colab": {}
      },
      "source": [
        "DGS1['Month'] = month(DGS1)\n",
        "DGS1MO['Month'] = month(DGS1MO)\n",
        "DGS2['Month'] = month(DGS2)\n",
        "DGS3MO['Month'] = month(DGS3MO)\n",
        "DGS5['Month'] = month(DGS5)\n",
        "DGS6MO['Month'] = month(DGS6MO)\n",
        "DGS7['Month'] = month(DGS7)\n",
        "DGS10['Month'] = month(DGS10)\n",
        "DGS20['Month'] = month(DGS20)\n",
        "DGS30['Month'] = month(DGS30)"
      ],
      "execution_count": 16,
      "outputs": []
    },
    {
      "cell_type": "code",
      "metadata": {
        "id": "nR8KrDz-F3Sv",
        "colab_type": "code",
        "colab": {
          "base_uri": "https://localhost:8080/",
          "height": 204
        },
        "outputId": "539b1b13-419f-47d5-9229-10d272927ca8"
      },
      "source": [
        "DGS1.head()"
      ],
      "execution_count": 17,
      "outputs": [
        {
          "output_type": "execute_result",
          "data": {
            "text/html": [
              "<div>\n",
              "<style scoped>\n",
              "    .dataframe tbody tr th:only-of-type {\n",
              "        vertical-align: middle;\n",
              "    }\n",
              "\n",
              "    .dataframe tbody tr th {\n",
              "        vertical-align: top;\n",
              "    }\n",
              "\n",
              "    .dataframe thead th {\n",
              "        text-align: right;\n",
              "    }\n",
              "</style>\n",
              "<table border=\"1\" class=\"dataframe\">\n",
              "  <thead>\n",
              "    <tr style=\"text-align: right;\">\n",
              "      <th></th>\n",
              "      <th>DATE</th>\n",
              "      <th>DGS1</th>\n",
              "      <th>Month</th>\n",
              "    </tr>\n",
              "  </thead>\n",
              "  <tbody>\n",
              "    <tr>\n",
              "      <th>0</th>\n",
              "      <td>02.01.1962</td>\n",
              "      <td>3.22</td>\n",
              "      <td>01</td>\n",
              "    </tr>\n",
              "    <tr>\n",
              "      <th>1</th>\n",
              "      <td>03.01.1962</td>\n",
              "      <td>3.24</td>\n",
              "      <td>01</td>\n",
              "    </tr>\n",
              "    <tr>\n",
              "      <th>2</th>\n",
              "      <td>04.01.1962</td>\n",
              "      <td>3.24</td>\n",
              "      <td>01</td>\n",
              "    </tr>\n",
              "    <tr>\n",
              "      <th>3</th>\n",
              "      <td>05.01.1962</td>\n",
              "      <td>3.26</td>\n",
              "      <td>01</td>\n",
              "    </tr>\n",
              "    <tr>\n",
              "      <th>4</th>\n",
              "      <td>08.01.1962</td>\n",
              "      <td>3.31</td>\n",
              "      <td>01</td>\n",
              "    </tr>\n",
              "  </tbody>\n",
              "</table>\n",
              "</div>"
            ],
            "text/plain": [
              "         DATE  DGS1 Month\n",
              "0  02.01.1962  3.22    01\n",
              "1  03.01.1962  3.24    01\n",
              "2  04.01.1962  3.24    01\n",
              "3  05.01.1962  3.26    01\n",
              "4  08.01.1962  3.31    01"
            ]
          },
          "metadata": {
            "tags": []
          },
          "execution_count": 17
        }
      ]
    },
    {
      "cell_type": "markdown",
      "metadata": {
        "id": "me0gmA4YyN0Q",
        "colab_type": "text"
      },
      "source": [
        "Function which assign 1 if the observation is the first observation in a given month. It's just to make easier converting data to desired(Quarter) format later on"
      ]
    },
    {
      "cell_type": "code",
      "metadata": {
        "id": "MJLQQs9Csttz",
        "colab_type": "code",
        "colab": {}
      },
      "source": [
        "def func(data):\n",
        "  a = [1]\n",
        "  for i in range(1, len(data)):\n",
        "    if int(data['DATE'][i][-4:]) > int(data['DATE'][i-1][-4:]):\n",
        "      a.append(1)\n",
        "    elif data['Month'][i] > data['Month'][i-1]:\n",
        "      a.append(1)\n",
        "    else:\n",
        "      a.append(0)  \n",
        "  return(a)  "
      ],
      "execution_count": 18,
      "outputs": []
    },
    {
      "cell_type": "code",
      "metadata": {
        "id": "y6DAiLnSvk3v",
        "colab_type": "code",
        "colab": {}
      },
      "source": [
        "DGS1['func'] = func(DGS1)\n",
        "DGS1MO['func'] = func(DGS1MO)\n",
        "DGS2['func'] = func(DGS2)\n",
        "DGS3MO['func'] = func(DGS3MO)\n",
        "DGS5['func'] = func(DGS5)\n",
        "DGS6MO['func'] = func(DGS6MO)\n",
        "DGS7['func'] = func(DGS7)\n",
        "DGS10['func'] = func(DGS10)\n",
        "DGS20['func'] = func(DGS20)\n",
        "DGS30['func'] = func(DGS30)"
      ],
      "execution_count": 19,
      "outputs": []
    },
    {
      "cell_type": "code",
      "metadata": {
        "id": "sv4BDcwqrFA3",
        "colab_type": "code",
        "colab": {
          "base_uri": "https://localhost:8080/",
          "height": 1000
        },
        "outputId": "8a451a0a-55db-44bb-caee-080a2194a959"
      },
      "source": [
        "print(DGS1.head(),'\\n', DGS1MO.head(), '\\n',DGS2.head(),'\\n', DGS3MO.head(), '\\n', DGS5.head(),'\\n', DGS6MO.head(),'\\n',\n",
        "      DGS7.head(),'\\n', DGS10.head(),'\\n', DGS20.head(),'\\n', DGS30.head())"
      ],
      "execution_count": 20,
      "outputs": [
        {
          "output_type": "stream",
          "text": [
            "         DATE  DGS1 Month  func\n",
            "0  02.01.1962  3.22    01     1\n",
            "1  03.01.1962  3.24    01     0\n",
            "2  04.01.1962  3.24    01     0\n",
            "3  05.01.1962  3.26    01     0\n",
            "4  08.01.1962  3.31    01     0 \n",
            "          DATE  DGS1MO Month  func\n",
            "0  31.07.2001    3.67    07     1\n",
            "1  01.08.2001    3.65    08     1\n",
            "2  02.08.2001    3.65    08     0\n",
            "3  03.08.2001    3.63    08     0\n",
            "4  06.08.2001    3.62    08     0 \n",
            "          DATE  DGS2 Month  func\n",
            "0  01.06.1976  7.26    06     1\n",
            "1  02.06.1976  7.23    06     0\n",
            "2  03.06.1976  7.22    06     0\n",
            "3  04.06.1976  7.12    06     0\n",
            "4  07.06.1976  7.90    06     0 \n",
            "          DATE  DGS3MO Month  func\n",
            "0  04.01.1982   11.87    01     1\n",
            "1  05.01.1982   12.20    01     0\n",
            "2  06.01.1982   12.16    01     0\n",
            "3  07.01.1982   12.17    01     0\n",
            "4  08.01.1982   11.98    01     0 \n",
            "          DATE  DGS5 Month  func\n",
            "0  02.01.1962  3.88    01     1\n",
            "1  03.01.1962  3.87    01     0\n",
            "2  04.01.1962  3.86    01     0\n",
            "3  05.01.1962  3.89    01     0\n",
            "4  08.01.1962  3.91    01     0 \n",
            "          DATE  DGS6MO Month  func\n",
            "0  04.01.1982   13.16    01     1\n",
            "1  05.01.1982   13.41    01     0\n",
            "2  06.01.1982   13.46    01     0\n",
            "3  07.01.1982   13.43    01     0\n",
            "4  08.01.1982   13.35    01     0 \n",
            "          DATE  DGS7 Month  func\n",
            "0  01.07.1969  6.88    07     1\n",
            "1  02.07.1969  6.89    07     0\n",
            "2  03.07.1969  6.85    07     0\n",
            "3  04.07.1969  0.00    07     0\n",
            "4  07.07.1969  6.86    07     0 \n",
            "          DATE  DGS10 Month  func\n",
            "0  02.01.1962   4.06    01     1\n",
            "1  03.01.1962   4.03    01     0\n",
            "2  04.01.1962   3.99    01     0\n",
            "3  05.01.1962   4.02    01     0\n",
            "4  08.01.1962   4.03    01     0 \n",
            "          DATE  DGS20 Month  func\n",
            "0  01.10.1993   6.12    10     1\n",
            "1  04.10.1993   6.10    10     0\n",
            "2  05.10.1993   6.12    10     0\n",
            "3  06.10.1993   6.12    10     0\n",
            "4  07.10.1993   6.11    10     0 \n",
            "          DATE  DGS30 Month  func\n",
            "0  15.02.1977   7.70    02     1\n",
            "1  16.02.1977   7.67    02     0\n",
            "2  17.02.1977   7.67    02     0\n",
            "3  18.02.1977   7.76    02     0\n",
            "4  21.02.1977   0.00    02     0\n"
          ],
          "name": "stdout"
        }
      ]
    },
    {
      "cell_type": "markdown",
      "metadata": {
        "id": "f9pNoIej0E-2",
        "colab_type": "text"
      },
      "source": [
        "As We can see above there are free variables: DGS1MO, DGS2, DGS30 for whom first observation is not a first day in the quarter so I need to assign \"func\" for them"
      ]
    },
    {
      "cell_type": "code",
      "metadata": {
        "id": "oTI-8j7V0ZV9",
        "colab_type": "code",
        "colab": {}
      },
      "source": [
        "DGS1MO['func'][0] = 0\n",
        "DGS2['func'][0] = 0\n",
        "DGS30['func'][0] = 0"
      ],
      "execution_count": 21,
      "outputs": []
    },
    {
      "cell_type": "markdown",
      "metadata": {
        "id": "NgCDx7go3oBU",
        "colab_type": "text"
      },
      "source": [
        "Below I'm declaring a function which enables me extract quarter from a date."
      ]
    },
    {
      "cell_type": "code",
      "metadata": {
        "id": "gbHV7t4Z2szv",
        "colab_type": "code",
        "colab": {}
      },
      "source": [
        "def quarter(data):\n",
        "  a = []\n",
        "  for i in range(0, len(data)):\n",
        "    if (data['func'][i] == 1) and (data['Month'][i] == '01'):\n",
        "      a.append(1)\n",
        "    elif (data['func'][i] == 1) and (data['Month'][i] == '04'):\n",
        "      a.append(2) \n",
        "    elif (data['func'][i] == 1) and (data['Month'][i] == '07'): \n",
        "      a.append(3) \n",
        "    elif (data['func'][i] == 1) and (data['Month'][i] == '10'):  \n",
        "      a.append(4)\n",
        "    else:\n",
        "      a.append(-1)  \n",
        "  return(a)  "
      ],
      "execution_count": 22,
      "outputs": []
    },
    {
      "cell_type": "code",
      "metadata": {
        "id": "aPwIWqwh4y4Z",
        "colab_type": "code",
        "colab": {}
      },
      "source": [
        "DGS1['Quarter'] = quarter(DGS1)\n",
        "DGS1MO['Quarter'] = quarter(DGS1MO)\n",
        "DGS2['Quarter'] = quarter(DGS2)\n",
        "DGS3MO['Quarter'] = quarter(DGS3MO)\n",
        "DGS5['Quarter'] = quarter(DGS5)\n",
        "DGS6MO['Quarter'] = quarter(DGS6MO)\n",
        "DGS7['Quarter'] = quarter(DGS7)\n",
        "DGS10['Quarter'] = quarter(DGS10)\n",
        "DGS20['Quarter'] = quarter(DGS20)\n",
        "DGS30['Quarter'] = quarter(DGS30)"
      ],
      "execution_count": 23,
      "outputs": []
    },
    {
      "cell_type": "markdown",
      "metadata": {
        "id": "uutsR6TM0xMD",
        "colab_type": "text"
      },
      "source": [
        "Resolving the issue with zero values.\n",
        "As I already shown sometimes it happens that values have 0 value due to the fact that there were missing values in the dataset.\n",
        "I want to avoid this because 0 is not a corresponding value, it means that there was not info about the value at given time.\n",
        "To handle this below I wrote a function which in such cases assign a value from the day before. Sometimes it happens that there is a 0 value in two consecutive observations then function assign a value from 2 days before.\n",
        "If 2 days back the value is still 0 I'm goig to leave this as it's coming back so far could not be relevant.\n",
        "I'm going to apply this function to values which are the first observation in a given Quarter because those are I'm going to use in further modeling."
      ]
    },
    {
      "cell_type": "code",
      "metadata": {
        "id": "oUwwkno30a_y",
        "colab_type": "code",
        "colab": {}
      },
      "source": [
        "def deali_with_0_values(data):\n",
        "  a = []\n",
        "  for i in range(0, len(data)):\n",
        "    if (data['Quarter'][i] != -1) & (data.iloc[i,1] == 0) & (data.iloc[i-1,1] != 0):\n",
        "      a.append(data.iloc[i-1,1])\n",
        "    elif (data['Quarter'][i] != -1) & (data.iloc[i,1] == 0) & (data.iloc[i-1,1] == 0):\n",
        "      a.append(data.iloc[i-2,1])\n",
        "    else:\n",
        "      a.append(data.iloc[i,1])\n",
        "  return(a)      "
      ],
      "execution_count": 24,
      "outputs": []
    },
    {
      "cell_type": "code",
      "metadata": {
        "id": "AYYg37iv2v-_",
        "colab_type": "code",
        "colab": {}
      },
      "source": [
        "DGS1['DGS1'] = deali_with_0_values(DGS1)\n",
        "DGS1MO['DGS1MO'] = deali_with_0_values(DGS1MO)\n",
        "DGS2['DGS2'] = deali_with_0_values(DGS2)\n",
        "DGS3MO['DGS3MO'] = deali_with_0_values(DGS3MO)\n",
        "DGS5['DGS5'] = deali_with_0_values(DGS5)\n",
        "DGS6MO['DGS6MO'] = deali_with_0_values(DGS6MO)\n",
        "DGS7['DGS7'] = deali_with_0_values(DGS7)\n",
        "DGS10['DGS10'] = deali_with_0_values(DGS10)\n",
        "DGS20['DGS20'] = deali_with_0_values(DGS20)\n",
        "DGS30['DGS30'] = deali_with_0_values(DGS30)"
      ],
      "execution_count": 25,
      "outputs": []
    },
    {
      "cell_type": "code",
      "metadata": {
        "id": "noKez9Ed1Cr1",
        "colab_type": "code",
        "colab": {
          "base_uri": "https://localhost:8080/",
          "height": 204
        },
        "outputId": "e0d46088-1a74-4fb4-9aec-7d1f06842e3d"
      },
      "source": [
        "DGS1.head()"
      ],
      "execution_count": 26,
      "outputs": [
        {
          "output_type": "execute_result",
          "data": {
            "text/html": [
              "<div>\n",
              "<style scoped>\n",
              "    .dataframe tbody tr th:only-of-type {\n",
              "        vertical-align: middle;\n",
              "    }\n",
              "\n",
              "    .dataframe tbody tr th {\n",
              "        vertical-align: top;\n",
              "    }\n",
              "\n",
              "    .dataframe thead th {\n",
              "        text-align: right;\n",
              "    }\n",
              "</style>\n",
              "<table border=\"1\" class=\"dataframe\">\n",
              "  <thead>\n",
              "    <tr style=\"text-align: right;\">\n",
              "      <th></th>\n",
              "      <th>DATE</th>\n",
              "      <th>DGS1</th>\n",
              "      <th>Month</th>\n",
              "      <th>func</th>\n",
              "      <th>Quarter</th>\n",
              "    </tr>\n",
              "  </thead>\n",
              "  <tbody>\n",
              "    <tr>\n",
              "      <th>0</th>\n",
              "      <td>02.01.1962</td>\n",
              "      <td>3.22</td>\n",
              "      <td>01</td>\n",
              "      <td>1</td>\n",
              "      <td>1</td>\n",
              "    </tr>\n",
              "    <tr>\n",
              "      <th>1</th>\n",
              "      <td>03.01.1962</td>\n",
              "      <td>3.24</td>\n",
              "      <td>01</td>\n",
              "      <td>0</td>\n",
              "      <td>-1</td>\n",
              "    </tr>\n",
              "    <tr>\n",
              "      <th>2</th>\n",
              "      <td>04.01.1962</td>\n",
              "      <td>3.24</td>\n",
              "      <td>01</td>\n",
              "      <td>0</td>\n",
              "      <td>-1</td>\n",
              "    </tr>\n",
              "    <tr>\n",
              "      <th>3</th>\n",
              "      <td>05.01.1962</td>\n",
              "      <td>3.26</td>\n",
              "      <td>01</td>\n",
              "      <td>0</td>\n",
              "      <td>-1</td>\n",
              "    </tr>\n",
              "    <tr>\n",
              "      <th>4</th>\n",
              "      <td>08.01.1962</td>\n",
              "      <td>3.31</td>\n",
              "      <td>01</td>\n",
              "      <td>0</td>\n",
              "      <td>-1</td>\n",
              "    </tr>\n",
              "  </tbody>\n",
              "</table>\n",
              "</div>"
            ],
            "text/plain": [
              "         DATE  DGS1 Month  func  Quarter\n",
              "0  02.01.1962  3.22    01     1        1\n",
              "1  03.01.1962  3.24    01     0       -1\n",
              "2  04.01.1962  3.24    01     0       -1\n",
              "3  05.01.1962  3.26    01     0       -1\n",
              "4  08.01.1962  3.31    01     0       -1"
            ]
          },
          "metadata": {
            "tags": []
          },
          "execution_count": 26
        }
      ]
    },
    {
      "cell_type": "markdown",
      "metadata": {
        "id": "xNnvr-bk0YSU",
        "colab_type": "text"
      },
      "source": [
        "Below I'm limiting observations within tables to observations which are \"Quarter ones\" - are the first observation in certain quarter due to the fact We are dealing with dependent variable with quarter interval"
      ]
    },
    {
      "cell_type": "code",
      "metadata": {
        "id": "xt7qefIx1JAP",
        "colab_type": "code",
        "colab": {}
      },
      "source": [
        "DGS1 = DGS1[DGS1['Quarter'].isin(['1','2','3','4'])]\n",
        "DGS1MO = DGS1MO[DGS1MO['Quarter'].isin(['1','2','3','4'])]\n",
        "DGS2 = DGS2[DGS2['Quarter'].isin(['1','2','3','4'])]\n",
        "DGS3MO = DGS3MO[DGS3MO['Quarter'].isin(['1','2','3','4'])]\n",
        "DGS5 = DGS5[DGS5['Quarter'].isin(['1','2','3','4'])]\n",
        "DGS6MO = DGS6MO[DGS6MO['Quarter'].isin(['1','2','3','4'])]\n",
        "DGS7 = DGS7[DGS7['Quarter'].isin(['1','2','3','4'])]\n",
        "DGS10 = DGS10[DGS10['Quarter'].isin(['1','2','3','4'])]\n",
        "DGS20 = DGS20[DGS20['Quarter'].isin(['1','2','3','4'])]\n",
        "DGS30 = DGS30[DGS30['Quarter'].isin(['1','2','3','4'])]"
      ],
      "execution_count": 27,
      "outputs": []
    },
    {
      "cell_type": "markdown",
      "metadata": {
        "id": "rQQAk4zN1K0D",
        "colab_type": "text"
      },
      "source": [
        "Below resetting an index to have the same indexes in all tables"
      ]
    },
    {
      "cell_type": "code",
      "metadata": {
        "id": "l2sc1CixXQBv",
        "colab_type": "code",
        "colab": {}
      },
      "source": [
        "DGS1.reset_index(drop=True,inplace = True)\n",
        "DGS1MO.reset_index(drop=True,inplace = True)\n",
        "DGS2.reset_index(drop=True,inplace = True)\n",
        "DGS3MO.reset_index(drop=True,inplace = True)\n",
        "DGS5.reset_index(drop=True,inplace = True)\n",
        "DGS6MO.reset_index(drop=True,inplace = True)\n",
        "DGS7.reset_index(drop=True,inplace = True)\n",
        "DGS10.reset_index(drop=True,inplace = True)\n",
        "DGS20.reset_index(drop=True,inplace = True)\n",
        "DGS30.reset_index(drop=True,inplace = True)"
      ],
      "execution_count": 28,
      "outputs": []
    },
    {
      "cell_type": "code",
      "metadata": {
        "id": "Q3Y2cbbN8zU9",
        "colab_type": "code",
        "colab": {
          "base_uri": "https://localhost:8080/",
          "height": 204
        },
        "outputId": "61baf66a-711a-4321-86c8-abf28f14a23c"
      },
      "source": [
        "DGS1.head()"
      ],
      "execution_count": 29,
      "outputs": [
        {
          "output_type": "execute_result",
          "data": {
            "text/html": [
              "<div>\n",
              "<style scoped>\n",
              "    .dataframe tbody tr th:only-of-type {\n",
              "        vertical-align: middle;\n",
              "    }\n",
              "\n",
              "    .dataframe tbody tr th {\n",
              "        vertical-align: top;\n",
              "    }\n",
              "\n",
              "    .dataframe thead th {\n",
              "        text-align: right;\n",
              "    }\n",
              "</style>\n",
              "<table border=\"1\" class=\"dataframe\">\n",
              "  <thead>\n",
              "    <tr style=\"text-align: right;\">\n",
              "      <th></th>\n",
              "      <th>DATE</th>\n",
              "      <th>DGS1</th>\n",
              "      <th>Month</th>\n",
              "      <th>func</th>\n",
              "      <th>Quarter</th>\n",
              "    </tr>\n",
              "  </thead>\n",
              "  <tbody>\n",
              "    <tr>\n",
              "      <th>0</th>\n",
              "      <td>02.01.1962</td>\n",
              "      <td>3.22</td>\n",
              "      <td>01</td>\n",
              "      <td>1</td>\n",
              "      <td>1</td>\n",
              "    </tr>\n",
              "    <tr>\n",
              "      <th>1</th>\n",
              "      <td>02.04.1962</td>\n",
              "      <td>2.95</td>\n",
              "      <td>04</td>\n",
              "      <td>1</td>\n",
              "      <td>2</td>\n",
              "    </tr>\n",
              "    <tr>\n",
              "      <th>2</th>\n",
              "      <td>02.07.1962</td>\n",
              "      <td>3.21</td>\n",
              "      <td>07</td>\n",
              "      <td>1</td>\n",
              "      <td>3</td>\n",
              "    </tr>\n",
              "    <tr>\n",
              "      <th>3</th>\n",
              "      <td>01.10.1962</td>\n",
              "      <td>3.00</td>\n",
              "      <td>10</td>\n",
              "      <td>1</td>\n",
              "      <td>4</td>\n",
              "    </tr>\n",
              "    <tr>\n",
              "      <th>4</th>\n",
              "      <td>01.01.1963</td>\n",
              "      <td>3.50</td>\n",
              "      <td>01</td>\n",
              "      <td>1</td>\n",
              "      <td>1</td>\n",
              "    </tr>\n",
              "  </tbody>\n",
              "</table>\n",
              "</div>"
            ],
            "text/plain": [
              "         DATE  DGS1 Month  func  Quarter\n",
              "0  02.01.1962  3.22    01     1        1\n",
              "1  02.04.1962  2.95    04     1        2\n",
              "2  02.07.1962  3.21    07     1        3\n",
              "3  01.10.1962  3.00    10     1        4\n",
              "4  01.01.1963  3.50    01     1        1"
            ]
          },
          "metadata": {
            "tags": []
          },
          "execution_count": 29
        }
      ]
    },
    {
      "cell_type": "markdown",
      "metadata": {
        "id": "9fi-YmCB1X6j",
        "colab_type": "text"
      },
      "source": [
        "Below is the function which creates a new variable for every table - Quarter_date.\n",
        "I want to have the same date type for table with dependent variable and for explanatory"
      ]
    },
    {
      "cell_type": "code",
      "metadata": {
        "id": "fIrIBL-YJDwt",
        "colab_type": "code",
        "colab": {}
      },
      "source": [
        "def quarter_date(data):\n",
        "  a = []\n",
        "  for i in range(0, len(data)):\n",
        "    a.append(data['DATE'][i][-4:] + 'Q' + data['Quarter'][i].astype(str))\n",
        "  return(a)  "
      ],
      "execution_count": 30,
      "outputs": []
    },
    {
      "cell_type": "code",
      "metadata": {
        "id": "xiaJWLIKPLBp",
        "colab_type": "code",
        "colab": {}
      },
      "source": [
        "DGS1['Quarter_date'] = quarter_date(DGS1)\n",
        "DGS1MO['Quarter_date'] = quarter_date(DGS1MO)\n",
        "DGS2['Quarter_date'] = quarter_date(DGS2)\n",
        "DGS3MO['Quarter_date'] = quarter_date(DGS3MO)\n",
        "DGS5['Quarter_date'] = quarter_date(DGS5)\n",
        "DGS6MO['Quarter_date'] = quarter_date(DGS6MO)\n",
        "DGS7['Quarter_date'] = quarter_date(DGS7)\n",
        "DGS10['Quarter_date'] = quarter_date(DGS10)\n",
        "DGS20['Quarter_date'] = quarter_date(DGS20)\n",
        "DGS30['Quarter_date'] = quarter_date(DGS30)"
      ],
      "execution_count": 31,
      "outputs": []
    },
    {
      "cell_type": "code",
      "metadata": {
        "id": "jDPIYdeIZMqp",
        "colab_type": "code",
        "colab": {
          "base_uri": "https://localhost:8080/",
          "height": 204
        },
        "outputId": "f62abdc0-1e22-4b07-e269-35a5aacc58ab"
      },
      "source": [
        "DGS1.head()"
      ],
      "execution_count": 32,
      "outputs": [
        {
          "output_type": "execute_result",
          "data": {
            "text/html": [
              "<div>\n",
              "<style scoped>\n",
              "    .dataframe tbody tr th:only-of-type {\n",
              "        vertical-align: middle;\n",
              "    }\n",
              "\n",
              "    .dataframe tbody tr th {\n",
              "        vertical-align: top;\n",
              "    }\n",
              "\n",
              "    .dataframe thead th {\n",
              "        text-align: right;\n",
              "    }\n",
              "</style>\n",
              "<table border=\"1\" class=\"dataframe\">\n",
              "  <thead>\n",
              "    <tr style=\"text-align: right;\">\n",
              "      <th></th>\n",
              "      <th>DATE</th>\n",
              "      <th>DGS1</th>\n",
              "      <th>Month</th>\n",
              "      <th>func</th>\n",
              "      <th>Quarter</th>\n",
              "      <th>Quarter_date</th>\n",
              "    </tr>\n",
              "  </thead>\n",
              "  <tbody>\n",
              "    <tr>\n",
              "      <th>0</th>\n",
              "      <td>02.01.1962</td>\n",
              "      <td>3.22</td>\n",
              "      <td>01</td>\n",
              "      <td>1</td>\n",
              "      <td>1</td>\n",
              "      <td>1962Q1</td>\n",
              "    </tr>\n",
              "    <tr>\n",
              "      <th>1</th>\n",
              "      <td>02.04.1962</td>\n",
              "      <td>2.95</td>\n",
              "      <td>04</td>\n",
              "      <td>1</td>\n",
              "      <td>2</td>\n",
              "      <td>1962Q2</td>\n",
              "    </tr>\n",
              "    <tr>\n",
              "      <th>2</th>\n",
              "      <td>02.07.1962</td>\n",
              "      <td>3.21</td>\n",
              "      <td>07</td>\n",
              "      <td>1</td>\n",
              "      <td>3</td>\n",
              "      <td>1962Q3</td>\n",
              "    </tr>\n",
              "    <tr>\n",
              "      <th>3</th>\n",
              "      <td>01.10.1962</td>\n",
              "      <td>3.00</td>\n",
              "      <td>10</td>\n",
              "      <td>1</td>\n",
              "      <td>4</td>\n",
              "      <td>1962Q4</td>\n",
              "    </tr>\n",
              "    <tr>\n",
              "      <th>4</th>\n",
              "      <td>01.01.1963</td>\n",
              "      <td>3.50</td>\n",
              "      <td>01</td>\n",
              "      <td>1</td>\n",
              "      <td>1</td>\n",
              "      <td>1963Q1</td>\n",
              "    </tr>\n",
              "  </tbody>\n",
              "</table>\n",
              "</div>"
            ],
            "text/plain": [
              "         DATE  DGS1 Month  func  Quarter Quarter_date\n",
              "0  02.01.1962  3.22    01     1        1       1962Q1\n",
              "1  02.04.1962  2.95    04     1        2       1962Q2\n",
              "2  02.07.1962  3.21    07     1        3       1962Q3\n",
              "3  01.10.1962  3.00    10     1        4       1962Q4\n",
              "4  01.01.1963  3.50    01     1        1       1963Q1"
            ]
          },
          "metadata": {
            "tags": []
          },
          "execution_count": 32
        }
      ]
    },
    {
      "cell_type": "markdown",
      "metadata": {
        "id": "NQWf-p16n4S0",
        "colab_type": "text"
      },
      "source": [
        "Below We can see there is an issue with 2 explanatory variables: DGS1MO and DGS20 as they have less observations than the dependent variable 67 and 99 respectively beacuse their observations start with later dates. I decided not take them into account when it comes to model building because 136 observations is very little and I will not reduce it even more.\n",
        "We can see that We have to \"trim\" our explanatory variables due to fact that dependent variables starts from 1984Q1 and ends in 2017Q4 and rest the explanatory variables start before this date and end at 2018Q2"
      ]
    },
    {
      "cell_type": "code",
      "metadata": {
        "id": "FaCWe2aSlf-Q",
        "colab_type": "code",
        "colab": {
          "base_uri": "https://localhost:8080/",
          "height": 238
        },
        "outputId": "0b2ddbdf-e20a-4591-b5b7-031b8aa4ef17"
      },
      "source": [
        "print('number of observations of dependent variable:', len(rate), '\\n','the oldest date:',rate['YYYYQQ'][0],',The latest date:',rate['YYYYQQ'][len(rate)-1],\n",
        "      '\\n', '\\n','explanatory variables:')\n",
        "print('DGS1:', len(DGS1), ',the oldest date:', DGS1['Quarter_date'][0],',The latest date:',DGS1['Quarter_date'][len(DGS1)-1])\n",
        "print('DGS1MO:', len(DGS1MO), ',the oldest date:', DGS1MO['Quarter_date'][0],',The latest date:',DGS1MO['Quarter_date'][len(DGS1MO)-1])\n",
        "print('DGS2:', len(DGS2), ',the oldest date:', DGS2['Quarter_date'][0],',The latest date:',DGS2['Quarter_date'][len(DGS2)-1])\n",
        "print('DGS3MO:', len(DGS3MO), ',the oldest date:', DGS3MO['Quarter_date'][0],',The latest date:',DGS3MO['Quarter_date'][len(DGS3MO)-1])\n",
        "print('DGS6MO:', len(DGS6MO), ',the oldest date:', DGS6MO['Quarter_date'][0],',The latest date:',DGS6MO['Quarter_date'][len(DGS6MO)-1])\n",
        "print('DGS7:', len(DGS7), ',the oldest date:', DGS7['Quarter_date'][0],',The latest date:',DGS7['Quarter_date'][len(DGS7)-1])\n",
        "print('DGS10:', len(DGS10), ',the oldest date:', DGS10['Quarter_date'][0],',The latest date:',DGS10['Quarter_date'][len(DGS10)-1])\n",
        "print('DGS20:', len(DGS20), ',the oldest date:', DGS20['Quarter_date'][0],',The latest date:',DGS20['Quarter_date'][len(DGS20)-1])\n",
        "print('DGS30:', len(DGS30), ',the oldest date:', DGS30['Quarter_date'][0],',The latest date:',DGS30['Quarter_date'][len(DGS30)-1])"
      ],
      "execution_count": 33,
      "outputs": [
        {
          "output_type": "stream",
          "text": [
            "number of observations of dependent variable: 136 \n",
            " the oldest date: 1984Q1 ,The latest date: 2017Q4 \n",
            " \n",
            " explanatory variables:\n",
            "DGS1: 226 ,the oldest date: 1962Q1 ,The latest date: 2018Q2\n",
            "DGS1MO: 67 ,the oldest date: 2001Q4 ,The latest date: 2018Q2\n",
            "DGS2: 168 ,the oldest date: 1976Q3 ,The latest date: 2018Q2\n",
            "DGS3MO: 146 ,the oldest date: 1982Q1 ,The latest date: 2018Q2\n",
            "DGS6MO: 146 ,the oldest date: 1982Q1 ,The latest date: 2018Q2\n",
            "DGS7: 196 ,the oldest date: 1969Q3 ,The latest date: 2018Q2\n",
            "DGS10: 226 ,the oldest date: 1962Q1 ,The latest date: 2018Q2\n",
            "DGS20: 99 ,the oldest date: 1993Q4 ,The latest date: 2018Q2\n",
            "DGS30: 174 ,the oldest date: 1977Q2 ,The latest date: 2020Q3\n"
          ],
          "name": "stdout"
        }
      ]
    },
    {
      "cell_type": "markdown",
      "metadata": {
        "id": "sWUpoYU4_Szb",
        "colab_type": "text"
      },
      "source": [
        "Before \"trimming\" I'm going to create couple more variables(up to 3 observations back in time for every explanatory variable) to see if they have any skill to predict our dependent variable"
      ]
    },
    {
      "cell_type": "code",
      "metadata": {
        "id": "OXtG83Q3_rUE",
        "colab_type": "code",
        "colab": {}
      },
      "source": [
        "DGS1['DGS1-1'] = DGS1['DGS1'].shift(1)\n",
        "DGS1['DGS1-2'] = DGS1['DGS1'].shift(2)\n",
        "DGS1['DGS1-3'] = DGS1['DGS1'].shift(3)\n",
        "\n",
        "DGS1MO['DGS1MO-1'] = DGS1MO['DGS1MO'].shift(1)\n",
        "DGS1MO['DGS1MO-2'] = DGS1MO['DGS1MO'].shift(2)\n",
        "DGS1MO['DGS1MO-3'] = DGS1MO['DGS1MO'].shift(3)\n",
        "\n",
        "DGS2['DGS2-1'] = DGS2['DGS2'].shift(1)\n",
        "DGS2['DGS2-2'] = DGS2['DGS2'].shift(2)\n",
        "DGS2['DGS2-3'] = DGS2['DGS2'].shift(3)\n",
        "\n",
        "DGS3MO['DGS3MO-1'] = DGS3MO['DGS3MO'].shift(1)\n",
        "DGS3MO['DGS3MO-2'] = DGS3MO['DGS3MO'].shift(2)\n",
        "DGS3MO['DGS3MO-3'] = DGS3MO['DGS3MO'].shift(3)\n",
        "\n",
        "DGS5['DGS5-1'] = DGS5['DGS5'].shift(1)\n",
        "DGS5['DGS5-2'] = DGS5['DGS5'].shift(2)\n",
        "DGS5['DGS5-3'] = DGS5['DGS5'].shift(3)\n",
        "\n",
        "DGS6MO['DGS6MO-1'] = DGS6MO['DGS6MO'].shift(1)\n",
        "DGS6MO['DGS6MO-2'] = DGS6MO['DGS6MO'].shift(2)\n",
        "DGS6MO['DGS6MO-3'] = DGS6MO['DGS6MO'].shift(3)\n",
        "\n",
        "DGS7['DGS7-1'] = DGS7['DGS7'].shift(1)\n",
        "DGS7['DGS7-2'] = DGS7['DGS7'].shift(2)\n",
        "DGS7['DGS7-3'] = DGS7['DGS7'].shift(3)\n",
        "\n",
        "DGS10['DGS10-1'] = DGS10['DGS10'].shift(1)\n",
        "DGS10['DGS10-2'] = DGS10['DGS10'].shift(2)\n",
        "DGS10['DGS10-3'] = DGS10['DGS10'].shift(3)\n",
        "\n",
        "DGS20['DGS20-1'] = DGS20['DGS20'].shift(1)\n",
        "DGS20['DGS20-2'] = DGS20['DGS20'].shift(2)\n",
        "DGS20['DGS20-3'] = DGS20['DGS20'].shift(3)\n",
        "\n",
        "DGS30['DGS30-1'] = DGS30['DGS30'].shift(1)\n",
        "DGS30['DGS30-2'] = DGS30['DGS30'].shift(2)\n",
        "DGS30['DGS30-3'] = DGS30['DGS30'].shift(3)"
      ],
      "execution_count": 34,
      "outputs": []
    },
    {
      "cell_type": "markdown",
      "metadata": {
        "id": "D45qFu42XyXY",
        "colab_type": "text"
      },
      "source": [
        "Now there is some missing values according to time shifts I did but I shouldn't care about it much as those values will be omitted during modelling(values starting from 1984Q1 will be used only)."
      ]
    },
    {
      "cell_type": "code",
      "metadata": {
        "id": "FBLNMA_4LpDW",
        "colab_type": "code",
        "colab": {
          "base_uri": "https://localhost:8080/",
          "height": 204
        },
        "outputId": "50739c51-49ce-407d-e701-85c6ddc2427b"
      },
      "source": [
        "DGS1.head()"
      ],
      "execution_count": 35,
      "outputs": [
        {
          "output_type": "execute_result",
          "data": {
            "text/html": [
              "<div>\n",
              "<style scoped>\n",
              "    .dataframe tbody tr th:only-of-type {\n",
              "        vertical-align: middle;\n",
              "    }\n",
              "\n",
              "    .dataframe tbody tr th {\n",
              "        vertical-align: top;\n",
              "    }\n",
              "\n",
              "    .dataframe thead th {\n",
              "        text-align: right;\n",
              "    }\n",
              "</style>\n",
              "<table border=\"1\" class=\"dataframe\">\n",
              "  <thead>\n",
              "    <tr style=\"text-align: right;\">\n",
              "      <th></th>\n",
              "      <th>DATE</th>\n",
              "      <th>DGS1</th>\n",
              "      <th>Month</th>\n",
              "      <th>func</th>\n",
              "      <th>Quarter</th>\n",
              "      <th>Quarter_date</th>\n",
              "      <th>DGS1-1</th>\n",
              "      <th>DGS1-2</th>\n",
              "      <th>DGS1-3</th>\n",
              "    </tr>\n",
              "  </thead>\n",
              "  <tbody>\n",
              "    <tr>\n",
              "      <th>0</th>\n",
              "      <td>02.01.1962</td>\n",
              "      <td>3.22</td>\n",
              "      <td>01</td>\n",
              "      <td>1</td>\n",
              "      <td>1</td>\n",
              "      <td>1962Q1</td>\n",
              "      <td>NaN</td>\n",
              "      <td>NaN</td>\n",
              "      <td>NaN</td>\n",
              "    </tr>\n",
              "    <tr>\n",
              "      <th>1</th>\n",
              "      <td>02.04.1962</td>\n",
              "      <td>2.95</td>\n",
              "      <td>04</td>\n",
              "      <td>1</td>\n",
              "      <td>2</td>\n",
              "      <td>1962Q2</td>\n",
              "      <td>3.22</td>\n",
              "      <td>NaN</td>\n",
              "      <td>NaN</td>\n",
              "    </tr>\n",
              "    <tr>\n",
              "      <th>2</th>\n",
              "      <td>02.07.1962</td>\n",
              "      <td>3.21</td>\n",
              "      <td>07</td>\n",
              "      <td>1</td>\n",
              "      <td>3</td>\n",
              "      <td>1962Q3</td>\n",
              "      <td>2.95</td>\n",
              "      <td>3.22</td>\n",
              "      <td>NaN</td>\n",
              "    </tr>\n",
              "    <tr>\n",
              "      <th>3</th>\n",
              "      <td>01.10.1962</td>\n",
              "      <td>3.00</td>\n",
              "      <td>10</td>\n",
              "      <td>1</td>\n",
              "      <td>4</td>\n",
              "      <td>1962Q4</td>\n",
              "      <td>3.21</td>\n",
              "      <td>2.95</td>\n",
              "      <td>3.22</td>\n",
              "    </tr>\n",
              "    <tr>\n",
              "      <th>4</th>\n",
              "      <td>01.01.1963</td>\n",
              "      <td>3.50</td>\n",
              "      <td>01</td>\n",
              "      <td>1</td>\n",
              "      <td>1</td>\n",
              "      <td>1963Q1</td>\n",
              "      <td>3.00</td>\n",
              "      <td>3.21</td>\n",
              "      <td>2.95</td>\n",
              "    </tr>\n",
              "  </tbody>\n",
              "</table>\n",
              "</div>"
            ],
            "text/plain": [
              "         DATE  DGS1 Month  func  Quarter Quarter_date  DGS1-1  DGS1-2  DGS1-3\n",
              "0  02.01.1962  3.22    01     1        1       1962Q1     NaN     NaN     NaN\n",
              "1  02.04.1962  2.95    04     1        2       1962Q2    3.22     NaN     NaN\n",
              "2  02.07.1962  3.21    07     1        3       1962Q3    2.95    3.22     NaN\n",
              "3  01.10.1962  3.00    10     1        4       1962Q4    3.21    2.95    3.22\n",
              "4  01.01.1963  3.50    01     1        1       1963Q1    3.00    3.21    2.95"
            ]
          },
          "metadata": {
            "tags": []
          },
          "execution_count": 35
        }
      ]
    },
    {
      "cell_type": "markdown",
      "metadata": {
        "id": "I6WNOHTDLoN2",
        "colab_type": "text"
      },
      "source": [
        "Data trimming\n",
        "\n",
        "Now I'm going to trim every table(without DGS20 and DGS1MO-1) separetely and manually to our dependent variable data range(1984Q1 - 2017Q4)."
      ]
    },
    {
      "cell_type": "code",
      "metadata": {
        "id": "rksoAQ4GC2ZX",
        "colab_type": "code",
        "colab": {
          "base_uri": "https://localhost:8080/",
          "height": 80
        },
        "outputId": "eb0e1659-8051-4ba0-a04b-568004035a3d"
      },
      "source": [
        "DGS1[DGS1['Quarter_date']== '1984Q1']"
      ],
      "execution_count": 36,
      "outputs": [
        {
          "output_type": "execute_result",
          "data": {
            "text/html": [
              "<div>\n",
              "<style scoped>\n",
              "    .dataframe tbody tr th:only-of-type {\n",
              "        vertical-align: middle;\n",
              "    }\n",
              "\n",
              "    .dataframe tbody tr th {\n",
              "        vertical-align: top;\n",
              "    }\n",
              "\n",
              "    .dataframe thead th {\n",
              "        text-align: right;\n",
              "    }\n",
              "</style>\n",
              "<table border=\"1\" class=\"dataframe\">\n",
              "  <thead>\n",
              "    <tr style=\"text-align: right;\">\n",
              "      <th></th>\n",
              "      <th>DATE</th>\n",
              "      <th>DGS1</th>\n",
              "      <th>Month</th>\n",
              "      <th>func</th>\n",
              "      <th>Quarter</th>\n",
              "      <th>Quarter_date</th>\n",
              "      <th>DGS1-1</th>\n",
              "      <th>DGS1-2</th>\n",
              "      <th>DGS1-3</th>\n",
              "    </tr>\n",
              "  </thead>\n",
              "  <tbody>\n",
              "    <tr>\n",
              "      <th>88</th>\n",
              "      <td>02.01.1984</td>\n",
              "      <td>10.8</td>\n",
              "      <td>01</td>\n",
              "      <td>1</td>\n",
              "      <td>1</td>\n",
              "      <td>1984Q1</td>\n",
              "      <td>9.9</td>\n",
              "      <td>9.67</td>\n",
              "      <td>9.34</td>\n",
              "    </tr>\n",
              "  </tbody>\n",
              "</table>\n",
              "</div>"
            ],
            "text/plain": [
              "          DATE  DGS1 Month  func  Quarter Quarter_date  DGS1-1  DGS1-2  DGS1-3\n",
              "88  02.01.1984  10.8    01     1        1       1984Q1     9.9    9.67    9.34"
            ]
          },
          "metadata": {
            "tags": []
          },
          "execution_count": 36
        }
      ]
    },
    {
      "cell_type": "code",
      "metadata": {
        "id": "6ZjaSYbYKzlv",
        "colab_type": "code",
        "colab": {
          "base_uri": "https://localhost:8080/",
          "height": 80
        },
        "outputId": "433fcfd6-f2fc-400f-e20c-e92be0d960f5"
      },
      "source": [
        "DGS1[DGS1['Quarter_date']== '2017Q4']"
      ],
      "execution_count": null,
      "outputs": [
        {
          "output_type": "execute_result",
          "data": {
            "text/html": [
              "<div>\n",
              "<style scoped>\n",
              "    .dataframe tbody tr th:only-of-type {\n",
              "        vertical-align: middle;\n",
              "    }\n",
              "\n",
              "    .dataframe tbody tr th {\n",
              "        vertical-align: top;\n",
              "    }\n",
              "\n",
              "    .dataframe thead th {\n",
              "        text-align: right;\n",
              "    }\n",
              "</style>\n",
              "<table border=\"1\" class=\"dataframe\">\n",
              "  <thead>\n",
              "    <tr style=\"text-align: right;\">\n",
              "      <th></th>\n",
              "      <th>DATE</th>\n",
              "      <th>DGS1</th>\n",
              "      <th>Month</th>\n",
              "      <th>func</th>\n",
              "      <th>Quarter</th>\n",
              "      <th>Quarter_date</th>\n",
              "      <th>DGS1-1</th>\n",
              "      <th>DGS1-2</th>\n",
              "      <th>DGS1-3</th>\n",
              "    </tr>\n",
              "  </thead>\n",
              "  <tbody>\n",
              "    <tr>\n",
              "      <th>223</th>\n",
              "      <td>02.10.2017</td>\n",
              "      <td>1.31</td>\n",
              "      <td>10</td>\n",
              "      <td>1</td>\n",
              "      <td>4</td>\n",
              "      <td>2017Q4</td>\n",
              "      <td>1.24</td>\n",
              "      <td>1.02</td>\n",
              "      <td>0.85</td>\n",
              "    </tr>\n",
              "  </tbody>\n",
              "</table>\n",
              "</div>"
            ],
            "text/plain": [
              "           DATE  DGS1 Month  func  Quarter Quarter_date  DGS1-1  DGS1-2  DGS1-3\n",
              "223  02.10.2017  1.31    10     1        4       2017Q4    1.24    1.02    0.85"
            ]
          },
          "metadata": {
            "tags": []
          },
          "execution_count": 237
        }
      ]
    },
    {
      "cell_type": "code",
      "metadata": {
        "id": "FbKwyGRJK81f",
        "colab_type": "code",
        "colab": {
          "base_uri": "https://localhost:8080/",
          "height": 419
        },
        "outputId": "ec37a612-8656-4fc9-8a41-1284a3deca2e"
      },
      "source": [
        "DGS1.iloc[88:224,:]"
      ],
      "execution_count": 37,
      "outputs": [
        {
          "output_type": "execute_result",
          "data": {
            "text/html": [
              "<div>\n",
              "<style scoped>\n",
              "    .dataframe tbody tr th:only-of-type {\n",
              "        vertical-align: middle;\n",
              "    }\n",
              "\n",
              "    .dataframe tbody tr th {\n",
              "        vertical-align: top;\n",
              "    }\n",
              "\n",
              "    .dataframe thead th {\n",
              "        text-align: right;\n",
              "    }\n",
              "</style>\n",
              "<table border=\"1\" class=\"dataframe\">\n",
              "  <thead>\n",
              "    <tr style=\"text-align: right;\">\n",
              "      <th></th>\n",
              "      <th>DATE</th>\n",
              "      <th>DGS1</th>\n",
              "      <th>Month</th>\n",
              "      <th>func</th>\n",
              "      <th>Quarter</th>\n",
              "      <th>Quarter_date</th>\n",
              "      <th>DGS1-1</th>\n",
              "      <th>DGS1-2</th>\n",
              "      <th>DGS1-3</th>\n",
              "    </tr>\n",
              "  </thead>\n",
              "  <tbody>\n",
              "    <tr>\n",
              "      <th>88</th>\n",
              "      <td>02.01.1984</td>\n",
              "      <td>10.80</td>\n",
              "      <td>01</td>\n",
              "      <td>1</td>\n",
              "      <td>1</td>\n",
              "      <td>1984Q1</td>\n",
              "      <td>9.90</td>\n",
              "      <td>9.67</td>\n",
              "      <td>9.34</td>\n",
              "    </tr>\n",
              "    <tr>\n",
              "      <th>89</th>\n",
              "      <td>02.04.1984</td>\n",
              "      <td>10.84</td>\n",
              "      <td>04</td>\n",
              "      <td>1</td>\n",
              "      <td>2</td>\n",
              "      <td>1984Q2</td>\n",
              "      <td>10.80</td>\n",
              "      <td>9.90</td>\n",
              "      <td>9.67</td>\n",
              "    </tr>\n",
              "    <tr>\n",
              "      <th>90</th>\n",
              "      <td>02.07.1984</td>\n",
              "      <td>12.23</td>\n",
              "      <td>07</td>\n",
              "      <td>1</td>\n",
              "      <td>3</td>\n",
              "      <td>1984Q3</td>\n",
              "      <td>10.84</td>\n",
              "      <td>10.80</td>\n",
              "      <td>9.90</td>\n",
              "    </tr>\n",
              "    <tr>\n",
              "      <th>91</th>\n",
              "      <td>01.10.1984</td>\n",
              "      <td>11.44</td>\n",
              "      <td>10</td>\n",
              "      <td>1</td>\n",
              "      <td>4</td>\n",
              "      <td>1984Q4</td>\n",
              "      <td>12.23</td>\n",
              "      <td>10.84</td>\n",
              "      <td>10.80</td>\n",
              "    </tr>\n",
              "    <tr>\n",
              "      <th>92</th>\n",
              "      <td>01.01.1985</td>\n",
              "      <td>9.22</td>\n",
              "      <td>01</td>\n",
              "      <td>1</td>\n",
              "      <td>1</td>\n",
              "      <td>1985Q1</td>\n",
              "      <td>11.44</td>\n",
              "      <td>12.23</td>\n",
              "      <td>10.84</td>\n",
              "    </tr>\n",
              "    <tr>\n",
              "      <th>...</th>\n",
              "      <td>...</td>\n",
              "      <td>...</td>\n",
              "      <td>...</td>\n",
              "      <td>...</td>\n",
              "      <td>...</td>\n",
              "      <td>...</td>\n",
              "      <td>...</td>\n",
              "      <td>...</td>\n",
              "      <td>...</td>\n",
              "    </tr>\n",
              "    <tr>\n",
              "      <th>219</th>\n",
              "      <td>03.10.2016</td>\n",
              "      <td>0.63</td>\n",
              "      <td>10</td>\n",
              "      <td>1</td>\n",
              "      <td>4</td>\n",
              "      <td>2016Q4</td>\n",
              "      <td>0.45</td>\n",
              "      <td>0.62</td>\n",
              "      <td>0.65</td>\n",
              "    </tr>\n",
              "    <tr>\n",
              "      <th>220</th>\n",
              "      <td>02.01.2017</td>\n",
              "      <td>0.85</td>\n",
              "      <td>01</td>\n",
              "      <td>1</td>\n",
              "      <td>1</td>\n",
              "      <td>2017Q1</td>\n",
              "      <td>0.63</td>\n",
              "      <td>0.45</td>\n",
              "      <td>0.62</td>\n",
              "    </tr>\n",
              "    <tr>\n",
              "      <th>221</th>\n",
              "      <td>03.04.2017</td>\n",
              "      <td>1.02</td>\n",
              "      <td>04</td>\n",
              "      <td>1</td>\n",
              "      <td>2</td>\n",
              "      <td>2017Q2</td>\n",
              "      <td>0.85</td>\n",
              "      <td>0.63</td>\n",
              "      <td>0.45</td>\n",
              "    </tr>\n",
              "    <tr>\n",
              "      <th>222</th>\n",
              "      <td>03.07.2017</td>\n",
              "      <td>1.24</td>\n",
              "      <td>07</td>\n",
              "      <td>1</td>\n",
              "      <td>3</td>\n",
              "      <td>2017Q3</td>\n",
              "      <td>1.02</td>\n",
              "      <td>0.85</td>\n",
              "      <td>0.63</td>\n",
              "    </tr>\n",
              "    <tr>\n",
              "      <th>223</th>\n",
              "      <td>02.10.2017</td>\n",
              "      <td>1.31</td>\n",
              "      <td>10</td>\n",
              "      <td>1</td>\n",
              "      <td>4</td>\n",
              "      <td>2017Q4</td>\n",
              "      <td>1.24</td>\n",
              "      <td>1.02</td>\n",
              "      <td>0.85</td>\n",
              "    </tr>\n",
              "  </tbody>\n",
              "</table>\n",
              "<p>136 rows × 9 columns</p>\n",
              "</div>"
            ],
            "text/plain": [
              "           DATE   DGS1 Month  func  ...  Quarter_date DGS1-1  DGS1-2  DGS1-3\n",
              "88   02.01.1984  10.80    01     1  ...        1984Q1   9.90    9.67    9.34\n",
              "89   02.04.1984  10.84    04     1  ...        1984Q2  10.80    9.90    9.67\n",
              "90   02.07.1984  12.23    07     1  ...        1984Q3  10.84   10.80    9.90\n",
              "91   01.10.1984  11.44    10     1  ...        1984Q4  12.23   10.84   10.80\n",
              "92   01.01.1985   9.22    01     1  ...        1985Q1  11.44   12.23   10.84\n",
              "..          ...    ...   ...   ...  ...           ...    ...     ...     ...\n",
              "219  03.10.2016   0.63    10     1  ...        2016Q4   0.45    0.62    0.65\n",
              "220  02.01.2017   0.85    01     1  ...        2017Q1   0.63    0.45    0.62\n",
              "221  03.04.2017   1.02    04     1  ...        2017Q2   0.85    0.63    0.45\n",
              "222  03.07.2017   1.24    07     1  ...        2017Q3   1.02    0.85    0.63\n",
              "223  02.10.2017   1.31    10     1  ...        2017Q4   1.24    1.02    0.85\n",
              "\n",
              "[136 rows x 9 columns]"
            ]
          },
          "metadata": {
            "tags": []
          },
          "execution_count": 37
        }
      ]
    },
    {
      "cell_type": "code",
      "metadata": {
        "id": "9kY4tKwHMCaR",
        "colab_type": "code",
        "colab": {}
      },
      "source": [
        "DGS1 = DGS1.iloc[88:224,:]"
      ],
      "execution_count": 38,
      "outputs": []
    },
    {
      "cell_type": "code",
      "metadata": {
        "id": "Yxq-UBmQMEwK",
        "colab_type": "code",
        "colab": {
          "base_uri": "https://localhost:8080/",
          "height": 80
        },
        "outputId": "12935c5c-037c-45fb-a5e0-20697964d7dc"
      },
      "source": [
        "DGS2[DGS2['Quarter_date'] == '1984Q1']"
      ],
      "execution_count": 39,
      "outputs": [
        {
          "output_type": "execute_result",
          "data": {
            "text/html": [
              "<div>\n",
              "<style scoped>\n",
              "    .dataframe tbody tr th:only-of-type {\n",
              "        vertical-align: middle;\n",
              "    }\n",
              "\n",
              "    .dataframe tbody tr th {\n",
              "        vertical-align: top;\n",
              "    }\n",
              "\n",
              "    .dataframe thead th {\n",
              "        text-align: right;\n",
              "    }\n",
              "</style>\n",
              "<table border=\"1\" class=\"dataframe\">\n",
              "  <thead>\n",
              "    <tr style=\"text-align: right;\">\n",
              "      <th></th>\n",
              "      <th>DATE</th>\n",
              "      <th>DGS2</th>\n",
              "      <th>Month</th>\n",
              "      <th>func</th>\n",
              "      <th>Quarter</th>\n",
              "      <th>Quarter_date</th>\n",
              "      <th>DGS2-1</th>\n",
              "      <th>DGS2-2</th>\n",
              "      <th>DGS2-3</th>\n",
              "    </tr>\n",
              "  </thead>\n",
              "  <tbody>\n",
              "    <tr>\n",
              "      <th>30</th>\n",
              "      <td>02.01.1984</td>\n",
              "      <td>10.85</td>\n",
              "      <td>01</td>\n",
              "      <td>1</td>\n",
              "      <td>1</td>\n",
              "      <td>1984Q1</td>\n",
              "      <td>10.55</td>\n",
              "      <td>10.17</td>\n",
              "      <td>9.87</td>\n",
              "    </tr>\n",
              "  </tbody>\n",
              "</table>\n",
              "</div>"
            ],
            "text/plain": [
              "          DATE   DGS2 Month  func  Quarter Quarter_date  DGS2-1  DGS2-2  DGS2-3\n",
              "30  02.01.1984  10.85    01     1        1       1984Q1   10.55   10.17    9.87"
            ]
          },
          "metadata": {
            "tags": []
          },
          "execution_count": 39
        }
      ]
    },
    {
      "cell_type": "code",
      "metadata": {
        "id": "Gt5msyt9MVUg",
        "colab_type": "code",
        "colab": {
          "base_uri": "https://localhost:8080/",
          "height": 80
        },
        "outputId": "82773d63-6e07-4385-f214-59e6d899b158"
      },
      "source": [
        "DGS2[DGS2['Quarter_date'] == '2017Q4']"
      ],
      "execution_count": 40,
      "outputs": [
        {
          "output_type": "execute_result",
          "data": {
            "text/html": [
              "<div>\n",
              "<style scoped>\n",
              "    .dataframe tbody tr th:only-of-type {\n",
              "        vertical-align: middle;\n",
              "    }\n",
              "\n",
              "    .dataframe tbody tr th {\n",
              "        vertical-align: top;\n",
              "    }\n",
              "\n",
              "    .dataframe thead th {\n",
              "        text-align: right;\n",
              "    }\n",
              "</style>\n",
              "<table border=\"1\" class=\"dataframe\">\n",
              "  <thead>\n",
              "    <tr style=\"text-align: right;\">\n",
              "      <th></th>\n",
              "      <th>DATE</th>\n",
              "      <th>DGS2</th>\n",
              "      <th>Month</th>\n",
              "      <th>func</th>\n",
              "      <th>Quarter</th>\n",
              "      <th>Quarter_date</th>\n",
              "      <th>DGS2-1</th>\n",
              "      <th>DGS2-2</th>\n",
              "      <th>DGS2-3</th>\n",
              "    </tr>\n",
              "  </thead>\n",
              "  <tbody>\n",
              "    <tr>\n",
              "      <th>165</th>\n",
              "      <td>02.10.2017</td>\n",
              "      <td>1.49</td>\n",
              "      <td>10</td>\n",
              "      <td>1</td>\n",
              "      <td>4</td>\n",
              "      <td>2017Q4</td>\n",
              "      <td>1.41</td>\n",
              "      <td>1.24</td>\n",
              "      <td>1.2</td>\n",
              "    </tr>\n",
              "  </tbody>\n",
              "</table>\n",
              "</div>"
            ],
            "text/plain": [
              "           DATE  DGS2 Month  func  Quarter Quarter_date  DGS2-1  DGS2-2  DGS2-3\n",
              "165  02.10.2017  1.49    10     1        4       2017Q4    1.41    1.24     1.2"
            ]
          },
          "metadata": {
            "tags": []
          },
          "execution_count": 40
        }
      ]
    },
    {
      "cell_type": "code",
      "metadata": {
        "id": "MuD_iGdLMj3V",
        "colab_type": "code",
        "colab": {}
      },
      "source": [
        "DGS2 = DGS2.iloc[30:166,:]"
      ],
      "execution_count": 41,
      "outputs": []
    },
    {
      "cell_type": "code",
      "metadata": {
        "id": "db5erAkpM1w2",
        "colab_type": "code",
        "colab": {
          "base_uri": "https://localhost:8080/",
          "height": 80
        },
        "outputId": "b33093ca-0449-4825-c877-b73d759c280d"
      },
      "source": [
        "DGS3MO[DGS3MO['Quarter_date'] == '1984Q1']"
      ],
      "execution_count": 42,
      "outputs": [
        {
          "output_type": "execute_result",
          "data": {
            "text/html": [
              "<div>\n",
              "<style scoped>\n",
              "    .dataframe tbody tr th:only-of-type {\n",
              "        vertical-align: middle;\n",
              "    }\n",
              "\n",
              "    .dataframe tbody tr th {\n",
              "        vertical-align: top;\n",
              "    }\n",
              "\n",
              "    .dataframe thead th {\n",
              "        text-align: right;\n",
              "    }\n",
              "</style>\n",
              "<table border=\"1\" class=\"dataframe\">\n",
              "  <thead>\n",
              "    <tr style=\"text-align: right;\">\n",
              "      <th></th>\n",
              "      <th>DATE</th>\n",
              "      <th>DGS3MO</th>\n",
              "      <th>Month</th>\n",
              "      <th>func</th>\n",
              "      <th>Quarter</th>\n",
              "      <th>Quarter_date</th>\n",
              "      <th>DGS3MO-1</th>\n",
              "      <th>DGS3MO-2</th>\n",
              "      <th>DGS3MO-3</th>\n",
              "    </tr>\n",
              "  </thead>\n",
              "  <tbody>\n",
              "    <tr>\n",
              "      <th>8</th>\n",
              "      <td>02.01.1984</td>\n",
              "      <td>9.33</td>\n",
              "      <td>01</td>\n",
              "      <td>1</td>\n",
              "      <td>1</td>\n",
              "      <td>1984Q1</td>\n",
              "      <td>9.13</td>\n",
              "      <td>9.05</td>\n",
              "      <td>8.96</td>\n",
              "    </tr>\n",
              "  </tbody>\n",
              "</table>\n",
              "</div>"
            ],
            "text/plain": [
              "         DATE  DGS3MO Month  func  ...  Quarter_date DGS3MO-1  DGS3MO-2  DGS3MO-3\n",
              "8  02.01.1984    9.33    01     1  ...        1984Q1     9.13      9.05      8.96\n",
              "\n",
              "[1 rows x 9 columns]"
            ]
          },
          "metadata": {
            "tags": []
          },
          "execution_count": 42
        }
      ]
    },
    {
      "cell_type": "code",
      "metadata": {
        "id": "RuC9nmJUM1t_",
        "colab_type": "code",
        "colab": {
          "base_uri": "https://localhost:8080/",
          "height": 80
        },
        "outputId": "98a011d4-8c2d-43c3-b6ca-fb3818c38b75"
      },
      "source": [
        "DGS3MO[DGS3MO['Quarter_date'] == '2017Q4']"
      ],
      "execution_count": 43,
      "outputs": [
        {
          "output_type": "execute_result",
          "data": {
            "text/html": [
              "<div>\n",
              "<style scoped>\n",
              "    .dataframe tbody tr th:only-of-type {\n",
              "        vertical-align: middle;\n",
              "    }\n",
              "\n",
              "    .dataframe tbody tr th {\n",
              "        vertical-align: top;\n",
              "    }\n",
              "\n",
              "    .dataframe thead th {\n",
              "        text-align: right;\n",
              "    }\n",
              "</style>\n",
              "<table border=\"1\" class=\"dataframe\">\n",
              "  <thead>\n",
              "    <tr style=\"text-align: right;\">\n",
              "      <th></th>\n",
              "      <th>DATE</th>\n",
              "      <th>DGS3MO</th>\n",
              "      <th>Month</th>\n",
              "      <th>func</th>\n",
              "      <th>Quarter</th>\n",
              "      <th>Quarter_date</th>\n",
              "      <th>DGS3MO-1</th>\n",
              "      <th>DGS3MO-2</th>\n",
              "      <th>DGS3MO-3</th>\n",
              "    </tr>\n",
              "  </thead>\n",
              "  <tbody>\n",
              "    <tr>\n",
              "      <th>143</th>\n",
              "      <td>02.10.2017</td>\n",
              "      <td>1.01</td>\n",
              "      <td>10</td>\n",
              "      <td>1</td>\n",
              "      <td>4</td>\n",
              "      <td>2017Q4</td>\n",
              "      <td>1.06</td>\n",
              "      <td>0.79</td>\n",
              "      <td>0.51</td>\n",
              "    </tr>\n",
              "  </tbody>\n",
              "</table>\n",
              "</div>"
            ],
            "text/plain": [
              "           DATE  DGS3MO Month  func  ...  Quarter_date DGS3MO-1  DGS3MO-2  DGS3MO-3\n",
              "143  02.10.2017    1.01    10     1  ...        2017Q4     1.06      0.79      0.51\n",
              "\n",
              "[1 rows x 9 columns]"
            ]
          },
          "metadata": {
            "tags": []
          },
          "execution_count": 43
        }
      ]
    },
    {
      "cell_type": "code",
      "metadata": {
        "id": "kpJTFLiwNJNN",
        "colab_type": "code",
        "colab": {}
      },
      "source": [
        "DGS3MO = DGS3MO.iloc[8:144,:]"
      ],
      "execution_count": 44,
      "outputs": []
    },
    {
      "cell_type": "code",
      "metadata": {
        "id": "Rg1_QpHaNbKE",
        "colab_type": "code",
        "colab": {
          "base_uri": "https://localhost:8080/",
          "height": 80
        },
        "outputId": "697ce33d-29c3-450a-fc35-c18346bd00d2"
      },
      "source": [
        "DGS5[DGS5['Quarter_date'] == '1984Q1']"
      ],
      "execution_count": 45,
      "outputs": [
        {
          "output_type": "execute_result",
          "data": {
            "text/html": [
              "<div>\n",
              "<style scoped>\n",
              "    .dataframe tbody tr th:only-of-type {\n",
              "        vertical-align: middle;\n",
              "    }\n",
              "\n",
              "    .dataframe tbody tr th {\n",
              "        vertical-align: top;\n",
              "    }\n",
              "\n",
              "    .dataframe thead th {\n",
              "        text-align: right;\n",
              "    }\n",
              "</style>\n",
              "<table border=\"1\" class=\"dataframe\">\n",
              "  <thead>\n",
              "    <tr style=\"text-align: right;\">\n",
              "      <th></th>\n",
              "      <th>DATE</th>\n",
              "      <th>DGS5</th>\n",
              "      <th>Month</th>\n",
              "      <th>func</th>\n",
              "      <th>Quarter</th>\n",
              "      <th>Quarter_date</th>\n",
              "      <th>DGS5-1</th>\n",
              "      <th>DGS5-2</th>\n",
              "      <th>DGS5-3</th>\n",
              "    </tr>\n",
              "  </thead>\n",
              "  <tbody>\n",
              "    <tr>\n",
              "      <th>88</th>\n",
              "      <td>02.01.1984</td>\n",
              "      <td>11.57</td>\n",
              "      <td>01</td>\n",
              "      <td>1</td>\n",
              "      <td>1</td>\n",
              "      <td>1984Q1</td>\n",
              "      <td>11.22</td>\n",
              "      <td>10.72</td>\n",
              "      <td>10.27</td>\n",
              "    </tr>\n",
              "  </tbody>\n",
              "</table>\n",
              "</div>"
            ],
            "text/plain": [
              "          DATE   DGS5 Month  func  Quarter Quarter_date  DGS5-1  DGS5-2  DGS5-3\n",
              "88  02.01.1984  11.57    01     1        1       1984Q1   11.22   10.72   10.27"
            ]
          },
          "metadata": {
            "tags": []
          },
          "execution_count": 45
        }
      ]
    },
    {
      "cell_type": "code",
      "metadata": {
        "id": "Sob6oQCWNfcJ",
        "colab_type": "code",
        "colab": {
          "base_uri": "https://localhost:8080/",
          "height": 80
        },
        "outputId": "37ff2af7-67d2-4fac-d953-abb8095890e2"
      },
      "source": [
        "DGS5[DGS5['Quarter_date'] == '2017Q4']"
      ],
      "execution_count": 46,
      "outputs": [
        {
          "output_type": "execute_result",
          "data": {
            "text/html": [
              "<div>\n",
              "<style scoped>\n",
              "    .dataframe tbody tr th:only-of-type {\n",
              "        vertical-align: middle;\n",
              "    }\n",
              "\n",
              "    .dataframe tbody tr th {\n",
              "        vertical-align: top;\n",
              "    }\n",
              "\n",
              "    .dataframe thead th {\n",
              "        text-align: right;\n",
              "    }\n",
              "</style>\n",
              "<table border=\"1\" class=\"dataframe\">\n",
              "  <thead>\n",
              "    <tr style=\"text-align: right;\">\n",
              "      <th></th>\n",
              "      <th>DATE</th>\n",
              "      <th>DGS5</th>\n",
              "      <th>Month</th>\n",
              "      <th>func</th>\n",
              "      <th>Quarter</th>\n",
              "      <th>Quarter_date</th>\n",
              "      <th>DGS5-1</th>\n",
              "      <th>DGS5-2</th>\n",
              "      <th>DGS5-3</th>\n",
              "    </tr>\n",
              "  </thead>\n",
              "  <tbody>\n",
              "    <tr>\n",
              "      <th>223</th>\n",
              "      <td>02.10.2017</td>\n",
              "      <td>1.94</td>\n",
              "      <td>10</td>\n",
              "      <td>1</td>\n",
              "      <td>4</td>\n",
              "      <td>2017Q4</td>\n",
              "      <td>1.93</td>\n",
              "      <td>1.88</td>\n",
              "      <td>1.93</td>\n",
              "    </tr>\n",
              "  </tbody>\n",
              "</table>\n",
              "</div>"
            ],
            "text/plain": [
              "           DATE  DGS5 Month  func  Quarter Quarter_date  DGS5-1  DGS5-2  DGS5-3\n",
              "223  02.10.2017  1.94    10     1        4       2017Q4    1.93    1.88    1.93"
            ]
          },
          "metadata": {
            "tags": []
          },
          "execution_count": 46
        }
      ]
    },
    {
      "cell_type": "code",
      "metadata": {
        "id": "IXUyI_wUNjQ0",
        "colab_type": "code",
        "colab": {}
      },
      "source": [
        "DGS5 = DGS5.iloc[88:224,:]"
      ],
      "execution_count": 47,
      "outputs": []
    },
    {
      "cell_type": "code",
      "metadata": {
        "id": "ZWR-5B75N5U6",
        "colab_type": "code",
        "colab": {
          "base_uri": "https://localhost:8080/",
          "height": 80
        },
        "outputId": "ab73c544-e4ba-4988-b3d7-ed0c3835deae"
      },
      "source": [
        "DGS6MO[DGS6MO['Quarter_date'] == '1984Q1']"
      ],
      "execution_count": 48,
      "outputs": [
        {
          "output_type": "execute_result",
          "data": {
            "text/html": [
              "<div>\n",
              "<style scoped>\n",
              "    .dataframe tbody tr th:only-of-type {\n",
              "        vertical-align: middle;\n",
              "    }\n",
              "\n",
              "    .dataframe tbody tr th {\n",
              "        vertical-align: top;\n",
              "    }\n",
              "\n",
              "    .dataframe thead th {\n",
              "        text-align: right;\n",
              "    }\n",
              "</style>\n",
              "<table border=\"1\" class=\"dataframe\">\n",
              "  <thead>\n",
              "    <tr style=\"text-align: right;\">\n",
              "      <th></th>\n",
              "      <th>DATE</th>\n",
              "      <th>DGS6MO</th>\n",
              "      <th>Month</th>\n",
              "      <th>func</th>\n",
              "      <th>Quarter</th>\n",
              "      <th>Quarter_date</th>\n",
              "      <th>DGS6MO-1</th>\n",
              "      <th>DGS6MO-2</th>\n",
              "      <th>DGS6MO-3</th>\n",
              "    </tr>\n",
              "  </thead>\n",
              "  <tbody>\n",
              "    <tr>\n",
              "      <th>8</th>\n",
              "      <td>02.01.1984</td>\n",
              "      <td>9.73</td>\n",
              "      <td>01</td>\n",
              "      <td>1</td>\n",
              "      <td>1</td>\n",
              "      <td>1984Q1</td>\n",
              "      <td>9.47</td>\n",
              "      <td>9.41</td>\n",
              "      <td>9.2</td>\n",
              "    </tr>\n",
              "  </tbody>\n",
              "</table>\n",
              "</div>"
            ],
            "text/plain": [
              "         DATE  DGS6MO Month  func  ...  Quarter_date DGS6MO-1  DGS6MO-2  DGS6MO-3\n",
              "8  02.01.1984    9.73    01     1  ...        1984Q1     9.47      9.41       9.2\n",
              "\n",
              "[1 rows x 9 columns]"
            ]
          },
          "metadata": {
            "tags": []
          },
          "execution_count": 48
        }
      ]
    },
    {
      "cell_type": "code",
      "metadata": {
        "id": "v3m65jqtN5R2",
        "colab_type": "code",
        "colab": {
          "base_uri": "https://localhost:8080/",
          "height": 80
        },
        "outputId": "faaf3c71-e117-4cef-930e-5e3929e8282d"
      },
      "source": [
        "DGS6MO[DGS6MO['Quarter_date'] == '2017Q4']"
      ],
      "execution_count": 49,
      "outputs": [
        {
          "output_type": "execute_result",
          "data": {
            "text/html": [
              "<div>\n",
              "<style scoped>\n",
              "    .dataframe tbody tr th:only-of-type {\n",
              "        vertical-align: middle;\n",
              "    }\n",
              "\n",
              "    .dataframe tbody tr th {\n",
              "        vertical-align: top;\n",
              "    }\n",
              "\n",
              "    .dataframe thead th {\n",
              "        text-align: right;\n",
              "    }\n",
              "</style>\n",
              "<table border=\"1\" class=\"dataframe\">\n",
              "  <thead>\n",
              "    <tr style=\"text-align: right;\">\n",
              "      <th></th>\n",
              "      <th>DATE</th>\n",
              "      <th>DGS6MO</th>\n",
              "      <th>Month</th>\n",
              "      <th>func</th>\n",
              "      <th>Quarter</th>\n",
              "      <th>Quarter_date</th>\n",
              "      <th>DGS6MO-1</th>\n",
              "      <th>DGS6MO-2</th>\n",
              "      <th>DGS6MO-3</th>\n",
              "    </tr>\n",
              "  </thead>\n",
              "  <tbody>\n",
              "    <tr>\n",
              "      <th>143</th>\n",
              "      <td>02.10.2017</td>\n",
              "      <td>1.22</td>\n",
              "      <td>10</td>\n",
              "      <td>1</td>\n",
              "      <td>4</td>\n",
              "      <td>2017Q4</td>\n",
              "      <td>1.13</td>\n",
              "      <td>0.92</td>\n",
              "      <td>0.62</td>\n",
              "    </tr>\n",
              "  </tbody>\n",
              "</table>\n",
              "</div>"
            ],
            "text/plain": [
              "           DATE  DGS6MO Month  func  ...  Quarter_date DGS6MO-1  DGS6MO-2  DGS6MO-3\n",
              "143  02.10.2017    1.22    10     1  ...        2017Q4     1.13      0.92      0.62\n",
              "\n",
              "[1 rows x 9 columns]"
            ]
          },
          "metadata": {
            "tags": []
          },
          "execution_count": 49
        }
      ]
    },
    {
      "cell_type": "code",
      "metadata": {
        "id": "iczRKvw3OAwW",
        "colab_type": "code",
        "colab": {}
      },
      "source": [
        "DGS6MO = DGS6MO.iloc[8:144,:]"
      ],
      "execution_count": 50,
      "outputs": []
    },
    {
      "cell_type": "code",
      "metadata": {
        "id": "qPhnqjAGOJyv",
        "colab_type": "code",
        "colab": {
          "base_uri": "https://localhost:8080/",
          "height": 80
        },
        "outputId": "203da6aa-1e89-427a-c9f8-94e57099ab55"
      },
      "source": [
        "DGS7[DGS7['Quarter_date'] == '1984Q1']"
      ],
      "execution_count": 52,
      "outputs": [
        {
          "output_type": "execute_result",
          "data": {
            "text/html": [
              "<div>\n",
              "<style scoped>\n",
              "    .dataframe tbody tr th:only-of-type {\n",
              "        vertical-align: middle;\n",
              "    }\n",
              "\n",
              "    .dataframe tbody tr th {\n",
              "        vertical-align: top;\n",
              "    }\n",
              "\n",
              "    .dataframe thead th {\n",
              "        text-align: right;\n",
              "    }\n",
              "</style>\n",
              "<table border=\"1\" class=\"dataframe\">\n",
              "  <thead>\n",
              "    <tr style=\"text-align: right;\">\n",
              "      <th></th>\n",
              "      <th>DATE</th>\n",
              "      <th>DGS7</th>\n",
              "      <th>Month</th>\n",
              "      <th>func</th>\n",
              "      <th>Quarter</th>\n",
              "      <th>Quarter_date</th>\n",
              "      <th>DGS7-1</th>\n",
              "      <th>DGS7-2</th>\n",
              "      <th>DGS7-3</th>\n",
              "    </tr>\n",
              "  </thead>\n",
              "  <tbody>\n",
              "    <tr>\n",
              "      <th>58</th>\n",
              "      <td>02.01.1984</td>\n",
              "      <td>11.77</td>\n",
              "      <td>01</td>\n",
              "      <td>1</td>\n",
              "      <td>1</td>\n",
              "      <td>1984Q1</td>\n",
              "      <td>11.42</td>\n",
              "      <td>10.89</td>\n",
              "      <td>10.52</td>\n",
              "    </tr>\n",
              "  </tbody>\n",
              "</table>\n",
              "</div>"
            ],
            "text/plain": [
              "          DATE   DGS7 Month  func  Quarter Quarter_date  DGS7-1  DGS7-2  DGS7-3\n",
              "58  02.01.1984  11.77    01     1        1       1984Q1   11.42   10.89   10.52"
            ]
          },
          "metadata": {
            "tags": []
          },
          "execution_count": 52
        }
      ]
    },
    {
      "cell_type": "code",
      "metadata": {
        "id": "zJdv7xUmOJvE",
        "colab_type": "code",
        "colab": {
          "base_uri": "https://localhost:8080/",
          "height": 80
        },
        "outputId": "01cd7885-1792-4f3b-bc17-7c002e64320c"
      },
      "source": [
        "DGS7[DGS7['Quarter_date'] == '2017Q4']"
      ],
      "execution_count": 51,
      "outputs": [
        {
          "output_type": "execute_result",
          "data": {
            "text/html": [
              "<div>\n",
              "<style scoped>\n",
              "    .dataframe tbody tr th:only-of-type {\n",
              "        vertical-align: middle;\n",
              "    }\n",
              "\n",
              "    .dataframe tbody tr th {\n",
              "        vertical-align: top;\n",
              "    }\n",
              "\n",
              "    .dataframe thead th {\n",
              "        text-align: right;\n",
              "    }\n",
              "</style>\n",
              "<table border=\"1\" class=\"dataframe\">\n",
              "  <thead>\n",
              "    <tr style=\"text-align: right;\">\n",
              "      <th></th>\n",
              "      <th>DATE</th>\n",
              "      <th>DGS7</th>\n",
              "      <th>Month</th>\n",
              "      <th>func</th>\n",
              "      <th>Quarter</th>\n",
              "      <th>Quarter_date</th>\n",
              "      <th>DGS7-1</th>\n",
              "      <th>DGS7-2</th>\n",
              "      <th>DGS7-3</th>\n",
              "    </tr>\n",
              "  </thead>\n",
              "  <tbody>\n",
              "    <tr>\n",
              "      <th>193</th>\n",
              "      <td>02.10.2017</td>\n",
              "      <td>2.17</td>\n",
              "      <td>10</td>\n",
              "      <td>1</td>\n",
              "      <td>4</td>\n",
              "      <td>2017Q4</td>\n",
              "      <td>2.19</td>\n",
              "      <td>2.16</td>\n",
              "      <td>2.25</td>\n",
              "    </tr>\n",
              "  </tbody>\n",
              "</table>\n",
              "</div>"
            ],
            "text/plain": [
              "           DATE  DGS7 Month  func  Quarter Quarter_date  DGS7-1  DGS7-2  DGS7-3\n",
              "193  02.10.2017  2.17    10     1        4       2017Q4    2.19    2.16    2.25"
            ]
          },
          "metadata": {
            "tags": []
          },
          "execution_count": 51
        }
      ]
    },
    {
      "cell_type": "code",
      "metadata": {
        "id": "w8BLT8bnOJr2",
        "colab_type": "code",
        "colab": {}
      },
      "source": [
        "DGS7 = DGS7.iloc[58:194,:]"
      ],
      "execution_count": 53,
      "outputs": []
    },
    {
      "cell_type": "code",
      "metadata": {
        "id": "Aom4W7dROwE9",
        "colab_type": "code",
        "colab": {
          "base_uri": "https://localhost:8080/",
          "height": 80
        },
        "outputId": "79ce23bf-f06f-48a0-f8bf-2e6c72cf31a7"
      },
      "source": [
        "DGS10[DGS10['Quarter_date'] == '1984Q1']"
      ],
      "execution_count": 54,
      "outputs": [
        {
          "output_type": "execute_result",
          "data": {
            "text/html": [
              "<div>\n",
              "<style scoped>\n",
              "    .dataframe tbody tr th:only-of-type {\n",
              "        vertical-align: middle;\n",
              "    }\n",
              "\n",
              "    .dataframe tbody tr th {\n",
              "        vertical-align: top;\n",
              "    }\n",
              "\n",
              "    .dataframe thead th {\n",
              "        text-align: right;\n",
              "    }\n",
              "</style>\n",
              "<table border=\"1\" class=\"dataframe\">\n",
              "  <thead>\n",
              "    <tr style=\"text-align: right;\">\n",
              "      <th></th>\n",
              "      <th>DATE</th>\n",
              "      <th>DGS10</th>\n",
              "      <th>Month</th>\n",
              "      <th>func</th>\n",
              "      <th>Quarter</th>\n",
              "      <th>Quarter_date</th>\n",
              "      <th>DGS10-1</th>\n",
              "      <th>DGS10-2</th>\n",
              "      <th>DGS10-3</th>\n",
              "    </tr>\n",
              "  </thead>\n",
              "  <tbody>\n",
              "    <tr>\n",
              "      <th>88</th>\n",
              "      <td>02.01.1984</td>\n",
              "      <td>11.82</td>\n",
              "      <td>01</td>\n",
              "      <td>1</td>\n",
              "      <td>1</td>\n",
              "      <td>1984Q1</td>\n",
              "      <td>11.47</td>\n",
              "      <td>10.93</td>\n",
              "      <td>10.62</td>\n",
              "    </tr>\n",
              "  </tbody>\n",
              "</table>\n",
              "</div>"
            ],
            "text/plain": [
              "          DATE  DGS10 Month  func  ...  Quarter_date DGS10-1  DGS10-2  DGS10-3\n",
              "88  02.01.1984  11.82    01     1  ...        1984Q1   11.47    10.93    10.62\n",
              "\n",
              "[1 rows x 9 columns]"
            ]
          },
          "metadata": {
            "tags": []
          },
          "execution_count": 54
        }
      ]
    },
    {
      "cell_type": "code",
      "metadata": {
        "id": "zyU8Y3GXOwAl",
        "colab_type": "code",
        "colab": {
          "base_uri": "https://localhost:8080/",
          "height": 80
        },
        "outputId": "92581b2f-5576-4943-e3b1-67146fb2b37f"
      },
      "source": [
        "DGS10[DGS10['Quarter_date'] == '2017Q4']"
      ],
      "execution_count": 55,
      "outputs": [
        {
          "output_type": "execute_result",
          "data": {
            "text/html": [
              "<div>\n",
              "<style scoped>\n",
              "    .dataframe tbody tr th:only-of-type {\n",
              "        vertical-align: middle;\n",
              "    }\n",
              "\n",
              "    .dataframe tbody tr th {\n",
              "        vertical-align: top;\n",
              "    }\n",
              "\n",
              "    .dataframe thead th {\n",
              "        text-align: right;\n",
              "    }\n",
              "</style>\n",
              "<table border=\"1\" class=\"dataframe\">\n",
              "  <thead>\n",
              "    <tr style=\"text-align: right;\">\n",
              "      <th></th>\n",
              "      <th>DATE</th>\n",
              "      <th>DGS10</th>\n",
              "      <th>Month</th>\n",
              "      <th>func</th>\n",
              "      <th>Quarter</th>\n",
              "      <th>Quarter_date</th>\n",
              "      <th>DGS10-1</th>\n",
              "      <th>DGS10-2</th>\n",
              "      <th>DGS10-3</th>\n",
              "    </tr>\n",
              "  </thead>\n",
              "  <tbody>\n",
              "    <tr>\n",
              "      <th>223</th>\n",
              "      <td>02.10.2017</td>\n",
              "      <td>2.34</td>\n",
              "      <td>10</td>\n",
              "      <td>1</td>\n",
              "      <td>4</td>\n",
              "      <td>2017Q4</td>\n",
              "      <td>2.35</td>\n",
              "      <td>2.35</td>\n",
              "      <td>2.45</td>\n",
              "    </tr>\n",
              "  </tbody>\n",
              "</table>\n",
              "</div>"
            ],
            "text/plain": [
              "           DATE  DGS10 Month  func  ...  Quarter_date DGS10-1  DGS10-2  DGS10-3\n",
              "223  02.10.2017   2.34    10     1  ...        2017Q4    2.35     2.35     2.45\n",
              "\n",
              "[1 rows x 9 columns]"
            ]
          },
          "metadata": {
            "tags": []
          },
          "execution_count": 55
        }
      ]
    },
    {
      "cell_type": "code",
      "metadata": {
        "id": "3WEbfll7Ov7h",
        "colab_type": "code",
        "colab": {}
      },
      "source": [
        "DGS10 = DGS10.iloc[88:224,:]"
      ],
      "execution_count": 56,
      "outputs": []
    },
    {
      "cell_type": "code",
      "metadata": {
        "id": "Qsta9IVAO8En",
        "colab_type": "code",
        "colab": {
          "base_uri": "https://localhost:8080/",
          "height": 80
        },
        "outputId": "ebe9a4f7-c6db-4067-88b3-8735f8e89ad0"
      },
      "source": [
        "DGS30[DGS30['Quarter_date'] == '1984Q1']\n"
      ],
      "execution_count": 57,
      "outputs": [
        {
          "output_type": "execute_result",
          "data": {
            "text/html": [
              "<div>\n",
              "<style scoped>\n",
              "    .dataframe tbody tr th:only-of-type {\n",
              "        vertical-align: middle;\n",
              "    }\n",
              "\n",
              "    .dataframe tbody tr th {\n",
              "        vertical-align: top;\n",
              "    }\n",
              "\n",
              "    .dataframe thead th {\n",
              "        text-align: right;\n",
              "    }\n",
              "</style>\n",
              "<table border=\"1\" class=\"dataframe\">\n",
              "  <thead>\n",
              "    <tr style=\"text-align: right;\">\n",
              "      <th></th>\n",
              "      <th>DATE</th>\n",
              "      <th>DGS30</th>\n",
              "      <th>Month</th>\n",
              "      <th>func</th>\n",
              "      <th>Quarter</th>\n",
              "      <th>Quarter_date</th>\n",
              "      <th>DGS30-1</th>\n",
              "      <th>DGS30-2</th>\n",
              "      <th>DGS30-3</th>\n",
              "    </tr>\n",
              "  </thead>\n",
              "  <tbody>\n",
              "    <tr>\n",
              "      <th>27</th>\n",
              "      <td>02.01.1984</td>\n",
              "      <td>11.87</td>\n",
              "      <td>01</td>\n",
              "      <td>1</td>\n",
              "      <td>1</td>\n",
              "      <td>1984Q1</td>\n",
              "      <td>11.48</td>\n",
              "      <td>11.0</td>\n",
              "      <td>10.69</td>\n",
              "    </tr>\n",
              "  </tbody>\n",
              "</table>\n",
              "</div>"
            ],
            "text/plain": [
              "          DATE  DGS30 Month  func  ...  Quarter_date DGS30-1  DGS30-2  DGS30-3\n",
              "27  02.01.1984  11.87    01     1  ...        1984Q1   11.48     11.0    10.69\n",
              "\n",
              "[1 rows x 9 columns]"
            ]
          },
          "metadata": {
            "tags": []
          },
          "execution_count": 57
        }
      ]
    },
    {
      "cell_type": "code",
      "metadata": {
        "id": "DDqgn3_ZO8vH",
        "colab_type": "code",
        "colab": {
          "base_uri": "https://localhost:8080/",
          "height": 80
        },
        "outputId": "3508ff01-f623-4866-c8bd-660de43ba7e7"
      },
      "source": [
        "DGS30[DGS30['Quarter_date'] == '2017Q4']"
      ],
      "execution_count": 58,
      "outputs": [
        {
          "output_type": "execute_result",
          "data": {
            "text/html": [
              "<div>\n",
              "<style scoped>\n",
              "    .dataframe tbody tr th:only-of-type {\n",
              "        vertical-align: middle;\n",
              "    }\n",
              "\n",
              "    .dataframe tbody tr th {\n",
              "        vertical-align: top;\n",
              "    }\n",
              "\n",
              "    .dataframe thead th {\n",
              "        text-align: right;\n",
              "    }\n",
              "</style>\n",
              "<table border=\"1\" class=\"dataframe\">\n",
              "  <thead>\n",
              "    <tr style=\"text-align: right;\">\n",
              "      <th></th>\n",
              "      <th>DATE</th>\n",
              "      <th>DGS30</th>\n",
              "      <th>Month</th>\n",
              "      <th>func</th>\n",
              "      <th>Quarter</th>\n",
              "      <th>Quarter_date</th>\n",
              "      <th>DGS30-1</th>\n",
              "      <th>DGS30-2</th>\n",
              "      <th>DGS30-3</th>\n",
              "    </tr>\n",
              "  </thead>\n",
              "  <tbody>\n",
              "    <tr>\n",
              "      <th>162</th>\n",
              "      <td>02.10.2017</td>\n",
              "      <td>2.87</td>\n",
              "      <td>10</td>\n",
              "      <td>1</td>\n",
              "      <td>4</td>\n",
              "      <td>2017Q4</td>\n",
              "      <td>2.86</td>\n",
              "      <td>2.98</td>\n",
              "      <td>3.06</td>\n",
              "    </tr>\n",
              "  </tbody>\n",
              "</table>\n",
              "</div>"
            ],
            "text/plain": [
              "           DATE  DGS30 Month  func  ...  Quarter_date DGS30-1  DGS30-2  DGS30-3\n",
              "162  02.10.2017   2.87    10     1  ...        2017Q4    2.86     2.98     3.06\n",
              "\n",
              "[1 rows x 9 columns]"
            ]
          },
          "metadata": {
            "tags": []
          },
          "execution_count": 58
        }
      ]
    },
    {
      "cell_type": "code",
      "metadata": {
        "id": "F5DL4qXVRzix",
        "colab_type": "code",
        "colab": {}
      },
      "source": [
        "DGS30 = DGS30.iloc[27:163,:]"
      ],
      "execution_count": 59,
      "outputs": []
    },
    {
      "cell_type": "code",
      "metadata": {
        "id": "3-jr9hCDPbLn",
        "colab_type": "code",
        "colab": {
          "base_uri": "https://localhost:8080/",
          "height": 204
        },
        "outputId": "84975069-44b7-4361-a9fd-14e640b0c5fb"
      },
      "source": [
        "DGS1.head()"
      ],
      "execution_count": 60,
      "outputs": [
        {
          "output_type": "execute_result",
          "data": {
            "text/html": [
              "<div>\n",
              "<style scoped>\n",
              "    .dataframe tbody tr th:only-of-type {\n",
              "        vertical-align: middle;\n",
              "    }\n",
              "\n",
              "    .dataframe tbody tr th {\n",
              "        vertical-align: top;\n",
              "    }\n",
              "\n",
              "    .dataframe thead th {\n",
              "        text-align: right;\n",
              "    }\n",
              "</style>\n",
              "<table border=\"1\" class=\"dataframe\">\n",
              "  <thead>\n",
              "    <tr style=\"text-align: right;\">\n",
              "      <th></th>\n",
              "      <th>DATE</th>\n",
              "      <th>DGS1</th>\n",
              "      <th>Month</th>\n",
              "      <th>func</th>\n",
              "      <th>Quarter</th>\n",
              "      <th>Quarter_date</th>\n",
              "      <th>DGS1-1</th>\n",
              "      <th>DGS1-2</th>\n",
              "      <th>DGS1-3</th>\n",
              "    </tr>\n",
              "  </thead>\n",
              "  <tbody>\n",
              "    <tr>\n",
              "      <th>88</th>\n",
              "      <td>02.01.1984</td>\n",
              "      <td>10.80</td>\n",
              "      <td>01</td>\n",
              "      <td>1</td>\n",
              "      <td>1</td>\n",
              "      <td>1984Q1</td>\n",
              "      <td>9.90</td>\n",
              "      <td>9.67</td>\n",
              "      <td>9.34</td>\n",
              "    </tr>\n",
              "    <tr>\n",
              "      <th>89</th>\n",
              "      <td>02.04.1984</td>\n",
              "      <td>10.84</td>\n",
              "      <td>04</td>\n",
              "      <td>1</td>\n",
              "      <td>2</td>\n",
              "      <td>1984Q2</td>\n",
              "      <td>10.80</td>\n",
              "      <td>9.90</td>\n",
              "      <td>9.67</td>\n",
              "    </tr>\n",
              "    <tr>\n",
              "      <th>90</th>\n",
              "      <td>02.07.1984</td>\n",
              "      <td>12.23</td>\n",
              "      <td>07</td>\n",
              "      <td>1</td>\n",
              "      <td>3</td>\n",
              "      <td>1984Q3</td>\n",
              "      <td>10.84</td>\n",
              "      <td>10.80</td>\n",
              "      <td>9.90</td>\n",
              "    </tr>\n",
              "    <tr>\n",
              "      <th>91</th>\n",
              "      <td>01.10.1984</td>\n",
              "      <td>11.44</td>\n",
              "      <td>10</td>\n",
              "      <td>1</td>\n",
              "      <td>4</td>\n",
              "      <td>1984Q4</td>\n",
              "      <td>12.23</td>\n",
              "      <td>10.84</td>\n",
              "      <td>10.80</td>\n",
              "    </tr>\n",
              "    <tr>\n",
              "      <th>92</th>\n",
              "      <td>01.01.1985</td>\n",
              "      <td>9.22</td>\n",
              "      <td>01</td>\n",
              "      <td>1</td>\n",
              "      <td>1</td>\n",
              "      <td>1985Q1</td>\n",
              "      <td>11.44</td>\n",
              "      <td>12.23</td>\n",
              "      <td>10.84</td>\n",
              "    </tr>\n",
              "  </tbody>\n",
              "</table>\n",
              "</div>"
            ],
            "text/plain": [
              "          DATE   DGS1 Month  func  Quarter Quarter_date  DGS1-1  DGS1-2  DGS1-3\n",
              "88  02.01.1984  10.80    01     1        1       1984Q1    9.90    9.67    9.34\n",
              "89  02.04.1984  10.84    04     1        2       1984Q2   10.80    9.90    9.67\n",
              "90  02.07.1984  12.23    07     1        3       1984Q3   10.84   10.80    9.90\n",
              "91  01.10.1984  11.44    10     1        4       1984Q4   12.23   10.84   10.80\n",
              "92  01.01.1985   9.22    01     1        1       1985Q1   11.44   12.23   10.84"
            ]
          },
          "metadata": {
            "tags": []
          },
          "execution_count": 60
        }
      ]
    },
    {
      "cell_type": "markdown",
      "metadata": {
        "id": "Y23ry6UrQc-g",
        "colab_type": "text"
      },
      "source": [
        "Resetting indexes to make the same index in every table"
      ]
    },
    {
      "cell_type": "code",
      "metadata": {
        "id": "NDsyLT9fM1rE",
        "colab_type": "code",
        "colab": {}
      },
      "source": [
        "DGS1.reset_index(drop=True,inplace = True)\n",
        "DGS1MO.reset_index(drop=True,inplace = True)\n",
        "DGS2.reset_index(drop=True,inplace = True)\n",
        "DGS3MO.reset_index(drop=True,inplace = True)\n",
        "DGS5.reset_index(drop=True,inplace = True)\n",
        "DGS6MO.reset_index(drop=True,inplace = True)\n",
        "DGS7.reset_index(drop=True,inplace = True)\n",
        "DGS10.reset_index(drop=True,inplace = True)\n",
        "DGS20.reset_index(drop=True,inplace = True)\n",
        "DGS30.reset_index(drop=True,inplace = True)"
      ],
      "execution_count": 61,
      "outputs": []
    },
    {
      "cell_type": "markdown",
      "metadata": {
        "id": "EPeLT9zpSJ1z",
        "colab_type": "text"
      },
      "source": [
        "We can see now that all variables are the same length and time range"
      ]
    },
    {
      "cell_type": "code",
      "metadata": {
        "id": "EPmWDw3rQlgZ",
        "colab_type": "code",
        "colab": {
          "base_uri": "https://localhost:8080/",
          "height": 204
        },
        "outputId": "2fa28ffb-3ed4-427b-d989-c856e121f0b8"
      },
      "source": [
        "print('number of observations of dependent variable:', len(rate), '\\n','the oldest date:',rate['YYYYQQ'][0],',The latest date:',rate['YYYYQQ'][len(rate)-1],\n",
        "      '\\n', '\\n','explanatory variables:')\n",
        "print('DGS1:', len(DGS1), ',the oldest date:', DGS1['Quarter_date'][0],',The latest date:',DGS1['Quarter_date'][len(DGS1)-1])\n",
        "# print('DGS1MO:', len(DGS1MO), ',the oldest date:', DGS1MO['Quarter_date'][0],',The latest date:',DGS1MO['Quarter_date'][len(DGS1MO)-1])\n",
        "print('DGS2:', len(DGS2), ',the oldest date:', DGS2['Quarter_date'][0],',The latest date:',DGS2['Quarter_date'][len(DGS2)-1])\n",
        "print('DGS3MO:', len(DGS3MO), ',the oldest date:', DGS3MO['Quarter_date'][0],',The latest date:',DGS3MO['Quarter_date'][len(DGS3MO)-1])\n",
        "print('DGS6MO:', len(DGS6MO), ',the oldest date:', DGS6MO['Quarter_date'][0],',The latest date:',DGS6MO['Quarter_date'][len(DGS6MO)-1])\n",
        "print('DGS7:', len(DGS7), ',the oldest date:', DGS7['Quarter_date'][0],',The latest date:',DGS7['Quarter_date'][len(DGS7)-1])\n",
        "print('DGS10:', len(DGS10), ',the oldest date:', DGS10['Quarter_date'][0],',The latest date:',DGS10['Quarter_date'][len(DGS10)-1])\n",
        "# print('DGS20:', len(DGS20), ',the oldest date:', DGS20['Quarter_date'][0],',The latest date:',DGS20['Quarter_date'][len(DGS20)-1])\n",
        "print('DGS30:', len(DGS30), ',the oldest date:', DGS30['Quarter_date'][0],',The latest date:',DGS30['Quarter_date'][len(DGS30)-1])"
      ],
      "execution_count": 62,
      "outputs": [
        {
          "output_type": "stream",
          "text": [
            "number of observations of dependent variable: 136 \n",
            " the oldest date: 1984Q1 ,The latest date: 2017Q4 \n",
            " \n",
            " explanatory variables:\n",
            "DGS1: 136 ,the oldest date: 1984Q1 ,The latest date: 2017Q4\n",
            "DGS2: 136 ,the oldest date: 1984Q1 ,The latest date: 2017Q4\n",
            "DGS3MO: 136 ,the oldest date: 1984Q1 ,The latest date: 2017Q4\n",
            "DGS6MO: 136 ,the oldest date: 1984Q1 ,The latest date: 2017Q4\n",
            "DGS7: 136 ,the oldest date: 1984Q1 ,The latest date: 2017Q4\n",
            "DGS10: 136 ,the oldest date: 1984Q1 ,The latest date: 2017Q4\n",
            "DGS30: 136 ,the oldest date: 1984Q1 ,The latest date: 2017Q4\n"
          ],
          "name": "stdout"
        }
      ]
    },
    {
      "cell_type": "markdown",
      "metadata": {
        "id": "Ybda9xLZSZrd",
        "colab_type": "text"
      },
      "source": [
        "Now I'm going to create a table where all variables will be together including dependent variable"
      ]
    },
    {
      "cell_type": "code",
      "metadata": {
        "id": "3l_qFC9tQvcW",
        "colab_type": "code",
        "colab": {
          "base_uri": "https://localhost:8080/",
          "height": 204
        },
        "outputId": "1539cdf1-3f38-4140-9dd4-7d062dc73adc"
      },
      "source": [
        "df = pd.DataFrame(DGS1['Quarter_date'])\n",
        "df.head()"
      ],
      "execution_count": 63,
      "outputs": [
        {
          "output_type": "execute_result",
          "data": {
            "text/html": [
              "<div>\n",
              "<style scoped>\n",
              "    .dataframe tbody tr th:only-of-type {\n",
              "        vertical-align: middle;\n",
              "    }\n",
              "\n",
              "    .dataframe tbody tr th {\n",
              "        vertical-align: top;\n",
              "    }\n",
              "\n",
              "    .dataframe thead th {\n",
              "        text-align: right;\n",
              "    }\n",
              "</style>\n",
              "<table border=\"1\" class=\"dataframe\">\n",
              "  <thead>\n",
              "    <tr style=\"text-align: right;\">\n",
              "      <th></th>\n",
              "      <th>Quarter_date</th>\n",
              "    </tr>\n",
              "  </thead>\n",
              "  <tbody>\n",
              "    <tr>\n",
              "      <th>0</th>\n",
              "      <td>1984Q1</td>\n",
              "    </tr>\n",
              "    <tr>\n",
              "      <th>1</th>\n",
              "      <td>1984Q2</td>\n",
              "    </tr>\n",
              "    <tr>\n",
              "      <th>2</th>\n",
              "      <td>1984Q3</td>\n",
              "    </tr>\n",
              "    <tr>\n",
              "      <th>3</th>\n",
              "      <td>1984Q4</td>\n",
              "    </tr>\n",
              "    <tr>\n",
              "      <th>4</th>\n",
              "      <td>1985Q1</td>\n",
              "    </tr>\n",
              "  </tbody>\n",
              "</table>\n",
              "</div>"
            ],
            "text/plain": [
              "  Quarter_date\n",
              "0       1984Q1\n",
              "1       1984Q2\n",
              "2       1984Q3\n",
              "3       1984Q4\n",
              "4       1985Q1"
            ]
          },
          "metadata": {
            "tags": []
          },
          "execution_count": 63
        }
      ]
    },
    {
      "cell_type": "code",
      "metadata": {
        "id": "gZm2CXirTBba",
        "colab_type": "code",
        "colab": {
          "base_uri": "https://localhost:8080/",
          "height": 204
        },
        "outputId": "7b3f864d-eb72-4433-d605-0329f4e98667"
      },
      "source": [
        "df['DGS1'] = DGS1['DGS1']\n",
        "df['DGS2'] = DGS2['DGS2']\n",
        "df['DGS3MO'] = DGS3MO['DGS3MO']\n",
        "df['DGS5'] = DGS5['DGS5']\n",
        "df['DGS6MO'] = DGS6MO['DGS6MO']\n",
        "df['DGS7'] = DGS7['DGS7']\n",
        "df['DGS10'] = DGS10['DGS10']\n",
        "df['DGS30'] = DGS30['DGS30']\n",
        "df.head()"
      ],
      "execution_count": 64,
      "outputs": [
        {
          "output_type": "execute_result",
          "data": {
            "text/html": [
              "<div>\n",
              "<style scoped>\n",
              "    .dataframe tbody tr th:only-of-type {\n",
              "        vertical-align: middle;\n",
              "    }\n",
              "\n",
              "    .dataframe tbody tr th {\n",
              "        vertical-align: top;\n",
              "    }\n",
              "\n",
              "    .dataframe thead th {\n",
              "        text-align: right;\n",
              "    }\n",
              "</style>\n",
              "<table border=\"1\" class=\"dataframe\">\n",
              "  <thead>\n",
              "    <tr style=\"text-align: right;\">\n",
              "      <th></th>\n",
              "      <th>Quarter_date</th>\n",
              "      <th>DGS1</th>\n",
              "      <th>DGS2</th>\n",
              "      <th>DGS3MO</th>\n",
              "      <th>DGS5</th>\n",
              "      <th>DGS6MO</th>\n",
              "      <th>DGS7</th>\n",
              "      <th>DGS10</th>\n",
              "      <th>DGS30</th>\n",
              "    </tr>\n",
              "  </thead>\n",
              "  <tbody>\n",
              "    <tr>\n",
              "      <th>0</th>\n",
              "      <td>1984Q1</td>\n",
              "      <td>10.80</td>\n",
              "      <td>10.85</td>\n",
              "      <td>9.33</td>\n",
              "      <td>11.57</td>\n",
              "      <td>9.73</td>\n",
              "      <td>11.77</td>\n",
              "      <td>11.82</td>\n",
              "      <td>11.87</td>\n",
              "    </tr>\n",
              "    <tr>\n",
              "      <th>1</th>\n",
              "      <td>1984Q2</td>\n",
              "      <td>10.84</td>\n",
              "      <td>11.61</td>\n",
              "      <td>10.05</td>\n",
              "      <td>12.29</td>\n",
              "      <td>10.48</td>\n",
              "      <td>12.50</td>\n",
              "      <td>12.56</td>\n",
              "      <td>12.55</td>\n",
              "    </tr>\n",
              "    <tr>\n",
              "      <th>2</th>\n",
              "      <td>1984Q3</td>\n",
              "      <td>12.23</td>\n",
              "      <td>13.17</td>\n",
              "      <td>10.12</td>\n",
              "      <td>13.73</td>\n",
              "      <td>11.13</td>\n",
              "      <td>13.83</td>\n",
              "      <td>13.87</td>\n",
              "      <td>13.64</td>\n",
              "    </tr>\n",
              "    <tr>\n",
              "      <th>3</th>\n",
              "      <td>1984Q4</td>\n",
              "      <td>11.44</td>\n",
              "      <td>12.90</td>\n",
              "      <td>10.65</td>\n",
              "      <td>12.51</td>\n",
              "      <td>11.08</td>\n",
              "      <td>12.60</td>\n",
              "      <td>12.54</td>\n",
              "      <td>12.35</td>\n",
              "    </tr>\n",
              "    <tr>\n",
              "      <th>4</th>\n",
              "      <td>1985Q1</td>\n",
              "      <td>9.22</td>\n",
              "      <td>10.20</td>\n",
              "      <td>8.12</td>\n",
              "      <td>11.08</td>\n",
              "      <td>8.64</td>\n",
              "      <td>11.52</td>\n",
              "      <td>11.55</td>\n",
              "      <td>11.54</td>\n",
              "    </tr>\n",
              "  </tbody>\n",
              "</table>\n",
              "</div>"
            ],
            "text/plain": [
              "  Quarter_date   DGS1   DGS2  DGS3MO   DGS5  DGS6MO   DGS7  DGS10  DGS30\n",
              "0       1984Q1  10.80  10.85    9.33  11.57    9.73  11.77  11.82  11.87\n",
              "1       1984Q2  10.84  11.61   10.05  12.29   10.48  12.50  12.56  12.55\n",
              "2       1984Q3  12.23  13.17   10.12  13.73   11.13  13.83  13.87  13.64\n",
              "3       1984Q4  11.44  12.90   10.65  12.51   11.08  12.60  12.54  12.35\n",
              "4       1985Q1   9.22  10.20    8.12  11.08    8.64  11.52  11.55  11.54"
            ]
          },
          "metadata": {
            "tags": []
          },
          "execution_count": 64
        }
      ]
    },
    {
      "cell_type": "code",
      "metadata": {
        "id": "wjxeSIIsTuIF",
        "colab_type": "code",
        "colab": {
          "base_uri": "https://localhost:8080/",
          "height": 241
        },
        "outputId": "8f95d660-dba9-4d45-86c6-00ebc14dff3b"
      },
      "source": [
        "df['DGS1-1'] = DGS1['DGS1-1']\n",
        "df['DGS1-2'] = DGS1['DGS1-2']\n",
        "df['DGS1-3'] = DGS1['DGS1-3']\n",
        "\n",
        "df['DGS2-1'] = DGS2['DGS2-1']\n",
        "df['DGS2-2'] = DGS2['DGS2-2']\n",
        "df['DGS2-3'] = DGS2['DGS2-3']\n",
        "\n",
        "df['DGS3MO-1'] = DGS3MO['DGS3MO-1']\n",
        "df['DGS3MO-2'] = DGS3MO['DGS3MO-2']\n",
        "df['DGS3MO-3'] = DGS3MO['DGS3MO-3']\n",
        "\n",
        "df['DGS5-1'] = DGS5['DGS5-1']\n",
        "df['DGS5-2'] = DGS5['DGS5-2']\n",
        "df['DGS5-3'] = DGS5['DGS5-3']\n",
        "\n",
        "df['DGS6MO-1'] = DGS6MO['DGS6MO-1']\n",
        "df['DGS6MO-2'] = DGS6MO['DGS6MO-2']\n",
        "df['DGS6MO-3'] = DGS6MO['DGS6MO-3']\n",
        "\n",
        "df['DGS7-1'] = DGS7['DGS7-1']\n",
        "df['DGS7-2'] = DGS7['DGS7-2']\n",
        "df['DGS7-3'] = DGS7['DGS7-3']\n",
        "\n",
        "df['DGS10-1'] = DGS10['DGS10-1']\n",
        "df['DGS10-2'] = DGS10['DGS10-2']\n",
        "df['DGS10-3'] = DGS10['DGS10-3']\n",
        "\n",
        "df['DGS30-1'] = DGS30['DGS30-1']\n",
        "df['DGS30-2'] = DGS30['DGS30-2']\n",
        "df['DGS30-3'] = DGS30['DGS30-3']\n",
        "df.head()"
      ],
      "execution_count": 65,
      "outputs": [
        {
          "output_type": "execute_result",
          "data": {
            "text/html": [
              "<div>\n",
              "<style scoped>\n",
              "    .dataframe tbody tr th:only-of-type {\n",
              "        vertical-align: middle;\n",
              "    }\n",
              "\n",
              "    .dataframe tbody tr th {\n",
              "        vertical-align: top;\n",
              "    }\n",
              "\n",
              "    .dataframe thead th {\n",
              "        text-align: right;\n",
              "    }\n",
              "</style>\n",
              "<table border=\"1\" class=\"dataframe\">\n",
              "  <thead>\n",
              "    <tr style=\"text-align: right;\">\n",
              "      <th></th>\n",
              "      <th>Quarter_date</th>\n",
              "      <th>DGS1</th>\n",
              "      <th>DGS2</th>\n",
              "      <th>DGS3MO</th>\n",
              "      <th>DGS5</th>\n",
              "      <th>DGS6MO</th>\n",
              "      <th>DGS7</th>\n",
              "      <th>DGS10</th>\n",
              "      <th>DGS30</th>\n",
              "      <th>DGS1-1</th>\n",
              "      <th>DGS1-2</th>\n",
              "      <th>DGS1-3</th>\n",
              "      <th>DGS2-1</th>\n",
              "      <th>DGS2-2</th>\n",
              "      <th>DGS2-3</th>\n",
              "      <th>DGS3MO-1</th>\n",
              "      <th>DGS3MO-2</th>\n",
              "      <th>DGS3MO-3</th>\n",
              "      <th>DGS5-1</th>\n",
              "      <th>DGS5-2</th>\n",
              "      <th>DGS5-3</th>\n",
              "      <th>DGS6MO-1</th>\n",
              "      <th>DGS6MO-2</th>\n",
              "      <th>DGS6MO-3</th>\n",
              "      <th>DGS7-1</th>\n",
              "      <th>DGS7-2</th>\n",
              "      <th>DGS7-3</th>\n",
              "      <th>DGS10-1</th>\n",
              "      <th>DGS10-2</th>\n",
              "      <th>DGS10-3</th>\n",
              "      <th>DGS30-1</th>\n",
              "      <th>DGS30-2</th>\n",
              "      <th>DGS30-3</th>\n",
              "    </tr>\n",
              "  </thead>\n",
              "  <tbody>\n",
              "    <tr>\n",
              "      <th>0</th>\n",
              "      <td>1984Q1</td>\n",
              "      <td>10.80</td>\n",
              "      <td>10.85</td>\n",
              "      <td>9.33</td>\n",
              "      <td>11.57</td>\n",
              "      <td>9.73</td>\n",
              "      <td>11.77</td>\n",
              "      <td>11.82</td>\n",
              "      <td>11.87</td>\n",
              "      <td>9.90</td>\n",
              "      <td>9.67</td>\n",
              "      <td>9.34</td>\n",
              "      <td>10.55</td>\n",
              "      <td>10.17</td>\n",
              "      <td>9.87</td>\n",
              "      <td>9.13</td>\n",
              "      <td>9.05</td>\n",
              "      <td>8.96</td>\n",
              "      <td>11.22</td>\n",
              "      <td>10.72</td>\n",
              "      <td>10.27</td>\n",
              "      <td>9.47</td>\n",
              "      <td>9.41</td>\n",
              "      <td>9.20</td>\n",
              "      <td>11.42</td>\n",
              "      <td>10.89</td>\n",
              "      <td>10.52</td>\n",
              "      <td>11.47</td>\n",
              "      <td>10.93</td>\n",
              "      <td>10.62</td>\n",
              "      <td>11.48</td>\n",
              "      <td>11.00</td>\n",
              "      <td>10.69</td>\n",
              "    </tr>\n",
              "    <tr>\n",
              "      <th>1</th>\n",
              "      <td>1984Q2</td>\n",
              "      <td>10.84</td>\n",
              "      <td>11.61</td>\n",
              "      <td>10.05</td>\n",
              "      <td>12.29</td>\n",
              "      <td>10.48</td>\n",
              "      <td>12.50</td>\n",
              "      <td>12.56</td>\n",
              "      <td>12.55</td>\n",
              "      <td>10.80</td>\n",
              "      <td>9.90</td>\n",
              "      <td>9.67</td>\n",
              "      <td>10.85</td>\n",
              "      <td>10.55</td>\n",
              "      <td>10.17</td>\n",
              "      <td>9.33</td>\n",
              "      <td>9.13</td>\n",
              "      <td>9.05</td>\n",
              "      <td>11.57</td>\n",
              "      <td>11.22</td>\n",
              "      <td>10.72</td>\n",
              "      <td>9.73</td>\n",
              "      <td>9.47</td>\n",
              "      <td>9.41</td>\n",
              "      <td>11.77</td>\n",
              "      <td>11.42</td>\n",
              "      <td>10.89</td>\n",
              "      <td>11.82</td>\n",
              "      <td>11.47</td>\n",
              "      <td>10.93</td>\n",
              "      <td>11.87</td>\n",
              "      <td>11.48</td>\n",
              "      <td>11.00</td>\n",
              "    </tr>\n",
              "    <tr>\n",
              "      <th>2</th>\n",
              "      <td>1984Q3</td>\n",
              "      <td>12.23</td>\n",
              "      <td>13.17</td>\n",
              "      <td>10.12</td>\n",
              "      <td>13.73</td>\n",
              "      <td>11.13</td>\n",
              "      <td>13.83</td>\n",
              "      <td>13.87</td>\n",
              "      <td>13.64</td>\n",
              "      <td>10.84</td>\n",
              "      <td>10.80</td>\n",
              "      <td>9.90</td>\n",
              "      <td>11.61</td>\n",
              "      <td>10.85</td>\n",
              "      <td>10.55</td>\n",
              "      <td>10.05</td>\n",
              "      <td>9.33</td>\n",
              "      <td>9.13</td>\n",
              "      <td>12.29</td>\n",
              "      <td>11.57</td>\n",
              "      <td>11.22</td>\n",
              "      <td>10.48</td>\n",
              "      <td>9.73</td>\n",
              "      <td>9.47</td>\n",
              "      <td>12.50</td>\n",
              "      <td>11.77</td>\n",
              "      <td>11.42</td>\n",
              "      <td>12.56</td>\n",
              "      <td>11.82</td>\n",
              "      <td>11.47</td>\n",
              "      <td>12.55</td>\n",
              "      <td>11.87</td>\n",
              "      <td>11.48</td>\n",
              "    </tr>\n",
              "    <tr>\n",
              "      <th>3</th>\n",
              "      <td>1984Q4</td>\n",
              "      <td>11.44</td>\n",
              "      <td>12.90</td>\n",
              "      <td>10.65</td>\n",
              "      <td>12.51</td>\n",
              "      <td>11.08</td>\n",
              "      <td>12.60</td>\n",
              "      <td>12.54</td>\n",
              "      <td>12.35</td>\n",
              "      <td>12.23</td>\n",
              "      <td>10.84</td>\n",
              "      <td>10.80</td>\n",
              "      <td>13.17</td>\n",
              "      <td>11.61</td>\n",
              "      <td>10.85</td>\n",
              "      <td>10.12</td>\n",
              "      <td>10.05</td>\n",
              "      <td>9.33</td>\n",
              "      <td>13.73</td>\n",
              "      <td>12.29</td>\n",
              "      <td>11.57</td>\n",
              "      <td>11.13</td>\n",
              "      <td>10.48</td>\n",
              "      <td>9.73</td>\n",
              "      <td>13.83</td>\n",
              "      <td>12.50</td>\n",
              "      <td>11.77</td>\n",
              "      <td>13.87</td>\n",
              "      <td>12.56</td>\n",
              "      <td>11.82</td>\n",
              "      <td>13.64</td>\n",
              "      <td>12.55</td>\n",
              "      <td>11.87</td>\n",
              "    </tr>\n",
              "    <tr>\n",
              "      <th>4</th>\n",
              "      <td>1985Q1</td>\n",
              "      <td>9.22</td>\n",
              "      <td>10.20</td>\n",
              "      <td>8.12</td>\n",
              "      <td>11.08</td>\n",
              "      <td>8.64</td>\n",
              "      <td>11.52</td>\n",
              "      <td>11.55</td>\n",
              "      <td>11.54</td>\n",
              "      <td>11.44</td>\n",
              "      <td>12.23</td>\n",
              "      <td>10.84</td>\n",
              "      <td>12.90</td>\n",
              "      <td>13.17</td>\n",
              "      <td>11.61</td>\n",
              "      <td>10.65</td>\n",
              "      <td>10.12</td>\n",
              "      <td>10.05</td>\n",
              "      <td>12.51</td>\n",
              "      <td>13.73</td>\n",
              "      <td>12.29</td>\n",
              "      <td>11.08</td>\n",
              "      <td>11.13</td>\n",
              "      <td>10.48</td>\n",
              "      <td>12.60</td>\n",
              "      <td>13.83</td>\n",
              "      <td>12.50</td>\n",
              "      <td>12.54</td>\n",
              "      <td>13.87</td>\n",
              "      <td>12.56</td>\n",
              "      <td>12.35</td>\n",
              "      <td>13.64</td>\n",
              "      <td>12.55</td>\n",
              "    </tr>\n",
              "  </tbody>\n",
              "</table>\n",
              "</div>"
            ],
            "text/plain": [
              "  Quarter_date   DGS1   DGS2  DGS3MO  ...  DGS10-3  DGS30-1  DGS30-2  DGS30-3\n",
              "0       1984Q1  10.80  10.85    9.33  ...    10.62    11.48    11.00    10.69\n",
              "1       1984Q2  10.84  11.61   10.05  ...    10.93    11.87    11.48    11.00\n",
              "2       1984Q3  12.23  13.17   10.12  ...    11.47    12.55    11.87    11.48\n",
              "3       1984Q4  11.44  12.90   10.65  ...    11.82    13.64    12.55    11.87\n",
              "4       1985Q1   9.22  10.20    8.12  ...    12.56    12.35    13.64    12.55\n",
              "\n",
              "[5 rows x 33 columns]"
            ]
          },
          "metadata": {
            "tags": []
          },
          "execution_count": 65
        }
      ]
    },
    {
      "cell_type": "markdown",
      "metadata": {
        "id": "KfYvr5iIVZW4",
        "colab_type": "text"
      },
      "source": [
        "Time to count the dependent variable - Deposit Rate Paid "
      ]
    },
    {
      "cell_type": "code",
      "metadata": {
        "id": "dVMGLFBrVXl9",
        "colab_type": "code",
        "colab": {
          "base_uri": "https://localhost:8080/",
          "height": 204
        },
        "outputId": "55392b9f-3d5b-4e22-c4af-e96a786571d5"
      },
      "source": [
        "rate.head()"
      ],
      "execution_count": 66,
      "outputs": [
        {
          "output_type": "execute_result",
          "data": {
            "text/html": [
              "<div>\n",
              "<style scoped>\n",
              "    .dataframe tbody tr th:only-of-type {\n",
              "        vertical-align: middle;\n",
              "    }\n",
              "\n",
              "    .dataframe tbody tr th {\n",
              "        vertical-align: top;\n",
              "    }\n",
              "\n",
              "    .dataframe thead th {\n",
              "        text-align: right;\n",
              "    }\n",
              "</style>\n",
              "<table border=\"1\" class=\"dataframe\">\n",
              "  <thead>\n",
              "    <tr style=\"text-align: right;\">\n",
              "      <th></th>\n",
              "      <th>YYYYQQ</th>\n",
              "      <th>Foreign deposits</th>\n",
              "      <th>Domestic deposits interest-bearing</th>\n",
              "      <th>Domestic deposits noninterest-bearing</th>\n",
              "      <th>Total interest expense</th>\n",
              "    </tr>\n",
              "  </thead>\n",
              "  <tbody>\n",
              "    <tr>\n",
              "      <th>0</th>\n",
              "      <td>1984Q1</td>\n",
              "      <td>346927.996</td>\n",
              "      <td>1860604.628</td>\n",
              "      <td>363955.726</td>\n",
              "      <td>59109.697</td>\n",
              "    </tr>\n",
              "    <tr>\n",
              "      <th>1</th>\n",
              "      <td>1984Q2</td>\n",
              "      <td>345313.290</td>\n",
              "      <td>1921612.686</td>\n",
              "      <td>379300.050</td>\n",
              "      <td>62633.848</td>\n",
              "    </tr>\n",
              "    <tr>\n",
              "      <th>2</th>\n",
              "      <td>1984Q3</td>\n",
              "      <td>326893.665</td>\n",
              "      <td>1964712.984</td>\n",
              "      <td>364125.250</td>\n",
              "      <td>67994.237</td>\n",
              "    </tr>\n",
              "    <tr>\n",
              "      <th>3</th>\n",
              "      <td>1984Q4</td>\n",
              "      <td>317569.815</td>\n",
              "      <td>2043037.290</td>\n",
              "      <td>421535.819</td>\n",
              "      <td>67890.338</td>\n",
              "    </tr>\n",
              "    <tr>\n",
              "      <th>4</th>\n",
              "      <td>1985Q1</td>\n",
              "      <td>332165.522</td>\n",
              "      <td>2086013.731</td>\n",
              "      <td>371462.367</td>\n",
              "      <td>65997.470</td>\n",
              "    </tr>\n",
              "  </tbody>\n",
              "</table>\n",
              "</div>"
            ],
            "text/plain": [
              "   YYYYQQ  ...  Total interest expense\n",
              "0  1984Q1  ...               59109.697\n",
              "1  1984Q2  ...               62633.848\n",
              "2  1984Q3  ...               67994.237\n",
              "3  1984Q4  ...               67890.338\n",
              "4  1985Q1  ...               65997.470\n",
              "\n",
              "[5 rows x 5 columns]"
            ]
          },
          "metadata": {
            "tags": []
          },
          "execution_count": 66
        }
      ]
    },
    {
      "cell_type": "markdown",
      "metadata": {
        "id": "nAjGlJ6SV95l",
        "colab_type": "text"
      },
      "source": [
        "Calculating deposit rate paid I'm taking into account only two variable: Foreign deposits and Domestic deposits interest-bearing due to the fact that third variable is noninterest-bearing.\n",
        "\n",
        "Rate will be in % so I multiply it by 100"
      ]
    },
    {
      "cell_type": "code",
      "metadata": {
        "id": "PXVHe6cOVgX8",
        "colab_type": "code",
        "colab": {
          "base_uri": "https://localhost:8080/",
          "height": 204
        },
        "outputId": "0ac18174-01d5-4fac-87ce-b0d7c935c5ae"
      },
      "source": [
        "rate['rate_paid'] = (rate['Total interest expense']/(rate['Foreign deposits']+\n",
        "rate['Domestic deposits interest-bearing']))*100\n",
        "rate.head()"
      ],
      "execution_count": 67,
      "outputs": [
        {
          "output_type": "execute_result",
          "data": {
            "text/html": [
              "<div>\n",
              "<style scoped>\n",
              "    .dataframe tbody tr th:only-of-type {\n",
              "        vertical-align: middle;\n",
              "    }\n",
              "\n",
              "    .dataframe tbody tr th {\n",
              "        vertical-align: top;\n",
              "    }\n",
              "\n",
              "    .dataframe thead th {\n",
              "        text-align: right;\n",
              "    }\n",
              "</style>\n",
              "<table border=\"1\" class=\"dataframe\">\n",
              "  <thead>\n",
              "    <tr style=\"text-align: right;\">\n",
              "      <th></th>\n",
              "      <th>YYYYQQ</th>\n",
              "      <th>Foreign deposits</th>\n",
              "      <th>Domestic deposits interest-bearing</th>\n",
              "      <th>Domestic deposits noninterest-bearing</th>\n",
              "      <th>Total interest expense</th>\n",
              "      <th>rate_paid</th>\n",
              "    </tr>\n",
              "  </thead>\n",
              "  <tbody>\n",
              "    <tr>\n",
              "      <th>0</th>\n",
              "      <td>1984Q1</td>\n",
              "      <td>346927.996</td>\n",
              "      <td>1860604.628</td>\n",
              "      <td>363955.726</td>\n",
              "      <td>59109.697</td>\n",
              "      <td>2.677636</td>\n",
              "    </tr>\n",
              "    <tr>\n",
              "      <th>1</th>\n",
              "      <td>1984Q2</td>\n",
              "      <td>345313.290</td>\n",
              "      <td>1921612.686</td>\n",
              "      <td>379300.050</td>\n",
              "      <td>62633.848</td>\n",
              "      <td>2.762942</td>\n",
              "    </tr>\n",
              "    <tr>\n",
              "      <th>2</th>\n",
              "      <td>1984Q3</td>\n",
              "      <td>326893.665</td>\n",
              "      <td>1964712.984</td>\n",
              "      <td>364125.250</td>\n",
              "      <td>67994.237</td>\n",
              "      <td>2.967099</td>\n",
              "    </tr>\n",
              "    <tr>\n",
              "      <th>3</th>\n",
              "      <td>1984Q4</td>\n",
              "      <td>317569.815</td>\n",
              "      <td>2043037.290</td>\n",
              "      <td>421535.819</td>\n",
              "      <td>67890.338</td>\n",
              "      <td>2.875969</td>\n",
              "    </tr>\n",
              "    <tr>\n",
              "      <th>4</th>\n",
              "      <td>1985Q1</td>\n",
              "      <td>332165.522</td>\n",
              "      <td>2086013.731</td>\n",
              "      <td>371462.367</td>\n",
              "      <td>65997.470</td>\n",
              "      <td>2.729222</td>\n",
              "    </tr>\n",
              "  </tbody>\n",
              "</table>\n",
              "</div>"
            ],
            "text/plain": [
              "   YYYYQQ  Foreign deposits  ...  Total interest expense  rate_paid\n",
              "0  1984Q1        346927.996  ...               59109.697   2.677636\n",
              "1  1984Q2        345313.290  ...               62633.848   2.762942\n",
              "2  1984Q3        326893.665  ...               67994.237   2.967099\n",
              "3  1984Q4        317569.815  ...               67890.338   2.875969\n",
              "4  1985Q1        332165.522  ...               65997.470   2.729222\n",
              "\n",
              "[5 rows x 6 columns]"
            ]
          },
          "metadata": {
            "tags": []
          },
          "execution_count": 67
        }
      ]
    },
    {
      "cell_type": "code",
      "metadata": {
        "id": "GmR3-4cJWGRw",
        "colab_type": "code",
        "colab": {}
      },
      "source": [
        "# attaching dependent variable to final dataframe\n",
        "df['rate_paid'] = rate['rate_paid']"
      ],
      "execution_count": 68,
      "outputs": []
    },
    {
      "cell_type": "code",
      "metadata": {
        "id": "LO6zkDlUWJea",
        "colab_type": "code",
        "colab": {
          "base_uri": "https://localhost:8080/",
          "height": 258
        },
        "outputId": "02a3d219-5b5d-441a-a22d-b86d617431f3"
      },
      "source": [
        "print(df.shape)\n",
        "df.head()"
      ],
      "execution_count": 69,
      "outputs": [
        {
          "output_type": "stream",
          "text": [
            "(136, 34)\n"
          ],
          "name": "stdout"
        },
        {
          "output_type": "execute_result",
          "data": {
            "text/html": [
              "<div>\n",
              "<style scoped>\n",
              "    .dataframe tbody tr th:only-of-type {\n",
              "        vertical-align: middle;\n",
              "    }\n",
              "\n",
              "    .dataframe tbody tr th {\n",
              "        vertical-align: top;\n",
              "    }\n",
              "\n",
              "    .dataframe thead th {\n",
              "        text-align: right;\n",
              "    }\n",
              "</style>\n",
              "<table border=\"1\" class=\"dataframe\">\n",
              "  <thead>\n",
              "    <tr style=\"text-align: right;\">\n",
              "      <th></th>\n",
              "      <th>Quarter_date</th>\n",
              "      <th>DGS1</th>\n",
              "      <th>DGS2</th>\n",
              "      <th>DGS3MO</th>\n",
              "      <th>DGS5</th>\n",
              "      <th>DGS6MO</th>\n",
              "      <th>DGS7</th>\n",
              "      <th>DGS10</th>\n",
              "      <th>DGS30</th>\n",
              "      <th>DGS1-1</th>\n",
              "      <th>DGS1-2</th>\n",
              "      <th>DGS1-3</th>\n",
              "      <th>DGS2-1</th>\n",
              "      <th>DGS2-2</th>\n",
              "      <th>DGS2-3</th>\n",
              "      <th>DGS3MO-1</th>\n",
              "      <th>DGS3MO-2</th>\n",
              "      <th>DGS3MO-3</th>\n",
              "      <th>DGS5-1</th>\n",
              "      <th>DGS5-2</th>\n",
              "      <th>DGS5-3</th>\n",
              "      <th>DGS6MO-1</th>\n",
              "      <th>DGS6MO-2</th>\n",
              "      <th>DGS6MO-3</th>\n",
              "      <th>DGS7-1</th>\n",
              "      <th>DGS7-2</th>\n",
              "      <th>DGS7-3</th>\n",
              "      <th>DGS10-1</th>\n",
              "      <th>DGS10-2</th>\n",
              "      <th>DGS10-3</th>\n",
              "      <th>DGS30-1</th>\n",
              "      <th>DGS30-2</th>\n",
              "      <th>DGS30-3</th>\n",
              "      <th>rate_paid</th>\n",
              "    </tr>\n",
              "  </thead>\n",
              "  <tbody>\n",
              "    <tr>\n",
              "      <th>0</th>\n",
              "      <td>1984Q1</td>\n",
              "      <td>10.80</td>\n",
              "      <td>10.85</td>\n",
              "      <td>9.33</td>\n",
              "      <td>11.57</td>\n",
              "      <td>9.73</td>\n",
              "      <td>11.77</td>\n",
              "      <td>11.82</td>\n",
              "      <td>11.87</td>\n",
              "      <td>9.90</td>\n",
              "      <td>9.67</td>\n",
              "      <td>9.34</td>\n",
              "      <td>10.55</td>\n",
              "      <td>10.17</td>\n",
              "      <td>9.87</td>\n",
              "      <td>9.13</td>\n",
              "      <td>9.05</td>\n",
              "      <td>8.96</td>\n",
              "      <td>11.22</td>\n",
              "      <td>10.72</td>\n",
              "      <td>10.27</td>\n",
              "      <td>9.47</td>\n",
              "      <td>9.41</td>\n",
              "      <td>9.20</td>\n",
              "      <td>11.42</td>\n",
              "      <td>10.89</td>\n",
              "      <td>10.52</td>\n",
              "      <td>11.47</td>\n",
              "      <td>10.93</td>\n",
              "      <td>10.62</td>\n",
              "      <td>11.48</td>\n",
              "      <td>11.00</td>\n",
              "      <td>10.69</td>\n",
              "      <td>2.677636</td>\n",
              "    </tr>\n",
              "    <tr>\n",
              "      <th>1</th>\n",
              "      <td>1984Q2</td>\n",
              "      <td>10.84</td>\n",
              "      <td>11.61</td>\n",
              "      <td>10.05</td>\n",
              "      <td>12.29</td>\n",
              "      <td>10.48</td>\n",
              "      <td>12.50</td>\n",
              "      <td>12.56</td>\n",
              "      <td>12.55</td>\n",
              "      <td>10.80</td>\n",
              "      <td>9.90</td>\n",
              "      <td>9.67</td>\n",
              "      <td>10.85</td>\n",
              "      <td>10.55</td>\n",
              "      <td>10.17</td>\n",
              "      <td>9.33</td>\n",
              "      <td>9.13</td>\n",
              "      <td>9.05</td>\n",
              "      <td>11.57</td>\n",
              "      <td>11.22</td>\n",
              "      <td>10.72</td>\n",
              "      <td>9.73</td>\n",
              "      <td>9.47</td>\n",
              "      <td>9.41</td>\n",
              "      <td>11.77</td>\n",
              "      <td>11.42</td>\n",
              "      <td>10.89</td>\n",
              "      <td>11.82</td>\n",
              "      <td>11.47</td>\n",
              "      <td>10.93</td>\n",
              "      <td>11.87</td>\n",
              "      <td>11.48</td>\n",
              "      <td>11.00</td>\n",
              "      <td>2.762942</td>\n",
              "    </tr>\n",
              "    <tr>\n",
              "      <th>2</th>\n",
              "      <td>1984Q3</td>\n",
              "      <td>12.23</td>\n",
              "      <td>13.17</td>\n",
              "      <td>10.12</td>\n",
              "      <td>13.73</td>\n",
              "      <td>11.13</td>\n",
              "      <td>13.83</td>\n",
              "      <td>13.87</td>\n",
              "      <td>13.64</td>\n",
              "      <td>10.84</td>\n",
              "      <td>10.80</td>\n",
              "      <td>9.90</td>\n",
              "      <td>11.61</td>\n",
              "      <td>10.85</td>\n",
              "      <td>10.55</td>\n",
              "      <td>10.05</td>\n",
              "      <td>9.33</td>\n",
              "      <td>9.13</td>\n",
              "      <td>12.29</td>\n",
              "      <td>11.57</td>\n",
              "      <td>11.22</td>\n",
              "      <td>10.48</td>\n",
              "      <td>9.73</td>\n",
              "      <td>9.47</td>\n",
              "      <td>12.50</td>\n",
              "      <td>11.77</td>\n",
              "      <td>11.42</td>\n",
              "      <td>12.56</td>\n",
              "      <td>11.82</td>\n",
              "      <td>11.47</td>\n",
              "      <td>12.55</td>\n",
              "      <td>11.87</td>\n",
              "      <td>11.48</td>\n",
              "      <td>2.967099</td>\n",
              "    </tr>\n",
              "    <tr>\n",
              "      <th>3</th>\n",
              "      <td>1984Q4</td>\n",
              "      <td>11.44</td>\n",
              "      <td>12.90</td>\n",
              "      <td>10.65</td>\n",
              "      <td>12.51</td>\n",
              "      <td>11.08</td>\n",
              "      <td>12.60</td>\n",
              "      <td>12.54</td>\n",
              "      <td>12.35</td>\n",
              "      <td>12.23</td>\n",
              "      <td>10.84</td>\n",
              "      <td>10.80</td>\n",
              "      <td>13.17</td>\n",
              "      <td>11.61</td>\n",
              "      <td>10.85</td>\n",
              "      <td>10.12</td>\n",
              "      <td>10.05</td>\n",
              "      <td>9.33</td>\n",
              "      <td>13.73</td>\n",
              "      <td>12.29</td>\n",
              "      <td>11.57</td>\n",
              "      <td>11.13</td>\n",
              "      <td>10.48</td>\n",
              "      <td>9.73</td>\n",
              "      <td>13.83</td>\n",
              "      <td>12.50</td>\n",
              "      <td>11.77</td>\n",
              "      <td>13.87</td>\n",
              "      <td>12.56</td>\n",
              "      <td>11.82</td>\n",
              "      <td>13.64</td>\n",
              "      <td>12.55</td>\n",
              "      <td>11.87</td>\n",
              "      <td>2.875969</td>\n",
              "    </tr>\n",
              "    <tr>\n",
              "      <th>4</th>\n",
              "      <td>1985Q1</td>\n",
              "      <td>9.22</td>\n",
              "      <td>10.20</td>\n",
              "      <td>8.12</td>\n",
              "      <td>11.08</td>\n",
              "      <td>8.64</td>\n",
              "      <td>11.52</td>\n",
              "      <td>11.55</td>\n",
              "      <td>11.54</td>\n",
              "      <td>11.44</td>\n",
              "      <td>12.23</td>\n",
              "      <td>10.84</td>\n",
              "      <td>12.90</td>\n",
              "      <td>13.17</td>\n",
              "      <td>11.61</td>\n",
              "      <td>10.65</td>\n",
              "      <td>10.12</td>\n",
              "      <td>10.05</td>\n",
              "      <td>12.51</td>\n",
              "      <td>13.73</td>\n",
              "      <td>12.29</td>\n",
              "      <td>11.08</td>\n",
              "      <td>11.13</td>\n",
              "      <td>10.48</td>\n",
              "      <td>12.60</td>\n",
              "      <td>13.83</td>\n",
              "      <td>12.50</td>\n",
              "      <td>12.54</td>\n",
              "      <td>13.87</td>\n",
              "      <td>12.56</td>\n",
              "      <td>12.35</td>\n",
              "      <td>13.64</td>\n",
              "      <td>12.55</td>\n",
              "      <td>2.729222</td>\n",
              "    </tr>\n",
              "  </tbody>\n",
              "</table>\n",
              "</div>"
            ],
            "text/plain": [
              "  Quarter_date   DGS1   DGS2  DGS3MO  ...  DGS30-1  DGS30-2  DGS30-3  rate_paid\n",
              "0       1984Q1  10.80  10.85    9.33  ...    11.48    11.00    10.69   2.677636\n",
              "1       1984Q2  10.84  11.61   10.05  ...    11.87    11.48    11.00   2.762942\n",
              "2       1984Q3  12.23  13.17   10.12  ...    12.55    11.87    11.48   2.967099\n",
              "3       1984Q4  11.44  12.90   10.65  ...    13.64    12.55    11.87   2.875969\n",
              "4       1985Q1   9.22  10.20    8.12  ...    12.35    13.64    12.55   2.729222\n",
              "\n",
              "[5 rows x 34 columns]"
            ]
          },
          "metadata": {
            "tags": []
          },
          "execution_count": 69
        }
      ]
    },
    {
      "cell_type": "markdown",
      "metadata": {
        "id": "5j1BR3mCLgfi",
        "colab_type": "text"
      },
      "source": [
        "#Gradient Descent"
      ]
    },
    {
      "cell_type": "markdown",
      "metadata": {
        "id": "s8cW2VzXMrJT",
        "colab_type": "text"
      },
      "source": [
        "There is in a task:\n",
        "\n",
        "(Bonus) Please write a gradient descent algorithm in python or R to arrive at the coefficients for\n",
        "below linear regression:\n",
        "\n",
        "<Deposit Rate Paid ~ TSY 1 Month> "
      ]
    },
    {
      "cell_type": "markdown",
      "metadata": {
        "id": "-aCf3eaMZRz1",
        "colab_type": "text"
      },
      "source": [
        "First I need to limit both X and y to the same shape"
      ]
    },
    {
      "cell_type": "code",
      "metadata": {
        "id": "8pu4tC27N1DJ",
        "colab_type": "code",
        "colab": {
          "base_uri": "https://localhost:8080/",
          "height": 80
        },
        "outputId": "2d53c198-bbaa-4f88-937c-720fa3a2e255"
      },
      "source": [
        "#the oldest date in DGS1MO\n",
        "DGS1MO.head(1)"
      ],
      "execution_count": 192,
      "outputs": [
        {
          "output_type": "execute_result",
          "data": {
            "text/html": [
              "<div>\n",
              "<style scoped>\n",
              "    .dataframe tbody tr th:only-of-type {\n",
              "        vertical-align: middle;\n",
              "    }\n",
              "\n",
              "    .dataframe tbody tr th {\n",
              "        vertical-align: top;\n",
              "    }\n",
              "\n",
              "    .dataframe thead th {\n",
              "        text-align: right;\n",
              "    }\n",
              "</style>\n",
              "<table border=\"1\" class=\"dataframe\">\n",
              "  <thead>\n",
              "    <tr style=\"text-align: right;\">\n",
              "      <th></th>\n",
              "      <th>DATE</th>\n",
              "      <th>DGS1MO</th>\n",
              "      <th>Month</th>\n",
              "      <th>func</th>\n",
              "      <th>Quarter</th>\n",
              "      <th>Quarter_date</th>\n",
              "      <th>DGS1MO-1</th>\n",
              "      <th>DGS1MO-2</th>\n",
              "      <th>DGS1MO-3</th>\n",
              "    </tr>\n",
              "  </thead>\n",
              "  <tbody>\n",
              "    <tr>\n",
              "      <th>0</th>\n",
              "      <td>01.10.2001</td>\n",
              "      <td>2.26</td>\n",
              "      <td>10</td>\n",
              "      <td>1</td>\n",
              "      <td>4</td>\n",
              "      <td>2001Q4</td>\n",
              "      <td>NaN</td>\n",
              "      <td>NaN</td>\n",
              "      <td>NaN</td>\n",
              "    </tr>\n",
              "  </tbody>\n",
              "</table>\n",
              "</div>"
            ],
            "text/plain": [
              "         DATE  DGS1MO Month  func  ...  Quarter_date DGS1MO-1  DGS1MO-2  DGS1MO-3\n",
              "0  01.10.2001    2.26    10     1  ...        2001Q4      NaN       NaN       NaN\n",
              "\n",
              "[1 rows x 9 columns]"
            ]
          },
          "metadata": {
            "tags": []
          },
          "execution_count": 192
        }
      ]
    },
    {
      "cell_type": "code",
      "metadata": {
        "id": "kUyOQ-oiN7YS",
        "colab_type": "code",
        "colab": {
          "base_uri": "https://localhost:8080/",
          "height": 117
        },
        "outputId": "fe871550-05df-4723-9e49-a9e591282935"
      },
      "source": [
        "#Finding index of DGS1MO'the oldest date in final data frame with our y\n",
        "df[df['Quarter_date'] == '2001Q4']"
      ],
      "execution_count": 193,
      "outputs": [
        {
          "output_type": "execute_result",
          "data": {
            "text/html": [
              "<div>\n",
              "<style scoped>\n",
              "    .dataframe tbody tr th:only-of-type {\n",
              "        vertical-align: middle;\n",
              "    }\n",
              "\n",
              "    .dataframe tbody tr th {\n",
              "        vertical-align: top;\n",
              "    }\n",
              "\n",
              "    .dataframe thead th {\n",
              "        text-align: right;\n",
              "    }\n",
              "</style>\n",
              "<table border=\"1\" class=\"dataframe\">\n",
              "  <thead>\n",
              "    <tr style=\"text-align: right;\">\n",
              "      <th></th>\n",
              "      <th>Quarter_date</th>\n",
              "      <th>DGS1</th>\n",
              "      <th>DGS2</th>\n",
              "      <th>DGS3MO</th>\n",
              "      <th>DGS5</th>\n",
              "      <th>DGS6MO</th>\n",
              "      <th>DGS7</th>\n",
              "      <th>DGS10</th>\n",
              "      <th>DGS30</th>\n",
              "      <th>DGS1-1</th>\n",
              "      <th>DGS1-2</th>\n",
              "      <th>DGS1-3</th>\n",
              "      <th>DGS2-1</th>\n",
              "      <th>DGS2-2</th>\n",
              "      <th>DGS2-3</th>\n",
              "      <th>DGS3MO-1</th>\n",
              "      <th>DGS3MO-2</th>\n",
              "      <th>DGS3MO-3</th>\n",
              "      <th>DGS5-1</th>\n",
              "      <th>DGS5-2</th>\n",
              "      <th>DGS5-3</th>\n",
              "      <th>DGS6MO-1</th>\n",
              "      <th>DGS6MO-2</th>\n",
              "      <th>DGS6MO-3</th>\n",
              "      <th>DGS7-1</th>\n",
              "      <th>DGS7-2</th>\n",
              "      <th>DGS7-3</th>\n",
              "      <th>DGS10-1</th>\n",
              "      <th>DGS10-2</th>\n",
              "      <th>DGS10-3</th>\n",
              "      <th>DGS30-1</th>\n",
              "      <th>DGS30-2</th>\n",
              "      <th>DGS30-3</th>\n",
              "      <th>rate_paid</th>\n",
              "    </tr>\n",
              "  </thead>\n",
              "  <tbody>\n",
              "    <tr>\n",
              "      <th>71</th>\n",
              "      <td>2001Q4</td>\n",
              "      <td>2.47</td>\n",
              "      <td>2.82</td>\n",
              "      <td>2.37</td>\n",
              "      <td>3.9</td>\n",
              "      <td>2.37</td>\n",
              "      <td>4.33</td>\n",
              "      <td>4.55</td>\n",
              "      <td>5.38</td>\n",
              "      <td>3.74</td>\n",
              "      <td>4.1</td>\n",
              "      <td>5.32</td>\n",
              "      <td>4.21</td>\n",
              "      <td>4.22</td>\n",
              "      <td>5.11</td>\n",
              "      <td>3.67</td>\n",
              "      <td>4.22</td>\n",
              "      <td>5.89</td>\n",
              "      <td>4.88</td>\n",
              "      <td>4.66</td>\n",
              "      <td>4.99</td>\n",
              "      <td>3.61</td>\n",
              "      <td>4.16</td>\n",
              "      <td>5.7</td>\n",
              "      <td>5.21</td>\n",
              "      <td>4.92</td>\n",
              "      <td>5.16</td>\n",
              "      <td>5.37</td>\n",
              "      <td>4.98</td>\n",
              "      <td>5.12</td>\n",
              "      <td>5.7</td>\n",
              "      <td>5.49</td>\n",
              "      <td>5.46</td>\n",
              "      <td>1.038997</td>\n",
              "    </tr>\n",
              "  </tbody>\n",
              "</table>\n",
              "</div>"
            ],
            "text/plain": [
              "   Quarter_date  DGS1  DGS2  DGS3MO  ...  DGS30-1  DGS30-2  DGS30-3  rate_paid\n",
              "71       2001Q4  2.47  2.82    2.37  ...      5.7     5.49     5.46   1.038997\n",
              "\n",
              "[1 rows x 34 columns]"
            ]
          },
          "metadata": {
            "tags": []
          },
          "execution_count": 193
        }
      ]
    },
    {
      "cell_type": "code",
      "metadata": {
        "id": "y9AoIIyoPNHd",
        "colab_type": "code",
        "colab": {
          "base_uri": "https://localhost:8080/",
          "height": 119
        },
        "outputId": "1a654649-d135-451c-b380-1382aaf804e5"
      },
      "source": [
        "df.iloc[71:,:]['rate_paid'].head()"
      ],
      "execution_count": 194,
      "outputs": [
        {
          "output_type": "execute_result",
          "data": {
            "text/plain": [
              "71    1.038997\n",
              "72    0.904397\n",
              "73    0.907471\n",
              "74    0.877965\n",
              "75    0.781161\n",
              "Name: rate_paid, dtype: float64"
            ]
          },
          "metadata": {
            "tags": []
          },
          "execution_count": 194
        }
      ]
    },
    {
      "cell_type": "code",
      "metadata": {
        "id": "M-uIEBpIRM_L",
        "colab_type": "code",
        "colab": {
          "base_uri": "https://localhost:8080/",
          "height": 34
        },
        "outputId": "85aed51c-d306-4cb9-9d46-e98de2f07ba2"
      },
      "source": [
        "print(DGS1MO['DGS1MO'][0:-2].values.shape,\n",
        "df.iloc[71:,:]['rate_paid'].values.shape)"
      ],
      "execution_count": 195,
      "outputs": [
        {
          "output_type": "stream",
          "text": [
            "(65,) (65,)\n"
          ],
          "name": "stdout"
        }
      ]
    },
    {
      "cell_type": "markdown",
      "metadata": {
        "id": "5S_DP7d-ZL21",
        "colab_type": "text"
      },
      "source": [
        "Declaring arguments for Gradient Descent:"
      ]
    },
    {
      "cell_type": "code",
      "metadata": {
        "id": "U_8DXuJFZJPG",
        "colab_type": "code",
        "colab": {}
      },
      "source": [
        "X = DGS1MO['DGS1MO'][0:-2].values\n",
        "y = df.iloc[71:,:]['rate_paid'].values\n",
        "\n",
        "w = 0 # weight\n",
        "c = 0 #constatnt\n",
        "\n",
        "L = 0.01  # The learning Rate\n",
        "epochs = 1000  # The number of iterations to perform gradient descent\n",
        "n = float(len(X)) # Number of elements in X"
      ],
      "execution_count": 196,
      "outputs": []
    },
    {
      "cell_type": "code",
      "metadata": {
        "id": "-Sjhc8J7Li6h",
        "colab_type": "code",
        "colab": {}
      },
      "source": [
        "# Performing Gradient Descent \n",
        "for i in range(epochs): \n",
        "    y_pred = w*X + c  # The current predicted value of Y   \n",
        "    D_w = (-2/n) * sum(X * (y - y_pred))  # Derivative wrt w\n",
        "    D_c = (-2/n) * sum(y - y_pred)  # Derivative wrt c\n",
        "    w = w - L * D_w  # Update w\n",
        "    c = c - L * D_c  # Update c"
      ],
      "execution_count": 197,
      "outputs": []
    },
    {
      "cell_type": "code",
      "metadata": {
        "id": "69Fj1NFzaBDL",
        "colab_type": "code",
        "colab": {
          "base_uri": "https://localhost:8080/",
          "height": 51
        },
        "outputId": "d91e506d-4600-4925-9d2a-9d6529ac8d0b"
      },
      "source": [
        "print('constant:',c, '\\n','weight:', w)"
      ],
      "execution_count": 198,
      "outputs": [
        {
          "output_type": "stream",
          "text": [
            "constant: 0.24769687540659163 \n",
            " weight: 0.25169340164426385\n"
          ],
          "name": "stdout"
        }
      ]
    },
    {
      "cell_type": "markdown",
      "metadata": {
        "id": "4ijvdd7DaXMX",
        "colab_type": "text"
      },
      "source": [
        "Plotting the regression line of the Gradient Descent"
      ]
    },
    {
      "cell_type": "code",
      "metadata": {
        "id": "-tBV2EfFS7rK",
        "colab_type": "code",
        "colab": {
          "base_uri": "https://localhost:8080/",
          "height": 265
        },
        "outputId": "b19b0ffd-6721-4722-a047-7ca2fa13672c"
      },
      "source": [
        "y_pred = m*X + c\n",
        "\n",
        "plt.scatter(X, y) \n",
        "plt.plot([min(X), max(X)], [min(y_pred), max(y_pred)], color='red')  # regression line\n",
        "plt.show()"
      ],
      "execution_count": 199,
      "outputs": [
        {
          "output_type": "display_data",
          "data": {
            "image/png": "[encoded data removed]",
            "text/plain": [
              "<Figure size 432x288 with 1 Axes>"
            ]
          },
          "metadata": {
            "tags": [],
            "needs_background": "light"
          }
        }
      ]
    },
    {
      "cell_type": "markdown",
      "metadata": {
        "id": "ukxzhKv8XK9V",
        "colab_type": "text"
      },
      "source": [
        "#Modelling"
      ]
    },
    {
      "cell_type": "markdown",
      "metadata": {
        "id": "zyKMz4BFO45f",
        "colab_type": "text"
      },
      "source": [
        "This is our final dataframe with 33 variables(one is dependent variable) which We are going to use in the model. I also set Quarter_data variable to index for better visualistions."
      ]
    },
    {
      "cell_type": "code",
      "metadata": {
        "id": "4PJYefykPC6E",
        "colab_type": "code",
        "colab": {}
      },
      "source": [
        "df.set_index('Quarter_date', inplace = True)"
      ],
      "execution_count": 70,
      "outputs": []
    },
    {
      "cell_type": "code",
      "metadata": {
        "id": "owz2-D_GXz-X",
        "colab_type": "code",
        "colab": {
          "base_uri": "https://localhost:8080/",
          "height": 607
        },
        "outputId": "055f35a1-f4e1-4d7c-b7bf-9a8458b49734"
      },
      "source": [
        "#Distribution of our main variables(without shiftedin a time)\n",
        "# We can see that most of the observations are close to zero and more and less have similar distribution\n",
        "df[['DGS1', 'DGS2', 'DGS3MO', 'DGS6MO', 'DGS7', 'DGS10', 'DGS30', 'rate_paid']].hist(figsize=(16, 10));"
      ],
      "execution_count": 71,
      "outputs": [
        {
          "output_type": "display_data",
          "data": {
            "image/png": "[encoded data removed]",
            "text/plain": [
              "<Figure size 1152x720 with 9 Axes>"
            ]
          },
          "metadata": {
            "tags": [],
            "needs_background": "light"
          }
        }
      ]
    },
    {
      "cell_type": "markdown",
      "metadata": {
        "id": "2IB_c1pxhy_d",
        "colab_type": "text"
      },
      "source": [
        "Below We can see visualization of treaury rates in time.\n",
        "The descending trend with seasonality is visible in all features.\n",
        "The same is for Deposit rate paid.\n",
        "Based on the below plot I'm going to add one variable - time and see if it will bring any information "
      ]
    },
    {
      "cell_type": "code",
      "metadata": {
        "id": "JwWCPfGngE6V",
        "colab_type": "code",
        "colab": {
          "base_uri": "https://localhost:8080/",
          "height": 405
        },
        "outputId": "34f391cd-091e-4401-f955-cdea529b3a21"
      },
      "source": [
        "df[['DGS1', 'DGS2', 'DGS3MO', 'DGS6MO', 'DGS7', 'DGS10', 'DGS30']].plot(figsize = (10,6), title = 'Treasury rates in time');"
      ],
      "execution_count": 72,
      "outputs": [
        {
          "output_type": "display_data",
          "data": {
            "image/png": "[encoded data removed]",
            "text/plain": [
              "<Figure size 720x432 with 1 Axes>"
            ]
          },
          "metadata": {
            "tags": [],
            "needs_background": "light"
          }
        }
      ]
    },
    {
      "cell_type": "code",
      "metadata": {
        "id": "MqpXDI0Du0Lo",
        "colab_type": "code",
        "colab": {
          "base_uri": "https://localhost:8080/",
          "height": 405
        },
        "outputId": "d1ed6b58-937e-4bc0-ac80-f5c7dbcce22b"
      },
      "source": [
        "df['rate_paid'].plot(figsize = (10,6), title = 'Deposit rate paid in time');"
      ],
      "execution_count": 73,
      "outputs": [
        {
          "output_type": "display_data",
          "data": {
            "image/png": "[encoded data removed]",
            "text/plain": [
              "<Figure size 720x432 with 1 Axes>"
            ]
          },
          "metadata": {
            "tags": [],
            "needs_background": "light"
          }
        }
      ]
    },
    {
      "cell_type": "markdown",
      "metadata": {
        "id": "i878arenonUt",
        "colab_type": "text"
      },
      "source": [
        "Adding new feature(time) as a increasing value over time.\n",
        "Now the final dataframe has 34 features(33 explanatory)"
      ]
    },
    {
      "cell_type": "code",
      "metadata": {
        "id": "8aQEqMsIomFR",
        "colab_type": "code",
        "colab": {
          "base_uri": "https://localhost:8080/",
          "height": 289
        },
        "outputId": "dbc9758b-ba2e-49a4-fbe0-ebb2721ca96c"
      },
      "source": [
        "time = [i for i in range(1, len(df)+1)]\n",
        "df['time'] = time\n",
        "print(df.shape)\n",
        "df.head()"
      ],
      "execution_count": 74,
      "outputs": [
        {
          "output_type": "stream",
          "text": [
            "(136, 34)\n"
          ],
          "name": "stdout"
        },
        {
          "output_type": "execute_result",
          "data": {
            "text/html": [
              "<div>\n",
              "<style scoped>\n",
              "    .dataframe tbody tr th:only-of-type {\n",
              "        vertical-align: middle;\n",
              "    }\n",
              "\n",
              "    .dataframe tbody tr th {\n",
              "        vertical-align: top;\n",
              "    }\n",
              "\n",
              "    .dataframe thead th {\n",
              "        text-align: right;\n",
              "    }\n",
              "</style>\n",
              "<table border=\"1\" class=\"dataframe\">\n",
              "  <thead>\n",
              "    <tr style=\"text-align: right;\">\n",
              "      <th></th>\n",
              "      <th>DGS1</th>\n",
              "      <th>DGS2</th>\n",
              "      <th>DGS3MO</th>\n",
              "      <th>DGS5</th>\n",
              "      <th>DGS6MO</th>\n",
              "      <th>DGS7</th>\n",
              "      <th>DGS10</th>\n",
              "      <th>DGS30</th>\n",
              "      <th>DGS1-1</th>\n",
              "      <th>DGS1-2</th>\n",
              "      <th>DGS1-3</th>\n",
              "      <th>DGS2-1</th>\n",
              "      <th>DGS2-2</th>\n",
              "      <th>DGS2-3</th>\n",
              "      <th>DGS3MO-1</th>\n",
              "      <th>DGS3MO-2</th>\n",
              "      <th>DGS3MO-3</th>\n",
              "      <th>DGS5-1</th>\n",
              "      <th>DGS5-2</th>\n",
              "      <th>DGS5-3</th>\n",
              "      <th>DGS6MO-1</th>\n",
              "      <th>DGS6MO-2</th>\n",
              "      <th>DGS6MO-3</th>\n",
              "      <th>DGS7-1</th>\n",
              "      <th>DGS7-2</th>\n",
              "      <th>DGS7-3</th>\n",
              "      <th>DGS10-1</th>\n",
              "      <th>DGS10-2</th>\n",
              "      <th>DGS10-3</th>\n",
              "      <th>DGS30-1</th>\n",
              "      <th>DGS30-2</th>\n",
              "      <th>DGS30-3</th>\n",
              "      <th>rate_paid</th>\n",
              "      <th>time</th>\n",
              "    </tr>\n",
              "    <tr>\n",
              "      <th>Quarter_date</th>\n",
              "      <th></th>\n",
              "      <th></th>\n",
              "      <th></th>\n",
              "      <th></th>\n",
              "      <th></th>\n",
              "      <th></th>\n",
              "      <th></th>\n",
              "      <th></th>\n",
              "      <th></th>\n",
              "      <th></th>\n",
              "      <th></th>\n",
              "      <th></th>\n",
              "      <th></th>\n",
              "      <th></th>\n",
              "      <th></th>\n",
              "      <th></th>\n",
              "      <th></th>\n",
              "      <th></th>\n",
              "      <th></th>\n",
              "      <th></th>\n",
              "      <th></th>\n",
              "      <th></th>\n",
              "      <th></th>\n",
              "      <th></th>\n",
              "      <th></th>\n",
              "      <th></th>\n",
              "      <th></th>\n",
              "      <th></th>\n",
              "      <th></th>\n",
              "      <th></th>\n",
              "      <th></th>\n",
              "      <th></th>\n",
              "      <th></th>\n",
              "      <th></th>\n",
              "    </tr>\n",
              "  </thead>\n",
              "  <tbody>\n",
              "    <tr>\n",
              "      <th>1984Q1</th>\n",
              "      <td>10.80</td>\n",
              "      <td>10.85</td>\n",
              "      <td>9.33</td>\n",
              "      <td>11.57</td>\n",
              "      <td>9.73</td>\n",
              "      <td>11.77</td>\n",
              "      <td>11.82</td>\n",
              "      <td>11.87</td>\n",
              "      <td>9.90</td>\n",
              "      <td>9.67</td>\n",
              "      <td>9.34</td>\n",
              "      <td>10.55</td>\n",
              "      <td>10.17</td>\n",
              "      <td>9.87</td>\n",
              "      <td>9.13</td>\n",
              "      <td>9.05</td>\n",
              "      <td>8.96</td>\n",
              "      <td>11.22</td>\n",
              "      <td>10.72</td>\n",
              "      <td>10.27</td>\n",
              "      <td>9.47</td>\n",
              "      <td>9.41</td>\n",
              "      <td>9.20</td>\n",
              "      <td>11.42</td>\n",
              "      <td>10.89</td>\n",
              "      <td>10.52</td>\n",
              "      <td>11.47</td>\n",
              "      <td>10.93</td>\n",
              "      <td>10.62</td>\n",
              "      <td>11.48</td>\n",
              "      <td>11.00</td>\n",
              "      <td>10.69</td>\n",
              "      <td>2.677636</td>\n",
              "      <td>1</td>\n",
              "    </tr>\n",
              "    <tr>\n",
              "      <th>1984Q2</th>\n",
              "      <td>10.84</td>\n",
              "      <td>11.61</td>\n",
              "      <td>10.05</td>\n",
              "      <td>12.29</td>\n",
              "      <td>10.48</td>\n",
              "      <td>12.50</td>\n",
              "      <td>12.56</td>\n",
              "      <td>12.55</td>\n",
              "      <td>10.80</td>\n",
              "      <td>9.90</td>\n",
              "      <td>9.67</td>\n",
              "      <td>10.85</td>\n",
              "      <td>10.55</td>\n",
              "      <td>10.17</td>\n",
              "      <td>9.33</td>\n",
              "      <td>9.13</td>\n",
              "      <td>9.05</td>\n",
              "      <td>11.57</td>\n",
              "      <td>11.22</td>\n",
              "      <td>10.72</td>\n",
              "      <td>9.73</td>\n",
              "      <td>9.47</td>\n",
              "      <td>9.41</td>\n",
              "      <td>11.77</td>\n",
              "      <td>11.42</td>\n",
              "      <td>10.89</td>\n",
              "      <td>11.82</td>\n",
              "      <td>11.47</td>\n",
              "      <td>10.93</td>\n",
              "      <td>11.87</td>\n",
              "      <td>11.48</td>\n",
              "      <td>11.00</td>\n",
              "      <td>2.762942</td>\n",
              "      <td>2</td>\n",
              "    </tr>\n",
              "    <tr>\n",
              "      <th>1984Q3</th>\n",
              "      <td>12.23</td>\n",
              "      <td>13.17</td>\n",
              "      <td>10.12</td>\n",
              "      <td>13.73</td>\n",
              "      <td>11.13</td>\n",
              "      <td>13.83</td>\n",
              "      <td>13.87</td>\n",
              "      <td>13.64</td>\n",
              "      <td>10.84</td>\n",
              "      <td>10.80</td>\n",
              "      <td>9.90</td>\n",
              "      <td>11.61</td>\n",
              "      <td>10.85</td>\n",
              "      <td>10.55</td>\n",
              "      <td>10.05</td>\n",
              "      <td>9.33</td>\n",
              "      <td>9.13</td>\n",
              "      <td>12.29</td>\n",
              "      <td>11.57</td>\n",
              "      <td>11.22</td>\n",
              "      <td>10.48</td>\n",
              "      <td>9.73</td>\n",
              "      <td>9.47</td>\n",
              "      <td>12.50</td>\n",
              "      <td>11.77</td>\n",
              "      <td>11.42</td>\n",
              "      <td>12.56</td>\n",
              "      <td>11.82</td>\n",
              "      <td>11.47</td>\n",
              "      <td>12.55</td>\n",
              "      <td>11.87</td>\n",
              "      <td>11.48</td>\n",
              "      <td>2.967099</td>\n",
              "      <td>3</td>\n",
              "    </tr>\n",
              "    <tr>\n",
              "      <th>1984Q4</th>\n",
              "      <td>11.44</td>\n",
              "      <td>12.90</td>\n",
              "      <td>10.65</td>\n",
              "      <td>12.51</td>\n",
              "      <td>11.08</td>\n",
              "      <td>12.60</td>\n",
              "      <td>12.54</td>\n",
              "      <td>12.35</td>\n",
              "      <td>12.23</td>\n",
              "      <td>10.84</td>\n",
              "      <td>10.80</td>\n",
              "      <td>13.17</td>\n",
              "      <td>11.61</td>\n",
              "      <td>10.85</td>\n",
              "      <td>10.12</td>\n",
              "      <td>10.05</td>\n",
              "      <td>9.33</td>\n",
              "      <td>13.73</td>\n",
              "      <td>12.29</td>\n",
              "      <td>11.57</td>\n",
              "      <td>11.13</td>\n",
              "      <td>10.48</td>\n",
              "      <td>9.73</td>\n",
              "      <td>13.83</td>\n",
              "      <td>12.50</td>\n",
              "      <td>11.77</td>\n",
              "      <td>13.87</td>\n",
              "      <td>12.56</td>\n",
              "      <td>11.82</td>\n",
              "      <td>13.64</td>\n",
              "      <td>12.55</td>\n",
              "      <td>11.87</td>\n",
              "      <td>2.875969</td>\n",
              "      <td>4</td>\n",
              "    </tr>\n",
              "    <tr>\n",
              "      <th>1985Q1</th>\n",
              "      <td>9.22</td>\n",
              "      <td>10.20</td>\n",
              "      <td>8.12</td>\n",
              "      <td>11.08</td>\n",
              "      <td>8.64</td>\n",
              "      <td>11.52</td>\n",
              "      <td>11.55</td>\n",
              "      <td>11.54</td>\n",
              "      <td>11.44</td>\n",
              "      <td>12.23</td>\n",
              "      <td>10.84</td>\n",
              "      <td>12.90</td>\n",
              "      <td>13.17</td>\n",
              "      <td>11.61</td>\n",
              "      <td>10.65</td>\n",
              "      <td>10.12</td>\n",
              "      <td>10.05</td>\n",
              "      <td>12.51</td>\n",
              "      <td>13.73</td>\n",
              "      <td>12.29</td>\n",
              "      <td>11.08</td>\n",
              "      <td>11.13</td>\n",
              "      <td>10.48</td>\n",
              "      <td>12.60</td>\n",
              "      <td>13.83</td>\n",
              "      <td>12.50</td>\n",
              "      <td>12.54</td>\n",
              "      <td>13.87</td>\n",
              "      <td>12.56</td>\n",
              "      <td>12.35</td>\n",
              "      <td>13.64</td>\n",
              "      <td>12.55</td>\n",
              "      <td>2.729222</td>\n",
              "      <td>5</td>\n",
              "    </tr>\n",
              "  </tbody>\n",
              "</table>\n",
              "</div>"
            ],
            "text/plain": [
              "               DGS1   DGS2  DGS3MO   DGS5  ...  DGS30-2  DGS30-3  rate_paid  time\n",
              "Quarter_date                               ...                                   \n",
              "1984Q1        10.80  10.85    9.33  11.57  ...    11.00    10.69   2.677636     1\n",
              "1984Q2        10.84  11.61   10.05  12.29  ...    11.48    11.00   2.762942     2\n",
              "1984Q3        12.23  13.17   10.12  13.73  ...    11.87    11.48   2.967099     3\n",
              "1984Q4        11.44  12.90   10.65  12.51  ...    12.55    11.87   2.875969     4\n",
              "1985Q1         9.22  10.20    8.12  11.08  ...    13.64    12.55   2.729222     5\n",
              "\n",
              "[5 rows x 34 columns]"
            ]
          },
          "metadata": {
            "tags": []
          },
          "execution_count": 74
        }
      ]
    },
    {
      "cell_type": "markdown",
      "metadata": {
        "id": "bXYH3DN-6FjZ",
        "colab_type": "text"
      },
      "source": [
        "Importing libraries for modelling"
      ]
    },
    {
      "cell_type": "code",
      "metadata": {
        "id": "IpHYcE-9Sav7",
        "colab_type": "code",
        "colab": {}
      },
      "source": [
        "import numpy as np\n",
        "import matplotlib.pyplot as plt\n",
        "from sklearn.model_selection import cross_val_score\n",
        "from sklearn.model_selection import RepeatedKFold\n",
        "from matplotlib import pyplot\n",
        "\n",
        "from sklearn.linear_model import ElasticNet\n",
        "from sklearn.svm import LinearSVR\n",
        "from sklearn.ensemble import RandomForestRegressor\n",
        "from sklearn.tree import DecisionTreeRegressor\n",
        "# Couple of boosting algorithms as they usually show the best performance\n",
        "# Let's find out which one of them will perform the best\n",
        "from xgboost import XGBRFRegressor\n",
        "from lightgbm import LGBMRegressor"
      ],
      "execution_count": 75,
      "outputs": []
    },
    {
      "cell_type": "markdown",
      "metadata": {
        "id": "Ikt9xW4yitV7",
        "colab_type": "text"
      },
      "source": [
        "Below is the function for model evaluation as a scoring function I take negative mean absolute error so the closer to zero the better.\n",
        "Due to the samll amount of observations cross validation with 5 splits and 3 repeat eems to be reasonable."
      ]
    },
    {
      "cell_type": "code",
      "metadata": {
        "id": "s9tgNUuhcgp-",
        "colab_type": "code",
        "colab": {}
      },
      "source": [
        "def evaluate_model(X, y, model):\n",
        "\t# define evaluation procedure, due to the size of our frame I limit number of splits to 5 with 3 repeats\n",
        "\tcv = RepeatedKFold(n_splits=5, n_repeats=3, random_state=1)\n",
        "\t# evaluate model\n",
        "\tscores = cross_val_score(model, X, y, scoring='neg_mean_absolute_error', cv=cv, n_jobs=-1)\n",
        "\treturn scores"
      ],
      "execution_count": 76,
      "outputs": []
    },
    {
      "cell_type": "markdown",
      "metadata": {
        "id": "ozmHPdSFasKs",
        "colab_type": "text"
      },
      "source": [
        "Separating explanatory variables from dependent variable"
      ]
    },
    {
      "cell_type": "code",
      "metadata": {
        "id": "NgTazNjHcxDZ",
        "colab_type": "code",
        "colab": {}
      },
      "source": [
        "X = df.drop(['rate_paid'], axis = 1)\n",
        "y = df['rate_paid']"
      ],
      "execution_count": 77,
      "outputs": []
    },
    {
      "cell_type": "markdown",
      "metadata": {
        "id": "UYoBqK6HiGrJ",
        "colab_type": "text"
      },
      "source": [
        "Firstly, let's evaluate model on all 33 features. \n",
        "Below I'm creating a list of models which will be fitted for the data and evaluated."
      ]
    },
    {
      "cell_type": "code",
      "metadata": {
        "id": "ydVxcDjUp8D6",
        "colab_type": "code",
        "colab": {}
      },
      "source": [
        "# creating a list of models to evaluate\n",
        "def get_models():\n",
        "\tmodels, names = list(), list()\n",
        "\t# ElasticNet\n",
        "\tmodels.append(ElasticNet())#instead of regular LR to prevent a potential overfitting\n",
        "\tnames.append('ElasticNet')\n",
        "  #SVM\n",
        "\tmodels.append(LinearSVR())\n",
        "\tnames.append('SVM')\n",
        "  # DecisionTree\n",
        "\tmodels.append(DecisionTreeRegressor(min_impurity_split=5))\n",
        "\tnames.append('DecisionTree')\n",
        "\t# RandomForest\n",
        "\tmodels.append(RandomForestRegressor(min_samples_split=5, n_estimators=150))\n",
        "\tnames.append('RandomForest')\n",
        "\t# XGBoost\n",
        "\tmodels.append(XGBRFRegressor(n_estimators=2000, learning_rate=0.01))\n",
        "\tnames.append('XGBoost')\n",
        "\t# LightGBM\n",
        "\tmodels.append(LGBMRegressor(n_estimators=2000, learning_rate=0.01))\n",
        "\tnames.append('LightGBM')\n",
        "\treturn models, names"
      ],
      "execution_count": 81,
      "outputs": []
    },
    {
      "cell_type": "markdown",
      "metadata": {
        "id": "ODoPE6I48gC-",
        "colab_type": "text"
      },
      "source": [
        "Evaluating models:"
      ]
    },
    {
      "cell_type": "code",
      "metadata": {
        "id": "prJzjV_gbIRT",
        "colab_type": "code",
        "colab": {
          "base_uri": "https://localhost:8080/",
          "height": 119
        },
        "outputId": "debb0a09-3455-4082-b50f-27e3cbceb9b1"
      },
      "source": [
        "models, names = get_models()\n",
        "results = list()\n",
        "# evaluate each model\n",
        "for i in range(len(models)):\n",
        "\t# evaluate the model and store results\n",
        "\tscores = evaluate_model(X, y, models[i])\n",
        "\tresults.append(scores)\n",
        "\t# summarize performance\n",
        "\t# I'm multiplying mean score * -1 because as a scoring I took neg_mean_absolute_error\n",
        "\t#and I want to have regular mean absolute error\n",
        "\tprint('>%s %.3f (%.3f)' % (names[i], np.mean(scores)*(-1), np.std(scores)))"
      ],
      "execution_count": 82,
      "outputs": [
        {
          "output_type": "stream",
          "text": [
            ">ElasticNet 0.246 (0.021)\n",
            ">SVM 0.128 (0.049)\n",
            ">DecisionTree 0.682 (0.066)\n",
            ">RandomForest 0.053 (0.008)\n",
            ">XGBoost 0.872 (0.124)\n",
            ">LightGBM 0.075 (0.015)\n"
          ],
          "name": "stdout"
        }
      ]
    },
    {
      "cell_type": "markdown",
      "metadata": {
        "id": "wubzckEca91v",
        "colab_type": "text"
      },
      "source": [
        "We can see the best performance on all 32 features seems to have Random Forest, also has a low variance. On average by 0.053% +- 0.008% our results differ from real value when it comes to predicting Deposit Rate Paid.\n",
        "Below is a visual presentation of models performance"
      ]
    },
    {
      "cell_type": "code",
      "metadata": {
        "id": "NAePLdF0a-hF",
        "colab_type": "code",
        "colab": {
          "base_uri": "https://localhost:8080/",
          "height": 374
        },
        "outputId": "68338e25-da44-4b14-9db6-794365fda928"
      },
      "source": [
        "plt.figure(figsize=(8,6))\n",
        "pyplot.boxplot(results, labels=names, showmeans=True)\n",
        "pyplot.show()"
      ],
      "execution_count": 83,
      "outputs": [
        {
          "output_type": "display_data",
          "data": {
            "image/png": "[encoded data removed]",
            "text/plain": [
              "<Figure size 576x432 with 1 Axes>"
            ]
          },
          "metadata": {
            "tags": [],
            "needs_background": "light"
          }
        }
      ]
    },
    {
      "cell_type": "markdown",
      "metadata": {
        "id": "sBTyUQarbh7R",
        "colab_type": "text"
      },
      "source": [
        "Now let's check if our as far best model -Random Forest would perform better with any feature transformation"
      ]
    },
    {
      "cell_type": "code",
      "metadata": {
        "id": "2T7A-r2xtP9-",
        "colab_type": "code",
        "colab": {}
      },
      "source": [
        "from sklearn.pipeline import Pipeline\n",
        "from sklearn.preprocessing import LabelEncoder\n",
        "from sklearn.preprocessing import MinMaxScaler\n",
        "from sklearn.preprocessing import StandardScaler\n",
        "from sklearn.preprocessing import QuantileTransformer\n",
        "from sklearn.preprocessing import KBinsDiscretizer\n",
        "from sklearn.decomposition import PCA\n",
        "from sklearn.decomposition import TruncatedSVD"
      ],
      "execution_count": 84,
      "outputs": []
    },
    {
      "cell_type": "markdown",
      "metadata": {
        "id": "I8W6G8mn8-Bt",
        "colab_type": "text"
      },
      "source": [
        "Declaring the Pipeline with Random Forest model after feature transformations:"
      ]
    },
    {
      "cell_type": "code",
      "metadata": {
        "id": "9CisrcT2tJsj",
        "colab_type": "code",
        "colab": {}
      },
      "source": [
        "def get_pipelines(model):\n",
        "\tpipelines = list()\n",
        "\t# normalize\n",
        "\tp = Pipeline([('s',MinMaxScaler()), ('m',model)])\n",
        "\tpipelines.append(('MinMax', p))\n",
        "\t# standardize\n",
        "\tp = Pipeline([('s',StandardScaler()), ('m',model)])\n",
        "\tpipelines.append(('std', p))\n",
        "\t# quantile\n",
        "\tp = Pipeline([('s',QuantileTransformer(n_quantiles=10, output_distribution='normal')), ('m',model)])\n",
        "\tpipelines.append(('quan', p))\n",
        "\t# discretize\n",
        "\tp = Pipeline([('s',KBinsDiscretizer(n_bins=10, encode='ordinal', strategy='uniform')), ('m',model)])\n",
        "\tpipelines.append(('kbins', p))\n",
        "\t# pca\n",
        "\tp = Pipeline([('s',PCA(10)), ('m',model)])\n",
        "\tpipelines.append(('pca', p))\n",
        "\t# svd\n",
        "\tp = Pipeline([('s',TruncatedSVD(n_components=7)), ('m',model)])\n",
        "\tpipelines.append(('svd', p))\n",
        "\treturn pipelines"
      ],
      "execution_count": 90,
      "outputs": []
    },
    {
      "cell_type": "markdown",
      "metadata": {
        "id": "AR6N-reIcFM9",
        "colab_type": "text"
      },
      "source": [
        "Id does not look like feature transformation would increase a performance of the model in this case. Results seem to be very similar with or without a feature transformation. "
      ]
    },
    {
      "cell_type": "code",
      "metadata": {
        "id": "5QjpYiw4tJgk",
        "colab_type": "code",
        "colab": {
          "base_uri": "https://localhost:8080/",
          "height": 367
        },
        "outputId": "6df18f75-8915-469f-c490-ee1a18193c21"
      },
      "source": [
        "model = RandomForestRegressor(min_samples_split=5, n_estimators=150)\n",
        "# get the modeling pipelines\n",
        "pipelines = get_pipelines(model)\n",
        "# evaluate each pipeline\n",
        "results, names = list(), list()\n",
        "for name, pipeline in pipelines:\n",
        "\t# evaluate\n",
        "\tscores = evaluate_model(X, y, pipeline)\n",
        "\t# summarize\n",
        "\tprint('>%s: %.3f (%.3f)' % (name, np.mean(scores)*(-1), np.std(scores)))\n",
        "\t# store\n",
        "\tresults.append(scores)\n",
        "\tnames.append(name)\n",
        "# plot the result\n",
        "pyplot.boxplot(results, labels=names, showmeans=True)\n",
        "pyplot.show()"
      ],
      "execution_count": 91,
      "outputs": [
        {
          "output_type": "stream",
          "text": [
            ">MinMax: 0.054 (0.007)\n",
            ">std: 0.055 (0.008)\n",
            ">quan: 0.054 (0.008)\n",
            ">kbins: 0.063 (0.012)\n",
            ">pca: 0.062 (0.012)\n",
            ">svd: 0.066 (0.010)\n"
          ],
          "name": "stdout"
        },
        {
          "output_type": "display_data",
          "data": {
            "image/png": "[encoded data removed]",
            "text/plain": [
              "<Figure size 432x288 with 1 Axes>"
            ]
          },
          "metadata": {
            "tags": [],
            "needs_background": "light"
          }
        }
      ]
    },
    {
      "cell_type": "markdown",
      "metadata": {
        "id": "kQvxZD0J9CV3",
        "colab_type": "text"
      },
      "source": [
        "Now let's check if there is any better model if We limit number of features.\n",
        "Let's limit this number to 7 features.\n",
        "To do this I'm going to use Recursive Feature Elimination class from sklearn."
      ]
    },
    {
      "cell_type": "code",
      "metadata": {
        "id": "VYm5KLho25p0",
        "colab_type": "code",
        "colab": {}
      },
      "source": [
        "from sklearn.feature_selection import RFE"
      ],
      "execution_count": 92,
      "outputs": []
    },
    {
      "cell_type": "code",
      "metadata": {
        "id": "GzUVfBWb32Fx",
        "colab_type": "code",
        "colab": {}
      },
      "source": [
        "# creating a list of models to evaluate\n",
        "def get_models():\n",
        "\tmodels = dict()\n",
        "  # ElasticNet\n",
        "\trfe = RFE(estimator=ElasticNet(), n_features_to_select=7)\n",
        "\tmodel = ElasticNet()\n",
        "\tmodels['ElasticNet'] = Pipeline(steps=[('s',rfe),('m',model)])\n",
        "  # SVM\n",
        "\trfe = RFE(estimator=LinearSVR(), n_features_to_select=7)\n",
        "\tmodel = LinearSVR()\n",
        "\tmodels['SVM'] = Pipeline(steps=[('s',rfe),('m',model)])\n",
        "  # DecisionTree\n",
        "\trfe = RFE(estimator=DecisionTreeRegressor(min_samples_split=5), n_features_to_select=7)\n",
        "\tmodel = DecisionTreeRegressor(min_samples_split=5)\n",
        "\tmodels['DecisionTree'] = Pipeline(steps=[('s',rfe),('m',model)])\n",
        "  # RandomForest\n",
        "\trfe = RFE(estimator=RandomForestRegressor(min_samples_split=5, n_estimators=150), n_features_to_select=7)\n",
        "\tmodel = RandomForestRegressor(min_samples_split=5, n_estimators=150)\n",
        "\tmodels['RandomForest'] = Pipeline(steps=[('s',rfe),('m',model)])\n",
        "\t# XGBoost\n",
        "\trfe = RFE(estimator=XGBRFRegressor(n_estimators=2000, learning_rate=0.001), n_features_to_select=7)\n",
        "\tmodel = XGBRFRegressor(n_estimators=2000, learning_rate=0.001)\n",
        "\tmodels['XGBoost'] = Pipeline(steps=[('s',rfe),('m',model)])\n",
        "\t# LightGBM\n",
        "\trfe = RFE(estimator=LGBMRegressor(n_estimators=2000, learning_rate=0.001), n_features_to_select=7)\n",
        "\tmodel = LGBMRegressor(n_estimators=2000, learning_rate=0.001)\n",
        "\tmodels['lgm'] = Pipeline(steps=[('s',rfe),('m',model)])\n",
        " \n",
        "\treturn models"
      ],
      "execution_count": 93,
      "outputs": []
    },
    {
      "cell_type": "code",
      "metadata": {
        "id": "4AH934Sn5ph6",
        "colab_type": "code",
        "colab": {}
      },
      "source": [
        "def evaluate_model_2(model):\n",
        "\tcv = RepeatedKFold(n_splits=5, n_repeats=3, random_state=1)\n",
        "\tscores = cross_val_score(model, X, y, scoring='neg_mean_absolute_error', cv=cv, n_jobs=-1)\n",
        "\treturn scores"
      ],
      "execution_count": 95,
      "outputs": []
    },
    {
      "cell_type": "code",
      "metadata": {
        "id": "Uu8glZIF3d_f",
        "colab_type": "code",
        "colab": {
          "base_uri": "https://localhost:8080/",
          "height": 119
        },
        "outputId": "2dd778ba-912e-4d5c-faf5-7f4935f0c67d"
      },
      "source": [
        "# get the models to evaluate\n",
        "models = get_models()\n",
        "# evaluate the models and store results\n",
        "results, names = list(), list()\n",
        "for name, model in models.items():\n",
        "\tscores = evaluate_model_2(model)\n",
        "\tresults.append(scores)\n",
        "\tnames.append(name)\n",
        "\tprint('>%s %.3f (%.3f)' % (name, np.mean(scores)*(-1), np.std(scores)))"
      ],
      "execution_count": 96,
      "outputs": [
        {
          "output_type": "stream",
          "text": [
            ">ElasticNet 0.246 (0.021)\n",
            ">SVM 0.106 (0.031)\n",
            ">DecisionTree 0.087 (0.011)\n",
            ">RandomForest 0.055 (0.010)\n",
            ">XGBoost 0.880 (0.125)\n",
            ">lgm 0.135 (0.023)\n"
          ],
          "name": "stdout"
        }
      ]
    },
    {
      "cell_type": "code",
      "metadata": {
        "id": "Knxqj63L3g3-",
        "colab_type": "code",
        "colab": {
          "base_uri": "https://localhost:8080/",
          "height": 374
        },
        "outputId": "4f6cdd2b-19f8-4c96-e1b8-15159cad8d78"
      },
      "source": [
        "# plotting model performance for comparison\n",
        "plt.figure(figsize = (8,6))\n",
        "pyplot.boxplot(results, labels=names, showmeans=True)\n",
        "pyplot.show()"
      ],
      "execution_count": 97,
      "outputs": [
        {
          "output_type": "display_data",
          "data": {
            "image/png": "[encoded data removed]",
            "text/plain": [
              "<Figure size 576x432 with 1 Axes>"
            ]
          },
          "metadata": {
            "tags": [],
            "needs_background": "light"
          }
        }
      ]
    },
    {
      "cell_type": "markdown",
      "metadata": {
        "id": "XMIHOhbR-qDO",
        "colab_type": "text"
      },
      "source": [
        "Again Random Forest presents the best performance and seems to be very stable.\n",
        "Let's find which features were selected and the ranking of all features. Nevertheless results look the best for Random Forest with all 33 featureas."
      ]
    },
    {
      "cell_type": "code",
      "metadata": {
        "id": "j85EFxOt-De9",
        "colab_type": "code",
        "colab": {
          "base_uri": "https://localhost:8080/",
          "height": 612
        },
        "outputId": "34224de1-3ca3-4ae6-9aa3-e84fb512577c"
      },
      "source": [
        "rfe = RFE(estimator=RandomForestRegressor(min_samples_split=5, n_estimators=150), n_features_to_select=7)\n",
        "# fit RFE\n",
        "rfe.fit(X, y)\n",
        "# summarize all features\n",
        "print(X.columns[rfe.support_], '\\n')\n",
        "for i in range(X.shape[1]):\n",
        "\tprint('Column: %d, Selected %s, Rank: %.3f' % (i, rfe.support_[i], rfe.ranking_[i]))"
      ],
      "execution_count": 98,
      "outputs": [
        {
          "output_type": "stream",
          "text": [
            "Index(['DGS2', 'DGS3MO', 'DGS1-1', 'DGS2-1', 'DGS2-2', 'DGS3MO-1', 'time'], dtype='object') \n",
            "\n",
            "Column: 0, Selected False, Rank: 8.000\n",
            "Column: 1, Selected True, Rank: 1.000\n",
            "Column: 2, Selected True, Rank: 1.000\n",
            "Column: 3, Selected False, Rank: 7.000\n",
            "Column: 4, Selected False, Rank: 5.000\n",
            "Column: 5, Selected False, Rank: 16.000\n",
            "Column: 6, Selected False, Rank: 23.000\n",
            "Column: 7, Selected False, Rank: 20.000\n",
            "Column: 8, Selected True, Rank: 1.000\n",
            "Column: 9, Selected False, Rank: 2.000\n",
            "Column: 10, Selected False, Rank: 12.000\n",
            "Column: 11, Selected True, Rank: 1.000\n",
            "Column: 12, Selected True, Rank: 1.000\n",
            "Column: 13, Selected False, Rank: 14.000\n",
            "Column: 14, Selected True, Rank: 1.000\n",
            "Column: 15, Selected False, Rank: 6.000\n",
            "Column: 16, Selected False, Rank: 10.000\n",
            "Column: 17, Selected False, Rank: 4.000\n",
            "Column: 18, Selected False, Rank: 11.000\n",
            "Column: 19, Selected False, Rank: 17.000\n",
            "Column: 20, Selected False, Rank: 3.000\n",
            "Column: 21, Selected False, Rank: 9.000\n",
            "Column: 22, Selected False, Rank: 13.000\n",
            "Column: 23, Selected False, Rank: 25.000\n",
            "Column: 24, Selected False, Rank: 22.000\n",
            "Column: 25, Selected False, Rank: 15.000\n",
            "Column: 26, Selected False, Rank: 19.000\n",
            "Column: 27, Selected False, Rank: 24.000\n",
            "Column: 28, Selected False, Rank: 26.000\n",
            "Column: 29, Selected False, Rank: 21.000\n",
            "Column: 30, Selected False, Rank: 27.000\n",
            "Column: 31, Selected False, Rank: 18.000\n",
            "Column: 32, Selected True, Rank: 1.000\n"
          ],
          "name": "stdout"
        }
      ]
    },
    {
      "cell_type": "markdown",
      "metadata": {
        "id": "6B3EWzYEA7JP",
        "colab_type": "text"
      },
      "source": [
        "And once again let's check if model performs any better with any feature performance. But this time due to limited number of features We need to modify number of components in PCA and in TruncatedSVD"
      ]
    },
    {
      "cell_type": "code",
      "metadata": {
        "id": "82lWI-chALnF",
        "colab_type": "code",
        "colab": {}
      },
      "source": [
        "def get_pipelines(model):\n",
        "\tpipelines = list()\n",
        "\t# normalize\n",
        "\tp = Pipeline([('s',MinMaxScaler()), ('m',model)])\n",
        "\tpipelines.append(('MinMax', p))\n",
        "\t# standardize\n",
        "\tp = Pipeline([('s',StandardScaler()), ('m',model)])\n",
        "\tpipelines.append(('std', p))\n",
        "\t# quantile\n",
        "\tp = Pipeline([('s',QuantileTransformer(n_quantiles=5, output_distribution='normal')), ('m',model)])\n",
        "\tpipelines.append(('quan', p))\n",
        "\t# discretize\n",
        "\tp = Pipeline([('s',KBinsDiscretizer(n_bins=10, encode='ordinal', strategy='uniform')), ('m',model)])\n",
        "\tpipelines.append(('kbins', p))\n",
        "\t# pca\n",
        "\tp = Pipeline([('s',PCA(4)), ('m',model)])\n",
        "\tpipelines.append(('pca', p))\n",
        "\t# svd\n",
        "\tp = Pipeline([('s',TruncatedSVD(n_components=4)), ('m',model)])\n",
        "\tpipelines.append(('svd', p))\n",
        "\treturn pipelines"
      ],
      "execution_count": 100,
      "outputs": []
    },
    {
      "cell_type": "markdown",
      "metadata": {
        "id": "hnk7MUUkBRaR",
        "colab_type": "text"
      },
      "source": [
        "There is no significant difference if We use feture transformation.\n",
        "Nevertheless with Truncated SVD We have a slightly better results than before but this is very small difference with very little higher variance. "
      ]
    },
    {
      "cell_type": "code",
      "metadata": {
        "id": "dUpBcgcj_gky",
        "colab_type": "code",
        "colab": {
          "base_uri": "https://localhost:8080/",
          "height": 367
        },
        "outputId": "da9e0faf-21c1-44e0-f098-69e3d5ee5332"
      },
      "source": [
        "model = RandomForestRegressor(min_samples_split=5, n_estimators=150)\n",
        "# get the modeling pipelines\n",
        "pipelines = get_pipelines(model)\n",
        "# evaluate each pipeline\n",
        "results, names = list(), list()\n",
        "for name, pipeline in pipelines:\n",
        "\t# evaluate\n",
        "\tscores = evaluate_model(X[X.columns[rfe.support_]], y, pipeline)\n",
        "\t# summarize\n",
        "\tprint('>%s: %.3f (%.3f)' % (name, np.mean(scores)*(-1), np.std(scores)))\n",
        "\t# store\n",
        "\tresults.append(scores)\n",
        "\tnames.append(name)\n",
        "# plot the result\n",
        "pyplot.boxplot(results, labels=names, showmeans=True)\n",
        "pyplot.show()"
      ],
      "execution_count": 101,
      "outputs": [
        {
          "output_type": "stream",
          "text": [
            ">MinMax: 0.053 (0.009)\n",
            ">std: 0.053 (0.009)\n",
            ">quan: 0.054 (0.009)\n",
            ">kbins: 0.067 (0.010)\n",
            ">pca: 0.057 (0.012)\n",
            ">svd: 0.051 (0.011)\n"
          ],
          "name": "stdout"
        },
        {
          "output_type": "display_data",
          "data": {
            "image/png": "[encoded data removed]",
            "text/plain": [
              "<Figure size 432x288 with 1 Axes>"
            ]
          },
          "metadata": {
            "tags": [],
            "needs_background": "light"
          }
        }
      ]
    },
    {
      "cell_type": "markdown",
      "metadata": {
        "id": "gkxyyAozjDOL",
        "colab_type": "text"
      },
      "source": [
        "Now it's time to check feature importance.\n",
        "As a score function I'm going to use mutual information for regression which estimates mutual information for a continuous target variable..\n",
        "\n",
        "Mutual information (MI) between two random variables is a non-negative value, which measures the dependency between the variables. It is equal to zero if and only if two random variables are independent, and higher values mean higher dependency. The function relies on nonparametric methods based on entropy estimation from k-nearest neighbors distances.\n",
        "\n",
        "Source: sklearn.org\n",
        "\n",
        "link:\n",
        "https://scikit-learn.org/stable/modules/generated/sklearn.feature_selection.mutual_info_regression.html#r37d39d7589e2-1"
      ]
    },
    {
      "cell_type": "code",
      "metadata": {
        "id": "tW9trw2CbILY",
        "colab_type": "code",
        "colab": {}
      },
      "source": [
        "from sklearn.feature_selection import mutual_info_regression"
      ],
      "execution_count": 102,
      "outputs": []
    },
    {
      "cell_type": "markdown",
      "metadata": {
        "id": "osrQUwGysb7K",
        "colab_type": "text"
      },
      "source": [
        "In all feature selection procedures, it is good practice to select the features by examining only the training set. And this is to avoid overfit."
      ]
    },
    {
      "cell_type": "code",
      "metadata": {
        "id": "Vvj5YAInsdCd",
        "colab_type": "code",
        "colab": {}
      },
      "source": [
        "from sklearn.model_selection import train_test_split\n",
        "X_train, X_test, y_train, y_test = train_test_split(X, y, test_size=0.3, random_state=1)"
      ],
      "execution_count": 103,
      "outputs": []
    },
    {
      "cell_type": "code",
      "metadata": {
        "id": "rhUgcSGQeUkT",
        "colab_type": "code",
        "colab": {}
      },
      "source": [
        "mut_info = mutual_info_regression(X_train,y_train)"
      ],
      "execution_count": 104,
      "outputs": []
    },
    {
      "cell_type": "markdown",
      "metadata": {
        "id": "ajX_I0IQfqBQ",
        "colab_type": "text"
      },
      "source": [
        "It looks like all the fatures have a decent score.\n",
        "It's hard to pick certain amount of fetures based on this score to get better result."
      ]
    },
    {
      "cell_type": "code",
      "metadata": {
        "id": "488B26-qeY2E",
        "colab_type": "code",
        "colab": {
          "base_uri": "https://localhost:8080/",
          "height": 528
        },
        "outputId": "06242518-3fdc-40ca-ab0b-c616bb64482f"
      },
      "source": [
        "# As shown below could be grasped that only couple features seem to have significant impact on dependent variable\n",
        "mut_info = pd.Series(mut_info)\n",
        "mut_info.index = X.columns\n",
        "mut_info.sort_values(ascending=False)\n",
        "mut_info.sort_values(ascending=False).plot.bar(figsize=(20, 8));"
      ],
      "execution_count": 105,
      "outputs": [
        {
          "output_type": "display_data",
          "data": {
            "image/png": "[encoded data removed]",
            "text/plain": [
              "<Figure size 1440x576 with 1 Axes>"
            ]
          },
          "metadata": {
            "tags": [],
            "needs_background": "light"
          }
        }
      ]
    },
    {
      "cell_type": "markdown",
      "metadata": {
        "id": "LFBHpg1hswq6",
        "colab_type": "text"
      },
      "source": [
        "Now let's try to make a feature selection by taking feature importance from as far best model Random Forest"
      ]
    },
    {
      "cell_type": "code",
      "metadata": {
        "id": "Q5up76VCeyyV",
        "colab_type": "code",
        "colab": {
          "base_uri": "https://localhost:8080/",
          "height": 136
        },
        "outputId": "6ba9715e-5ac2-4e9e-af26-fceac8e7c64a"
      },
      "source": [
        "rf = RandomForestRegressor(min_samples_split=5, n_estimators=150)\n",
        "rf.fit(X_train, y_train)"
      ],
      "execution_count": 106,
      "outputs": [
        {
          "output_type": "execute_result",
          "data": {
            "text/plain": [
              "RandomForestRegressor(bootstrap=True, ccp_alpha=0.0, criterion='mse',\n",
              "                      max_depth=None, max_features='auto', max_leaf_nodes=None,\n",
              "                      max_samples=None, min_impurity_decrease=0.0,\n",
              "                      min_impurity_split=None, min_samples_leaf=1,\n",
              "                      min_samples_split=5, min_weight_fraction_leaf=0.0,\n",
              "                      n_estimators=150, n_jobs=None, oob_score=False,\n",
              "                      random_state=None, verbose=0, warm_start=False)"
            ]
          },
          "metadata": {
            "tags": []
          },
          "execution_count": 106
        }
      ]
    },
    {
      "cell_type": "markdown",
      "metadata": {
        "id": "KM0o22aftiro",
        "colab_type": "text"
      },
      "source": [
        "It's a little bit different, features do not have such similar score as before"
      ]
    },
    {
      "cell_type": "code",
      "metadata": {
        "id": "mlKKgGQjeyvs",
        "colab_type": "code",
        "colab": {
          "base_uri": "https://localhost:8080/",
          "height": 295
        },
        "outputId": "88a9b8f9-2b4b-4abf-d620-7df3e8ee87a8"
      },
      "source": [
        "features = X.columns\n",
        "importances = rf.feature_importances_\n",
        "indices = np.argsort(importances)[-10:]  # top 10 features\n",
        "plt.title('Feature Importances')\n",
        "plt.barh(range(len(indices)), importances[indices], color='b', align='center')\n",
        "plt.yticks(range(len(indices)), [features[i] for i in indices])\n",
        "plt.xlabel('Relative Importance')\n",
        "plt.show()"
      ],
      "execution_count": 107,
      "outputs": [
        {
          "output_type": "display_data",
          "data": {
            "image/png": "[encoded data removed]",
            "text/plain": [
              "<Figure size 432x288 with 1 Axes>"
            ]
          },
          "metadata": {
            "tags": [],
            "needs_background": "light"
          }
        }
      ]
    },
    {
      "cell_type": "markdown",
      "metadata": {
        "id": "tRoHpldatvBy",
        "colab_type": "text"
      },
      "source": [
        "Importing feature selection class to see if We can get any better results with specific combinations of features"
      ]
    },
    {
      "cell_type": "code",
      "metadata": {
        "id": "PB6OBLNKtvfS",
        "colab_type": "code",
        "colab": {}
      },
      "source": [
        "from sklearn.feature_selection import RFECV"
      ],
      "execution_count": 108,
      "outputs": []
    },
    {
      "cell_type": "code",
      "metadata": {
        "id": "y1jd97aBtvbw",
        "colab_type": "code",
        "colab": {}
      },
      "source": [
        "rfecv = RFECV(estimator=RandomForestRegressor(min_samples_split=5, n_estimators=150), step=1, cv=5,\n",
        "              scoring= 'explained_variance')"
      ],
      "execution_count": 109,
      "outputs": []
    },
    {
      "cell_type": "code",
      "metadata": {
        "id": "d2l7PfQntvYU",
        "colab_type": "code",
        "colab": {
          "base_uri": "https://localhost:8080/",
          "height": 255
        },
        "outputId": "282dc7c5-a89e-482e-b61d-a67550aa4ec3"
      },
      "source": [
        "rfecv.fit(X, y)"
      ],
      "execution_count": 110,
      "outputs": [
        {
          "output_type": "execute_result",
          "data": {
            "text/plain": [
              "RFECV(cv=5,\n",
              "      estimator=RandomForestRegressor(bootstrap=True, ccp_alpha=0.0,\n",
              "                                      criterion='mse', max_depth=None,\n",
              "                                      max_features='auto', max_leaf_nodes=None,\n",
              "                                      max_samples=None,\n",
              "                                      min_impurity_decrease=0.0,\n",
              "                                      min_impurity_split=None,\n",
              "                                      min_samples_leaf=1, min_samples_split=5,\n",
              "                                      min_weight_fraction_leaf=0.0,\n",
              "                                      n_estimators=150, n_jobs=None,\n",
              "                                      oob_score=False, random_state=None,\n",
              "                                      verbose=0, warm_start=False),\n",
              "      min_features_to_select=1, n_jobs=None, scoring='explained_variance',\n",
              "      step=1, verbose=0)"
            ]
          },
          "metadata": {
            "tags": []
          },
          "execution_count": 110
        }
      ]
    },
    {
      "cell_type": "code",
      "metadata": {
        "id": "YXgAFd5Seyrt",
        "colab_type": "code",
        "colab": {
          "base_uri": "https://localhost:8080/",
          "height": 296
        },
        "outputId": "d8b87805-47c9-4243-9ff3-4faeb13f6fc9"
      },
      "source": [
        "print(\"Optimal number of features : %d\" % rfecv.n_features_)\n",
        "\n",
        "# Ploting number of features VS. cross-validation scores\n",
        "plt.figure()\n",
        "plt.xlabel(\"Number of features selected\")\n",
        "plt.ylabel(\"Cross validation score \")\n",
        "plt.plot(rfecv.grid_scores_)\n",
        "plt.show()"
      ],
      "execution_count": 111,
      "outputs": [
        {
          "output_type": "stream",
          "text": [
            "Optimal number of features : 31\n"
          ],
          "name": "stdout"
        },
        {
          "output_type": "display_data",
          "data": {
            "image/png": "[encoded data removed]",
            "text/plain": [
              "<Figure size 432x288 with 1 Axes>"
            ]
          },
          "metadata": {
            "tags": [],
            "needs_background": "light"
          }
        }
      ]
    },
    {
      "cell_type": "markdown",
      "metadata": {
        "id": "hxZkoMbGvsu-",
        "colab_type": "text"
      },
      "source": [
        "The 5 best features:"
      ]
    },
    {
      "cell_type": "code",
      "metadata": {
        "id": "otnvIxYAufOV",
        "colab_type": "code",
        "colab": {
          "base_uri": "https://localhost:8080/",
          "height": 119
        },
        "outputId": "5136ff97-c178-4eba-c526-04ca1492b121"
      },
      "source": [
        "X.columns[rfecv.support_]"
      ],
      "execution_count": 112,
      "outputs": [
        {
          "output_type": "execute_result",
          "data": {
            "text/plain": [
              "Index(['DGS1', 'DGS2', 'DGS3MO', 'DGS5', 'DGS6MO', 'DGS7', 'DGS10', 'DGS1-1',\n",
              "       'DGS1-2', 'DGS1-3', 'DGS2-1', 'DGS2-2', 'DGS2-3', 'DGS3MO-1',\n",
              "       'DGS3MO-2', 'DGS3MO-3', 'DGS5-1', 'DGS5-2', 'DGS5-3', 'DGS6MO-1',\n",
              "       'DGS6MO-2', 'DGS6MO-3', 'DGS7-1', 'DGS7-2', 'DGS7-3', 'DGS10-1',\n",
              "       'DGS10-2', 'DGS10-3', 'DGS30-1', 'DGS30-2', 'time'],\n",
              "      dtype='object')"
            ]
          },
          "metadata": {
            "tags": []
          },
          "execution_count": 112
        }
      ]
    },
    {
      "cell_type": "markdown",
      "metadata": {
        "id": "06AZTrVuAMV4",
        "colab_type": "text"
      },
      "source": [
        "Now let's evaluate the model once more with those 31 features.\n",
        "Results are very similar but the best score as far We got with 33 features."
      ]
    },
    {
      "cell_type": "code",
      "metadata": {
        "id": "gvrDtSL4_pyt",
        "colab_type": "code",
        "colab": {
          "base_uri": "https://localhost:8080/",
          "height": 34
        },
        "outputId": "9aef419c-ec40-4486-fbfd-8f0e984e58a5"
      },
      "source": [
        "scoring = evaluate_model(X[X.columns[rfecv.support_]], y, RandomForestRegressor(min_samples_split=5, n_estimators=150))\n",
        "print(np.mean(scoring)*(-1), np.std(scoring))"
      ],
      "execution_count": 114,
      "outputs": [
        {
          "output_type": "stream",
          "text": [
            "0.05474752241212825 0.0073119127506537105\n"
          ],
          "name": "stdout"
        }
      ]
    },
    {
      "cell_type": "markdown",
      "metadata": {
        "id": "xJ5ouVnGIWIs",
        "colab_type": "text"
      },
      "source": [
        "To move it even further I'm going to use GridSearch class to find best hyper parameters of the Random Forest model."
      ]
    },
    {
      "cell_type": "code",
      "metadata": {
        "id": "nl7-tYPQuf3v",
        "colab_type": "code",
        "colab": {}
      },
      "source": [
        "from sklearn.model_selection import GridSearchCV"
      ],
      "execution_count": 115,
      "outputs": []
    },
    {
      "cell_type": "markdown",
      "metadata": {
        "id": "NeogpRpuIgym",
        "colab_type": "text"
      },
      "source": [
        "Declaring parameters to check"
      ]
    },
    {
      "cell_type": "code",
      "metadata": {
        "id": "PPA5hLXaufz6",
        "colab_type": "code",
        "colab": {}
      },
      "source": [
        "params = {\n",
        "               'n_estimators': np.arange(100, 300, 50),\n",
        "               'max_depth': np.arange(5, 7),\n",
        "               'min_samples_split': np.arange(3, 10, 2)\n",
        "\n",
        "            }"
      ],
      "execution_count": 116,
      "outputs": []
    },
    {
      "cell_type": "markdown",
      "metadata": {
        "id": "sx7S9uwbIoay",
        "colab_type": "text"
      },
      "source": [
        "best hyperparameters:"
      ]
    },
    {
      "cell_type": "code",
      "metadata": {
        "id": "5f7lWmDdxPRh",
        "colab_type": "code",
        "colab": {
          "base_uri": "https://localhost:8080/",
          "height": 34
        },
        "outputId": "90a11c3b-947c-4fcb-9b97-8422abba09ae"
      },
      "source": [
        "RF_grid=GridSearchCV(RandomForestRegressor(), params,cv = 5, scoring = 'neg_mean_absolute_error')\n",
        "RF_grid.fit(X,y)\n",
        "print(\"tuned hyperparameters :(best parameters) \",RF_grid.best_params_)"
      ],
      "execution_count": 118,
      "outputs": [
        {
          "output_type": "stream",
          "text": [
            "tuned hyperparameters :(best parameters)  {'max_depth': 5, 'min_samples_split': 3, 'n_estimators': 200}\n"
          ],
          "name": "stdout"
        }
      ]
    },
    {
      "cell_type": "markdown",
      "metadata": {
        "id": "JZ9liDvUJ346",
        "colab_type": "text"
      },
      "source": [
        "So, potentially this is the best model We can get:\n",
        "\n",
        "RandomForest with max depth: 5, min sample split: 3 and with 200 trees,\n",
        "\n",
        "Features:'DGS1', 'DGS2', 'DGS1-2', 'DGS2-1', 'DGS2-2', 'DGS3MO-1', 'time'\n"
      ]
    },
    {
      "cell_type": "code",
      "metadata": {
        "id": "gP6gjW12H-Bg",
        "colab_type": "code",
        "colab": {
          "base_uri": "https://localhost:8080/",
          "height": 34
        },
        "outputId": "5d5c8389-46fc-4ad5-ce88-530bdcab17af"
      },
      "source": [
        "model = RandomForestRegressor(min_samples_split=3, n_estimators=200, max_depth=6)\n",
        "scores = evaluate_model(X, y, model)\n",
        "# summarize\n",
        "print('>%s: %.3f (%.3f)' % ('result:', np.mean(scores)*(-1), np.std(scores)))\n",
        "# \t# store\n",
        "# results.append(scores)\n",
        "# \tnames.append(name)\n",
        "# # plot the result\n",
        "# pyplot.boxplot(results, labels=names, showmeans=True)\n",
        "# pyplot.show()"
      ],
      "execution_count": 121,
      "outputs": [
        {
          "output_type": "stream",
          "text": [
            ">result:: 0.053 (0.007)\n"
          ],
          "name": "stdout"
        }
      ]
    },
    {
      "cell_type": "markdown",
      "metadata": {
        "id": "jUGdztWWLZlY",
        "colab_type": "text"
      },
      "source": [
        "Now I'm going to check if I can get any better result.\n",
        "To do this I'm going to build Neural Network model."
      ]
    },
    {
      "cell_type": "code",
      "metadata": {
        "id": "nZIswHRa03sw",
        "colab_type": "code",
        "colab": {}
      },
      "source": [
        "#Importing Tensorflow\n",
        "import tensorflow as tf\n",
        "from tensorflow import keras\n",
        "from tensorflow.keras import layers"
      ],
      "execution_count": 122,
      "outputs": []
    },
    {
      "cell_type": "code",
      "metadata": {
        "id": "smMOohc603oP",
        "colab_type": "code",
        "colab": {}
      },
      "source": [
        "# Defining the model with the following parameters \n",
        "def build_model():\n",
        "  model = keras.Sequential([\n",
        "    layers.Dense(64, activation='relu', input_shape=[X.shape[1]]),\n",
        "    layers.Dense(64, activation='relu'),\n",
        "    layers.Dense(1)\n",
        "  ])\n",
        "\n",
        "  optimizer = tf.keras.optimizers.RMSprop(0.01)\n",
        "\n",
        "  model.compile(loss='mse',\n",
        "                optimizer=optimizer,\n",
        "                metrics=['mae'])\n",
        "  return model"
      ],
      "execution_count": 146,
      "outputs": []
    },
    {
      "cell_type": "code",
      "metadata": {
        "id": "Ecrik1nE1QAo",
        "colab_type": "code",
        "colab": {}
      },
      "source": [
        "model = build_model()"
      ],
      "execution_count": 147,
      "outputs": []
    },
    {
      "cell_type": "code",
      "metadata": {
        "id": "CxYs3L7SagXz",
        "colab_type": "code",
        "colab": {
          "base_uri": "https://localhost:8080/",
          "height": 255
        },
        "outputId": "1c7105e7-1fcd-4fa7-8acb-5eabe6f3a4ae"
      },
      "source": [
        "# Summary of the model\n",
        "model.summary()"
      ],
      "execution_count": 148,
      "outputs": [
        {
          "output_type": "stream",
          "text": [
            "Model: \"sequential_12\"\n",
            "_________________________________________________________________\n",
            "Layer (type)                 Output Shape              Param #   \n",
            "=================================================================\n",
            "dense_40 (Dense)             (None, 64)                2176      \n",
            "_________________________________________________________________\n",
            "dense_41 (Dense)             (None, 64)                4160      \n",
            "_________________________________________________________________\n",
            "dense_42 (Dense)             (None, 1)                 65        \n",
            "=================================================================\n",
            "Total params: 6,401\n",
            "Trainable params: 6,401\n",
            "Non-trainable params: 0\n",
            "_________________________________________________________________\n"
          ],
          "name": "stdout"
        }
      ]
    },
    {
      "cell_type": "code",
      "metadata": {
        "id": "QhoU3doL1gwp",
        "colab_type": "code",
        "colab": {}
      },
      "source": [
        "# Instaed of printing out the model progress during training I decided to create a class that displaying training progress\n",
        "# by printing a dot word for each completed epoch. It saves some space on the report\n",
        "class PrintTraining(keras.callbacks.Callback):\n",
        "  def on_epoch_end(self, epoch, logs):\n",
        "    if epoch % 100 == 0: print('')\n",
        "    print('.', end='')"
      ],
      "execution_count": 149,
      "outputs": []
    },
    {
      "cell_type": "code",
      "metadata": {
        "id": "DZOvK4Rq1pAa",
        "colab_type": "code",
        "colab": {
          "base_uri": "https://localhost:8080/",
          "height": 105
        },
        "outputId": "92bc1516-fe8c-43dd-f286-597ad70880ba"
      },
      "source": [
        "# Training the model for 150 epochs, and record the training and validation error in the history object.\n",
        "history = model.fit(\n",
        "  X, y,\n",
        "  epochs=150, validation_split = 0.3, verbose=0,\n",
        "  callbacks=[PrintTraining()])"
      ],
      "execution_count": 150,
      "outputs": [
        {
          "output_type": "stream",
          "text": [
            "WARNING:tensorflow:11 out of the last 11 calls to <function Model.make_test_function.<locals>.test_function at 0x7fed232e32f0> triggered tf.function retracing. Tracing is expensive and the excessive number of tracings could be due to (1) creating @tf.function repeatedly in a loop, (2) passing tensors with different shapes, (3) passing Python objects instead of tensors. For (1), please define your @tf.function outside of the loop. For (2), @tf.function has experimental_relax_shapes=True option that relaxes argument shapes that can avoid unnecessary retracing. For (3), please refer to https://www.tensorflow.org/tutorials/customization/performance#python_or_tensor_args and https://www.tensorflow.org/api_docs/python/tf/function for  more details.\n",
            "\n",
            "....................................................................................................\n",
            ".................................................."
          ],
          "name": "stdout"
        }
      ]
    },
    {
      "cell_type": "markdown",
      "metadata": {
        "id": "hK-hIEpAK0Hc",
        "colab_type": "text"
      },
      "source": [
        "Plotting the result.\n",
        "With the first epochs model shows high variance but after about 70 iterations shows very stable performance.\n",
        "The performance of the model looks really nice.\n",
        "After 150 epochs model seems to have the best performance and is very stable."
      ]
    },
    {
      "cell_type": "code",
      "metadata": {
        "id": "aQuZAQSE1wun",
        "colab_type": "code",
        "colab": {
          "base_uri": "https://localhost:8080/",
          "height": 334
        },
        "outputId": "b2a250d6-e224-4085-b2d9-cf7f96b6cc00"
      },
      "source": [
        "def plot_history(history):\n",
        "  hist = pd.DataFrame(history.history)\n",
        "  hist['epoch'] = history.epoch\n",
        "\n",
        "  plt.figure(figsize = (8,5))\n",
        "  plt.xlabel('Epoch')\n",
        "  plt.ylabel('Mean Abs Error')\n",
        "  plt.plot(hist['epoch'], hist['mae'],\n",
        "           label='Train Error')\n",
        "  plt.plot(hist['epoch'], hist['val_mae'],\n",
        "           label = 'Val Error')\n",
        "  plt.legend(loc = 'best')\n",
        "\n",
        "\n",
        "\n",
        "plot_history(history)"
      ],
      "execution_count": 151,
      "outputs": [
        {
          "output_type": "display_data",
          "data": {
            "image/png": "[encoded data removed]",
            "text/plain": [
              "<Figure size 576x360 with 1 Axes>"
            ]
          },
          "metadata": {
            "tags": [],
            "needs_background": "light"
          }
        }
      ]
    },
    {
      "cell_type": "markdown",
      "metadata": {
        "id": "DPgTivsoKyTS",
        "colab_type": "text"
      },
      "source": [
        "Now let's evaluate the model with cross validation to compare the performance to as yet the best model"
      ]
    },
    {
      "cell_type": "code",
      "metadata": {
        "id": "1U1xPZQiS3Fb",
        "colab_type": "code",
        "colab": {}
      },
      "source": [
        "from keras.models import Sequential\n",
        "from keras.layers import Dense\n",
        "from keras.models import Sequential\n",
        "from keras.layers import Dense\n",
        "from keras.wrappers.scikit_learn import KerasRegressor\n",
        "from sklearn.model_selection import KFold"
      ],
      "execution_count": 152,
      "outputs": []
    },
    {
      "cell_type": "code",
      "metadata": {
        "id": "TdqpX54ERRuy",
        "colab_type": "code",
        "colab": {}
      },
      "source": [
        "# defining base model\n",
        "def baseline_model():\n",
        "\t# creating model\n",
        "  model = Sequential()\n",
        "  model.add(Dense(64, input_dim = 33, activation = 'relu'))\n",
        "  model.add(Dense(64, activation='relu'))\n",
        "  model.add(Dense(1))\n",
        "  # Compiling model\n",
        "  model.compile(loss='mean_absolute_error', optimizer=tf.keras.optimizers.RMSprop(0.01), metrics=['mae'])\n",
        "  return(model)\t"
      ],
      "execution_count": 154,
      "outputs": []
    },
    {
      "cell_type": "code",
      "metadata": {
        "id": "m8pUOxIhX27K",
        "colab_type": "code",
        "colab": {
          "base_uri": "https://localhost:8080/",
          "height": 156
        },
        "outputId": "95e0f61d-54d3-4c5c-a9d8-c4d2ab8300d7"
      },
      "source": [
        "# evaluate model\n",
        "estimator = KerasRegressor(build_fn=baseline_model, epochs=150, verbose=0)\n",
        "kfold = KFold(n_splits=10)\n",
        "results = cross_val_score(estimator, X, y, cv=kfold)"
      ],
      "execution_count": 156,
      "outputs": [
        {
          "output_type": "stream",
          "text": [
            "WARNING:tensorflow:5 out of the last 304 calls to <function Model.make_test_function.<locals>.test_function at 0x7fed1cdb48c8> triggered tf.function retracing. Tracing is expensive and the excessive number of tracings could be due to (1) creating @tf.function repeatedly in a loop, (2) passing tensors with different shapes, (3) passing Python objects instead of tensors. For (1), please define your @tf.function outside of the loop. For (2), @tf.function has experimental_relax_shapes=True option that relaxes argument shapes that can avoid unnecessary retracing. For (3), please refer to https://www.tensorflow.org/tutorials/customization/performance#python_or_tensor_args and https://www.tensorflow.org/api_docs/python/tf/function for  more details.\n",
            "WARNING:tensorflow:6 out of the last 305 calls to <function Model.make_test_function.<locals>.test_function at 0x7fed1ccac7b8> triggered tf.function retracing. Tracing is expensive and the excessive number of tracings could be due to (1) creating @tf.function repeatedly in a loop, (2) passing tensors with different shapes, (3) passing Python objects instead of tensors. For (1), please define your @tf.function outside of the loop. For (2), @tf.function has experimental_relax_shapes=True option that relaxes argument shapes that can avoid unnecessary retracing. For (3), please refer to https://www.tensorflow.org/tutorials/customization/performance#python_or_tensor_args and https://www.tensorflow.org/api_docs/python/tf/function for  more details.\n",
            "WARNING:tensorflow:7 out of the last 306 calls to <function Model.make_test_function.<locals>.test_function at 0x7fed1ca5c510> triggered tf.function retracing. Tracing is expensive and the excessive number of tracings could be due to (1) creating @tf.function repeatedly in a loop, (2) passing tensors with different shapes, (3) passing Python objects instead of tensors. For (1), please define your @tf.function outside of the loop. For (2), @tf.function has experimental_relax_shapes=True option that relaxes argument shapes that can avoid unnecessary retracing. For (3), please refer to https://www.tensorflow.org/tutorials/customization/performance#python_or_tensor_args and https://www.tensorflow.org/api_docs/python/tf/function for  more details.\n",
            "WARNING:tensorflow:8 out of the last 307 calls to <function Model.make_test_function.<locals>.test_function at 0x7fed1c9aad90> triggered tf.function retracing. Tracing is expensive and the excessive number of tracings could be due to (1) creating @tf.function repeatedly in a loop, (2) passing tensors with different shapes, (3) passing Python objects instead of tensors. For (1), please define your @tf.function outside of the loop. For (2), @tf.function has experimental_relax_shapes=True option that relaxes argument shapes that can avoid unnecessary retracing. For (3), please refer to https://www.tensorflow.org/tutorials/customization/performance#python_or_tensor_args and https://www.tensorflow.org/api_docs/python/tf/function for  more details.\n",
            "WARNING:tensorflow:9 out of the last 308 calls to <function Model.make_test_function.<locals>.test_function at 0x7fed19a25bf8> triggered tf.function retracing. Tracing is expensive and the excessive number of tracings could be due to (1) creating @tf.function repeatedly in a loop, (2) passing tensors with different shapes, (3) passing Python objects instead of tensors. For (1), please define your @tf.function outside of the loop. For (2), @tf.function has experimental_relax_shapes=True option that relaxes argument shapes that can avoid unnecessary retracing. For (3), please refer to https://www.tensorflow.org/tutorials/customization/performance#python_or_tensor_args and https://www.tensorflow.org/api_docs/python/tf/function for  more details.\n",
            "WARNING:tensorflow:10 out of the last 309 calls to <function Model.make_test_function.<locals>.test_function at 0x7fed1df51d90> triggered tf.function retracing. Tracing is expensive and the excessive number of tracings could be due to (1) creating @tf.function repeatedly in a loop, (2) passing tensors with different shapes, (3) passing Python objects instead of tensors. For (1), please define your @tf.function outside of the loop. For (2), @tf.function has experimental_relax_shapes=True option that relaxes argument shapes that can avoid unnecessary retracing. For (3), please refer to https://www.tensorflow.org/tutorials/customization/performance#python_or_tensor_args and https://www.tensorflow.org/api_docs/python/tf/function for  more details.\n",
            "WARNING:tensorflow:11 out of the last 310 calls to <function Model.make_test_function.<locals>.test_function at 0x7fed127adb70> triggered tf.function retracing. Tracing is expensive and the excessive number of tracings could be due to (1) creating @tf.function repeatedly in a loop, (2) passing tensors with different shapes, (3) passing Python objects instead of tensors. For (1), please define your @tf.function outside of the loop. For (2), @tf.function has experimental_relax_shapes=True option that relaxes argument shapes that can avoid unnecessary retracing. For (3), please refer to https://www.tensorflow.org/tutorials/customization/performance#python_or_tensor_args and https://www.tensorflow.org/api_docs/python/tf/function for  more details.\n"
          ],
          "name": "stdout"
        }
      ]
    },
    {
      "cell_type": "markdown",
      "metadata": {
        "id": "Yh_cAeyQYIvP",
        "colab_type": "text"
      },
      "source": [
        "Below are results of the cross validated Deep learning model.\n",
        "Looks like Random Forest is still the best"
      ]
    },
    {
      "cell_type": "code",
      "metadata": {
        "id": "49-XZispX8pL",
        "colab_type": "code",
        "colab": {
          "base_uri": "https://localhost:8080/",
          "height": 282
        },
        "outputId": "57c79f4c-33ce-4dd0-cbbd-d15731b890c2"
      },
      "source": [
        "print(\"Baseline: %.2f (%.2f) MSE\" % (results.mean()*(-1), results.std()))\n",
        "pyplot.boxplot(results*(-1), showmeans=True);"
      ],
      "execution_count": 157,
      "outputs": [
        {
          "output_type": "stream",
          "text": [
            "Baseline: 0.14 (0.13) MSE\n"
          ],
          "name": "stdout"
        },
        {
          "output_type": "display_data",
          "data": {
            "image/png": "[encoded data removed]",
            "text/plain": [
              "<Figure size 432x288 with 1 Axes>"
            ]
          },
          "metadata": {
            "tags": [],
            "needs_background": "light"
          }
        }
      ]
    },
    {
      "cell_type": "markdown",
      "metadata": {
        "id": "F1n089X3an3h",
        "colab_type": "text"
      },
      "source": [
        "Quick summary:\n",
        "\n",
        "It turned out the best model to predict Deposit rate paid is Random Forest with following parameters:\n",
        "\n",
        "max_depth = 5\n",
        "\n",
        "min_sample_split = 3\n",
        "\n",
        "number of trees: 200\n",
        "\n",
        "Features: all features\n",
        "\n",
        "mean absolute error is 0.053 so in predicting Deposit rate paid on average We are off the true value by about 0.053%.\n",
        "\n",
        "Random forest with Truncated SVD transformation with following features: 'DGS2', 'DGS3MO', 'DGS1-1', 'DGS2-1', 'DGS2-2', 'DGS3MO-1', 'time' can also be used, has even smaller error but in cost of little higher variance.\n",
        "\n",
        "Due to the fact I was limited to provided variables when it comes to explanatory variables my model was based only on them.\n",
        "The task was to find a model that uses US treasury rates to describe the deposit rate paid so I treated it as a Regression problem.\n",
        "If it was not an issue I would consider applying time series model like : ARIMA or SARIMAX, I would also consider fetures like: interest rate(the lower the less people keep their money on the account, less interest rate also means that less money is paid to the depositors), unemployment, GDP"
      ]
    },
    {
      "cell_type": "code",
      "metadata": {
        "id": "uZj_eObo_gKX",
        "colab_type": "code",
        "colab": {}
      },
      "source": [
        ""
      ],
      "execution_count": null,
      "outputs": []
    }
  ]
}